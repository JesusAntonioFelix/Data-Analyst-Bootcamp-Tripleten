{
 "cells": [
  {
   "cell_type": "markdown",
   "metadata": {},
   "source": [
    "# Introduccion"
   ]
  },
  {
   "cell_type": "markdown",
   "metadata": {},
   "source": [
    "Se tiene una tienda en linea a nivel internacional en la cual se hicierron pruebas con un sistema mejorado de recomendaciones de la pagina para ver si realmente si tiene una mejor conversion de de visitas en la pagina. Por lo tanto esta prueba fue dividida en dos grupos, grupo A(grupo control), B(Nuevo embudo de pago).\n"
   ]
  },
  {
   "cell_type": "markdown",
   "metadata": {},
   "source": [
    "# Prepocesamiento de datos"
   ]
  },
  {
   "cell_type": "code",
   "execution_count": null,
   "metadata": {},
   "outputs": [],
   "source": [
    "#Importacion de librerias\n",
    "\n",
    "import pandas as pd\n",
    "import numpy as np\n",
    "import math as mth\n",
    "import seaborn as sns\n",
    "import matplotlib.pyplot as plt\n",
    "from plotly import graph_objects as go\n",
    "from scipy import stats as st\n",
    "import math as mth"
   ]
  },
  {
   "cell_type": "code",
   "execution_count": null,
   "metadata": {},
   "outputs": [],
   "source": [
    "#Importacion de base de datos\n",
    "\n",
    "marketing_calendar = pd.read_csv('https://practicum-content.s3.us-west-1.amazonaws.com/datasets/ab_project_marketing_events_us.csv')\n",
    "\n",
    "new_users = pd.read_csv('https://practicum-content.s3.us-west-1.amazonaws.com/datasets/final_ab_new_users_upd_us.csv')\n",
    "\n",
    "events = pd.read_csv('https://practicum-content.s3.us-west-1.amazonaws.com/datasets/final_ab_events_upd_us.csv')\n",
    "\n",
    "participants = pd.read_csv('https://practicum-content.s3.us-west-1.amazonaws.com/datasets/final_ab_participants_upd_us.csv')\n"
   ]
  },
  {
   "cell_type": "code",
   "execution_count": null,
   "metadata": {},
   "outputs": [
    {
     "name": "stdout",
     "output_type": "stream",
     "text": [
      "<class 'pandas.core.frame.DataFrame'>\n",
      "RangeIndex: 14 entries, 0 to 13\n",
      "Data columns (total 4 columns):\n",
      " #   Column     Non-Null Count  Dtype \n",
      "---  ------     --------------  ----- \n",
      " 0   name       14 non-null     object\n",
      " 1   regions    14 non-null     object\n",
      " 2   start_dt   14 non-null     object\n",
      " 3   finish_dt  14 non-null     object\n",
      "dtypes: object(4)\n",
      "memory usage: 580.0+ bytes\n",
      "\n",
      "\n",
      "<class 'pandas.core.frame.DataFrame'>\n",
      "RangeIndex: 58703 entries, 0 to 58702\n",
      "Data columns (total 4 columns):\n",
      " #   Column      Non-Null Count  Dtype \n",
      "---  ------      --------------  ----- \n",
      " 0   user_id     58703 non-null  object\n",
      " 1   first_date  58703 non-null  object\n",
      " 2   region      58703 non-null  object\n",
      " 3   device      58703 non-null  object\n",
      "dtypes: object(4)\n",
      "memory usage: 1.8+ MB\n",
      "\n",
      "\n",
      "<class 'pandas.core.frame.DataFrame'>\n",
      "RangeIndex: 423761 entries, 0 to 423760\n",
      "Data columns (total 4 columns):\n",
      " #   Column      Non-Null Count   Dtype  \n",
      "---  ------      --------------   -----  \n",
      " 0   user_id     423761 non-null  object \n",
      " 1   event_dt    423761 non-null  object \n",
      " 2   event_name  423761 non-null  object \n",
      " 3   details     60314 non-null   float64\n",
      "dtypes: float64(1), object(3)\n",
      "memory usage: 12.9+ MB\n",
      "\n",
      "\n",
      "<class 'pandas.core.frame.DataFrame'>\n",
      "RangeIndex: 14525 entries, 0 to 14524\n",
      "Data columns (total 3 columns):\n",
      " #   Column   Non-Null Count  Dtype \n",
      "---  ------   --------------  ----- \n",
      " 0   user_id  14525 non-null  object\n",
      " 1   group    14525 non-null  object\n",
      " 2   ab_test  14525 non-null  object\n",
      "dtypes: object(3)\n",
      "memory usage: 340.6+ KB\n"
     ]
    }
   ],
   "source": [
    "#Se revisa infromacion de los datos\n",
    "\n",
    "marketing_calendar.info()\n",
    "\n",
    "print()\n",
    "print()\n",
    "\n",
    "new_users.info()\n",
    "\n",
    "print()\n",
    "print()\n",
    "\n",
    "events.info()\n",
    "\n",
    "print()\n",
    "print()\n",
    "\n",
    "participants.info()\n"
   ]
  },
  {
   "cell_type": "code",
   "execution_count": null,
   "metadata": {},
   "outputs": [],
   "source": [
    "#  convertir a tipo fecha lo necesario\n",
    "\n",
    "marketing_calendar['start_dt'] = pd.to_datetime(marketing_calendar['start_dt'])\n",
    "marketing_calendar['finish_dt'] = pd.to_datetime(marketing_calendar['finish_dt'])\n",
    "\n",
    "\n",
    "new_users['first_date'] = pd.to_datetime(new_users['first_date'])\n",
    "\n",
    "\n",
    "events['event_dt'] = pd.to_datetime(events['event_dt'])\n",
    "\n",
    "events['event_dt'] = pd.to_datetime(events['event_dt'].dt.date)\n",
    "\n"
   ]
  },
  {
   "cell_type": "code",
   "execution_count": null,
   "metadata": {},
   "outputs": [
    {
     "name": "stdout",
     "output_type": "stream",
     "text": [
      "<class 'pandas.core.frame.DataFrame'>\n",
      "RangeIndex: 14 entries, 0 to 13\n",
      "Data columns (total 4 columns):\n",
      " #   Column     Non-Null Count  Dtype         \n",
      "---  ------     --------------  -----         \n",
      " 0   name       14 non-null     object        \n",
      " 1   regions    14 non-null     object        \n",
      " 2   start_dt   14 non-null     datetime64[ns]\n",
      " 3   finish_dt  14 non-null     datetime64[ns]\n",
      "dtypes: datetime64[ns](2), object(2)\n",
      "memory usage: 580.0+ bytes\n",
      "\n",
      "\n",
      "<class 'pandas.core.frame.DataFrame'>\n",
      "RangeIndex: 58703 entries, 0 to 58702\n",
      "Data columns (total 4 columns):\n",
      " #   Column      Non-Null Count  Dtype         \n",
      "---  ------      --------------  -----         \n",
      " 0   user_id     58703 non-null  object        \n",
      " 1   first_date  58703 non-null  datetime64[ns]\n",
      " 2   region      58703 non-null  object        \n",
      " 3   device      58703 non-null  object        \n",
      "dtypes: datetime64[ns](1), object(3)\n",
      "memory usage: 1.8+ MB\n",
      "\n",
      "\n",
      "<class 'pandas.core.frame.DataFrame'>\n",
      "RangeIndex: 423761 entries, 0 to 423760\n",
      "Data columns (total 4 columns):\n",
      " #   Column      Non-Null Count   Dtype         \n",
      "---  ------      --------------   -----         \n",
      " 0   user_id     423761 non-null  object        \n",
      " 1   event_dt    423761 non-null  datetime64[ns]\n",
      " 2   event_name  423761 non-null  object        \n",
      " 3   details     60314 non-null   float64       \n",
      "dtypes: datetime64[ns](1), float64(1), object(2)\n",
      "memory usage: 12.9+ MB\n",
      "\n",
      "\n",
      "<class 'pandas.core.frame.DataFrame'>\n",
      "RangeIndex: 14525 entries, 0 to 14524\n",
      "Data columns (total 3 columns):\n",
      " #   Column   Non-Null Count  Dtype \n",
      "---  ------   --------------  ----- \n",
      " 0   user_id  14525 non-null  object\n",
      " 1   group    14525 non-null  object\n",
      " 2   ab_test  14525 non-null  object\n",
      "dtypes: object(3)\n",
      "memory usage: 340.6+ KB\n"
     ]
    }
   ],
   "source": [
    "marketing_calendar.info()\n",
    "\n",
    "print()\n",
    "print()\n",
    "\n",
    "new_users.info()\n",
    "\n",
    "print()\n",
    "print()\n",
    "\n",
    "events.info()\n",
    "\n",
    "print()\n",
    "print()\n",
    "\n",
    "participants.info()\n"
   ]
  },
  {
   "cell_type": "code",
   "execution_count": null,
   "metadata": {},
   "outputs": [
    {
     "data": {
      "text/html": [
       "<div>\n",
       "<style scoped>\n",
       "    .dataframe tbody tr th:only-of-type {\n",
       "        vertical-align: middle;\n",
       "    }\n",
       "\n",
       "    .dataframe tbody tr th {\n",
       "        vertical-align: top;\n",
       "    }\n",
       "\n",
       "    .dataframe thead th {\n",
       "        text-align: right;\n",
       "    }\n",
       "</style>\n",
       "<table border=\"1\" class=\"dataframe\">\n",
       "  <thead>\n",
       "    <tr style=\"text-align: right;\">\n",
       "      <th></th>\n",
       "      <th>name</th>\n",
       "      <th>regions</th>\n",
       "      <th>start_dt</th>\n",
       "      <th>finish_dt</th>\n",
       "    </tr>\n",
       "  </thead>\n",
       "  <tbody>\n",
       "    <tr>\n",
       "      <th>0</th>\n",
       "      <td>Christmas&amp;New Year Promo</td>\n",
       "      <td>EU, N.America</td>\n",
       "      <td>2020-12-25</td>\n",
       "      <td>2021-01-03</td>\n",
       "    </tr>\n",
       "    <tr>\n",
       "      <th>1</th>\n",
       "      <td>St. Valentine's Day Giveaway</td>\n",
       "      <td>EU, CIS, APAC, N.America</td>\n",
       "      <td>2020-02-14</td>\n",
       "      <td>2020-02-16</td>\n",
       "    </tr>\n",
       "    <tr>\n",
       "      <th>2</th>\n",
       "      <td>St. Patric's Day Promo</td>\n",
       "      <td>EU, N.America</td>\n",
       "      <td>2020-03-17</td>\n",
       "      <td>2020-03-19</td>\n",
       "    </tr>\n",
       "    <tr>\n",
       "      <th>3</th>\n",
       "      <td>Easter Promo</td>\n",
       "      <td>EU, CIS, APAC, N.America</td>\n",
       "      <td>2020-04-12</td>\n",
       "      <td>2020-04-19</td>\n",
       "    </tr>\n",
       "    <tr>\n",
       "      <th>4</th>\n",
       "      <td>4th of July Promo</td>\n",
       "      <td>N.America</td>\n",
       "      <td>2020-07-04</td>\n",
       "      <td>2020-07-11</td>\n",
       "    </tr>\n",
       "  </tbody>\n",
       "</table>\n",
       "</div>"
      ],
      "text/plain": [
       "                           name                   regions   start_dt  \\\n",
       "0      Christmas&New Year Promo             EU, N.America 2020-12-25   \n",
       "1  St. Valentine's Day Giveaway  EU, CIS, APAC, N.America 2020-02-14   \n",
       "2        St. Patric's Day Promo             EU, N.America 2020-03-17   \n",
       "3                  Easter Promo  EU, CIS, APAC, N.America 2020-04-12   \n",
       "4             4th of July Promo                 N.America 2020-07-04   \n",
       "\n",
       "   finish_dt  \n",
       "0 2021-01-03  \n",
       "1 2020-02-16  \n",
       "2 2020-03-19  \n",
       "3 2020-04-19  \n",
       "4 2020-07-11  "
      ]
     },
     "execution_count": 6,
     "metadata": {},
     "output_type": "execute_result"
    }
   ],
   "source": [
    "#Se revisa infromacion de los datos\n",
    "marketing_calendar.head()\n",
    "\n"
   ]
  },
  {
   "cell_type": "code",
   "execution_count": null,
   "metadata": {},
   "outputs": [
    {
     "data": {
      "text/html": [
       "<div>\n",
       "<style scoped>\n",
       "    .dataframe tbody tr th:only-of-type {\n",
       "        vertical-align: middle;\n",
       "    }\n",
       "\n",
       "    .dataframe tbody tr th {\n",
       "        vertical-align: top;\n",
       "    }\n",
       "\n",
       "    .dataframe thead th {\n",
       "        text-align: right;\n",
       "    }\n",
       "</style>\n",
       "<table border=\"1\" class=\"dataframe\">\n",
       "  <thead>\n",
       "    <tr style=\"text-align: right;\">\n",
       "      <th></th>\n",
       "      <th>user_id</th>\n",
       "      <th>first_date</th>\n",
       "      <th>region</th>\n",
       "      <th>device</th>\n",
       "    </tr>\n",
       "  </thead>\n",
       "  <tbody>\n",
       "    <tr>\n",
       "      <th>0</th>\n",
       "      <td>D72A72121175D8BE</td>\n",
       "      <td>2020-12-07</td>\n",
       "      <td>EU</td>\n",
       "      <td>PC</td>\n",
       "    </tr>\n",
       "    <tr>\n",
       "      <th>1</th>\n",
       "      <td>F1C668619DFE6E65</td>\n",
       "      <td>2020-12-07</td>\n",
       "      <td>N.America</td>\n",
       "      <td>Android</td>\n",
       "    </tr>\n",
       "    <tr>\n",
       "      <th>2</th>\n",
       "      <td>2E1BF1D4C37EA01F</td>\n",
       "      <td>2020-12-07</td>\n",
       "      <td>EU</td>\n",
       "      <td>PC</td>\n",
       "    </tr>\n",
       "    <tr>\n",
       "      <th>3</th>\n",
       "      <td>50734A22C0C63768</td>\n",
       "      <td>2020-12-07</td>\n",
       "      <td>EU</td>\n",
       "      <td>iPhone</td>\n",
       "    </tr>\n",
       "    <tr>\n",
       "      <th>4</th>\n",
       "      <td>E1BDDCE0DAFA2679</td>\n",
       "      <td>2020-12-07</td>\n",
       "      <td>N.America</td>\n",
       "      <td>iPhone</td>\n",
       "    </tr>\n",
       "  </tbody>\n",
       "</table>\n",
       "</div>"
      ],
      "text/plain": [
       "            user_id first_date     region   device\n",
       "0  D72A72121175D8BE 2020-12-07         EU       PC\n",
       "1  F1C668619DFE6E65 2020-12-07  N.America  Android\n",
       "2  2E1BF1D4C37EA01F 2020-12-07         EU       PC\n",
       "3  50734A22C0C63768 2020-12-07         EU   iPhone\n",
       "4  E1BDDCE0DAFA2679 2020-12-07  N.America   iPhone"
      ]
     },
     "execution_count": 7,
     "metadata": {},
     "output_type": "execute_result"
    }
   ],
   "source": [
    "new_users.head()"
   ]
  },
  {
   "cell_type": "code",
   "execution_count": null,
   "metadata": {},
   "outputs": [
    {
     "data": {
      "text/html": [
       "<div>\n",
       "<style scoped>\n",
       "    .dataframe tbody tr th:only-of-type {\n",
       "        vertical-align: middle;\n",
       "    }\n",
       "\n",
       "    .dataframe tbody tr th {\n",
       "        vertical-align: top;\n",
       "    }\n",
       "\n",
       "    .dataframe thead th {\n",
       "        text-align: right;\n",
       "    }\n",
       "</style>\n",
       "<table border=\"1\" class=\"dataframe\">\n",
       "  <thead>\n",
       "    <tr style=\"text-align: right;\">\n",
       "      <th></th>\n",
       "      <th>user_id</th>\n",
       "      <th>event_dt</th>\n",
       "      <th>event_name</th>\n",
       "      <th>details</th>\n",
       "    </tr>\n",
       "  </thead>\n",
       "  <tbody>\n",
       "    <tr>\n",
       "      <th>0</th>\n",
       "      <td>E1BDDCE0DAFA2679</td>\n",
       "      <td>2020-12-07</td>\n",
       "      <td>purchase</td>\n",
       "      <td>99.99</td>\n",
       "    </tr>\n",
       "    <tr>\n",
       "      <th>1</th>\n",
       "      <td>7B6452F081F49504</td>\n",
       "      <td>2020-12-07</td>\n",
       "      <td>purchase</td>\n",
       "      <td>9.99</td>\n",
       "    </tr>\n",
       "    <tr>\n",
       "      <th>2</th>\n",
       "      <td>9CD9F34546DF254C</td>\n",
       "      <td>2020-12-07</td>\n",
       "      <td>purchase</td>\n",
       "      <td>4.99</td>\n",
       "    </tr>\n",
       "    <tr>\n",
       "      <th>3</th>\n",
       "      <td>96F27A054B191457</td>\n",
       "      <td>2020-12-07</td>\n",
       "      <td>purchase</td>\n",
       "      <td>4.99</td>\n",
       "    </tr>\n",
       "    <tr>\n",
       "      <th>4</th>\n",
       "      <td>1FD7660FDF94CA1F</td>\n",
       "      <td>2020-12-07</td>\n",
       "      <td>purchase</td>\n",
       "      <td>4.99</td>\n",
       "    </tr>\n",
       "  </tbody>\n",
       "</table>\n",
       "</div>"
      ],
      "text/plain": [
       "            user_id   event_dt event_name  details\n",
       "0  E1BDDCE0DAFA2679 2020-12-07   purchase    99.99\n",
       "1  7B6452F081F49504 2020-12-07   purchase     9.99\n",
       "2  9CD9F34546DF254C 2020-12-07   purchase     4.99\n",
       "3  96F27A054B191457 2020-12-07   purchase     4.99\n",
       "4  1FD7660FDF94CA1F 2020-12-07   purchase     4.99"
      ]
     },
     "execution_count": 8,
     "metadata": {},
     "output_type": "execute_result"
    }
   ],
   "source": [
    "events.head()"
   ]
  },
  {
   "cell_type": "code",
   "execution_count": null,
   "metadata": {},
   "outputs": [
    {
     "data": {
      "text/html": [
       "<div>\n",
       "<style scoped>\n",
       "    .dataframe tbody tr th:only-of-type {\n",
       "        vertical-align: middle;\n",
       "    }\n",
       "\n",
       "    .dataframe tbody tr th {\n",
       "        vertical-align: top;\n",
       "    }\n",
       "\n",
       "    .dataframe thead th {\n",
       "        text-align: right;\n",
       "    }\n",
       "</style>\n",
       "<table border=\"1\" class=\"dataframe\">\n",
       "  <thead>\n",
       "    <tr style=\"text-align: right;\">\n",
       "      <th></th>\n",
       "      <th>user_id</th>\n",
       "      <th>group</th>\n",
       "      <th>ab_test</th>\n",
       "    </tr>\n",
       "  </thead>\n",
       "  <tbody>\n",
       "    <tr>\n",
       "      <th>0</th>\n",
       "      <td>D1ABA3E2887B6A73</td>\n",
       "      <td>A</td>\n",
       "      <td>recommender_system_test</td>\n",
       "    </tr>\n",
       "    <tr>\n",
       "      <th>1</th>\n",
       "      <td>A7A3664BD6242119</td>\n",
       "      <td>A</td>\n",
       "      <td>recommender_system_test</td>\n",
       "    </tr>\n",
       "    <tr>\n",
       "      <th>2</th>\n",
       "      <td>DABC14FDDFADD29E</td>\n",
       "      <td>A</td>\n",
       "      <td>recommender_system_test</td>\n",
       "    </tr>\n",
       "    <tr>\n",
       "      <th>3</th>\n",
       "      <td>04988C5DF189632E</td>\n",
       "      <td>A</td>\n",
       "      <td>recommender_system_test</td>\n",
       "    </tr>\n",
       "    <tr>\n",
       "      <th>4</th>\n",
       "      <td>4FF2998A348C484F</td>\n",
       "      <td>A</td>\n",
       "      <td>recommender_system_test</td>\n",
       "    </tr>\n",
       "  </tbody>\n",
       "</table>\n",
       "</div>"
      ],
      "text/plain": [
       "            user_id group                  ab_test\n",
       "0  D1ABA3E2887B6A73     A  recommender_system_test\n",
       "1  A7A3664BD6242119     A  recommender_system_test\n",
       "2  DABC14FDDFADD29E     A  recommender_system_test\n",
       "3  04988C5DF189632E     A  recommender_system_test\n",
       "4  4FF2998A348C484F     A  recommender_system_test"
      ]
     },
     "execution_count": 9,
     "metadata": {},
     "output_type": "execute_result"
    }
   ],
   "source": [
    "\n",
    "participants.head()"
   ]
  },
  {
   "cell_type": "code",
   "execution_count": null,
   "metadata": {},
   "outputs": [
    {
     "name": "stdout",
     "output_type": "stream",
     "text": [
      "name         0\n",
      "regions      0\n",
      "start_dt     0\n",
      "finish_dt    0\n",
      "dtype: int64\n",
      "\n",
      "user_id       0\n",
      "first_date    0\n",
      "region        0\n",
      "device        0\n",
      "dtype: int64\n",
      "\n",
      "user_id            0\n",
      "event_dt           0\n",
      "event_name         0\n",
      "details       363447\n",
      "dtype: int64\n",
      "\n",
      "user_id    0\n",
      "group      0\n",
      "ab_test    0\n",
      "dtype: int64\n"
     ]
    }
   ],
   "source": [
    "#Se revisan si hay valores nulos\n",
    "\n",
    "print(marketing_calendar.isnull().sum())\n",
    "print()\n",
    "\n",
    "\n",
    "print(new_users.isnull().sum())\n",
    "\n",
    "print()\n",
    "\n",
    "\n",
    "print(events.isnull().sum())\n",
    "\n",
    "\n",
    "print()\n",
    "\n",
    "\n",
    "\n",
    "print(participants.isnull().sum())"
   ]
  },
  {
   "cell_type": "code",
   "execution_count": null,
   "metadata": {},
   "outputs": [
    {
     "name": "stdout",
     "output_type": "stream",
     "text": [
      "user_id       0\n",
      "event_dt      0\n",
      "event_name    0\n",
      "details       0\n",
      "dtype: int64\n"
     ]
    }
   ],
   "source": [
    "#Se procesan los valores nulos\n",
    "\n",
    "events['details'].fillna(events['details'].mean(), inplace=True)\n",
    "\n",
    "print(events.isnull().sum())\n"
   ]
  },
  {
   "cell_type": "code",
   "execution_count": null,
   "metadata": {
    "scrolled": true
   },
   "outputs": [
    {
     "name": "stdout",
     "output_type": "stream",
     "text": [
      "0\n",
      "\n",
      "0\n",
      "\n",
      "2\n",
      "\n",
      "0\n"
     ]
    }
   ],
   "source": [
    "# Se revisan si hay datos dupliicados\n",
    "\n",
    "\n",
    "print(marketing_calendar.duplicated().sum())\n",
    "print()\n",
    "\n",
    "\n",
    "print(new_users.duplicated().sum())\n",
    "\n",
    "print()\n",
    "\n",
    "\n",
    "print(events.duplicated().sum())\n",
    "\n",
    "\n",
    "print()\n",
    "\n",
    "\n",
    "\n",
    "print(participants.duplicated().sum())"
   ]
  },
  {
   "cell_type": "code",
   "execution_count": null,
   "metadata": {},
   "outputs": [
    {
     "name": "stdout",
     "output_type": "stream",
     "text": [
      "0\n"
     ]
    }
   ],
   "source": [
    "#Se eliminan duplicados\n",
    "\n",
    "events = events.drop_duplicates()\n",
    "\n",
    "print(events.duplicated().sum())"
   ]
  },
  {
   "cell_type": "code",
   "execution_count": null,
   "metadata": {},
   "outputs": [
    {
     "data": {
      "text/plain": [
       "event_name\n",
       "login           182464\n",
       "product_page    120862\n",
       "purchase         60313\n",
       "product_cart     60120\n",
       "Name: count, dtype: int64"
      ]
     },
     "execution_count": 14,
     "metadata": {},
     "output_type": "execute_result"
    }
   ],
   "source": [
    "#Numero de eventos por usuario\n",
    "events['event_name'].value_counts()"
   ]
  },
  {
   "cell_type": "markdown",
   "metadata": {},
   "source": [
    "# Analisis exploratorio de datos"
   ]
  },
  {
   "cell_type": "code",
   "execution_count": null,
   "metadata": {
    "scrolled": true
   },
   "outputs": [
    {
     "data": {
      "text/html": [
       "<div>\n",
       "<style scoped>\n",
       "    .dataframe tbody tr th:only-of-type {\n",
       "        vertical-align: middle;\n",
       "    }\n",
       "\n",
       "    .dataframe tbody tr th {\n",
       "        vertical-align: top;\n",
       "    }\n",
       "\n",
       "    .dataframe thead th {\n",
       "        text-align: right;\n",
       "    }\n",
       "</style>\n",
       "<table border=\"1\" class=\"dataframe\">\n",
       "  <thead>\n",
       "    <tr style=\"text-align: right;\">\n",
       "      <th></th>\n",
       "      <th>user_id</th>\n",
       "      <th>first_date</th>\n",
       "      <th>region</th>\n",
       "      <th>device</th>\n",
       "      <th>event_dt</th>\n",
       "      <th>event_name</th>\n",
       "      <th>details</th>\n",
       "      <th>group</th>\n",
       "      <th>ab_test</th>\n",
       "    </tr>\n",
       "  </thead>\n",
       "  <tbody>\n",
       "    <tr>\n",
       "      <th>0</th>\n",
       "      <td>D1ABA3E2887B6A73</td>\n",
       "      <td>2020-12-07</td>\n",
       "      <td>EU</td>\n",
       "      <td>PC</td>\n",
       "      <td>2020-12-07</td>\n",
       "      <td>purchase</td>\n",
       "      <td>99.990000</td>\n",
       "      <td>A</td>\n",
       "      <td>recommender_system_test</td>\n",
       "    </tr>\n",
       "    <tr>\n",
       "      <th>1</th>\n",
       "      <td>D1ABA3E2887B6A73</td>\n",
       "      <td>2020-12-07</td>\n",
       "      <td>EU</td>\n",
       "      <td>PC</td>\n",
       "      <td>2020-12-07</td>\n",
       "      <td>product_cart</td>\n",
       "      <td>23.881219</td>\n",
       "      <td>A</td>\n",
       "      <td>recommender_system_test</td>\n",
       "    </tr>\n",
       "    <tr>\n",
       "      <th>2</th>\n",
       "      <td>D1ABA3E2887B6A73</td>\n",
       "      <td>2020-12-07</td>\n",
       "      <td>EU</td>\n",
       "      <td>PC</td>\n",
       "      <td>2020-12-07</td>\n",
       "      <td>product_page</td>\n",
       "      <td>23.881219</td>\n",
       "      <td>A</td>\n",
       "      <td>recommender_system_test</td>\n",
       "    </tr>\n",
       "    <tr>\n",
       "      <th>3</th>\n",
       "      <td>D1ABA3E2887B6A73</td>\n",
       "      <td>2020-12-07</td>\n",
       "      <td>EU</td>\n",
       "      <td>PC</td>\n",
       "      <td>2020-12-07</td>\n",
       "      <td>login</td>\n",
       "      <td>23.881219</td>\n",
       "      <td>A</td>\n",
       "      <td>recommender_system_test</td>\n",
       "    </tr>\n",
       "    <tr>\n",
       "      <th>4</th>\n",
       "      <td>A7A3664BD6242119</td>\n",
       "      <td>2020-12-20</td>\n",
       "      <td>EU</td>\n",
       "      <td>iPhone</td>\n",
       "      <td>2020-12-20</td>\n",
       "      <td>product_page</td>\n",
       "      <td>23.881219</td>\n",
       "      <td>A</td>\n",
       "      <td>recommender_system_test</td>\n",
       "    </tr>\n",
       "  </tbody>\n",
       "</table>\n",
       "</div>"
      ],
      "text/plain": [
       "            user_id first_date region  device   event_dt    event_name  \\\n",
       "0  D1ABA3E2887B6A73 2020-12-07     EU      PC 2020-12-07      purchase   \n",
       "1  D1ABA3E2887B6A73 2020-12-07     EU      PC 2020-12-07  product_cart   \n",
       "2  D1ABA3E2887B6A73 2020-12-07     EU      PC 2020-12-07  product_page   \n",
       "3  D1ABA3E2887B6A73 2020-12-07     EU      PC 2020-12-07         login   \n",
       "4  A7A3664BD6242119 2020-12-20     EU  iPhone 2020-12-20  product_page   \n",
       "\n",
       "     details group                  ab_test  \n",
       "0  99.990000     A  recommender_system_test  \n",
       "1  23.881219     A  recommender_system_test  \n",
       "2  23.881219     A  recommender_system_test  \n",
       "3  23.881219     A  recommender_system_test  \n",
       "4  23.881219     A  recommender_system_test  "
      ]
     },
     "execution_count": 15,
     "metadata": {},
     "output_type": "execute_result"
    }
   ],
   "source": [
    "\n",
    "\n",
    "\n",
    "merged_df = pd.merge(new_users, events, on='user_id', how='left')\n",
    "\n",
    "\n",
    "\n",
    "\n",
    "\n",
    "merged_df = pd.merge(merged_df, participants, on='user_id', how='right')\n",
    "\n",
    "\n",
    "merged_df.head()"
   ]
  },
  {
   "cell_type": "code",
   "execution_count": null,
   "metadata": {},
   "outputs": [
    {
     "data": {
      "text/plain": [
       "ab_test\n",
       "interface_eu_test          78929\n",
       "recommender_system_test    23909\n",
       "Name: count, dtype: int64"
      ]
     },
     "execution_count": 16,
     "metadata": {},
     "output_type": "execute_result"
    }
   ],
   "source": [
    "#Se ve cuantos test hay\n",
    "merged_df['ab_test'].value_counts()"
   ]
  },
  {
   "cell_type": "code",
   "execution_count": null,
   "metadata": {},
   "outputs": [
    {
     "name": "stdout",
     "output_type": "stream",
     "text": [
      "Number of users in both groups: 887\n"
     ]
    }
   ],
   "source": [
    "#Usuarios de lso tipo de test o los que estan en amboos grupos\n",
    "users_in_recommender = set(merged_df[merged_df['ab_test'] == 'recommender_system_test']['user_id'])\n",
    "users_in_interface = set(merged_df[merged_df['ab_test'] == 'interface_eu_test']['user_id'])\n",
    "\n",
    "common_users = users_in_recommender.intersection(users_in_interface)\n",
    "\n",
    "\n",
    "print(f\"Number of users in both groups: {len(common_users)}\")"
   ]
  },
  {
   "cell_type": "code",
   "execution_count": null,
   "metadata": {},
   "outputs": [
    {
     "data": {
      "text/plain": [
       "ab_test\n",
       "interface_eu_test          73214\n",
       "recommender_system_test    18194\n",
       "Name: count, dtype: int64"
      ]
     },
     "execution_count": 18,
     "metadata": {},
     "output_type": "execute_result"
    }
   ],
   "source": [
    "#dataset sin usuarios enmabos grupos\n",
    "\n",
    "filtered_df = merged_df[~merged_df['user_id'].isin(common_users)]\n",
    "\n",
    "\n",
    "\n",
    "filtered_df['ab_test'].value_counts()"
   ]
  },
  {
   "cell_type": "code",
   "execution_count": null,
   "metadata": {},
   "outputs": [
    {
     "data": {
      "text/html": [
       "<div>\n",
       "<style scoped>\n",
       "    .dataframe tbody tr th:only-of-type {\n",
       "        vertical-align: middle;\n",
       "    }\n",
       "\n",
       "    .dataframe tbody tr th {\n",
       "        vertical-align: top;\n",
       "    }\n",
       "\n",
       "    .dataframe thead th {\n",
       "        text-align: right;\n",
       "    }\n",
       "</style>\n",
       "<table border=\"1\" class=\"dataframe\">\n",
       "  <thead>\n",
       "    <tr style=\"text-align: right;\">\n",
       "      <th></th>\n",
       "      <th>user_id</th>\n",
       "      <th>first_date</th>\n",
       "      <th>region</th>\n",
       "      <th>device</th>\n",
       "      <th>event_dt</th>\n",
       "      <th>event_name</th>\n",
       "      <th>details</th>\n",
       "      <th>group</th>\n",
       "      <th>ab_test</th>\n",
       "    </tr>\n",
       "  </thead>\n",
       "  <tbody>\n",
       "    <tr>\n",
       "      <th>0</th>\n",
       "      <td>D1ABA3E2887B6A73</td>\n",
       "      <td>2020-12-07</td>\n",
       "      <td>EU</td>\n",
       "      <td>PC</td>\n",
       "      <td>2020-12-07</td>\n",
       "      <td>purchase</td>\n",
       "      <td>99.990000</td>\n",
       "      <td>A</td>\n",
       "      <td>recommender_system_test</td>\n",
       "    </tr>\n",
       "    <tr>\n",
       "      <th>1</th>\n",
       "      <td>D1ABA3E2887B6A73</td>\n",
       "      <td>2020-12-07</td>\n",
       "      <td>EU</td>\n",
       "      <td>PC</td>\n",
       "      <td>2020-12-07</td>\n",
       "      <td>product_cart</td>\n",
       "      <td>23.881219</td>\n",
       "      <td>A</td>\n",
       "      <td>recommender_system_test</td>\n",
       "    </tr>\n",
       "    <tr>\n",
       "      <th>2</th>\n",
       "      <td>D1ABA3E2887B6A73</td>\n",
       "      <td>2020-12-07</td>\n",
       "      <td>EU</td>\n",
       "      <td>PC</td>\n",
       "      <td>2020-12-07</td>\n",
       "      <td>product_page</td>\n",
       "      <td>23.881219</td>\n",
       "      <td>A</td>\n",
       "      <td>recommender_system_test</td>\n",
       "    </tr>\n",
       "    <tr>\n",
       "      <th>3</th>\n",
       "      <td>D1ABA3E2887B6A73</td>\n",
       "      <td>2020-12-07</td>\n",
       "      <td>EU</td>\n",
       "      <td>PC</td>\n",
       "      <td>2020-12-07</td>\n",
       "      <td>login</td>\n",
       "      <td>23.881219</td>\n",
       "      <td>A</td>\n",
       "      <td>recommender_system_test</td>\n",
       "    </tr>\n",
       "    <tr>\n",
       "      <th>4</th>\n",
       "      <td>A7A3664BD6242119</td>\n",
       "      <td>2020-12-20</td>\n",
       "      <td>EU</td>\n",
       "      <td>iPhone</td>\n",
       "      <td>2020-12-20</td>\n",
       "      <td>product_page</td>\n",
       "      <td>23.881219</td>\n",
       "      <td>A</td>\n",
       "      <td>recommender_system_test</td>\n",
       "    </tr>\n",
       "  </tbody>\n",
       "</table>\n",
       "</div>"
      ],
      "text/plain": [
       "            user_id first_date region  device   event_dt    event_name  \\\n",
       "0  D1ABA3E2887B6A73 2020-12-07     EU      PC 2020-12-07      purchase   \n",
       "1  D1ABA3E2887B6A73 2020-12-07     EU      PC 2020-12-07  product_cart   \n",
       "2  D1ABA3E2887B6A73 2020-12-07     EU      PC 2020-12-07  product_page   \n",
       "3  D1ABA3E2887B6A73 2020-12-07     EU      PC 2020-12-07         login   \n",
       "4  A7A3664BD6242119 2020-12-20     EU  iPhone 2020-12-20  product_page   \n",
       "\n",
       "     details group                  ab_test  \n",
       "0  99.990000     A  recommender_system_test  \n",
       "1  23.881219     A  recommender_system_test  \n",
       "2  23.881219     A  recommender_system_test  \n",
       "3  23.881219     A  recommender_system_test  \n",
       "4  23.881219     A  recommender_system_test  "
      ]
     },
     "execution_count": 19,
     "metadata": {},
     "output_type": "execute_result"
    }
   ],
   "source": [
    "#Filtramos los que solo tengan el test 'recommender_system_test\"\n",
    "\n",
    "filtered_df= filtered_df.query('ab_test == \"recommender_system_test\"')\n",
    "filtered_df.head()"
   ]
  },
  {
   "cell_type": "code",
   "execution_count": null,
   "metadata": {},
   "outputs": [
    {
     "data": {
      "text/html": [
       "<div>\n",
       "<style scoped>\n",
       "    .dataframe tbody tr th:only-of-type {\n",
       "        vertical-align: middle;\n",
       "    }\n",
       "\n",
       "    .dataframe tbody tr th {\n",
       "        vertical-align: top;\n",
       "    }\n",
       "\n",
       "    .dataframe thead th {\n",
       "        text-align: right;\n",
       "    }\n",
       "</style>\n",
       "<table border=\"1\" class=\"dataframe\">\n",
       "  <thead>\n",
       "    <tr style=\"text-align: right;\">\n",
       "      <th></th>\n",
       "      <th>user_id</th>\n",
       "      <th>first_date</th>\n",
       "      <th>region</th>\n",
       "      <th>device</th>\n",
       "      <th>event_dt</th>\n",
       "      <th>event_name</th>\n",
       "      <th>details</th>\n",
       "      <th>group</th>\n",
       "      <th>ab_test</th>\n",
       "      <th>days</th>\n",
       "    </tr>\n",
       "  </thead>\n",
       "  <tbody>\n",
       "    <tr>\n",
       "      <th>0</th>\n",
       "      <td>D1ABA3E2887B6A73</td>\n",
       "      <td>2020-12-07</td>\n",
       "      <td>EU</td>\n",
       "      <td>PC</td>\n",
       "      <td>2020-12-07</td>\n",
       "      <td>purchase</td>\n",
       "      <td>99.990000</td>\n",
       "      <td>A</td>\n",
       "      <td>recommender_system_test</td>\n",
       "      <td>0 days</td>\n",
       "    </tr>\n",
       "    <tr>\n",
       "      <th>1</th>\n",
       "      <td>D1ABA3E2887B6A73</td>\n",
       "      <td>2020-12-07</td>\n",
       "      <td>EU</td>\n",
       "      <td>PC</td>\n",
       "      <td>2020-12-07</td>\n",
       "      <td>product_cart</td>\n",
       "      <td>23.881219</td>\n",
       "      <td>A</td>\n",
       "      <td>recommender_system_test</td>\n",
       "      <td>0 days</td>\n",
       "    </tr>\n",
       "    <tr>\n",
       "      <th>2</th>\n",
       "      <td>D1ABA3E2887B6A73</td>\n",
       "      <td>2020-12-07</td>\n",
       "      <td>EU</td>\n",
       "      <td>PC</td>\n",
       "      <td>2020-12-07</td>\n",
       "      <td>product_page</td>\n",
       "      <td>23.881219</td>\n",
       "      <td>A</td>\n",
       "      <td>recommender_system_test</td>\n",
       "      <td>0 days</td>\n",
       "    </tr>\n",
       "    <tr>\n",
       "      <th>3</th>\n",
       "      <td>D1ABA3E2887B6A73</td>\n",
       "      <td>2020-12-07</td>\n",
       "      <td>EU</td>\n",
       "      <td>PC</td>\n",
       "      <td>2020-12-07</td>\n",
       "      <td>login</td>\n",
       "      <td>23.881219</td>\n",
       "      <td>A</td>\n",
       "      <td>recommender_system_test</td>\n",
       "      <td>0 days</td>\n",
       "    </tr>\n",
       "    <tr>\n",
       "      <th>4</th>\n",
       "      <td>A7A3664BD6242119</td>\n",
       "      <td>2020-12-20</td>\n",
       "      <td>EU</td>\n",
       "      <td>iPhone</td>\n",
       "      <td>2020-12-20</td>\n",
       "      <td>product_page</td>\n",
       "      <td>23.881219</td>\n",
       "      <td>A</td>\n",
       "      <td>recommender_system_test</td>\n",
       "      <td>0 days</td>\n",
       "    </tr>\n",
       "  </tbody>\n",
       "</table>\n",
       "</div>"
      ],
      "text/plain": [
       "            user_id first_date region  device   event_dt    event_name  \\\n",
       "0  D1ABA3E2887B6A73 2020-12-07     EU      PC 2020-12-07      purchase   \n",
       "1  D1ABA3E2887B6A73 2020-12-07     EU      PC 2020-12-07  product_cart   \n",
       "2  D1ABA3E2887B6A73 2020-12-07     EU      PC 2020-12-07  product_page   \n",
       "3  D1ABA3E2887B6A73 2020-12-07     EU      PC 2020-12-07         login   \n",
       "4  A7A3664BD6242119 2020-12-20     EU  iPhone 2020-12-20  product_page   \n",
       "\n",
       "     details group                  ab_test   days  \n",
       "0  99.990000     A  recommender_system_test 0 days  \n",
       "1  23.881219     A  recommender_system_test 0 days  \n",
       "2  23.881219     A  recommender_system_test 0 days  \n",
       "3  23.881219     A  recommender_system_test 0 days  \n",
       "4  23.881219     A  recommender_system_test 0 days  "
      ]
     },
     "execution_count": 20,
     "metadata": {},
     "output_type": "execute_result"
    }
   ],
   "source": [
    "#Dias que llevan en la plataforma\n",
    "\n",
    "filtered_df['days']= filtered_df['event_dt'] - filtered_df['first_date']\n",
    "filtered_df.head()"
   ]
  },
  {
   "cell_type": "code",
   "execution_count": null,
   "metadata": {},
   "outputs": [
    {
     "data": {
      "text/html": [
       "<div>\n",
       "<style scoped>\n",
       "    .dataframe tbody tr th:only-of-type {\n",
       "        vertical-align: middle;\n",
       "    }\n",
       "\n",
       "    .dataframe tbody tr th {\n",
       "        vertical-align: top;\n",
       "    }\n",
       "\n",
       "    .dataframe thead th {\n",
       "        text-align: right;\n",
       "    }\n",
       "</style>\n",
       "<table border=\"1\" class=\"dataframe\">\n",
       "  <thead>\n",
       "    <tr style=\"text-align: right;\">\n",
       "      <th></th>\n",
       "      <th>user_id</th>\n",
       "      <th>first_date</th>\n",
       "      <th>region</th>\n",
       "      <th>device</th>\n",
       "      <th>event_dt</th>\n",
       "      <th>event_name</th>\n",
       "      <th>details</th>\n",
       "      <th>group</th>\n",
       "      <th>ab_test</th>\n",
       "      <th>days</th>\n",
       "    </tr>\n",
       "  </thead>\n",
       "  <tbody>\n",
       "    <tr>\n",
       "      <th>0</th>\n",
       "      <td>D1ABA3E2887B6A73</td>\n",
       "      <td>2020-12-07</td>\n",
       "      <td>EU</td>\n",
       "      <td>PC</td>\n",
       "      <td>2020-12-07</td>\n",
       "      <td>purchase</td>\n",
       "      <td>99.990000</td>\n",
       "      <td>A</td>\n",
       "      <td>recommender_system_test</td>\n",
       "      <td>0 days</td>\n",
       "    </tr>\n",
       "    <tr>\n",
       "      <th>1</th>\n",
       "      <td>D1ABA3E2887B6A73</td>\n",
       "      <td>2020-12-07</td>\n",
       "      <td>EU</td>\n",
       "      <td>PC</td>\n",
       "      <td>2020-12-07</td>\n",
       "      <td>product_cart</td>\n",
       "      <td>23.881219</td>\n",
       "      <td>A</td>\n",
       "      <td>recommender_system_test</td>\n",
       "      <td>0 days</td>\n",
       "    </tr>\n",
       "    <tr>\n",
       "      <th>2</th>\n",
       "      <td>D1ABA3E2887B6A73</td>\n",
       "      <td>2020-12-07</td>\n",
       "      <td>EU</td>\n",
       "      <td>PC</td>\n",
       "      <td>2020-12-07</td>\n",
       "      <td>product_page</td>\n",
       "      <td>23.881219</td>\n",
       "      <td>A</td>\n",
       "      <td>recommender_system_test</td>\n",
       "      <td>0 days</td>\n",
       "    </tr>\n",
       "    <tr>\n",
       "      <th>3</th>\n",
       "      <td>D1ABA3E2887B6A73</td>\n",
       "      <td>2020-12-07</td>\n",
       "      <td>EU</td>\n",
       "      <td>PC</td>\n",
       "      <td>2020-12-07</td>\n",
       "      <td>login</td>\n",
       "      <td>23.881219</td>\n",
       "      <td>A</td>\n",
       "      <td>recommender_system_test</td>\n",
       "      <td>0 days</td>\n",
       "    </tr>\n",
       "    <tr>\n",
       "      <th>4</th>\n",
       "      <td>A7A3664BD6242119</td>\n",
       "      <td>2020-12-20</td>\n",
       "      <td>EU</td>\n",
       "      <td>iPhone</td>\n",
       "      <td>2020-12-20</td>\n",
       "      <td>product_page</td>\n",
       "      <td>23.881219</td>\n",
       "      <td>A</td>\n",
       "      <td>recommender_system_test</td>\n",
       "      <td>0 days</td>\n",
       "    </tr>\n",
       "  </tbody>\n",
       "</table>\n",
       "</div>"
      ],
      "text/plain": [
       "            user_id first_date region  device   event_dt    event_name  \\\n",
       "0  D1ABA3E2887B6A73 2020-12-07     EU      PC 2020-12-07      purchase   \n",
       "1  D1ABA3E2887B6A73 2020-12-07     EU      PC 2020-12-07  product_cart   \n",
       "2  D1ABA3E2887B6A73 2020-12-07     EU      PC 2020-12-07  product_page   \n",
       "3  D1ABA3E2887B6A73 2020-12-07     EU      PC 2020-12-07         login   \n",
       "4  A7A3664BD6242119 2020-12-20     EU  iPhone 2020-12-20  product_page   \n",
       "\n",
       "     details group                  ab_test   days  \n",
       "0  99.990000     A  recommender_system_test 0 days  \n",
       "1  23.881219     A  recommender_system_test 0 days  \n",
       "2  23.881219     A  recommender_system_test 0 days  \n",
       "3  23.881219     A  recommender_system_test 0 days  \n",
       "4  23.881219     A  recommender_system_test 0 days  "
      ]
     },
     "execution_count": 21,
     "metadata": {},
     "output_type": "execute_result"
    }
   ],
   "source": [
    "#Se filtra con usuarios menor a 14 dias\n",
    "\n",
    "filtered_df= filtered_df.query('days <= \"14 days\"',engine='python')\n",
    "filtered_df.head()"
   ]
  },
  {
   "cell_type": "code",
   "execution_count": null,
   "metadata": {},
   "outputs": [
    {
     "data": {
      "text/html": [
       "<div>\n",
       "<style scoped>\n",
       "    .dataframe tbody tr th:only-of-type {\n",
       "        vertical-align: middle;\n",
       "    }\n",
       "\n",
       "    .dataframe tbody tr th {\n",
       "        vertical-align: top;\n",
       "    }\n",
       "\n",
       "    .dataframe thead th {\n",
       "        text-align: right;\n",
       "    }\n",
       "</style>\n",
       "<table border=\"1\" class=\"dataframe\">\n",
       "  <thead>\n",
       "    <tr style=\"text-align: right;\">\n",
       "      <th></th>\n",
       "      <th>event_name</th>\n",
       "      <th>amount</th>\n",
       "    </tr>\n",
       "  </thead>\n",
       "  <tbody>\n",
       "    <tr>\n",
       "      <th>0</th>\n",
       "      <td>login</td>\n",
       "      <td>8036</td>\n",
       "    </tr>\n",
       "    <tr>\n",
       "      <th>1</th>\n",
       "      <td>product_page</td>\n",
       "      <td>4994</td>\n",
       "    </tr>\n",
       "    <tr>\n",
       "      <th>2</th>\n",
       "      <td>product_cart</td>\n",
       "      <td>2413</td>\n",
       "    </tr>\n",
       "    <tr>\n",
       "      <th>3</th>\n",
       "      <td>purchase</td>\n",
       "      <td>2343</td>\n",
       "    </tr>\n",
       "  </tbody>\n",
       "</table>\n",
       "</div>"
      ],
      "text/plain": [
       "     event_name  amount\n",
       "0         login    8036\n",
       "1  product_page    4994\n",
       "2  product_cart    2413\n",
       "3      purchase    2343"
      ]
     },
     "execution_count": 22,
     "metadata": {},
     "output_type": "execute_result"
    }
   ],
   "source": [
    "#Conversión de diferentes etapas\n",
    "\n",
    "events_funnel = filtered_df.groupby('event_name').agg({'user_id':'count'}).sort_values(by='user_id', ascending=False).reset_index()\n",
    "events_funnel.columns = ['event_name', 'amount']\n",
    "\n",
    "events_funnel\n"
   ]
  },
  {
   "cell_type": "code",
   "execution_count": null,
   "metadata": {},
   "outputs": [
    {
     "data": {
      "application/vnd.plotly.v1+json": {
       "config": {
        "plotlyServerURL": "https://plot.ly"
       },
       "data": [
        {
         "type": "funnel",
         "x": [
          8036,
          4994,
          2413,
          2343
         ],
         "y": [
          "login",
          "product_page",
          "product_cart",
          "purchase"
         ]
        }
       ],
       "layout": {
        "template": {
         "data": {
          "bar": [
           {
            "error_x": {
             "color": "#2a3f5f"
            },
            "error_y": {
             "color": "#2a3f5f"
            },
            "marker": {
             "line": {
              "color": "#E5ECF6",
              "width": 0.5
             },
             "pattern": {
              "fillmode": "overlay",
              "size": 10,
              "solidity": 0.2
             }
            },
            "type": "bar"
           }
          ],
          "barpolar": [
           {
            "marker": {
             "line": {
              "color": "#E5ECF6",
              "width": 0.5
             },
             "pattern": {
              "fillmode": "overlay",
              "size": 10,
              "solidity": 0.2
             }
            },
            "type": "barpolar"
           }
          ],
          "carpet": [
           {
            "aaxis": {
             "endlinecolor": "#2a3f5f",
             "gridcolor": "white",
             "linecolor": "white",
             "minorgridcolor": "white",
             "startlinecolor": "#2a3f5f"
            },
            "baxis": {
             "endlinecolor": "#2a3f5f",
             "gridcolor": "white",
             "linecolor": "white",
             "minorgridcolor": "white",
             "startlinecolor": "#2a3f5f"
            },
            "type": "carpet"
           }
          ],
          "choropleth": [
           {
            "colorbar": {
             "outlinewidth": 0,
             "ticks": ""
            },
            "type": "choropleth"
           }
          ],
          "contour": [
           {
            "colorbar": {
             "outlinewidth": 0,
             "ticks": ""
            },
            "colorscale": [
             [
              0,
              "#0d0887"
             ],
             [
              0.1111111111111111,
              "#46039f"
             ],
             [
              0.2222222222222222,
              "#7201a8"
             ],
             [
              0.3333333333333333,
              "#9c179e"
             ],
             [
              0.4444444444444444,
              "#bd3786"
             ],
             [
              0.5555555555555556,
              "#d8576b"
             ],
             [
              0.6666666666666666,
              "#ed7953"
             ],
             [
              0.7777777777777778,
              "#fb9f3a"
             ],
             [
              0.8888888888888888,
              "#fdca26"
             ],
             [
              1,
              "#f0f921"
             ]
            ],
            "type": "contour"
           }
          ],
          "contourcarpet": [
           {
            "colorbar": {
             "outlinewidth": 0,
             "ticks": ""
            },
            "type": "contourcarpet"
           }
          ],
          "heatmap": [
           {
            "colorbar": {
             "outlinewidth": 0,
             "ticks": ""
            },
            "colorscale": [
             [
              0,
              "#0d0887"
             ],
             [
              0.1111111111111111,
              "#46039f"
             ],
             [
              0.2222222222222222,
              "#7201a8"
             ],
             [
              0.3333333333333333,
              "#9c179e"
             ],
             [
              0.4444444444444444,
              "#bd3786"
             ],
             [
              0.5555555555555556,
              "#d8576b"
             ],
             [
              0.6666666666666666,
              "#ed7953"
             ],
             [
              0.7777777777777778,
              "#fb9f3a"
             ],
             [
              0.8888888888888888,
              "#fdca26"
             ],
             [
              1,
              "#f0f921"
             ]
            ],
            "type": "heatmap"
           }
          ],
          "heatmapgl": [
           {
            "colorbar": {
             "outlinewidth": 0,
             "ticks": ""
            },
            "colorscale": [
             [
              0,
              "#0d0887"
             ],
             [
              0.1111111111111111,
              "#46039f"
             ],
             [
              0.2222222222222222,
              "#7201a8"
             ],
             [
              0.3333333333333333,
              "#9c179e"
             ],
             [
              0.4444444444444444,
              "#bd3786"
             ],
             [
              0.5555555555555556,
              "#d8576b"
             ],
             [
              0.6666666666666666,
              "#ed7953"
             ],
             [
              0.7777777777777778,
              "#fb9f3a"
             ],
             [
              0.8888888888888888,
              "#fdca26"
             ],
             [
              1,
              "#f0f921"
             ]
            ],
            "type": "heatmapgl"
           }
          ],
          "histogram": [
           {
            "marker": {
             "pattern": {
              "fillmode": "overlay",
              "size": 10,
              "solidity": 0.2
             }
            },
            "type": "histogram"
           }
          ],
          "histogram2d": [
           {
            "colorbar": {
             "outlinewidth": 0,
             "ticks": ""
            },
            "colorscale": [
             [
              0,
              "#0d0887"
             ],
             [
              0.1111111111111111,
              "#46039f"
             ],
             [
              0.2222222222222222,
              "#7201a8"
             ],
             [
              0.3333333333333333,
              "#9c179e"
             ],
             [
              0.4444444444444444,
              "#bd3786"
             ],
             [
              0.5555555555555556,
              "#d8576b"
             ],
             [
              0.6666666666666666,
              "#ed7953"
             ],
             [
              0.7777777777777778,
              "#fb9f3a"
             ],
             [
              0.8888888888888888,
              "#fdca26"
             ],
             [
              1,
              "#f0f921"
             ]
            ],
            "type": "histogram2d"
           }
          ],
          "histogram2dcontour": [
           {
            "colorbar": {
             "outlinewidth": 0,
             "ticks": ""
            },
            "colorscale": [
             [
              0,
              "#0d0887"
             ],
             [
              0.1111111111111111,
              "#46039f"
             ],
             [
              0.2222222222222222,
              "#7201a8"
             ],
             [
              0.3333333333333333,
              "#9c179e"
             ],
             [
              0.4444444444444444,
              "#bd3786"
             ],
             [
              0.5555555555555556,
              "#d8576b"
             ],
             [
              0.6666666666666666,
              "#ed7953"
             ],
             [
              0.7777777777777778,
              "#fb9f3a"
             ],
             [
              0.8888888888888888,
              "#fdca26"
             ],
             [
              1,
              "#f0f921"
             ]
            ],
            "type": "histogram2dcontour"
           }
          ],
          "mesh3d": [
           {
            "colorbar": {
             "outlinewidth": 0,
             "ticks": ""
            },
            "type": "mesh3d"
           }
          ],
          "parcoords": [
           {
            "line": {
             "colorbar": {
              "outlinewidth": 0,
              "ticks": ""
             }
            },
            "type": "parcoords"
           }
          ],
          "pie": [
           {
            "automargin": true,
            "type": "pie"
           }
          ],
          "scatter": [
           {
            "fillpattern": {
             "fillmode": "overlay",
             "size": 10,
             "solidity": 0.2
            },
            "type": "scatter"
           }
          ],
          "scatter3d": [
           {
            "line": {
             "colorbar": {
              "outlinewidth": 0,
              "ticks": ""
             }
            },
            "marker": {
             "colorbar": {
              "outlinewidth": 0,
              "ticks": ""
             }
            },
            "type": "scatter3d"
           }
          ],
          "scattercarpet": [
           {
            "marker": {
             "colorbar": {
              "outlinewidth": 0,
              "ticks": ""
             }
            },
            "type": "scattercarpet"
           }
          ],
          "scattergeo": [
           {
            "marker": {
             "colorbar": {
              "outlinewidth": 0,
              "ticks": ""
             }
            },
            "type": "scattergeo"
           }
          ],
          "scattergl": [
           {
            "marker": {
             "colorbar": {
              "outlinewidth": 0,
              "ticks": ""
             }
            },
            "type": "scattergl"
           }
          ],
          "scattermapbox": [
           {
            "marker": {
             "colorbar": {
              "outlinewidth": 0,
              "ticks": ""
             }
            },
            "type": "scattermapbox"
           }
          ],
          "scatterpolar": [
           {
            "marker": {
             "colorbar": {
              "outlinewidth": 0,
              "ticks": ""
             }
            },
            "type": "scatterpolar"
           }
          ],
          "scatterpolargl": [
           {
            "marker": {
             "colorbar": {
              "outlinewidth": 0,
              "ticks": ""
             }
            },
            "type": "scatterpolargl"
           }
          ],
          "scatterternary": [
           {
            "marker": {
             "colorbar": {
              "outlinewidth": 0,
              "ticks": ""
             }
            },
            "type": "scatterternary"
           }
          ],
          "surface": [
           {
            "colorbar": {
             "outlinewidth": 0,
             "ticks": ""
            },
            "colorscale": [
             [
              0,
              "#0d0887"
             ],
             [
              0.1111111111111111,
              "#46039f"
             ],
             [
              0.2222222222222222,
              "#7201a8"
             ],
             [
              0.3333333333333333,
              "#9c179e"
             ],
             [
              0.4444444444444444,
              "#bd3786"
             ],
             [
              0.5555555555555556,
              "#d8576b"
             ],
             [
              0.6666666666666666,
              "#ed7953"
             ],
             [
              0.7777777777777778,
              "#fb9f3a"
             ],
             [
              0.8888888888888888,
              "#fdca26"
             ],
             [
              1,
              "#f0f921"
             ]
            ],
            "type": "surface"
           }
          ],
          "table": [
           {
            "cells": {
             "fill": {
              "color": "#EBF0F8"
             },
             "line": {
              "color": "white"
             }
            },
            "header": {
             "fill": {
              "color": "#C8D4E3"
             },
             "line": {
              "color": "white"
             }
            },
            "type": "table"
           }
          ]
         },
         "layout": {
          "annotationdefaults": {
           "arrowcolor": "#2a3f5f",
           "arrowhead": 0,
           "arrowwidth": 1
          },
          "autotypenumbers": "strict",
          "coloraxis": {
           "colorbar": {
            "outlinewidth": 0,
            "ticks": ""
           }
          },
          "colorscale": {
           "diverging": [
            [
             0,
             "#8e0152"
            ],
            [
             0.1,
             "#c51b7d"
            ],
            [
             0.2,
             "#de77ae"
            ],
            [
             0.3,
             "#f1b6da"
            ],
            [
             0.4,
             "#fde0ef"
            ],
            [
             0.5,
             "#f7f7f7"
            ],
            [
             0.6,
             "#e6f5d0"
            ],
            [
             0.7,
             "#b8e186"
            ],
            [
             0.8,
             "#7fbc41"
            ],
            [
             0.9,
             "#4d9221"
            ],
            [
             1,
             "#276419"
            ]
           ],
           "sequential": [
            [
             0,
             "#0d0887"
            ],
            [
             0.1111111111111111,
             "#46039f"
            ],
            [
             0.2222222222222222,
             "#7201a8"
            ],
            [
             0.3333333333333333,
             "#9c179e"
            ],
            [
             0.4444444444444444,
             "#bd3786"
            ],
            [
             0.5555555555555556,
             "#d8576b"
            ],
            [
             0.6666666666666666,
             "#ed7953"
            ],
            [
             0.7777777777777778,
             "#fb9f3a"
            ],
            [
             0.8888888888888888,
             "#fdca26"
            ],
            [
             1,
             "#f0f921"
            ]
           ],
           "sequentialminus": [
            [
             0,
             "#0d0887"
            ],
            [
             0.1111111111111111,
             "#46039f"
            ],
            [
             0.2222222222222222,
             "#7201a8"
            ],
            [
             0.3333333333333333,
             "#9c179e"
            ],
            [
             0.4444444444444444,
             "#bd3786"
            ],
            [
             0.5555555555555556,
             "#d8576b"
            ],
            [
             0.6666666666666666,
             "#ed7953"
            ],
            [
             0.7777777777777778,
             "#fb9f3a"
            ],
            [
             0.8888888888888888,
             "#fdca26"
            ],
            [
             1,
             "#f0f921"
            ]
           ]
          },
          "colorway": [
           "#636efa",
           "#EF553B",
           "#00cc96",
           "#ab63fa",
           "#FFA15A",
           "#19d3f3",
           "#FF6692",
           "#B6E880",
           "#FF97FF",
           "#FECB52"
          ],
          "font": {
           "color": "#2a3f5f"
          },
          "geo": {
           "bgcolor": "white",
           "lakecolor": "white",
           "landcolor": "#E5ECF6",
           "showlakes": true,
           "showland": true,
           "subunitcolor": "white"
          },
          "hoverlabel": {
           "align": "left"
          },
          "hovermode": "closest",
          "mapbox": {
           "style": "light"
          },
          "paper_bgcolor": "white",
          "plot_bgcolor": "#E5ECF6",
          "polar": {
           "angularaxis": {
            "gridcolor": "white",
            "linecolor": "white",
            "ticks": ""
           },
           "bgcolor": "#E5ECF6",
           "radialaxis": {
            "gridcolor": "white",
            "linecolor": "white",
            "ticks": ""
           }
          },
          "scene": {
           "xaxis": {
            "backgroundcolor": "#E5ECF6",
            "gridcolor": "white",
            "gridwidth": 2,
            "linecolor": "white",
            "showbackground": true,
            "ticks": "",
            "zerolinecolor": "white"
           },
           "yaxis": {
            "backgroundcolor": "#E5ECF6",
            "gridcolor": "white",
            "gridwidth": 2,
            "linecolor": "white",
            "showbackground": true,
            "ticks": "",
            "zerolinecolor": "white"
           },
           "zaxis": {
            "backgroundcolor": "#E5ECF6",
            "gridcolor": "white",
            "gridwidth": 2,
            "linecolor": "white",
            "showbackground": true,
            "ticks": "",
            "zerolinecolor": "white"
           }
          },
          "shapedefaults": {
           "line": {
            "color": "#2a3f5f"
           }
          },
          "ternary": {
           "aaxis": {
            "gridcolor": "white",
            "linecolor": "white",
            "ticks": ""
           },
           "baxis": {
            "gridcolor": "white",
            "linecolor": "white",
            "ticks": ""
           },
           "bgcolor": "#E5ECF6",
           "caxis": {
            "gridcolor": "white",
            "linecolor": "white",
            "ticks": ""
           }
          },
          "title": {
           "x": 0.05
          },
          "xaxis": {
           "automargin": true,
           "gridcolor": "white",
           "linecolor": "white",
           "ticks": "",
           "title": {
            "standoff": 15
           },
           "zerolinecolor": "white",
           "zerolinewidth": 2
          },
          "yaxis": {
           "automargin": true,
           "gridcolor": "white",
           "linecolor": "white",
           "ticks": "",
           "title": {
            "standoff": 15
           },
           "zerolinecolor": "white",
           "zerolinewidth": 2
          }
         }
        }
       }
      }
     },
     "metadata": {},
     "output_type": "display_data"
    }
   ],
   "source": [
    "# Representación gráfica del embudo\n",
    "\n",
    "fig1= go.Figure(go.Funnel(y= events_funnel['event_name'], x= events_funnel['amount']))\n",
    "fig1.show()"
   ]
  },
  {
   "cell_type": "markdown",
   "metadata": {},
   "source": [
    "Dentro del embudo de eventos se puede notar que del evento login a product solo se mantienen el 62% de usuarios y del evento product_page a product car es la parte donde menos usuarios pasan con solo con 48%, de ahi practicamente de product car a purchase pasan el 97%. Es decir que donde perdemos más usarios es cuando pasamos de product page a product cart"
   ]
  },
  {
   "cell_type": "code",
   "execution_count": null,
   "metadata": {},
   "outputs": [
    {
     "data": {
      "text/html": [
       "<div>\n",
       "<style scoped>\n",
       "    .dataframe tbody tr th:only-of-type {\n",
       "        vertical-align: middle;\n",
       "    }\n",
       "\n",
       "    .dataframe tbody tr th {\n",
       "        vertical-align: top;\n",
       "    }\n",
       "\n",
       "    .dataframe thead th {\n",
       "        text-align: right;\n",
       "    }\n",
       "</style>\n",
       "<table border=\"1\" class=\"dataframe\">\n",
       "  <thead>\n",
       "    <tr style=\"text-align: right;\">\n",
       "      <th></th>\n",
       "      <th>event_name</th>\n",
       "      <th>user_id</th>\n",
       "    </tr>\n",
       "  </thead>\n",
       "  <tbody>\n",
       "    <tr>\n",
       "      <th>0</th>\n",
       "      <td>login</td>\n",
       "      <td>2787</td>\n",
       "    </tr>\n",
       "    <tr>\n",
       "      <th>1</th>\n",
       "      <td>product_page</td>\n",
       "      <td>1757</td>\n",
       "    </tr>\n",
       "    <tr>\n",
       "      <th>2</th>\n",
       "      <td>purchase</td>\n",
       "      <td>850</td>\n",
       "    </tr>\n",
       "    <tr>\n",
       "      <th>3</th>\n",
       "      <td>product_cart</td>\n",
       "      <td>826</td>\n",
       "    </tr>\n",
       "  </tbody>\n",
       "</table>\n",
       "</div>"
      ],
      "text/plain": [
       "     event_name  user_id\n",
       "0         login     2787\n",
       "1  product_page     1757\n",
       "2      purchase      850\n",
       "3  product_cart      826"
      ]
     },
     "execution_count": 24,
     "metadata": {},
     "output_type": "execute_result"
    }
   ],
   "source": [
    "# Busco cantidad de usuarios únicos que realizaron cada evento.\n",
    "\n",
    "usuarios= filtered_df.groupby('event_name').agg({'user_id':'nunique'}).sort_values(by='user_id', ascending=False).reset_index()\n",
    "usuarios"
   ]
  },
  {
   "cell_type": "code",
   "execution_count": null,
   "metadata": {},
   "outputs": [
    {
     "data": {
      "application/vnd.plotly.v1+json": {
       "config": {
        "plotlyServerURL": "https://plot.ly"
       },
       "data": [
        {
         "type": "funnel",
         "x": [
          2787,
          1757,
          850,
          826
         ],
         "y": [
          "login",
          "product_page",
          "purchase",
          "product_cart"
         ]
        }
       ],
       "layout": {
        "template": {
         "data": {
          "bar": [
           {
            "error_x": {
             "color": "#2a3f5f"
            },
            "error_y": {
             "color": "#2a3f5f"
            },
            "marker": {
             "line": {
              "color": "#E5ECF6",
              "width": 0.5
             },
             "pattern": {
              "fillmode": "overlay",
              "size": 10,
              "solidity": 0.2
             }
            },
            "type": "bar"
           }
          ],
          "barpolar": [
           {
            "marker": {
             "line": {
              "color": "#E5ECF6",
              "width": 0.5
             },
             "pattern": {
              "fillmode": "overlay",
              "size": 10,
              "solidity": 0.2
             }
            },
            "type": "barpolar"
           }
          ],
          "carpet": [
           {
            "aaxis": {
             "endlinecolor": "#2a3f5f",
             "gridcolor": "white",
             "linecolor": "white",
             "minorgridcolor": "white",
             "startlinecolor": "#2a3f5f"
            },
            "baxis": {
             "endlinecolor": "#2a3f5f",
             "gridcolor": "white",
             "linecolor": "white",
             "minorgridcolor": "white",
             "startlinecolor": "#2a3f5f"
            },
            "type": "carpet"
           }
          ],
          "choropleth": [
           {
            "colorbar": {
             "outlinewidth": 0,
             "ticks": ""
            },
            "type": "choropleth"
           }
          ],
          "contour": [
           {
            "colorbar": {
             "outlinewidth": 0,
             "ticks": ""
            },
            "colorscale": [
             [
              0,
              "#0d0887"
             ],
             [
              0.1111111111111111,
              "#46039f"
             ],
             [
              0.2222222222222222,
              "#7201a8"
             ],
             [
              0.3333333333333333,
              "#9c179e"
             ],
             [
              0.4444444444444444,
              "#bd3786"
             ],
             [
              0.5555555555555556,
              "#d8576b"
             ],
             [
              0.6666666666666666,
              "#ed7953"
             ],
             [
              0.7777777777777778,
              "#fb9f3a"
             ],
             [
              0.8888888888888888,
              "#fdca26"
             ],
             [
              1,
              "#f0f921"
             ]
            ],
            "type": "contour"
           }
          ],
          "contourcarpet": [
           {
            "colorbar": {
             "outlinewidth": 0,
             "ticks": ""
            },
            "type": "contourcarpet"
           }
          ],
          "heatmap": [
           {
            "colorbar": {
             "outlinewidth": 0,
             "ticks": ""
            },
            "colorscale": [
             [
              0,
              "#0d0887"
             ],
             [
              0.1111111111111111,
              "#46039f"
             ],
             [
              0.2222222222222222,
              "#7201a8"
             ],
             [
              0.3333333333333333,
              "#9c179e"
             ],
             [
              0.4444444444444444,
              "#bd3786"
             ],
             [
              0.5555555555555556,
              "#d8576b"
             ],
             [
              0.6666666666666666,
              "#ed7953"
             ],
             [
              0.7777777777777778,
              "#fb9f3a"
             ],
             [
              0.8888888888888888,
              "#fdca26"
             ],
             [
              1,
              "#f0f921"
             ]
            ],
            "type": "heatmap"
           }
          ],
          "heatmapgl": [
           {
            "colorbar": {
             "outlinewidth": 0,
             "ticks": ""
            },
            "colorscale": [
             [
              0,
              "#0d0887"
             ],
             [
              0.1111111111111111,
              "#46039f"
             ],
             [
              0.2222222222222222,
              "#7201a8"
             ],
             [
              0.3333333333333333,
              "#9c179e"
             ],
             [
              0.4444444444444444,
              "#bd3786"
             ],
             [
              0.5555555555555556,
              "#d8576b"
             ],
             [
              0.6666666666666666,
              "#ed7953"
             ],
             [
              0.7777777777777778,
              "#fb9f3a"
             ],
             [
              0.8888888888888888,
              "#fdca26"
             ],
             [
              1,
              "#f0f921"
             ]
            ],
            "type": "heatmapgl"
           }
          ],
          "histogram": [
           {
            "marker": {
             "pattern": {
              "fillmode": "overlay",
              "size": 10,
              "solidity": 0.2
             }
            },
            "type": "histogram"
           }
          ],
          "histogram2d": [
           {
            "colorbar": {
             "outlinewidth": 0,
             "ticks": ""
            },
            "colorscale": [
             [
              0,
              "#0d0887"
             ],
             [
              0.1111111111111111,
              "#46039f"
             ],
             [
              0.2222222222222222,
              "#7201a8"
             ],
             [
              0.3333333333333333,
              "#9c179e"
             ],
             [
              0.4444444444444444,
              "#bd3786"
             ],
             [
              0.5555555555555556,
              "#d8576b"
             ],
             [
              0.6666666666666666,
              "#ed7953"
             ],
             [
              0.7777777777777778,
              "#fb9f3a"
             ],
             [
              0.8888888888888888,
              "#fdca26"
             ],
             [
              1,
              "#f0f921"
             ]
            ],
            "type": "histogram2d"
           }
          ],
          "histogram2dcontour": [
           {
            "colorbar": {
             "outlinewidth": 0,
             "ticks": ""
            },
            "colorscale": [
             [
              0,
              "#0d0887"
             ],
             [
              0.1111111111111111,
              "#46039f"
             ],
             [
              0.2222222222222222,
              "#7201a8"
             ],
             [
              0.3333333333333333,
              "#9c179e"
             ],
             [
              0.4444444444444444,
              "#bd3786"
             ],
             [
              0.5555555555555556,
              "#d8576b"
             ],
             [
              0.6666666666666666,
              "#ed7953"
             ],
             [
              0.7777777777777778,
              "#fb9f3a"
             ],
             [
              0.8888888888888888,
              "#fdca26"
             ],
             [
              1,
              "#f0f921"
             ]
            ],
            "type": "histogram2dcontour"
           }
          ],
          "mesh3d": [
           {
            "colorbar": {
             "outlinewidth": 0,
             "ticks": ""
            },
            "type": "mesh3d"
           }
          ],
          "parcoords": [
           {
            "line": {
             "colorbar": {
              "outlinewidth": 0,
              "ticks": ""
             }
            },
            "type": "parcoords"
           }
          ],
          "pie": [
           {
            "automargin": true,
            "type": "pie"
           }
          ],
          "scatter": [
           {
            "fillpattern": {
             "fillmode": "overlay",
             "size": 10,
             "solidity": 0.2
            },
            "type": "scatter"
           }
          ],
          "scatter3d": [
           {
            "line": {
             "colorbar": {
              "outlinewidth": 0,
              "ticks": ""
             }
            },
            "marker": {
             "colorbar": {
              "outlinewidth": 0,
              "ticks": ""
             }
            },
            "type": "scatter3d"
           }
          ],
          "scattercarpet": [
           {
            "marker": {
             "colorbar": {
              "outlinewidth": 0,
              "ticks": ""
             }
            },
            "type": "scattercarpet"
           }
          ],
          "scattergeo": [
           {
            "marker": {
             "colorbar": {
              "outlinewidth": 0,
              "ticks": ""
             }
            },
            "type": "scattergeo"
           }
          ],
          "scattergl": [
           {
            "marker": {
             "colorbar": {
              "outlinewidth": 0,
              "ticks": ""
             }
            },
            "type": "scattergl"
           }
          ],
          "scattermapbox": [
           {
            "marker": {
             "colorbar": {
              "outlinewidth": 0,
              "ticks": ""
             }
            },
            "type": "scattermapbox"
           }
          ],
          "scatterpolar": [
           {
            "marker": {
             "colorbar": {
              "outlinewidth": 0,
              "ticks": ""
             }
            },
            "type": "scatterpolar"
           }
          ],
          "scatterpolargl": [
           {
            "marker": {
             "colorbar": {
              "outlinewidth": 0,
              "ticks": ""
             }
            },
            "type": "scatterpolargl"
           }
          ],
          "scatterternary": [
           {
            "marker": {
             "colorbar": {
              "outlinewidth": 0,
              "ticks": ""
             }
            },
            "type": "scatterternary"
           }
          ],
          "surface": [
           {
            "colorbar": {
             "outlinewidth": 0,
             "ticks": ""
            },
            "colorscale": [
             [
              0,
              "#0d0887"
             ],
             [
              0.1111111111111111,
              "#46039f"
             ],
             [
              0.2222222222222222,
              "#7201a8"
             ],
             [
              0.3333333333333333,
              "#9c179e"
             ],
             [
              0.4444444444444444,
              "#bd3786"
             ],
             [
              0.5555555555555556,
              "#d8576b"
             ],
             [
              0.6666666666666666,
              "#ed7953"
             ],
             [
              0.7777777777777778,
              "#fb9f3a"
             ],
             [
              0.8888888888888888,
              "#fdca26"
             ],
             [
              1,
              "#f0f921"
             ]
            ],
            "type": "surface"
           }
          ],
          "table": [
           {
            "cells": {
             "fill": {
              "color": "#EBF0F8"
             },
             "line": {
              "color": "white"
             }
            },
            "header": {
             "fill": {
              "color": "#C8D4E3"
             },
             "line": {
              "color": "white"
             }
            },
            "type": "table"
           }
          ]
         },
         "layout": {
          "annotationdefaults": {
           "arrowcolor": "#2a3f5f",
           "arrowhead": 0,
           "arrowwidth": 1
          },
          "autotypenumbers": "strict",
          "coloraxis": {
           "colorbar": {
            "outlinewidth": 0,
            "ticks": ""
           }
          },
          "colorscale": {
           "diverging": [
            [
             0,
             "#8e0152"
            ],
            [
             0.1,
             "#c51b7d"
            ],
            [
             0.2,
             "#de77ae"
            ],
            [
             0.3,
             "#f1b6da"
            ],
            [
             0.4,
             "#fde0ef"
            ],
            [
             0.5,
             "#f7f7f7"
            ],
            [
             0.6,
             "#e6f5d0"
            ],
            [
             0.7,
             "#b8e186"
            ],
            [
             0.8,
             "#7fbc41"
            ],
            [
             0.9,
             "#4d9221"
            ],
            [
             1,
             "#276419"
            ]
           ],
           "sequential": [
            [
             0,
             "#0d0887"
            ],
            [
             0.1111111111111111,
             "#46039f"
            ],
            [
             0.2222222222222222,
             "#7201a8"
            ],
            [
             0.3333333333333333,
             "#9c179e"
            ],
            [
             0.4444444444444444,
             "#bd3786"
            ],
            [
             0.5555555555555556,
             "#d8576b"
            ],
            [
             0.6666666666666666,
             "#ed7953"
            ],
            [
             0.7777777777777778,
             "#fb9f3a"
            ],
            [
             0.8888888888888888,
             "#fdca26"
            ],
            [
             1,
             "#f0f921"
            ]
           ],
           "sequentialminus": [
            [
             0,
             "#0d0887"
            ],
            [
             0.1111111111111111,
             "#46039f"
            ],
            [
             0.2222222222222222,
             "#7201a8"
            ],
            [
             0.3333333333333333,
             "#9c179e"
            ],
            [
             0.4444444444444444,
             "#bd3786"
            ],
            [
             0.5555555555555556,
             "#d8576b"
            ],
            [
             0.6666666666666666,
             "#ed7953"
            ],
            [
             0.7777777777777778,
             "#fb9f3a"
            ],
            [
             0.8888888888888888,
             "#fdca26"
            ],
            [
             1,
             "#f0f921"
            ]
           ]
          },
          "colorway": [
           "#636efa",
           "#EF553B",
           "#00cc96",
           "#ab63fa",
           "#FFA15A",
           "#19d3f3",
           "#FF6692",
           "#B6E880",
           "#FF97FF",
           "#FECB52"
          ],
          "font": {
           "color": "#2a3f5f"
          },
          "geo": {
           "bgcolor": "white",
           "lakecolor": "white",
           "landcolor": "#E5ECF6",
           "showlakes": true,
           "showland": true,
           "subunitcolor": "white"
          },
          "hoverlabel": {
           "align": "left"
          },
          "hovermode": "closest",
          "mapbox": {
           "style": "light"
          },
          "paper_bgcolor": "white",
          "plot_bgcolor": "#E5ECF6",
          "polar": {
           "angularaxis": {
            "gridcolor": "white",
            "linecolor": "white",
            "ticks": ""
           },
           "bgcolor": "#E5ECF6",
           "radialaxis": {
            "gridcolor": "white",
            "linecolor": "white",
            "ticks": ""
           }
          },
          "scene": {
           "xaxis": {
            "backgroundcolor": "#E5ECF6",
            "gridcolor": "white",
            "gridwidth": 2,
            "linecolor": "white",
            "showbackground": true,
            "ticks": "",
            "zerolinecolor": "white"
           },
           "yaxis": {
            "backgroundcolor": "#E5ECF6",
            "gridcolor": "white",
            "gridwidth": 2,
            "linecolor": "white",
            "showbackground": true,
            "ticks": "",
            "zerolinecolor": "white"
           },
           "zaxis": {
            "backgroundcolor": "#E5ECF6",
            "gridcolor": "white",
            "gridwidth": 2,
            "linecolor": "white",
            "showbackground": true,
            "ticks": "",
            "zerolinecolor": "white"
           }
          },
          "shapedefaults": {
           "line": {
            "color": "#2a3f5f"
           }
          },
          "ternary": {
           "aaxis": {
            "gridcolor": "white",
            "linecolor": "white",
            "ticks": ""
           },
           "baxis": {
            "gridcolor": "white",
            "linecolor": "white",
            "ticks": ""
           },
           "bgcolor": "#E5ECF6",
           "caxis": {
            "gridcolor": "white",
            "linecolor": "white",
            "ticks": ""
           }
          },
          "title": {
           "x": 0.05
          },
          "xaxis": {
           "automargin": true,
           "gridcolor": "white",
           "linecolor": "white",
           "ticks": "",
           "title": {
            "standoff": 15
           },
           "zerolinecolor": "white",
           "zerolinewidth": 2
          },
          "yaxis": {
           "automargin": true,
           "gridcolor": "white",
           "linecolor": "white",
           "ticks": "",
           "title": {
            "standoff": 15
           },
           "zerolinecolor": "white",
           "zerolinewidth": 2
          }
         }
        }
       }
      }
     },
     "metadata": {},
     "output_type": "display_data"
    }
   ],
   "source": [
    "# Representación gráfica del embudo\n",
    "\n",
    "fig2= go.Figure(go.Funnel(y= usuarios['event_name'], x= usuarios['user_id']))\n",
    "fig2.show()"
   ]
  },
  {
   "cell_type": "markdown",
   "metadata": {},
   "source": [
    "Se puede observar que se que de login a product page se mantienen el 63% siendo entre estas etapas la 2da donde más se pierde usuarios, mientras que la primera donde más se pierden es de product page a purchase pues solo se mantienen un 48%, la etapa donde menos se pierden es de purchase a product donde se mantienen el 97% de usuarios"
   ]
  },
  {
   "cell_type": "markdown",
   "metadata": {},
   "source": [
    "# Estudio A/B test"
   ]
  },
  {
   "cell_type": "code",
   "execution_count": null,
   "metadata": {},
   "outputs": [
    {
     "data": {
      "text/html": [
       "<div>\n",
       "<style scoped>\n",
       "    .dataframe tbody tr th:only-of-type {\n",
       "        vertical-align: middle;\n",
       "    }\n",
       "\n",
       "    .dataframe tbody tr th {\n",
       "        vertical-align: top;\n",
       "    }\n",
       "\n",
       "    .dataframe thead th {\n",
       "        text-align: right;\n",
       "    }\n",
       "</style>\n",
       "<table border=\"1\" class=\"dataframe\">\n",
       "  <thead>\n",
       "    <tr style=\"text-align: right;\">\n",
       "      <th></th>\n",
       "      <th>group</th>\n",
       "      <th>user_id</th>\n",
       "    </tr>\n",
       "  </thead>\n",
       "  <tbody>\n",
       "    <tr>\n",
       "      <th>0</th>\n",
       "      <td>A</td>\n",
       "      <td>2082</td>\n",
       "    </tr>\n",
       "    <tr>\n",
       "      <th>1</th>\n",
       "      <td>B</td>\n",
       "      <td>706</td>\n",
       "    </tr>\n",
       "  </tbody>\n",
       "</table>\n",
       "</div>"
      ],
      "text/plain": [
       "  group  user_id\n",
       "0     A     2082\n",
       "1     B      706"
      ]
     },
     "execution_count": 26,
     "metadata": {},
     "output_type": "execute_result"
    }
   ],
   "source": [
    "# Cantidad de usuarios en cada grupo\n",
    "\n",
    "n_usuarios= filtered_df.groupby('group').agg({'user_id':'nunique'}).reset_index()\n",
    "n_usuarios"
   ]
  },
  {
   "cell_type": "code",
   "execution_count": null,
   "metadata": {
    "scrolled": true
   },
   "outputs": [],
   "source": [
    "# Segmento los datos por grupo A\n",
    "\n",
    "# Selecciono los usuarios del grupo A\n",
    "group_a = filtered_df[filtered_df['group'] == 'A']\n"
   ]
  },
  {
   "cell_type": "code",
   "execution_count": null,
   "metadata": {},
   "outputs": [
    {
     "data": {
      "text/html": [
       "<div>\n",
       "<style scoped>\n",
       "    .dataframe tbody tr th:only-of-type {\n",
       "        vertical-align: middle;\n",
       "    }\n",
       "\n",
       "    .dataframe tbody tr th {\n",
       "        vertical-align: top;\n",
       "    }\n",
       "\n",
       "    .dataframe thead th {\n",
       "        text-align: right;\n",
       "    }\n",
       "</style>\n",
       "<table border=\"1\" class=\"dataframe\">\n",
       "  <thead>\n",
       "    <tr style=\"text-align: right;\">\n",
       "      <th></th>\n",
       "      <th>event_name</th>\n",
       "      <th>cantidad</th>\n",
       "    </tr>\n",
       "  </thead>\n",
       "  <tbody>\n",
       "    <tr>\n",
       "      <th>0</th>\n",
       "      <td>login</td>\n",
       "      <td>2082</td>\n",
       "    </tr>\n",
       "    <tr>\n",
       "      <th>1</th>\n",
       "      <td>product_page</td>\n",
       "      <td>1360</td>\n",
       "    </tr>\n",
       "    <tr>\n",
       "      <th>2</th>\n",
       "      <td>purchase</td>\n",
       "      <td>652</td>\n",
       "    </tr>\n",
       "    <tr>\n",
       "      <th>3</th>\n",
       "      <td>product_cart</td>\n",
       "      <td>631</td>\n",
       "    </tr>\n",
       "  </tbody>\n",
       "</table>\n",
       "</div>"
      ],
      "text/plain": [
       "     event_name  cantidad\n",
       "0         login      2082\n",
       "1  product_page      1360\n",
       "2      purchase       652\n",
       "3  product_cart       631"
      ]
     },
     "execution_count": 28,
     "metadata": {},
     "output_type": "execute_result"
    }
   ],
   "source": [
    "#Grupo A\n",
    "\n",
    "\n",
    "events_a= group_a.groupby('event_name').agg({'user_id':'nunique'}).sort_values(by='user_id', ascending=False).reset_index()\n",
    "events_a.columns= ['event_name','cantidad']\n",
    "events_a"
   ]
  },
  {
   "cell_type": "code",
   "execution_count": null,
   "metadata": {},
   "outputs": [
    {
     "name": "stdout",
     "output_type": "stream",
     "text": [
      "2082\n",
      "2082\n",
      "     event_name  cantidad  proportion\n",
      "0         login      2082    1.000000\n",
      "1  product_page      1360    0.653218\n",
      "2      purchase       652    0.313160\n",
      "3  product_cart       631    0.303074\n"
     ]
    }
   ],
   "source": [
    "#Se obtiene proporciones de grupo a\n",
    "\n",
    "total_users_a1 = np.max(events_a['cantidad'])\n",
    "\n",
    "print(total_users_a1)\n",
    "\n",
    "events_a['proportion'] = events_a['cantidad'] / total_users_a1\n",
    "\n",
    "\n",
    "print(total_users_a1)\n",
    "print(events_a)"
   ]
  },
  {
   "cell_type": "code",
   "execution_count": null,
   "metadata": {},
   "outputs": [],
   "source": [
    "# Segmento los datos por grupo b\n",
    "\n",
    "group_b = filtered_df[filtered_df['group'] == 'B']"
   ]
  },
  {
   "cell_type": "code",
   "execution_count": null,
   "metadata": {},
   "outputs": [
    {
     "data": {
      "text/html": [
       "<div>\n",
       "<style scoped>\n",
       "    .dataframe tbody tr th:only-of-type {\n",
       "        vertical-align: middle;\n",
       "    }\n",
       "\n",
       "    .dataframe tbody tr th {\n",
       "        vertical-align: top;\n",
       "    }\n",
       "\n",
       "    .dataframe thead th {\n",
       "        text-align: right;\n",
       "    }\n",
       "</style>\n",
       "<table border=\"1\" class=\"dataframe\">\n",
       "  <thead>\n",
       "    <tr style=\"text-align: right;\">\n",
       "      <th></th>\n",
       "      <th>event_name</th>\n",
       "      <th>cantidad</th>\n",
       "    </tr>\n",
       "  </thead>\n",
       "  <tbody>\n",
       "    <tr>\n",
       "      <th>0</th>\n",
       "      <td>login</td>\n",
       "      <td>705</td>\n",
       "    </tr>\n",
       "    <tr>\n",
       "      <th>1</th>\n",
       "      <td>product_page</td>\n",
       "      <td>397</td>\n",
       "    </tr>\n",
       "    <tr>\n",
       "      <th>2</th>\n",
       "      <td>purchase</td>\n",
       "      <td>198</td>\n",
       "    </tr>\n",
       "    <tr>\n",
       "      <th>3</th>\n",
       "      <td>product_cart</td>\n",
       "      <td>195</td>\n",
       "    </tr>\n",
       "  </tbody>\n",
       "</table>\n",
       "</div>"
      ],
      "text/plain": [
       "     event_name  cantidad\n",
       "0         login       705\n",
       "1  product_page       397\n",
       "2      purchase       198\n",
       "3  product_cart       195"
      ]
     },
     "execution_count": 31,
     "metadata": {},
     "output_type": "execute_result"
    }
   ],
   "source": [
    "#Grupo b\n",
    "\n",
    "\n",
    "\n",
    "events_b= group_b.groupby('event_name').agg({'user_id':'nunique'}).sort_values(by='user_id', ascending=False).reset_index()\n",
    "events_b.columns= ['event_name','cantidad']\n",
    "events_b"
   ]
  },
  {
   "cell_type": "code",
   "execution_count": null,
   "metadata": {},
   "outputs": [
    {
     "name": "stdout",
     "output_type": "stream",
     "text": [
      "705\n",
      "705\n",
      "     event_name  cantidad  proportion\n",
      "0         login       705    1.000000\n",
      "1  product_page       397    0.563121\n",
      "2      purchase       198    0.280851\n",
      "3  product_cart       195    0.276596\n"
     ]
    }
   ],
   "source": [
    "#Se obtiene proporciones de gurpo b\n",
    "\n",
    "total_users_b = np.max(events_b['cantidad'])\n",
    "\n",
    "print(total_users_b)\n",
    "\n",
    "events_b['proportion'] = events_b['cantidad'] / total_users_b\n",
    "\n",
    "\n",
    "print(total_users_b)\n",
    "print(events_b)"
   ]
  },
  {
   "cell_type": "code",
   "execution_count": null,
   "metadata": {},
   "outputs": [
    {
     "name": "stdout",
     "output_type": "stream",
     "text": [
      "     event_name  cantidad_a1  proportion_a1  cantidad_b  proportion_b\n",
      "0         login         2082       1.000000         705      1.000000\n",
      "1  product_page         1360       0.653218         397      0.563121\n",
      "2      purchase          652       0.313160         198      0.280851\n",
      "3  product_cart          631       0.303074         195      0.276596\n"
     ]
    }
   ],
   "source": [
    "merged = pd.merge(events_a, events_b, on='event_name', suffixes=('_a1', '_b'))\n",
    "\n",
    "print(merged)\n"
   ]
  },
  {
   "cell_type": "code",
   "execution_count": null,
   "metadata": {},
   "outputs": [
    {
     "name": "stdout",
     "output_type": "stream",
     "text": [
      "     event_name   p_value  significant\n",
      "0         login       NaN        False\n",
      "1  product_page  0.000018         True\n",
      "2      purchase  0.107291        False\n",
      "3  product_cart  0.183305        False\n"
     ]
    },
    {
     "name": "stderr",
     "output_type": "stream",
     "text": [
      "C:\\Users\\janto\\AppData\\Local\\Temp\\ipykernel_7276\\3532621280.py:20: RuntimeWarning:\n",
      "\n",
      "invalid value encountered in scalar divide\n",
      "\n"
     ]
    }
   ],
   "source": [
    "# Prueba de hipotesis \n",
    "\n",
    "\n",
    "def prueba(n1, exitos1, n2, exitos2):\n",
    "    alpha = 0.05\n",
    "    exitos = np.array([exitos1, exitos2])\n",
    "    poblacion = np.array([n1, n2])\n",
    "    \n",
    "    # Proporciones\n",
    "    p1 = exitos[0] / poblacion[0]\n",
    "    p2 = exitos[1] / poblacion[1]\n",
    "    \n",
    "    # Proporción combinada\n",
    "    p_combined = (exitos[0] + exitos[1]) / (poblacion[0] + poblacion[1])\n",
    "    \n",
    "    # Diferencia de proporciones\n",
    "    difference = p1 - p2\n",
    "    \n",
    "    # Cálculo del valor z\n",
    "    z_value = difference / mth.sqrt(p_combined * (1 - p_combined) * (1/poblacion[0] + 1/poblacion[1]))\n",
    "    \n",
    "    # Distribución normal estándar\n",
    "    distr = st.norm(0, 1)\n",
    "    \n",
    "    # Cálculo del valor p\n",
    "    p_value = (1 - distr.cdf(abs(z_value))) * 2\n",
    "    \n",
    "    return p_value\n",
    "\n",
    "\n",
    "results = []\n",
    "for index, row in merged.iterrows():\n",
    "    p_value = prueba(total_users_a1, row['cantidad_a1'], total_users_b, row['cantidad_b'])\n",
    "    if p_value is not None:\n",
    "        results.append({\n",
    "            'event_name': row['event_name'],\n",
    "            'p_value': p_value,\n",
    "            'significant': p_value < 0.05\n",
    "        })\n",
    "    else:\n",
    "        results.append({\n",
    "            'event_name': row['event_name'],\n",
    "            'p_value': 'Error',\n",
    "            'significant': 'N/A'\n",
    "        })\n",
    "\n",
    "results_df = pd.DataFrame(results)\n",
    "print(results_df)"
   ]
  },
  {
   "cell_type": "markdown",
   "metadata": {},
   "source": [
    "Se tiene un pvalue menor a .05 en product page por lo que rechazamos la H0, es asi que se puede decir que hay una diferencia significativa entre los grupos en este evento\n",
    "\n",
    "\n",
    "Mientras que en los demas eventos se obtiene un pvalue mayor a alfa de .05 por lo que se acepta H0 siendo esto que no hay diferencia significativa entre los grupos"
   ]
  },
  {
   "cell_type": "markdown",
   "metadata": {},
   "source": [
    "# Conclusiones"
   ]
  },
  {
   "cell_type": "markdown",
   "metadata": {},
   "source": [
    "Podemos decir mediante el analisis de nuestra prueba de hipotesis entre los grupos que no hay diferencia significativa en la conversion de los eventos a excepcion del evento product page pues este  tuvo un resultado diferente pero no el esperado, si no todo lo contrario pues la proprocion redujo en este grupo un 10%. Es asi que podemos concluir que\n",
    "\n",
    "-Se mostro una conversion diferente pero no mejor en el evento Product page\n",
    "-No hubo un amuento de conversion del 10% en los demas eventos\n",
    "\n",
    "Por lo que el plan seria seguir con con el mismo sistema de pago que tenemos o bien intentar probar con otro"
   ]
  }
 ],
 "metadata": {
  "ExecuteTimeLog": [
   {
    "duration": 4840,
    "start_time": "2024-08-06T02:23:04.619Z"
   },
   {
    "duration": 14,
    "start_time": "2024-08-06T02:25:01.382Z"
   },
   {
    "duration": 14,
    "start_time": "2024-08-06T02:25:10.084Z"
   },
   {
    "duration": 1264,
    "start_time": "2024-08-06T02:32:46.524Z"
   },
   {
    "duration": 719,
    "start_time": "2024-08-06T02:32:47.793Z"
   },
   {
    "duration": 468,
    "start_time": "2024-08-06T02:32:48.515Z"
   },
   {
    "duration": 98,
    "start_time": "2024-08-06T02:33:34.431Z"
   },
   {
    "duration": 99,
    "start_time": "2024-08-06T02:33:48.866Z"
   },
   {
    "duration": 16,
    "start_time": "2024-08-06T02:41:53.684Z"
   },
   {
    "duration": 17,
    "start_time": "2024-08-06T02:42:39.902Z"
   },
   {
    "duration": 9,
    "start_time": "2024-08-06T02:43:12.202Z"
   },
   {
    "duration": 6,
    "start_time": "2024-08-06T02:43:17.842Z"
   },
   {
    "duration": 13,
    "start_time": "2024-08-06T02:43:22.181Z"
   },
   {
    "duration": 13,
    "start_time": "2024-08-06T02:44:13.757Z"
   },
   {
    "duration": 15,
    "start_time": "2024-08-06T02:44:14.498Z"
   },
   {
    "duration": 12,
    "start_time": "2024-08-06T02:44:15.094Z"
   },
   {
    "duration": 11,
    "start_time": "2024-08-06T02:44:15.928Z"
   },
   {
    "duration": 326,
    "start_time": "2024-08-07T01:07:55.267Z"
   },
   {
    "duration": 6158,
    "start_time": "2024-08-07T01:08:10.142Z"
   },
   {
    "duration": 800,
    "start_time": "2024-08-07T01:08:16.304Z"
   },
   {
    "duration": 154,
    "start_time": "2024-08-07T01:08:17.107Z"
   },
   {
    "duration": 193,
    "start_time": "2024-08-07T01:08:17.266Z"
   },
   {
    "duration": 23,
    "start_time": "2024-08-07T01:08:17.463Z"
   },
   {
    "duration": 21,
    "start_time": "2024-08-07T01:08:17.497Z"
   },
   {
    "duration": 19,
    "start_time": "2024-08-07T01:08:17.526Z"
   },
   {
    "duration": 32,
    "start_time": "2024-08-07T01:08:17.550Z"
   },
   {
    "duration": 93,
    "start_time": "2024-08-07T01:08:51.839Z"
   },
   {
    "duration": 69,
    "start_time": "2024-08-07T01:10:46.088Z"
   },
   {
    "duration": 61,
    "start_time": "2024-08-07T01:12:05.130Z"
   },
   {
    "duration": 6,
    "start_time": "2024-08-07T01:17:06.432Z"
   },
   {
    "duration": 6,
    "start_time": "2024-08-07T01:17:19.149Z"
   },
   {
    "duration": 1277,
    "start_time": "2024-08-07T01:17:25.294Z"
   },
   {
    "duration": 8,
    "start_time": "2024-08-07T01:17:39.296Z"
   },
   {
    "duration": 45,
    "start_time": "2024-08-07T01:18:13.876Z"
   },
   {
    "duration": 235,
    "start_time": "2024-08-07T01:19:30.513Z"
   },
   {
    "duration": 254,
    "start_time": "2024-08-07T01:37:46.987Z"
   },
   {
    "duration": 275,
    "start_time": "2024-08-07T01:38:03.981Z"
   },
   {
    "duration": 256,
    "start_time": "2024-08-07T01:38:21.467Z"
   },
   {
    "duration": 259,
    "start_time": "2024-08-07T01:38:39.779Z"
   },
   {
    "duration": 294,
    "start_time": "2024-08-07T01:38:48.909Z"
   },
   {
    "duration": 265,
    "start_time": "2024-08-07T01:39:43.009Z"
   },
   {
    "duration": 383,
    "start_time": "2024-08-07T01:41:28.577Z"
   },
   {
    "duration": 44,
    "start_time": "2024-08-07T02:08:01.402Z"
   },
   {
    "duration": 42,
    "start_time": "2024-08-07T02:11:15.668Z"
   },
   {
    "duration": 159,
    "start_time": "2024-08-07T02:17:42.274Z"
   },
   {
    "duration": 30,
    "start_time": "2024-08-07T02:22:04.321Z"
   },
   {
    "duration": 249,
    "start_time": "2024-08-07T02:22:17.992Z"
   },
   {
    "duration": 26,
    "start_time": "2024-08-07T02:22:33.539Z"
   },
   {
    "duration": 157,
    "start_time": "2024-08-07T02:22:46.829Z"
   },
   {
    "duration": 357,
    "start_time": "2024-08-07T02:24:56.477Z"
   },
   {
    "duration": 115,
    "start_time": "2024-08-07T02:25:08.073Z"
   },
   {
    "duration": 69,
    "start_time": "2024-08-07T02:29:20.627Z"
   },
   {
    "duration": 67,
    "start_time": "2024-08-07T02:32:33.530Z"
   },
   {
    "duration": 77,
    "start_time": "2024-08-07T02:32:49.492Z"
   },
   {
    "duration": 79,
    "start_time": "2024-08-07T02:33:13.176Z"
   },
   {
    "duration": 37,
    "start_time": "2024-08-07T02:42:28.207Z"
   },
   {
    "duration": 5124,
    "start_time": "2024-08-08T02:10:02.310Z"
   },
   {
    "duration": 776,
    "start_time": "2024-08-08T02:10:07.438Z"
   },
   {
    "duration": 122,
    "start_time": "2024-08-08T02:10:08.217Z"
   },
   {
    "duration": 158,
    "start_time": "2024-08-08T02:10:08.342Z"
   },
   {
    "duration": 99,
    "start_time": "2024-08-08T02:10:08.505Z"
   },
   {
    "duration": 32,
    "start_time": "2024-08-08T02:10:08.607Z"
   },
   {
    "duration": 16,
    "start_time": "2024-08-08T02:10:08.642Z"
   },
   {
    "duration": 13,
    "start_time": "2024-08-08T02:10:08.662Z"
   },
   {
    "duration": 46,
    "start_time": "2024-08-08T02:10:08.679Z"
   },
   {
    "duration": 64,
    "start_time": "2024-08-08T02:10:08.729Z"
   },
   {
    "duration": 68,
    "start_time": "2024-08-08T02:10:08.796Z"
   },
   {
    "duration": 278,
    "start_time": "2024-08-08T02:10:08.868Z"
   },
   {
    "duration": 56,
    "start_time": "2024-08-08T02:10:09.150Z"
   },
   {
    "duration": 423,
    "start_time": "2024-08-08T02:10:09.211Z"
   },
   {
    "duration": 36,
    "start_time": "2024-08-08T02:10:09.638Z"
   },
   {
    "duration": 149,
    "start_time": "2024-08-08T02:10:09.678Z"
   },
   {
    "duration": 111,
    "start_time": "2024-08-08T02:10:09.831Z"
   },
   {
    "duration": 50,
    "start_time": "2024-08-08T02:10:09.946Z"
   },
   {
    "duration": 431,
    "start_time": "2024-08-08T02:10:09.999Z"
   },
   {
    "duration": 22,
    "start_time": "2024-08-08T02:10:18.569Z"
   },
   {
    "duration": 34,
    "start_time": "2024-08-08T02:13:55.590Z"
   },
   {
    "duration": 29,
    "start_time": "2024-08-08T02:14:04.215Z"
   },
   {
    "duration": 30,
    "start_time": "2024-08-08T02:18:33.822Z"
   },
   {
    "duration": 19,
    "start_time": "2024-08-08T02:18:59.621Z"
   },
   {
    "duration": 1274,
    "start_time": "2024-08-08T02:23:00.037Z"
   },
   {
    "duration": 646,
    "start_time": "2024-08-08T02:23:01.315Z"
   },
   {
    "duration": 139,
    "start_time": "2024-08-08T02:23:01.964Z"
   },
   {
    "duration": 996,
    "start_time": "2024-08-08T02:23:02.109Z"
   },
   {
    "duration": 0,
    "start_time": "2024-08-08T02:23:03.109Z"
   },
   {
    "duration": 0,
    "start_time": "2024-08-08T02:23:03.111Z"
   },
   {
    "duration": 0,
    "start_time": "2024-08-08T02:23:03.114Z"
   },
   {
    "duration": 0,
    "start_time": "2024-08-08T02:23:03.115Z"
   },
   {
    "duration": 0,
    "start_time": "2024-08-08T02:23:03.126Z"
   },
   {
    "duration": 0,
    "start_time": "2024-08-08T02:23:03.128Z"
   },
   {
    "duration": 0,
    "start_time": "2024-08-08T02:23:03.131Z"
   },
   {
    "duration": 0,
    "start_time": "2024-08-08T02:23:03.133Z"
   },
   {
    "duration": 0,
    "start_time": "2024-08-08T02:23:03.135Z"
   },
   {
    "duration": 0,
    "start_time": "2024-08-08T02:23:03.137Z"
   },
   {
    "duration": 0,
    "start_time": "2024-08-08T02:23:03.140Z"
   },
   {
    "duration": 0,
    "start_time": "2024-08-08T02:23:03.142Z"
   },
   {
    "duration": 0,
    "start_time": "2024-08-08T02:23:03.144Z"
   },
   {
    "duration": 0,
    "start_time": "2024-08-08T02:23:03.146Z"
   },
   {
    "duration": 0,
    "start_time": "2024-08-08T02:23:03.148Z"
   },
   {
    "duration": 0,
    "start_time": "2024-08-08T02:23:03.150Z"
   },
   {
    "duration": 0,
    "start_time": "2024-08-08T02:23:03.152Z"
   },
   {
    "duration": 1261,
    "start_time": "2024-08-08T02:23:52.948Z"
   },
   {
    "duration": 606,
    "start_time": "2024-08-08T02:23:54.212Z"
   },
   {
    "duration": 110,
    "start_time": "2024-08-08T02:23:54.821Z"
   },
   {
    "duration": 372,
    "start_time": "2024-08-08T02:23:54.934Z"
   },
   {
    "duration": 90,
    "start_time": "2024-08-08T02:23:55.310Z"
   },
   {
    "duration": 29,
    "start_time": "2024-08-08T02:23:55.403Z"
   },
   {
    "duration": 12,
    "start_time": "2024-08-08T02:23:55.436Z"
   },
   {
    "duration": 14,
    "start_time": "2024-08-08T02:23:55.451Z"
   },
   {
    "duration": 11,
    "start_time": "2024-08-08T02:23:55.468Z"
   },
   {
    "duration": 100,
    "start_time": "2024-08-08T02:23:55.481Z"
   },
   {
    "duration": 70,
    "start_time": "2024-08-08T02:23:55.585Z"
   },
   {
    "duration": 224,
    "start_time": "2024-08-08T02:23:55.658Z"
   },
   {
    "duration": 52,
    "start_time": "2024-08-08T02:23:55.885Z"
   },
   {
    "duration": 384,
    "start_time": "2024-08-08T02:23:55.942Z"
   },
   {
    "duration": 35,
    "start_time": "2024-08-08T02:23:56.329Z"
   },
   {
    "duration": 136,
    "start_time": "2024-08-08T02:23:56.367Z"
   },
   {
    "duration": 94,
    "start_time": "2024-08-08T02:23:56.507Z"
   },
   {
    "duration": 55,
    "start_time": "2024-08-08T02:23:56.604Z"
   },
   {
    "duration": 19,
    "start_time": "2024-08-08T02:23:56.662Z"
   },
   {
    "duration": 48,
    "start_time": "2024-08-08T02:23:56.684Z"
   },
   {
    "duration": 19,
    "start_time": "2024-08-08T02:23:56.735Z"
   },
   {
    "duration": 1104,
    "start_time": "2024-08-08T02:32:13.001Z"
   },
   {
    "duration": 91,
    "start_time": "2024-08-08T02:32:30.338Z"
   },
   {
    "duration": 95,
    "start_time": "2024-08-08T02:34:08.635Z"
   },
   {
    "duration": 166,
    "start_time": "2024-08-08T02:37:03.150Z"
   },
   {
    "duration": 1295,
    "start_time": "2024-08-08T02:42:37.704Z"
   },
   {
    "duration": 639,
    "start_time": "2024-08-08T02:42:39.002Z"
   },
   {
    "duration": 103,
    "start_time": "2024-08-08T02:42:39.644Z"
   },
   {
    "duration": 376,
    "start_time": "2024-08-08T02:42:39.750Z"
   },
   {
    "duration": 81,
    "start_time": "2024-08-08T02:42:40.130Z"
   },
   {
    "duration": 16,
    "start_time": "2024-08-08T02:42:40.227Z"
   },
   {
    "duration": 12,
    "start_time": "2024-08-08T02:42:40.246Z"
   },
   {
    "duration": 13,
    "start_time": "2024-08-08T02:42:40.261Z"
   },
   {
    "duration": 53,
    "start_time": "2024-08-08T02:42:40.277Z"
   },
   {
    "duration": 60,
    "start_time": "2024-08-08T02:42:40.333Z"
   },
   {
    "duration": 73,
    "start_time": "2024-08-08T02:42:40.396Z"
   },
   {
    "duration": 250,
    "start_time": "2024-08-08T02:42:40.472Z"
   },
   {
    "duration": 44,
    "start_time": "2024-08-08T02:42:40.725Z"
   },
   {
    "duration": 415,
    "start_time": "2024-08-08T02:42:40.774Z"
   },
   {
    "duration": 50,
    "start_time": "2024-08-08T02:42:41.192Z"
   },
   {
    "duration": 144,
    "start_time": "2024-08-08T02:42:41.245Z"
   },
   {
    "duration": 101,
    "start_time": "2024-08-08T02:42:41.392Z"
   },
   {
    "duration": 57,
    "start_time": "2024-08-08T02:42:41.495Z"
   },
   {
    "duration": 23,
    "start_time": "2024-08-08T02:42:41.556Z"
   },
   {
    "duration": 49,
    "start_time": "2024-08-08T02:42:41.582Z"
   },
   {
    "duration": 12,
    "start_time": "2024-08-08T02:42:41.634Z"
   },
   {
    "duration": 11,
    "start_time": "2024-08-08T02:43:04.315Z"
   },
   {
    "duration": 16,
    "start_time": "2024-08-08T02:43:14.618Z"
   },
   {
    "duration": 480,
    "start_time": "2024-08-08T02:44:01.401Z"
   },
   {
    "duration": 1277,
    "start_time": "2024-08-08T02:44:51.044Z"
   },
   {
    "duration": 615,
    "start_time": "2024-08-08T02:44:52.325Z"
   },
   {
    "duration": 111,
    "start_time": "2024-08-08T02:44:52.944Z"
   },
   {
    "duration": 375,
    "start_time": "2024-08-08T02:44:53.059Z"
   },
   {
    "duration": 94,
    "start_time": "2024-08-08T02:44:53.436Z"
   },
   {
    "duration": 15,
    "start_time": "2024-08-08T02:44:53.534Z"
   },
   {
    "duration": 12,
    "start_time": "2024-08-08T02:44:53.552Z"
   },
   {
    "duration": 13,
    "start_time": "2024-08-08T02:44:53.568Z"
   },
   {
    "duration": 10,
    "start_time": "2024-08-08T02:44:53.626Z"
   },
   {
    "duration": 57,
    "start_time": "2024-08-08T02:44:53.641Z"
   },
   {
    "duration": 46,
    "start_time": "2024-08-08T02:44:53.725Z"
   },
   {
    "duration": 236,
    "start_time": "2024-08-08T02:44:53.774Z"
   },
   {
    "duration": 54,
    "start_time": "2024-08-08T02:44:54.012Z"
   },
   {
    "duration": 401,
    "start_time": "2024-08-08T02:44:54.069Z"
   },
   {
    "duration": 35,
    "start_time": "2024-08-08T02:44:54.473Z"
   },
   {
    "duration": 119,
    "start_time": "2024-08-08T02:44:54.526Z"
   },
   {
    "duration": 110,
    "start_time": "2024-08-08T02:44:54.648Z"
   },
   {
    "duration": 37,
    "start_time": "2024-08-08T02:44:54.761Z"
   },
   {
    "duration": 36,
    "start_time": "2024-08-08T02:44:54.801Z"
   },
   {
    "duration": 22,
    "start_time": "2024-08-08T02:44:54.840Z"
   },
   {
    "duration": 19,
    "start_time": "2024-08-08T02:44:54.865Z"
   },
   {
    "duration": 343,
    "start_time": "2024-08-08T02:44:54.887Z"
   },
   {
    "duration": 1218,
    "start_time": "2024-08-08T02:49:25.381Z"
   },
   {
    "duration": 606,
    "start_time": "2024-08-08T02:49:26.604Z"
   },
   {
    "duration": 104,
    "start_time": "2024-08-08T02:49:27.212Z"
   },
   {
    "duration": 384,
    "start_time": "2024-08-08T02:49:27.327Z"
   },
   {
    "duration": 93,
    "start_time": "2024-08-08T02:49:27.715Z"
   },
   {
    "duration": 27,
    "start_time": "2024-08-08T02:49:27.811Z"
   },
   {
    "duration": 12,
    "start_time": "2024-08-08T02:49:27.842Z"
   },
   {
    "duration": 12,
    "start_time": "2024-08-08T02:49:27.857Z"
   },
   {
    "duration": 54,
    "start_time": "2024-08-08T02:49:27.872Z"
   },
   {
    "duration": 61,
    "start_time": "2024-08-08T02:49:27.930Z"
   },
   {
    "duration": 70,
    "start_time": "2024-08-08T02:49:27.994Z"
   },
   {
    "duration": 233,
    "start_time": "2024-08-08T02:49:28.066Z"
   },
   {
    "duration": 55,
    "start_time": "2024-08-08T02:49:28.303Z"
   },
   {
    "duration": 398,
    "start_time": "2024-08-08T02:49:28.365Z"
   },
   {
    "duration": 35,
    "start_time": "2024-08-08T02:49:28.765Z"
   },
   {
    "duration": 133,
    "start_time": "2024-08-08T02:49:28.803Z"
   },
   {
    "duration": 110,
    "start_time": "2024-08-08T02:49:28.939Z"
   },
   {
    "duration": 40,
    "start_time": "2024-08-08T02:49:29.052Z"
   },
   {
    "duration": 39,
    "start_time": "2024-08-08T02:49:29.095Z"
   },
   {
    "duration": 24,
    "start_time": "2024-08-08T02:49:29.137Z"
   },
   {
    "duration": 18,
    "start_time": "2024-08-08T02:49:29.164Z"
   },
   {
    "duration": 332,
    "start_time": "2024-08-08T02:49:29.185Z"
   },
   {
    "duration": 18,
    "start_time": "2024-08-08T02:49:29.520Z"
   },
   {
    "duration": 12,
    "start_time": "2024-08-08T02:49:29.540Z"
   },
   {
    "duration": 4923,
    "start_time": "2024-08-09T01:00:43.221Z"
   },
   {
    "duration": 1126,
    "start_time": "2024-08-09T01:00:48.148Z"
   },
   {
    "duration": 0,
    "start_time": "2024-08-09T01:00:49.278Z"
   },
   {
    "duration": 0,
    "start_time": "2024-08-09T01:00:49.280Z"
   },
   {
    "duration": 0,
    "start_time": "2024-08-09T01:00:49.282Z"
   },
   {
    "duration": 0,
    "start_time": "2024-08-09T01:00:49.284Z"
   },
   {
    "duration": 0,
    "start_time": "2024-08-09T01:00:49.286Z"
   },
   {
    "duration": 0,
    "start_time": "2024-08-09T01:00:49.288Z"
   },
   {
    "duration": 0,
    "start_time": "2024-08-09T01:00:49.290Z"
   },
   {
    "duration": 0,
    "start_time": "2024-08-09T01:00:49.292Z"
   },
   {
    "duration": 0,
    "start_time": "2024-08-09T01:00:49.294Z"
   },
   {
    "duration": 0,
    "start_time": "2024-08-09T01:00:49.295Z"
   },
   {
    "duration": 0,
    "start_time": "2024-08-09T01:00:49.296Z"
   },
   {
    "duration": 0,
    "start_time": "2024-08-09T01:00:49.297Z"
   },
   {
    "duration": 0,
    "start_time": "2024-08-09T01:00:49.324Z"
   },
   {
    "duration": 0,
    "start_time": "2024-08-09T01:00:49.326Z"
   },
   {
    "duration": 0,
    "start_time": "2024-08-09T01:00:49.328Z"
   },
   {
    "duration": 0,
    "start_time": "2024-08-09T01:00:49.330Z"
   },
   {
    "duration": 1,
    "start_time": "2024-08-09T01:00:49.332Z"
   },
   {
    "duration": 0,
    "start_time": "2024-08-09T01:00:49.335Z"
   },
   {
    "duration": 0,
    "start_time": "2024-08-09T01:00:49.337Z"
   },
   {
    "duration": 0,
    "start_time": "2024-08-09T01:00:49.339Z"
   },
   {
    "duration": 0,
    "start_time": "2024-08-09T01:00:49.342Z"
   },
   {
    "duration": 0,
    "start_time": "2024-08-09T01:00:49.344Z"
   },
   {
    "duration": 126,
    "start_time": "2024-08-09T01:02:08.161Z"
   },
   {
    "duration": 5,
    "start_time": "2024-08-09T01:02:23.125Z"
   },
   {
    "duration": 137,
    "start_time": "2024-08-09T01:02:23.971Z"
   },
   {
    "duration": 1278,
    "start_time": "2024-08-09T01:02:30.332Z"
   },
   {
    "duration": 1127,
    "start_time": "2024-08-09T01:02:31.622Z"
   },
   {
    "duration": 0,
    "start_time": "2024-08-09T01:02:32.753Z"
   },
   {
    "duration": 0,
    "start_time": "2024-08-09T01:02:32.755Z"
   },
   {
    "duration": 0,
    "start_time": "2024-08-09T01:02:32.757Z"
   },
   {
    "duration": 0,
    "start_time": "2024-08-09T01:02:32.761Z"
   },
   {
    "duration": 0,
    "start_time": "2024-08-09T01:02:32.762Z"
   },
   {
    "duration": 0,
    "start_time": "2024-08-09T01:02:32.764Z"
   },
   {
    "duration": 0,
    "start_time": "2024-08-09T01:02:32.766Z"
   },
   {
    "duration": 0,
    "start_time": "2024-08-09T01:02:32.768Z"
   },
   {
    "duration": 0,
    "start_time": "2024-08-09T01:02:32.770Z"
   },
   {
    "duration": 0,
    "start_time": "2024-08-09T01:02:32.772Z"
   },
   {
    "duration": 0,
    "start_time": "2024-08-09T01:02:32.774Z"
   },
   {
    "duration": 0,
    "start_time": "2024-08-09T01:02:32.775Z"
   },
   {
    "duration": 0,
    "start_time": "2024-08-09T01:02:32.777Z"
   },
   {
    "duration": 0,
    "start_time": "2024-08-09T01:02:32.823Z"
   },
   {
    "duration": 0,
    "start_time": "2024-08-09T01:02:32.825Z"
   },
   {
    "duration": 0,
    "start_time": "2024-08-09T01:02:32.828Z"
   },
   {
    "duration": 0,
    "start_time": "2024-08-09T01:02:32.830Z"
   },
   {
    "duration": 0,
    "start_time": "2024-08-09T01:02:32.832Z"
   },
   {
    "duration": 0,
    "start_time": "2024-08-09T01:02:32.834Z"
   },
   {
    "duration": 0,
    "start_time": "2024-08-09T01:02:32.836Z"
   },
   {
    "duration": 0,
    "start_time": "2024-08-09T01:02:32.838Z"
   },
   {
    "duration": 0,
    "start_time": "2024-08-09T01:02:32.840Z"
   },
   {
    "duration": 4,
    "start_time": "2024-08-09T01:03:20.680Z"
   },
   {
    "duration": 125,
    "start_time": "2024-08-09T01:03:21.542Z"
   },
   {
    "duration": 5,
    "start_time": "2024-08-09T01:05:37.640Z"
   },
   {
    "duration": 125,
    "start_time": "2024-08-09T01:05:38.198Z"
   },
   {
    "duration": 5,
    "start_time": "2024-08-09T01:05:58.985Z"
   },
   {
    "duration": 133,
    "start_time": "2024-08-09T01:05:59.478Z"
   },
   {
    "duration": 1220,
    "start_time": "2024-08-09T01:06:16.976Z"
   },
   {
    "duration": 1125,
    "start_time": "2024-08-09T01:06:18.199Z"
   },
   {
    "duration": 0,
    "start_time": "2024-08-09T01:06:19.328Z"
   },
   {
    "duration": 0,
    "start_time": "2024-08-09T01:06:19.330Z"
   },
   {
    "duration": 0,
    "start_time": "2024-08-09T01:06:19.331Z"
   },
   {
    "duration": 0,
    "start_time": "2024-08-09T01:06:19.333Z"
   },
   {
    "duration": 0,
    "start_time": "2024-08-09T01:06:19.336Z"
   },
   {
    "duration": 0,
    "start_time": "2024-08-09T01:06:19.338Z"
   },
   {
    "duration": 0,
    "start_time": "2024-08-09T01:06:19.340Z"
   },
   {
    "duration": 0,
    "start_time": "2024-08-09T01:06:19.342Z"
   },
   {
    "duration": 0,
    "start_time": "2024-08-09T01:06:19.344Z"
   },
   {
    "duration": 0,
    "start_time": "2024-08-09T01:06:19.346Z"
   },
   {
    "duration": 0,
    "start_time": "2024-08-09T01:06:19.349Z"
   },
   {
    "duration": 0,
    "start_time": "2024-08-09T01:06:19.354Z"
   },
   {
    "duration": 0,
    "start_time": "2024-08-09T01:06:19.357Z"
   },
   {
    "duration": 0,
    "start_time": "2024-08-09T01:06:19.360Z"
   },
   {
    "duration": 0,
    "start_time": "2024-08-09T01:06:19.362Z"
   },
   {
    "duration": 0,
    "start_time": "2024-08-09T01:06:19.365Z"
   },
   {
    "duration": 0,
    "start_time": "2024-08-09T01:06:19.423Z"
   },
   {
    "duration": 0,
    "start_time": "2024-08-09T01:06:19.426Z"
   },
   {
    "duration": 0,
    "start_time": "2024-08-09T01:06:19.427Z"
   },
   {
    "duration": 0,
    "start_time": "2024-08-09T01:06:19.429Z"
   },
   {
    "duration": 0,
    "start_time": "2024-08-09T01:06:19.431Z"
   },
   {
    "duration": 0,
    "start_time": "2024-08-09T01:06:19.433Z"
   },
   {
    "duration": 122,
    "start_time": "2024-08-09T01:08:48.581Z"
   },
   {
    "duration": 124,
    "start_time": "2024-08-09T01:09:14.955Z"
   },
   {
    "duration": 374,
    "start_time": "2024-08-09T01:10:20.003Z"
   },
   {
    "duration": 4,
    "start_time": "2024-08-09T01:11:09.712Z"
   },
   {
    "duration": 4252,
    "start_time": "2024-08-09T01:11:10.664Z"
   },
   {
    "duration": 99,
    "start_time": "2024-08-09T01:11:18.381Z"
   },
   {
    "duration": 1476,
    "start_time": "2024-08-09T01:11:25.495Z"
   },
   {
    "duration": 3596,
    "start_time": "2024-08-09T01:11:26.975Z"
   },
   {
    "duration": 108,
    "start_time": "2024-08-09T01:11:30.574Z"
   },
   {
    "duration": 371,
    "start_time": "2024-08-09T01:11:30.687Z"
   },
   {
    "duration": 102,
    "start_time": "2024-08-09T01:11:31.062Z"
   },
   {
    "duration": 15,
    "start_time": "2024-08-09T01:11:31.167Z"
   },
   {
    "duration": 11,
    "start_time": "2024-08-09T01:11:31.185Z"
   },
   {
    "duration": 12,
    "start_time": "2024-08-09T01:11:31.222Z"
   },
   {
    "duration": 12,
    "start_time": "2024-08-09T01:11:31.237Z"
   },
   {
    "duration": 91,
    "start_time": "2024-08-09T01:11:31.254Z"
   },
   {
    "duration": 73,
    "start_time": "2024-08-09T01:11:31.350Z"
   },
   {
    "duration": 232,
    "start_time": "2024-08-09T01:11:31.426Z"
   },
   {
    "duration": 68,
    "start_time": "2024-08-09T01:11:31.661Z"
   },
   {
    "duration": 410,
    "start_time": "2024-08-09T01:11:31.733Z"
   },
   {
    "duration": 38,
    "start_time": "2024-08-09T01:11:32.146Z"
   },
   {
    "duration": 136,
    "start_time": "2024-08-09T01:11:32.187Z"
   },
   {
    "duration": 96,
    "start_time": "2024-08-09T01:11:32.326Z"
   },
   {
    "duration": 43,
    "start_time": "2024-08-09T01:11:32.427Z"
   },
   {
    "duration": 66,
    "start_time": "2024-08-09T01:11:32.473Z"
   },
   {
    "duration": 25,
    "start_time": "2024-08-09T01:11:32.542Z"
   },
   {
    "duration": 54,
    "start_time": "2024-08-09T01:11:32.570Z"
   },
   {
    "duration": 386,
    "start_time": "2024-08-09T01:11:32.637Z"
   },
   {
    "duration": 18,
    "start_time": "2024-08-09T01:11:33.026Z"
   },
   {
    "duration": 11,
    "start_time": "2024-08-09T01:11:33.047Z"
   },
   {
    "duration": 416,
    "start_time": "2024-08-09T01:39:00.282Z"
   },
   {
    "duration": 17,
    "start_time": "2024-08-09T01:39:12.248Z"
   },
   {
    "duration": 25,
    "start_time": "2024-08-09T01:48:12.434Z"
   },
   {
    "duration": 27,
    "start_time": "2024-08-09T01:48:24.198Z"
   },
   {
    "duration": 25,
    "start_time": "2024-08-09T02:03:15.668Z"
   },
   {
    "duration": 25,
    "start_time": "2024-08-09T02:03:31.228Z"
   },
   {
    "duration": 17,
    "start_time": "2024-08-09T02:33:49.618Z"
   },
   {
    "duration": 17,
    "start_time": "2024-08-09T02:48:59.023Z"
   },
   {
    "duration": 1294,
    "start_time": "2024-08-09T02:49:18.101Z"
   },
   {
    "duration": 3741,
    "start_time": "2024-08-09T02:49:19.399Z"
   },
   {
    "duration": 107,
    "start_time": "2024-08-09T02:49:23.142Z"
   },
   {
    "duration": 365,
    "start_time": "2024-08-09T02:49:23.252Z"
   },
   {
    "duration": 82,
    "start_time": "2024-08-09T02:49:23.625Z"
   },
   {
    "duration": 29,
    "start_time": "2024-08-09T02:49:23.709Z"
   },
   {
    "duration": 12,
    "start_time": "2024-08-09T02:49:23.741Z"
   },
   {
    "duration": 12,
    "start_time": "2024-08-09T02:49:23.757Z"
   },
   {
    "duration": 54,
    "start_time": "2024-08-09T02:49:23.772Z"
   },
   {
    "duration": 58,
    "start_time": "2024-08-09T02:49:23.828Z"
   },
   {
    "duration": 74,
    "start_time": "2024-08-09T02:49:23.889Z"
   },
   {
    "duration": 225,
    "start_time": "2024-08-09T02:49:23.965Z"
   },
   {
    "duration": 54,
    "start_time": "2024-08-09T02:49:24.193Z"
   },
   {
    "duration": 369,
    "start_time": "2024-08-09T02:49:24.253Z"
   },
   {
    "duration": 36,
    "start_time": "2024-08-09T02:49:24.626Z"
   },
   {
    "duration": 121,
    "start_time": "2024-08-09T02:49:24.666Z"
   },
   {
    "duration": 91,
    "start_time": "2024-08-09T02:49:24.790Z"
   },
   {
    "duration": 56,
    "start_time": "2024-08-09T02:49:24.884Z"
   },
   {
    "duration": 20,
    "start_time": "2024-08-09T02:49:24.943Z"
   },
   {
    "duration": 24,
    "start_time": "2024-08-09T02:49:24.966Z"
   },
   {
    "duration": 16,
    "start_time": "2024-08-09T02:49:25.022Z"
   },
   {
    "duration": 318,
    "start_time": "2024-08-09T02:49:25.041Z"
   },
   {
    "duration": 19,
    "start_time": "2024-08-09T02:49:25.362Z"
   },
   {
    "duration": 39,
    "start_time": "2024-08-09T02:49:25.383Z"
   },
   {
    "duration": 18,
    "start_time": "2024-08-09T02:49:25.425Z"
   },
   {
    "duration": 81,
    "start_time": "2024-08-09T02:49:25.446Z"
   },
   {
    "duration": 17,
    "start_time": "2024-08-09T02:49:25.530Z"
   },
   {
    "duration": 25,
    "start_time": "2024-08-09T02:49:25.550Z"
   },
   {
    "duration": 6,
    "start_time": "2024-08-09T02:49:25.578Z"
   },
   {
    "duration": 1353,
    "start_time": "2024-08-09T02:51:49.998Z"
   },
   {
    "duration": 3358,
    "start_time": "2024-08-09T02:51:51.355Z"
   },
   {
    "duration": 103,
    "start_time": "2024-08-09T02:51:54.715Z"
   },
   {
    "duration": 369,
    "start_time": "2024-08-09T02:51:54.825Z"
   },
   {
    "duration": 100,
    "start_time": "2024-08-09T02:51:55.198Z"
   },
   {
    "duration": 28,
    "start_time": "2024-08-09T02:51:55.301Z"
   },
   {
    "duration": 11,
    "start_time": "2024-08-09T02:51:55.332Z"
   },
   {
    "duration": 15,
    "start_time": "2024-08-09T02:51:55.346Z"
   },
   {
    "duration": 10,
    "start_time": "2024-08-09T02:51:55.364Z"
   },
   {
    "duration": 94,
    "start_time": "2024-08-09T02:51:55.377Z"
   },
   {
    "duration": 71,
    "start_time": "2024-08-09T02:51:55.474Z"
   },
   {
    "duration": 262,
    "start_time": "2024-08-09T02:51:55.548Z"
   },
   {
    "duration": 54,
    "start_time": "2024-08-09T02:51:55.813Z"
   },
   {
    "duration": 402,
    "start_time": "2024-08-09T02:51:55.873Z"
   },
   {
    "duration": 49,
    "start_time": "2024-08-09T02:51:56.278Z"
   },
   {
    "duration": 118,
    "start_time": "2024-08-09T02:51:56.331Z"
   },
   {
    "duration": 94,
    "start_time": "2024-08-09T02:51:56.453Z"
   },
   {
    "duration": 47,
    "start_time": "2024-08-09T02:51:56.550Z"
   },
   {
    "duration": 20,
    "start_time": "2024-08-09T02:51:56.622Z"
   },
   {
    "duration": 25,
    "start_time": "2024-08-09T02:51:56.646Z"
   },
   {
    "duration": 56,
    "start_time": "2024-08-09T02:51:56.675Z"
   },
   {
    "duration": 317,
    "start_time": "2024-08-09T02:51:56.734Z"
   },
   {
    "duration": 24,
    "start_time": "2024-08-09T02:51:57.053Z"
   },
   {
    "duration": 46,
    "start_time": "2024-08-09T02:51:57.080Z"
   },
   {
    "duration": 21,
    "start_time": "2024-08-09T02:51:57.130Z"
   },
   {
    "duration": 73,
    "start_time": "2024-08-09T02:51:57.155Z"
   },
   {
    "duration": 19,
    "start_time": "2024-08-09T02:51:57.232Z"
   },
   {
    "duration": 28,
    "start_time": "2024-08-09T02:51:57.255Z"
   },
   {
    "duration": 1368,
    "start_time": "2024-08-09T03:00:33.481Z"
   },
   {
    "duration": 7381,
    "start_time": "2024-08-09T03:00:34.853Z"
   },
   {
    "duration": 125,
    "start_time": "2024-08-09T03:00:42.238Z"
   },
   {
    "duration": 400,
    "start_time": "2024-08-09T03:00:42.366Z"
   },
   {
    "duration": 95,
    "start_time": "2024-08-09T03:00:42.770Z"
   },
   {
    "duration": 16,
    "start_time": "2024-08-09T03:00:42.870Z"
   },
   {
    "duration": 34,
    "start_time": "2024-08-09T03:00:42.889Z"
   },
   {
    "duration": 14,
    "start_time": "2024-08-09T03:00:42.926Z"
   },
   {
    "duration": 13,
    "start_time": "2024-08-09T03:00:42.943Z"
   },
   {
    "duration": 106,
    "start_time": "2024-08-09T03:00:42.959Z"
   },
   {
    "duration": 65,
    "start_time": "2024-08-09T03:00:43.068Z"
   },
   {
    "duration": 259,
    "start_time": "2024-08-09T03:00:43.135Z"
   },
   {
    "duration": 50,
    "start_time": "2024-08-09T03:00:43.397Z"
   },
   {
    "duration": 385,
    "start_time": "2024-08-09T03:00:43.454Z"
   },
   {
    "duration": 46,
    "start_time": "2024-08-09T03:00:43.842Z"
   },
   {
    "duration": 134,
    "start_time": "2024-08-09T03:00:43.891Z"
   },
   {
    "duration": 97,
    "start_time": "2024-08-09T03:00:44.028Z"
   },
   {
    "duration": 59,
    "start_time": "2024-08-09T03:00:44.128Z"
   },
   {
    "duration": 40,
    "start_time": "2024-08-09T03:00:44.190Z"
   },
   {
    "duration": 24,
    "start_time": "2024-08-09T03:00:44.234Z"
   },
   {
    "duration": 19,
    "start_time": "2024-08-09T03:00:44.262Z"
   },
   {
    "duration": 360,
    "start_time": "2024-08-09T03:00:44.285Z"
   },
   {
    "duration": 22,
    "start_time": "2024-08-09T03:00:44.647Z"
   },
   {
    "duration": 10,
    "start_time": "2024-08-09T03:00:44.671Z"
   },
   {
    "duration": 53,
    "start_time": "2024-08-09T03:00:44.684Z"
   },
   {
    "duration": 33,
    "start_time": "2024-08-09T03:00:44.740Z"
   },
   {
    "duration": 64,
    "start_time": "2024-08-09T03:00:44.775Z"
   },
   {
    "duration": 1368,
    "start_time": "2024-08-09T03:00:44.843Z"
   },
   {
    "duration": 0,
    "start_time": "2024-08-09T03:00:46.214Z"
   },
   {
    "duration": 1335,
    "start_time": "2024-08-09T03:01:39.014Z"
   },
   {
    "duration": 3285,
    "start_time": "2024-08-09T03:01:40.352Z"
   },
   {
    "duration": 134,
    "start_time": "2024-08-09T03:01:43.640Z"
   },
   {
    "duration": 432,
    "start_time": "2024-08-09T03:01:43.777Z"
   },
   {
    "duration": 108,
    "start_time": "2024-08-09T03:01:44.214Z"
   },
   {
    "duration": 20,
    "start_time": "2024-08-09T03:01:44.325Z"
   },
   {
    "duration": 18,
    "start_time": "2024-08-09T03:01:44.352Z"
   },
   {
    "duration": 13,
    "start_time": "2024-08-09T03:01:44.372Z"
   },
   {
    "duration": 40,
    "start_time": "2024-08-09T03:01:44.388Z"
   },
   {
    "duration": 62,
    "start_time": "2024-08-09T03:01:44.434Z"
   },
   {
    "duration": 77,
    "start_time": "2024-08-09T03:01:44.499Z"
   },
   {
    "duration": 271,
    "start_time": "2024-08-09T03:01:44.579Z"
   },
   {
    "duration": 46,
    "start_time": "2024-08-09T03:01:44.854Z"
   },
   {
    "duration": 385,
    "start_time": "2024-08-09T03:01:44.929Z"
   },
   {
    "duration": 51,
    "start_time": "2024-08-09T03:01:45.322Z"
   },
   {
    "duration": 131,
    "start_time": "2024-08-09T03:01:45.376Z"
   },
   {
    "duration": 94,
    "start_time": "2024-08-09T03:01:45.510Z"
   },
   {
    "duration": 66,
    "start_time": "2024-08-09T03:01:45.607Z"
   },
   {
    "duration": 20,
    "start_time": "2024-08-09T03:01:45.678Z"
   },
   {
    "duration": 48,
    "start_time": "2024-08-09T03:01:45.701Z"
   },
   {
    "duration": 22,
    "start_time": "2024-08-09T03:01:45.753Z"
   },
   {
    "duration": 336,
    "start_time": "2024-08-09T03:01:45.778Z"
   },
   {
    "duration": 21,
    "start_time": "2024-08-09T03:01:46.117Z"
   },
   {
    "duration": 11,
    "start_time": "2024-08-09T03:01:46.141Z"
   },
   {
    "duration": 68,
    "start_time": "2024-08-09T03:01:46.156Z"
   },
   {
    "duration": 33,
    "start_time": "2024-08-09T03:01:46.235Z"
   },
   {
    "duration": 53,
    "start_time": "2024-08-09T03:01:46.271Z"
   },
   {
    "duration": 1196,
    "start_time": "2024-08-09T03:01:46.327Z"
   },
   {
    "duration": 0,
    "start_time": "2024-08-09T03:01:47.526Z"
   },
   {
    "duration": 523,
    "start_time": "2024-08-09T03:04:10.962Z"
   },
   {
    "duration": 19,
    "start_time": "2024-08-09T03:09:14.143Z"
   },
   {
    "duration": 13,
    "start_time": "2024-08-09T03:09:14.553Z"
   },
   {
    "duration": 12,
    "start_time": "2024-08-09T03:11:23.204Z"
   },
   {
    "duration": 1250,
    "start_time": "2024-08-09T03:21:12.455Z"
   },
   {
    "duration": 3454,
    "start_time": "2024-08-09T03:21:13.710Z"
   },
   {
    "duration": 101,
    "start_time": "2024-08-09T03:21:17.167Z"
   },
   {
    "duration": 386,
    "start_time": "2024-08-09T03:21:17.272Z"
   },
   {
    "duration": 97,
    "start_time": "2024-08-09T03:21:17.665Z"
   },
   {
    "duration": 15,
    "start_time": "2024-08-09T03:21:17.765Z"
   },
   {
    "duration": 13,
    "start_time": "2024-08-09T03:21:17.783Z"
   },
   {
    "duration": 13,
    "start_time": "2024-08-09T03:21:17.824Z"
   },
   {
    "duration": 10,
    "start_time": "2024-08-09T03:21:17.840Z"
   },
   {
    "duration": 89,
    "start_time": "2024-08-09T03:21:17.853Z"
   },
   {
    "duration": 45,
    "start_time": "2024-08-09T03:21:17.945Z"
   },
   {
    "duration": 230,
    "start_time": "2024-08-09T03:21:17.993Z"
   },
   {
    "duration": 45,
    "start_time": "2024-08-09T03:21:18.226Z"
   },
   {
    "duration": 359,
    "start_time": "2024-08-09T03:21:18.277Z"
   },
   {
    "duration": 36,
    "start_time": "2024-08-09T03:21:18.639Z"
   },
   {
    "duration": 124,
    "start_time": "2024-08-09T03:21:18.677Z"
   },
   {
    "duration": 101,
    "start_time": "2024-08-09T03:21:18.804Z"
   },
   {
    "duration": 60,
    "start_time": "2024-08-09T03:21:18.907Z"
   },
   {
    "duration": 19,
    "start_time": "2024-08-09T03:21:18.970Z"
   },
   {
    "duration": 50,
    "start_time": "2024-08-09T03:21:18.992Z"
   },
   {
    "duration": 17,
    "start_time": "2024-08-09T03:21:19.048Z"
   },
   {
    "duration": 314,
    "start_time": "2024-08-09T03:21:19.069Z"
   },
   {
    "duration": 17,
    "start_time": "2024-08-09T03:21:19.386Z"
   },
   {
    "duration": 20,
    "start_time": "2024-08-09T03:21:19.406Z"
   },
   {
    "duration": 19,
    "start_time": "2024-08-09T03:21:19.429Z"
   },
   {
    "duration": 83,
    "start_time": "2024-08-09T03:21:19.450Z"
   },
   {
    "duration": 15,
    "start_time": "2024-08-09T03:21:19.538Z"
   },
   {
    "duration": 14,
    "start_time": "2024-08-09T03:21:19.557Z"
   },
   {
    "duration": 58,
    "start_time": "2024-08-09T03:21:19.574Z"
   },
   {
    "duration": 1222,
    "start_time": "2024-08-09T03:22:33.684Z"
   },
   {
    "duration": 3182,
    "start_time": "2024-08-09T03:22:34.910Z"
   },
   {
    "duration": 99,
    "start_time": "2024-08-09T03:22:38.095Z"
   },
   {
    "duration": 357,
    "start_time": "2024-08-09T03:22:38.197Z"
   },
   {
    "duration": 104,
    "start_time": "2024-08-09T03:22:38.558Z"
   },
   {
    "duration": 15,
    "start_time": "2024-08-09T03:22:38.666Z"
   },
   {
    "duration": 12,
    "start_time": "2024-08-09T03:22:38.684Z"
   },
   {
    "duration": 12,
    "start_time": "2024-08-09T03:22:38.724Z"
   },
   {
    "duration": 10,
    "start_time": "2024-08-09T03:22:38.739Z"
   },
   {
    "duration": 87,
    "start_time": "2024-08-09T03:22:38.753Z"
   },
   {
    "duration": 46,
    "start_time": "2024-08-09T03:22:38.843Z"
   },
   {
    "duration": 240,
    "start_time": "2024-08-09T03:22:38.892Z"
   },
   {
    "duration": 45,
    "start_time": "2024-08-09T03:22:39.135Z"
   },
   {
    "duration": 375,
    "start_time": "2024-08-09T03:22:39.186Z"
   },
   {
    "duration": 36,
    "start_time": "2024-08-09T03:22:39.564Z"
   },
   {
    "duration": 128,
    "start_time": "2024-08-09T03:22:39.623Z"
   },
   {
    "duration": 98,
    "start_time": "2024-08-09T03:22:39.754Z"
   },
   {
    "duration": 42,
    "start_time": "2024-08-09T03:22:39.854Z"
   },
   {
    "duration": 39,
    "start_time": "2024-08-09T03:22:39.899Z"
   },
   {
    "duration": 24,
    "start_time": "2024-08-09T03:22:39.941Z"
   },
   {
    "duration": 18,
    "start_time": "2024-08-09T03:22:39.967Z"
   },
   {
    "duration": 323,
    "start_time": "2024-08-09T03:22:39.988Z"
   },
   {
    "duration": 24,
    "start_time": "2024-08-09T03:22:40.314Z"
   },
   {
    "duration": 12,
    "start_time": "2024-08-09T03:22:40.341Z"
   },
   {
    "duration": 68,
    "start_time": "2024-08-09T03:22:40.356Z"
   },
   {
    "duration": 36,
    "start_time": "2024-08-09T03:22:40.428Z"
   },
   {
    "duration": 67,
    "start_time": "2024-08-09T03:22:40.467Z"
   },
   {
    "duration": 15,
    "start_time": "2024-08-09T03:22:40.537Z"
   },
   {
    "duration": 14,
    "start_time": "2024-08-09T03:40:41.409Z"
   },
   {
    "duration": 12,
    "start_time": "2024-08-09T03:40:43.461Z"
   },
   {
    "duration": 13,
    "start_time": "2024-08-09T03:40:44.226Z"
   },
   {
    "duration": 12,
    "start_time": "2024-08-09T03:40:48.208Z"
   },
   {
    "duration": 14,
    "start_time": "2024-08-09T03:41:21.943Z"
   },
   {
    "duration": 7,
    "start_time": "2024-08-09T03:43:04.225Z"
   },
   {
    "duration": 13,
    "start_time": "2024-08-09T03:43:11.184Z"
   },
   {
    "duration": 6,
    "start_time": "2024-08-09T03:44:00.563Z"
   },
   {
    "duration": 1340,
    "start_time": "2024-08-09T03:44:13.964Z"
   },
   {
    "duration": 468,
    "start_time": "2024-08-09T03:44:25.698Z"
   },
   {
    "duration": 6,
    "start_time": "2024-08-09T03:44:57.191Z"
   },
   {
    "duration": 14,
    "start_time": "2024-08-09T03:45:05.872Z"
   },
   {
    "duration": 88,
    "start_time": "2024-08-09T03:45:30.724Z"
   },
   {
    "duration": 7,
    "start_time": "2024-08-09T03:46:13.979Z"
   },
   {
    "duration": 88,
    "start_time": "2024-08-09T03:46:17.239Z"
   },
   {
    "duration": 83,
    "start_time": "2024-08-09T03:46:25.393Z"
   },
   {
    "duration": 13,
    "start_time": "2024-08-09T03:46:31.902Z"
   },
   {
    "duration": 22,
    "start_time": "2024-08-09T03:47:53.230Z"
   },
   {
    "duration": 28,
    "start_time": "2024-08-09T03:48:04.851Z"
   },
   {
    "duration": 6,
    "start_time": "2024-08-09T03:48:20.498Z"
   },
   {
    "duration": 10,
    "start_time": "2024-08-09T03:48:29.822Z"
   },
   {
    "duration": 6,
    "start_time": "2024-08-09T03:48:38.583Z"
   },
   {
    "duration": 6,
    "start_time": "2024-08-09T03:48:47.375Z"
   },
   {
    "duration": 13,
    "start_time": "2024-08-09T03:48:55.015Z"
   },
   {
    "duration": 6,
    "start_time": "2024-08-09T03:49:02.319Z"
   },
   {
    "duration": 5,
    "start_time": "2024-08-09T03:49:25.331Z"
   },
   {
    "duration": 8,
    "start_time": "2024-08-09T03:50:00.167Z"
   },
   {
    "duration": 8,
    "start_time": "2024-08-09T03:50:05.085Z"
   },
   {
    "duration": 13,
    "start_time": "2024-08-09T03:50:13.988Z"
   },
   {
    "duration": 11,
    "start_time": "2024-08-09T03:50:29.148Z"
   },
   {
    "duration": 82,
    "start_time": "2024-08-09T03:51:03.229Z"
   },
   {
    "duration": 90,
    "start_time": "2024-08-09T03:51:05.589Z"
   },
   {
    "duration": 83,
    "start_time": "2024-08-09T03:51:10.170Z"
   },
   {
    "duration": 83,
    "start_time": "2024-08-09T03:51:29.075Z"
   },
   {
    "duration": 85,
    "start_time": "2024-08-09T03:51:34.847Z"
   },
   {
    "duration": 6,
    "start_time": "2024-08-09T03:51:43.631Z"
   },
   {
    "duration": 14,
    "start_time": "2024-08-09T03:52:07.437Z"
   },
   {
    "duration": 14,
    "start_time": "2024-08-09T03:52:14.753Z"
   },
   {
    "duration": 13,
    "start_time": "2024-08-09T03:52:19.527Z"
   },
   {
    "duration": 13,
    "start_time": "2024-08-09T03:52:27.962Z"
   },
   {
    "duration": 29,
    "start_time": "2024-08-09T03:52:32.007Z"
   },
   {
    "duration": 66,
    "start_time": "2024-08-09T03:52:53.006Z"
   },
   {
    "duration": 30,
    "start_time": "2024-08-09T03:54:01.721Z"
   },
   {
    "duration": 11,
    "start_time": "2024-08-09T03:56:13.739Z"
   },
   {
    "duration": 6,
    "start_time": "2024-08-09T03:56:49.036Z"
   },
   {
    "duration": 7,
    "start_time": "2024-08-09T03:57:04.479Z"
   },
   {
    "duration": 8,
    "start_time": "2024-08-09T03:57:20.311Z"
   },
   {
    "duration": 4909,
    "start_time": "2024-08-10T00:21:12.602Z"
   },
   {
    "duration": 3375,
    "start_time": "2024-08-10T00:21:17.515Z"
   },
   {
    "duration": 100,
    "start_time": "2024-08-10T00:21:20.892Z"
   },
   {
    "duration": 371,
    "start_time": "2024-08-10T00:21:20.994Z"
   },
   {
    "duration": 92,
    "start_time": "2024-08-10T00:21:21.370Z"
   },
   {
    "duration": 19,
    "start_time": "2024-08-10T00:21:21.465Z"
   },
   {
    "duration": 28,
    "start_time": "2024-08-10T00:21:21.487Z"
   },
   {
    "duration": 16,
    "start_time": "2024-08-10T00:21:21.518Z"
   },
   {
    "duration": 11,
    "start_time": "2024-08-10T00:21:21.537Z"
   },
   {
    "duration": 99,
    "start_time": "2024-08-10T00:21:21.550Z"
   },
   {
    "duration": 59,
    "start_time": "2024-08-10T00:21:21.651Z"
   },
   {
    "duration": 222,
    "start_time": "2024-08-10T00:21:21.714Z"
   },
   {
    "duration": 44,
    "start_time": "2024-08-10T00:21:21.939Z"
   },
   {
    "duration": 348,
    "start_time": "2024-08-10T00:21:22.005Z"
   },
   {
    "duration": 50,
    "start_time": "2024-08-10T00:21:22.356Z"
   },
   {
    "duration": 113,
    "start_time": "2024-08-10T00:21:22.409Z"
   },
   {
    "duration": 124,
    "start_time": "2024-08-10T00:21:22.525Z"
   },
   {
    "duration": 83,
    "start_time": "2024-08-10T00:21:22.651Z"
   },
   {
    "duration": 22,
    "start_time": "2024-08-10T00:21:22.736Z"
   },
   {
    "duration": 59,
    "start_time": "2024-08-10T00:21:22.762Z"
   },
   {
    "duration": 16,
    "start_time": "2024-08-10T00:21:22.824Z"
   },
   {
    "duration": 366,
    "start_time": "2024-08-10T00:21:22.843Z"
   },
   {
    "duration": 17,
    "start_time": "2024-08-10T00:21:23.212Z"
   },
   {
    "duration": 10,
    "start_time": "2024-08-10T00:21:23.232Z"
   },
   {
    "duration": 18,
    "start_time": "2024-08-10T00:21:23.245Z"
   },
   {
    "duration": 66,
    "start_time": "2024-08-10T00:21:23.266Z"
   },
   {
    "duration": 74,
    "start_time": "2024-08-10T00:21:23.335Z"
   },
   {
    "duration": 11,
    "start_time": "2024-08-10T00:21:23.413Z"
   },
   {
    "duration": 27,
    "start_time": "2024-08-10T00:21:23.427Z"
   },
   {
    "duration": 56,
    "start_time": "2024-08-10T00:21:23.456Z"
   },
   {
    "duration": 9,
    "start_time": "2024-08-10T00:21:23.515Z"
   },
   {
    "duration": 1291,
    "start_time": "2024-08-10T00:40:18.390Z"
   },
   {
    "duration": 3598,
    "start_time": "2024-08-10T00:40:19.684Z"
   },
   {
    "duration": 100,
    "start_time": "2024-08-10T00:40:23.285Z"
   },
   {
    "duration": 361,
    "start_time": "2024-08-10T00:40:23.389Z"
   },
   {
    "duration": 93,
    "start_time": "2024-08-10T00:40:23.752Z"
   },
   {
    "duration": 14,
    "start_time": "2024-08-10T00:40:23.848Z"
   },
   {
    "duration": 12,
    "start_time": "2024-08-10T00:40:23.865Z"
   },
   {
    "duration": 13,
    "start_time": "2024-08-10T00:40:23.907Z"
   },
   {
    "duration": 12,
    "start_time": "2024-08-10T00:40:23.923Z"
   },
   {
    "duration": 95,
    "start_time": "2024-08-10T00:40:23.942Z"
   },
   {
    "duration": 66,
    "start_time": "2024-08-10T00:40:24.040Z"
   },
   {
    "duration": 234,
    "start_time": "2024-08-10T00:40:24.109Z"
   },
   {
    "duration": 44,
    "start_time": "2024-08-10T00:40:24.345Z"
   },
   {
    "duration": 375,
    "start_time": "2024-08-10T00:40:24.407Z"
   },
   {
    "duration": 43,
    "start_time": "2024-08-10T00:40:24.785Z"
   },
   {
    "duration": 118,
    "start_time": "2024-08-10T00:40:24.831Z"
   },
   {
    "duration": 94,
    "start_time": "2024-08-10T00:40:24.951Z"
   },
   {
    "duration": 39,
    "start_time": "2024-08-10T00:40:25.048Z"
   },
   {
    "duration": 19,
    "start_time": "2024-08-10T00:40:25.106Z"
   },
   {
    "duration": 24,
    "start_time": "2024-08-10T00:40:25.129Z"
   },
   {
    "duration": 49,
    "start_time": "2024-08-10T00:40:25.156Z"
   },
   {
    "duration": 291,
    "start_time": "2024-08-10T00:40:25.209Z"
   },
   {
    "duration": 19,
    "start_time": "2024-08-10T00:40:25.503Z"
   },
   {
    "duration": 11,
    "start_time": "2024-08-10T00:40:25.525Z"
   },
   {
    "duration": 71,
    "start_time": "2024-08-10T00:40:25.539Z"
   },
   {
    "duration": 28,
    "start_time": "2024-08-10T00:40:25.613Z"
   },
   {
    "duration": 17,
    "start_time": "2024-08-10T00:40:25.644Z"
   },
   {
    "duration": 9,
    "start_time": "2024-08-10T00:40:25.711Z"
   },
   {
    "duration": 27,
    "start_time": "2024-08-10T00:40:25.723Z"
   },
   {
    "duration": 52,
    "start_time": "2024-08-10T00:40:25.753Z"
   },
   {
    "duration": 9,
    "start_time": "2024-08-10T00:40:25.808Z"
   },
   {
    "duration": 1238,
    "start_time": "2024-08-10T00:42:46.436Z"
   },
   {
    "duration": 3385,
    "start_time": "2024-08-10T00:42:47.678Z"
   },
   {
    "duration": 100,
    "start_time": "2024-08-10T00:42:51.066Z"
   },
   {
    "duration": 359,
    "start_time": "2024-08-10T00:42:51.169Z"
   },
   {
    "duration": 94,
    "start_time": "2024-08-10T00:42:51.533Z"
   },
   {
    "duration": 16,
    "start_time": "2024-08-10T00:42:51.630Z"
   },
   {
    "duration": 12,
    "start_time": "2024-08-10T00:42:51.649Z"
   },
   {
    "duration": 44,
    "start_time": "2024-08-10T00:42:51.664Z"
   },
   {
    "duration": 12,
    "start_time": "2024-08-10T00:42:51.711Z"
   },
   {
    "duration": 81,
    "start_time": "2024-08-10T00:42:51.727Z"
   },
   {
    "duration": 46,
    "start_time": "2024-08-10T00:42:51.811Z"
   },
   {
    "duration": 228,
    "start_time": "2024-08-10T00:42:51.860Z"
   },
   {
    "duration": 57,
    "start_time": "2024-08-10T00:42:52.092Z"
   },
   {
    "duration": 365,
    "start_time": "2024-08-10T00:42:52.155Z"
   },
   {
    "duration": 37,
    "start_time": "2024-08-10T00:42:52.522Z"
   },
   {
    "duration": 129,
    "start_time": "2024-08-10T00:42:52.562Z"
   },
   {
    "duration": 89,
    "start_time": "2024-08-10T00:42:52.694Z"
   },
   {
    "duration": 54,
    "start_time": "2024-08-10T00:42:52.786Z"
   },
   {
    "duration": 19,
    "start_time": "2024-08-10T00:42:52.844Z"
   },
   {
    "duration": 51,
    "start_time": "2024-08-10T00:42:52.866Z"
   },
   {
    "duration": 18,
    "start_time": "2024-08-10T00:42:52.920Z"
   },
   {
    "duration": 321,
    "start_time": "2024-08-10T00:42:52.940Z"
   },
   {
    "duration": 18,
    "start_time": "2024-08-10T00:42:53.264Z"
   },
   {
    "duration": 22,
    "start_time": "2024-08-10T00:42:53.285Z"
   },
   {
    "duration": 19,
    "start_time": "2024-08-10T00:42:53.310Z"
   },
   {
    "duration": 11,
    "start_time": "2024-08-10T00:42:53.332Z"
   },
   {
    "duration": 479,
    "start_time": "2024-08-10T00:42:53.347Z"
   },
   {
    "duration": 0,
    "start_time": "2024-08-10T00:42:53.829Z"
   },
   {
    "duration": 0,
    "start_time": "2024-08-10T00:42:53.831Z"
   },
   {
    "duration": 0,
    "start_time": "2024-08-10T00:42:53.833Z"
   },
   {
    "duration": 0,
    "start_time": "2024-08-10T00:42:53.835Z"
   },
   {
    "duration": 1262,
    "start_time": "2024-08-10T00:43:56.226Z"
   },
   {
    "duration": 3350,
    "start_time": "2024-08-10T00:43:57.493Z"
   },
   {
    "duration": 98,
    "start_time": "2024-08-10T00:44:00.846Z"
   },
   {
    "duration": 364,
    "start_time": "2024-08-10T00:44:00.947Z"
   },
   {
    "duration": 98,
    "start_time": "2024-08-10T00:44:01.316Z"
   },
   {
    "duration": 16,
    "start_time": "2024-08-10T00:44:01.417Z"
   },
   {
    "duration": 12,
    "start_time": "2024-08-10T00:44:01.436Z"
   },
   {
    "duration": 12,
    "start_time": "2024-08-10T00:44:01.450Z"
   },
   {
    "duration": 48,
    "start_time": "2024-08-10T00:44:01.466Z"
   },
   {
    "duration": 64,
    "start_time": "2024-08-10T00:44:01.516Z"
   },
   {
    "duration": 44,
    "start_time": "2024-08-10T00:44:01.606Z"
   },
   {
    "duration": 224,
    "start_time": "2024-08-10T00:44:01.654Z"
   },
   {
    "duration": 54,
    "start_time": "2024-08-10T00:44:01.881Z"
   },
   {
    "duration": 355,
    "start_time": "2024-08-10T00:44:01.941Z"
   },
   {
    "duration": 37,
    "start_time": "2024-08-10T00:44:02.307Z"
   },
   {
    "duration": 127,
    "start_time": "2024-08-10T00:44:02.347Z"
   },
   {
    "duration": 92,
    "start_time": "2024-08-10T00:44:02.476Z"
   },
   {
    "duration": 50,
    "start_time": "2024-08-10T00:44:02.572Z"
   },
   {
    "duration": 20,
    "start_time": "2024-08-10T00:44:02.625Z"
   },
   {
    "duration": 23,
    "start_time": "2024-08-10T00:44:02.647Z"
   },
   {
    "duration": 50,
    "start_time": "2024-08-10T00:44:02.672Z"
   },
   {
    "duration": 310,
    "start_time": "2024-08-10T00:44:02.725Z"
   },
   {
    "duration": 20,
    "start_time": "2024-08-10T00:44:03.038Z"
   },
   {
    "duration": 10,
    "start_time": "2024-08-10T00:44:03.061Z"
   },
   {
    "duration": 18,
    "start_time": "2024-08-10T00:44:03.105Z"
   },
   {
    "duration": 29,
    "start_time": "2024-08-10T00:44:03.125Z"
   },
   {
    "duration": 57,
    "start_time": "2024-08-10T00:44:03.157Z"
   },
   {
    "duration": 10,
    "start_time": "2024-08-10T00:44:03.217Z"
   },
   {
    "duration": 28,
    "start_time": "2024-08-10T00:44:03.229Z"
   },
   {
    "duration": 53,
    "start_time": "2024-08-10T00:44:03.260Z"
   },
   {
    "duration": 9,
    "start_time": "2024-08-10T00:44:03.316Z"
   },
   {
    "duration": 1273,
    "start_time": "2024-08-10T00:49:27.419Z"
   },
   {
    "duration": 3179,
    "start_time": "2024-08-10T00:49:28.696Z"
   },
   {
    "duration": 98,
    "start_time": "2024-08-10T00:49:31.878Z"
   },
   {
    "duration": 366,
    "start_time": "2024-08-10T00:49:31.982Z"
   },
   {
    "duration": 88,
    "start_time": "2024-08-10T00:49:32.350Z"
   },
   {
    "duration": 15,
    "start_time": "2024-08-10T00:49:32.442Z"
   },
   {
    "duration": 11,
    "start_time": "2024-08-10T00:49:32.460Z"
   },
   {
    "duration": 39,
    "start_time": "2024-08-10T00:49:32.475Z"
   },
   {
    "duration": 11,
    "start_time": "2024-08-10T00:49:32.518Z"
   },
   {
    "duration": 86,
    "start_time": "2024-08-10T00:49:32.534Z"
   },
   {
    "duration": 46,
    "start_time": "2024-08-10T00:49:32.623Z"
   },
   {
    "duration": 238,
    "start_time": "2024-08-10T00:49:32.671Z"
   },
   {
    "duration": 44,
    "start_time": "2024-08-10T00:49:32.915Z"
   },
   {
    "duration": 365,
    "start_time": "2024-08-10T00:49:32.961Z"
   },
   {
    "duration": 35,
    "start_time": "2024-08-10T00:49:33.332Z"
   },
   {
    "duration": 122,
    "start_time": "2024-08-10T00:49:33.370Z"
   },
   {
    "duration": 89,
    "start_time": "2024-08-10T00:49:33.495Z"
   },
   {
    "duration": 53,
    "start_time": "2024-08-10T00:49:33.586Z"
   },
   {
    "duration": 20,
    "start_time": "2024-08-10T00:49:33.642Z"
   },
   {
    "duration": 54,
    "start_time": "2024-08-10T00:49:33.665Z"
   },
   {
    "duration": 18,
    "start_time": "2024-08-10T00:49:33.721Z"
   },
   {
    "duration": 307,
    "start_time": "2024-08-10T00:49:33.743Z"
   },
   {
    "duration": 20,
    "start_time": "2024-08-10T00:49:34.053Z"
   },
   {
    "duration": 39,
    "start_time": "2024-08-10T00:49:34.076Z"
   },
   {
    "duration": 21,
    "start_time": "2024-08-10T00:49:34.119Z"
   },
   {
    "duration": 6,
    "start_time": "2024-08-10T00:49:34.143Z"
   },
   {
    "duration": 433,
    "start_time": "2024-08-10T00:49:34.208Z"
   },
   {
    "duration": 0,
    "start_time": "2024-08-10T00:49:34.645Z"
   },
   {
    "duration": 0,
    "start_time": "2024-08-10T00:49:34.647Z"
   },
   {
    "duration": 0,
    "start_time": "2024-08-10T00:49:34.649Z"
   },
   {
    "duration": 0,
    "start_time": "2024-08-10T00:49:34.651Z"
   },
   {
    "duration": 1243,
    "start_time": "2024-08-10T00:50:15.660Z"
   },
   {
    "duration": 3046,
    "start_time": "2024-08-10T00:50:16.907Z"
   },
   {
    "duration": 100,
    "start_time": "2024-08-10T00:50:19.955Z"
   },
   {
    "duration": 370,
    "start_time": "2024-08-10T00:50:20.058Z"
   },
   {
    "duration": 93,
    "start_time": "2024-08-10T00:50:20.432Z"
   },
   {
    "duration": 20,
    "start_time": "2024-08-10T00:50:20.529Z"
   },
   {
    "duration": 13,
    "start_time": "2024-08-10T00:50:20.553Z"
   },
   {
    "duration": 42,
    "start_time": "2024-08-10T00:50:20.569Z"
   },
   {
    "duration": 11,
    "start_time": "2024-08-10T00:50:20.614Z"
   },
   {
    "duration": 86,
    "start_time": "2024-08-10T00:50:20.628Z"
   },
   {
    "duration": 46,
    "start_time": "2024-08-10T00:50:20.717Z"
   },
   {
    "duration": 240,
    "start_time": "2024-08-10T00:50:20.766Z"
   },
   {
    "duration": 45,
    "start_time": "2024-08-10T00:50:21.009Z"
   },
   {
    "duration": 366,
    "start_time": "2024-08-10T00:50:21.060Z"
   },
   {
    "duration": 35,
    "start_time": "2024-08-10T00:50:21.429Z"
   },
   {
    "duration": 120,
    "start_time": "2024-08-10T00:50:21.467Z"
   },
   {
    "duration": 93,
    "start_time": "2024-08-10T00:50:21.590Z"
   },
   {
    "duration": 60,
    "start_time": "2024-08-10T00:50:21.686Z"
   },
   {
    "duration": 20,
    "start_time": "2024-08-10T00:50:21.749Z"
   },
   {
    "duration": 48,
    "start_time": "2024-08-10T00:50:21.772Z"
   },
   {
    "duration": 17,
    "start_time": "2024-08-10T00:50:21.823Z"
   },
   {
    "duration": 322,
    "start_time": "2024-08-10T00:50:21.843Z"
   },
   {
    "duration": 38,
    "start_time": "2024-08-10T00:50:22.168Z"
   },
   {
    "duration": 11,
    "start_time": "2024-08-10T00:50:22.209Z"
   },
   {
    "duration": 18,
    "start_time": "2024-08-10T00:50:22.223Z"
   },
   {
    "duration": 6,
    "start_time": "2024-08-10T00:50:22.244Z"
   },
   {
    "duration": 912,
    "start_time": "2024-08-10T00:50:22.307Z"
   },
   {
    "duration": 0,
    "start_time": "2024-08-10T00:50:23.222Z"
   },
   {
    "duration": 0,
    "start_time": "2024-08-10T00:50:23.224Z"
   },
   {
    "duration": 0,
    "start_time": "2024-08-10T00:50:23.227Z"
   },
   {
    "duration": 0,
    "start_time": "2024-08-10T00:50:23.229Z"
   },
   {
    "duration": 1223,
    "start_time": "2024-08-10T00:51:49.557Z"
   },
   {
    "duration": 5182,
    "start_time": "2024-08-10T00:51:50.783Z"
   },
   {
    "duration": 97,
    "start_time": "2024-08-10T00:51:55.967Z"
   },
   {
    "duration": 362,
    "start_time": "2024-08-10T00:51:56.067Z"
   },
   {
    "duration": 92,
    "start_time": "2024-08-10T00:51:56.434Z"
   },
   {
    "duration": 15,
    "start_time": "2024-08-10T00:51:56.530Z"
   },
   {
    "duration": 11,
    "start_time": "2024-08-10T00:51:56.548Z"
   },
   {
    "duration": 13,
    "start_time": "2024-08-10T00:51:56.562Z"
   },
   {
    "duration": 10,
    "start_time": "2024-08-10T00:51:56.608Z"
   },
   {
    "duration": 88,
    "start_time": "2024-08-10T00:51:56.621Z"
   },
   {
    "duration": 47,
    "start_time": "2024-08-10T00:51:56.712Z"
   },
   {
    "duration": 256,
    "start_time": "2024-08-10T00:51:56.762Z"
   },
   {
    "duration": 43,
    "start_time": "2024-08-10T00:51:57.021Z"
   },
   {
    "duration": 369,
    "start_time": "2024-08-10T00:51:57.072Z"
   },
   {
    "duration": 36,
    "start_time": "2024-08-10T00:51:57.444Z"
   },
   {
    "duration": 127,
    "start_time": "2024-08-10T00:51:57.483Z"
   },
   {
    "duration": 101,
    "start_time": "2024-08-10T00:51:57.613Z"
   },
   {
    "duration": 41,
    "start_time": "2024-08-10T00:51:57.717Z"
   },
   {
    "duration": 45,
    "start_time": "2024-08-10T00:51:57.760Z"
   },
   {
    "duration": 23,
    "start_time": "2024-08-10T00:51:57.808Z"
   },
   {
    "duration": 18,
    "start_time": "2024-08-10T00:51:57.833Z"
   },
   {
    "duration": 324,
    "start_time": "2024-08-10T00:51:57.854Z"
   },
   {
    "duration": 32,
    "start_time": "2024-08-10T00:51:58.181Z"
   },
   {
    "duration": 11,
    "start_time": "2024-08-10T00:51:58.215Z"
   },
   {
    "duration": 78,
    "start_time": "2024-08-10T00:51:58.228Z"
   },
   {
    "duration": 11,
    "start_time": "2024-08-10T00:51:58.309Z"
   },
   {
    "duration": 18,
    "start_time": "2024-08-10T00:51:58.324Z"
   },
   {
    "duration": 10,
    "start_time": "2024-08-10T00:51:58.345Z"
   },
   {
    "duration": 50,
    "start_time": "2024-08-10T00:51:58.358Z"
   },
   {
    "duration": 438,
    "start_time": "2024-08-10T00:51:58.411Z"
   },
   {
    "duration": 0,
    "start_time": "2024-08-10T00:51:58.852Z"
   },
   {
    "duration": 1244,
    "start_time": "2024-08-10T00:52:40.731Z"
   },
   {
    "duration": 6441,
    "start_time": "2024-08-10T00:52:41.978Z"
   },
   {
    "duration": 113,
    "start_time": "2024-08-10T00:52:48.421Z"
   },
   {
    "duration": 380,
    "start_time": "2024-08-10T00:52:48.538Z"
   },
   {
    "duration": 94,
    "start_time": "2024-08-10T00:52:48.921Z"
   },
   {
    "duration": 19,
    "start_time": "2024-08-10T00:52:49.018Z"
   },
   {
    "duration": 13,
    "start_time": "2024-08-10T00:52:49.040Z"
   },
   {
    "duration": 12,
    "start_time": "2024-08-10T00:52:49.057Z"
   },
   {
    "duration": 47,
    "start_time": "2024-08-10T00:52:49.072Z"
   },
   {
    "duration": 81,
    "start_time": "2024-08-10T00:52:49.125Z"
   },
   {
    "duration": 45,
    "start_time": "2024-08-10T00:52:49.209Z"
   },
   {
    "duration": 229,
    "start_time": "2024-08-10T00:52:49.257Z"
   },
   {
    "duration": 48,
    "start_time": "2024-08-10T00:52:49.490Z"
   },
   {
    "duration": 367,
    "start_time": "2024-08-10T00:52:49.541Z"
   },
   {
    "duration": 35,
    "start_time": "2024-08-10T00:52:49.912Z"
   },
   {
    "duration": 133,
    "start_time": "2024-08-10T00:52:49.951Z"
   },
   {
    "duration": 92,
    "start_time": "2024-08-10T00:52:50.087Z"
   },
   {
    "duration": 60,
    "start_time": "2024-08-10T00:52:50.183Z"
   },
   {
    "duration": 19,
    "start_time": "2024-08-10T00:52:50.246Z"
   },
   {
    "duration": 43,
    "start_time": "2024-08-10T00:52:50.268Z"
   },
   {
    "duration": 18,
    "start_time": "2024-08-10T00:52:50.314Z"
   },
   {
    "duration": 314,
    "start_time": "2024-08-10T00:52:50.335Z"
   },
   {
    "duration": 19,
    "start_time": "2024-08-10T00:52:50.652Z"
   },
   {
    "duration": 35,
    "start_time": "2024-08-10T00:52:50.674Z"
   },
   {
    "duration": 19,
    "start_time": "2024-08-10T00:52:50.711Z"
   },
   {
    "duration": 9,
    "start_time": "2024-08-10T00:52:50.732Z"
   },
   {
    "duration": 74,
    "start_time": "2024-08-10T00:52:50.744Z"
   },
   {
    "duration": 10,
    "start_time": "2024-08-10T00:52:50.824Z"
   },
   {
    "duration": 7,
    "start_time": "2024-08-10T00:52:50.837Z"
   },
   {
    "duration": 452,
    "start_time": "2024-08-10T00:52:50.847Z"
   },
   {
    "duration": 0,
    "start_time": "2024-08-10T00:52:51.305Z"
   },
   {
    "duration": 1256,
    "start_time": "2024-08-10T00:53:14.826Z"
   },
   {
    "duration": 3151,
    "start_time": "2024-08-10T00:53:16.087Z"
   },
   {
    "duration": 99,
    "start_time": "2024-08-10T00:53:19.241Z"
   },
   {
    "duration": 369,
    "start_time": "2024-08-10T00:53:19.345Z"
   },
   {
    "duration": 94,
    "start_time": "2024-08-10T00:53:19.717Z"
   },
   {
    "duration": 17,
    "start_time": "2024-08-10T00:53:19.813Z"
   },
   {
    "duration": 11,
    "start_time": "2024-08-10T00:53:19.833Z"
   },
   {
    "duration": 12,
    "start_time": "2024-08-10T00:53:19.848Z"
   },
   {
    "duration": 51,
    "start_time": "2024-08-10T00:53:19.863Z"
   },
   {
    "duration": 58,
    "start_time": "2024-08-10T00:53:19.920Z"
   },
   {
    "duration": 46,
    "start_time": "2024-08-10T00:53:20.005Z"
   },
   {
    "duration": 225,
    "start_time": "2024-08-10T00:53:20.054Z"
   },
   {
    "duration": 54,
    "start_time": "2024-08-10T00:53:20.282Z"
   },
   {
    "duration": 388,
    "start_time": "2024-08-10T00:53:20.339Z"
   },
   {
    "duration": 36,
    "start_time": "2024-08-10T00:53:20.730Z"
   },
   {
    "duration": 119,
    "start_time": "2024-08-10T00:53:20.769Z"
   },
   {
    "duration": 94,
    "start_time": "2024-08-10T00:53:20.891Z"
   },
   {
    "duration": 54,
    "start_time": "2024-08-10T00:53:20.987Z"
   },
   {
    "duration": 19,
    "start_time": "2024-08-10T00:53:21.045Z"
   },
   {
    "duration": 47,
    "start_time": "2024-08-10T00:53:21.066Z"
   },
   {
    "duration": 16,
    "start_time": "2024-08-10T00:53:21.116Z"
   },
   {
    "duration": 319,
    "start_time": "2024-08-10T00:53:21.135Z"
   },
   {
    "duration": 21,
    "start_time": "2024-08-10T00:53:21.457Z"
   },
   {
    "duration": 30,
    "start_time": "2024-08-10T00:53:21.480Z"
   },
   {
    "duration": 21,
    "start_time": "2024-08-10T00:53:21.513Z"
   },
   {
    "duration": 9,
    "start_time": "2024-08-10T00:53:21.538Z"
   },
   {
    "duration": 74,
    "start_time": "2024-08-10T00:53:21.550Z"
   },
   {
    "duration": 10,
    "start_time": "2024-08-10T00:53:21.631Z"
   },
   {
    "duration": 7,
    "start_time": "2024-08-10T00:53:21.644Z"
   },
   {
    "duration": 69,
    "start_time": "2024-08-10T00:53:21.654Z"
   },
   {
    "duration": 11,
    "start_time": "2024-08-10T00:53:21.725Z"
   },
   {
    "duration": 1211,
    "start_time": "2024-08-10T01:00:13.961Z"
   },
   {
    "duration": 3178,
    "start_time": "2024-08-10T01:00:15.175Z"
   },
   {
    "duration": 104,
    "start_time": "2024-08-10T01:00:18.356Z"
   },
   {
    "duration": 371,
    "start_time": "2024-08-10T01:00:18.465Z"
   },
   {
    "duration": 93,
    "start_time": "2024-08-10T01:00:18.840Z"
   },
   {
    "duration": 15,
    "start_time": "2024-08-10T01:00:18.937Z"
   },
   {
    "duration": 13,
    "start_time": "2024-08-10T01:00:18.954Z"
   },
   {
    "duration": 43,
    "start_time": "2024-08-10T01:00:18.971Z"
   },
   {
    "duration": 11,
    "start_time": "2024-08-10T01:00:19.017Z"
   },
   {
    "duration": 87,
    "start_time": "2024-08-10T01:00:19.031Z"
   },
   {
    "duration": 48,
    "start_time": "2024-08-10T01:00:19.120Z"
   },
   {
    "duration": 232,
    "start_time": "2024-08-10T01:00:19.171Z"
   },
   {
    "duration": 45,
    "start_time": "2024-08-10T01:00:19.407Z"
   },
   {
    "duration": 387,
    "start_time": "2024-08-10T01:00:19.458Z"
   },
   {
    "duration": 35,
    "start_time": "2024-08-10T01:00:19.848Z"
   },
   {
    "duration": 126,
    "start_time": "2024-08-10T01:00:19.887Z"
   },
   {
    "duration": 94,
    "start_time": "2024-08-10T01:00:20.016Z"
   },
   {
    "duration": 46,
    "start_time": "2024-08-10T01:00:20.113Z"
   },
   {
    "duration": 47,
    "start_time": "2024-08-10T01:00:20.163Z"
   },
   {
    "duration": 22,
    "start_time": "2024-08-10T01:00:20.213Z"
   },
   {
    "duration": 17,
    "start_time": "2024-08-10T01:00:20.240Z"
   },
   {
    "duration": 325,
    "start_time": "2024-08-10T01:00:20.260Z"
   },
   {
    "duration": 21,
    "start_time": "2024-08-10T01:00:20.588Z"
   },
   {
    "duration": 13,
    "start_time": "2024-08-10T01:00:20.613Z"
   },
   {
    "duration": 77,
    "start_time": "2024-08-10T01:00:20.629Z"
   },
   {
    "duration": 8,
    "start_time": "2024-08-10T01:00:20.709Z"
   },
   {
    "duration": 18,
    "start_time": "2024-08-10T01:00:20.720Z"
   },
   {
    "duration": 12,
    "start_time": "2024-08-10T01:00:20.741Z"
   },
   {
    "duration": 56,
    "start_time": "2024-08-10T01:00:20.755Z"
   },
   {
    "duration": 16,
    "start_time": "2024-08-10T01:00:20.814Z"
   },
   {
    "duration": 9,
    "start_time": "2024-08-10T01:00:20.832Z"
   },
   {
    "duration": 13,
    "start_time": "2024-08-10T01:00:20.844Z"
   },
   {
    "duration": 1298,
    "start_time": "2024-08-10T01:05:31.087Z"
   },
   {
    "duration": 3412,
    "start_time": "2024-08-10T01:05:32.389Z"
   },
   {
    "duration": 99,
    "start_time": "2024-08-10T01:05:35.804Z"
   },
   {
    "duration": 366,
    "start_time": "2024-08-10T01:05:35.907Z"
   },
   {
    "duration": 91,
    "start_time": "2024-08-10T01:05:36.276Z"
   },
   {
    "duration": 16,
    "start_time": "2024-08-10T01:05:36.370Z"
   },
   {
    "duration": 11,
    "start_time": "2024-08-10T01:05:36.406Z"
   },
   {
    "duration": 12,
    "start_time": "2024-08-10T01:05:36.420Z"
   },
   {
    "duration": 11,
    "start_time": "2024-08-10T01:05:36.435Z"
   },
   {
    "duration": 92,
    "start_time": "2024-08-10T01:05:36.452Z"
   },
   {
    "duration": 63,
    "start_time": "2024-08-10T01:05:36.547Z"
   },
   {
    "duration": 233,
    "start_time": "2024-08-10T01:05:36.615Z"
   },
   {
    "duration": 44,
    "start_time": "2024-08-10T01:05:36.851Z"
   },
   {
    "duration": 378,
    "start_time": "2024-08-10T01:05:36.907Z"
   },
   {
    "duration": 46,
    "start_time": "2024-08-10T01:05:37.287Z"
   },
   {
    "duration": 117,
    "start_time": "2024-08-10T01:05:37.336Z"
   },
   {
    "duration": 98,
    "start_time": "2024-08-10T01:05:37.457Z"
   },
   {
    "duration": 53,
    "start_time": "2024-08-10T01:05:37.557Z"
   },
   {
    "duration": 20,
    "start_time": "2024-08-10T01:05:37.613Z"
   },
   {
    "duration": 22,
    "start_time": "2024-08-10T01:05:37.636Z"
   },
   {
    "duration": 54,
    "start_time": "2024-08-10T01:05:37.661Z"
   },
   {
    "duration": 304,
    "start_time": "2024-08-10T01:05:37.718Z"
   },
   {
    "duration": 18,
    "start_time": "2024-08-10T01:05:38.025Z"
   },
   {
    "duration": 10,
    "start_time": "2024-08-10T01:05:38.046Z"
   },
   {
    "duration": 61,
    "start_time": "2024-08-10T01:05:38.061Z"
   },
   {
    "duration": 10,
    "start_time": "2024-08-10T01:05:38.125Z"
   },
   {
    "duration": 77,
    "start_time": "2024-08-10T01:05:38.139Z"
   },
   {
    "duration": 10,
    "start_time": "2024-08-10T01:05:38.222Z"
   },
   {
    "duration": 8,
    "start_time": "2024-08-10T01:05:38.235Z"
   },
   {
    "duration": 14,
    "start_time": "2024-08-10T01:05:38.247Z"
   },
   {
    "duration": 50,
    "start_time": "2024-08-10T01:05:38.265Z"
   },
   {
    "duration": 15,
    "start_time": "2024-08-10T01:05:38.318Z"
   },
   {
    "duration": 1155,
    "start_time": "2024-08-10T01:05:38.336Z"
   },
   {
    "duration": 1273,
    "start_time": "2024-08-10T01:16:37.910Z"
   },
   {
    "duration": 3273,
    "start_time": "2024-08-10T01:16:39.186Z"
   },
   {
    "duration": 99,
    "start_time": "2024-08-10T01:16:42.462Z"
   },
   {
    "duration": 365,
    "start_time": "2024-08-10T01:16:42.564Z"
   },
   {
    "duration": 92,
    "start_time": "2024-08-10T01:16:42.932Z"
   },
   {
    "duration": 16,
    "start_time": "2024-08-10T01:16:43.027Z"
   },
   {
    "duration": 11,
    "start_time": "2024-08-10T01:16:43.045Z"
   },
   {
    "duration": 47,
    "start_time": "2024-08-10T01:16:43.059Z"
   },
   {
    "duration": 11,
    "start_time": "2024-08-10T01:16:43.108Z"
   },
   {
    "duration": 82,
    "start_time": "2024-08-10T01:16:43.126Z"
   },
   {
    "duration": 47,
    "start_time": "2024-08-10T01:16:43.210Z"
   },
   {
    "duration": 238,
    "start_time": "2024-08-10T01:16:43.260Z"
   },
   {
    "duration": 46,
    "start_time": "2024-08-10T01:16:43.501Z"
   },
   {
    "duration": 362,
    "start_time": "2024-08-10T01:16:43.549Z"
   },
   {
    "duration": 36,
    "start_time": "2024-08-10T01:16:43.914Z"
   },
   {
    "duration": 130,
    "start_time": "2024-08-10T01:16:43.953Z"
   },
   {
    "duration": 80,
    "start_time": "2024-08-10T01:16:44.085Z"
   },
   {
    "duration": 67,
    "start_time": "2024-08-10T01:16:44.168Z"
   },
   {
    "duration": 20,
    "start_time": "2024-08-10T01:16:44.238Z"
   },
   {
    "duration": 46,
    "start_time": "2024-08-10T01:16:44.261Z"
   },
   {
    "duration": 18,
    "start_time": "2024-08-10T01:16:44.311Z"
   },
   {
    "duration": 326,
    "start_time": "2024-08-10T01:16:44.332Z"
   },
   {
    "duration": 22,
    "start_time": "2024-08-10T01:16:44.661Z"
   },
   {
    "duration": 25,
    "start_time": "2024-08-10T01:16:44.686Z"
   },
   {
    "duration": 22,
    "start_time": "2024-08-10T01:16:44.714Z"
   },
   {
    "duration": 8,
    "start_time": "2024-08-10T01:16:44.739Z"
   },
   {
    "duration": 71,
    "start_time": "2024-08-10T01:16:44.751Z"
   },
   {
    "duration": 10,
    "start_time": "2024-08-10T01:16:44.828Z"
   },
   {
    "duration": 7,
    "start_time": "2024-08-10T01:16:44.841Z"
   },
   {
    "duration": 55,
    "start_time": "2024-08-10T01:16:44.852Z"
   },
   {
    "duration": 9,
    "start_time": "2024-08-10T01:16:44.910Z"
   },
   {
    "duration": 14,
    "start_time": "2024-08-10T01:16:44.923Z"
   },
   {
    "duration": 1127,
    "start_time": "2024-08-10T01:16:44.940Z"
   },
   {
    "duration": 1213,
    "start_time": "2024-08-10T01:17:14.865Z"
   },
   {
    "duration": 3310,
    "start_time": "2024-08-10T01:17:16.081Z"
   },
   {
    "duration": 100,
    "start_time": "2024-08-10T01:17:19.394Z"
   },
   {
    "duration": 355,
    "start_time": "2024-08-10T01:17:19.505Z"
   },
   {
    "duration": 104,
    "start_time": "2024-08-10T01:17:19.863Z"
   },
   {
    "duration": 18,
    "start_time": "2024-08-10T01:17:19.975Z"
   },
   {
    "duration": 12,
    "start_time": "2024-08-10T01:17:20.007Z"
   },
   {
    "duration": 12,
    "start_time": "2024-08-10T01:17:20.022Z"
   },
   {
    "duration": 10,
    "start_time": "2024-08-10T01:17:20.037Z"
   },
   {
    "duration": 94,
    "start_time": "2024-08-10T01:17:20.053Z"
   },
   {
    "duration": 62,
    "start_time": "2024-08-10T01:17:20.150Z"
   },
   {
    "duration": 224,
    "start_time": "2024-08-10T01:17:20.215Z"
   },
   {
    "duration": 65,
    "start_time": "2024-08-10T01:17:20.441Z"
   },
   {
    "duration": 377,
    "start_time": "2024-08-10T01:17:20.509Z"
   },
   {
    "duration": 40,
    "start_time": "2024-08-10T01:17:20.888Z"
   },
   {
    "duration": 121,
    "start_time": "2024-08-10T01:17:20.931Z"
   },
   {
    "duration": 95,
    "start_time": "2024-08-10T01:17:21.055Z"
   },
   {
    "duration": 38,
    "start_time": "2024-08-10T01:17:21.153Z"
   },
   {
    "duration": 19,
    "start_time": "2024-08-10T01:17:21.207Z"
   },
   {
    "duration": 23,
    "start_time": "2024-08-10T01:17:21.229Z"
   },
   {
    "duration": 16,
    "start_time": "2024-08-10T01:17:21.255Z"
   },
   {
    "duration": 303,
    "start_time": "2024-08-10T01:17:21.307Z"
   },
   {
    "duration": 18,
    "start_time": "2024-08-10T01:17:21.613Z"
   },
   {
    "duration": 12,
    "start_time": "2024-08-10T01:17:21.633Z"
   },
   {
    "duration": 71,
    "start_time": "2024-08-10T01:17:21.648Z"
   },
   {
    "duration": 9,
    "start_time": "2024-08-10T01:17:21.723Z"
   },
   {
    "duration": 18,
    "start_time": "2024-08-10T01:17:21.735Z"
   },
   {
    "duration": 9,
    "start_time": "2024-08-10T01:17:21.811Z"
   },
   {
    "duration": 8,
    "start_time": "2024-08-10T01:17:21.823Z"
   },
   {
    "duration": 15,
    "start_time": "2024-08-10T01:17:21.835Z"
   },
   {
    "duration": 9,
    "start_time": "2024-08-10T01:17:21.853Z"
   },
   {
    "duration": 13,
    "start_time": "2024-08-10T01:17:21.908Z"
   },
   {
    "duration": 450,
    "start_time": "2024-08-10T01:17:21.924Z"
   },
   {
    "duration": 1296,
    "start_time": "2024-08-10T01:17:47.754Z"
   },
   {
    "duration": 3346,
    "start_time": "2024-08-10T01:17:49.054Z"
   },
   {
    "duration": 99,
    "start_time": "2024-08-10T01:17:52.404Z"
   },
   {
    "duration": 359,
    "start_time": "2024-08-10T01:17:52.508Z"
   },
   {
    "duration": 94,
    "start_time": "2024-08-10T01:17:52.869Z"
   },
   {
    "duration": 18,
    "start_time": "2024-08-10T01:17:52.966Z"
   },
   {
    "duration": 11,
    "start_time": "2024-08-10T01:17:53.006Z"
   },
   {
    "duration": 13,
    "start_time": "2024-08-10T01:17:53.022Z"
   },
   {
    "duration": 11,
    "start_time": "2024-08-10T01:17:53.038Z"
   },
   {
    "duration": 95,
    "start_time": "2024-08-10T01:17:53.055Z"
   },
   {
    "duration": 62,
    "start_time": "2024-08-10T01:17:53.153Z"
   },
   {
    "duration": 224,
    "start_time": "2024-08-10T01:17:53.218Z"
   },
   {
    "duration": 45,
    "start_time": "2024-08-10T01:17:53.446Z"
   },
   {
    "duration": 354,
    "start_time": "2024-08-10T01:17:53.507Z"
   },
   {
    "duration": 44,
    "start_time": "2024-08-10T01:17:53.863Z"
   },
   {
    "duration": 117,
    "start_time": "2024-08-10T01:17:53.911Z"
   },
   {
    "duration": 92,
    "start_time": "2024-08-10T01:17:54.031Z"
   },
   {
    "duration": 42,
    "start_time": "2024-08-10T01:17:54.126Z"
   },
   {
    "duration": 47,
    "start_time": "2024-08-10T01:17:54.170Z"
   },
   {
    "duration": 23,
    "start_time": "2024-08-10T01:17:54.220Z"
   },
   {
    "duration": 16,
    "start_time": "2024-08-10T01:17:54.246Z"
   },
   {
    "duration": 328,
    "start_time": "2024-08-10T01:17:54.265Z"
   },
   {
    "duration": 27,
    "start_time": "2024-08-10T01:17:54.595Z"
   },
   {
    "duration": 13,
    "start_time": "2024-08-10T01:17:54.626Z"
   },
   {
    "duration": 66,
    "start_time": "2024-08-10T01:17:54.642Z"
   },
   {
    "duration": 9,
    "start_time": "2024-08-10T01:17:54.710Z"
   },
   {
    "duration": 19,
    "start_time": "2024-08-10T01:17:54.722Z"
   },
   {
    "duration": 62,
    "start_time": "2024-08-10T01:17:54.747Z"
   },
   {
    "duration": 8,
    "start_time": "2024-08-10T01:17:54.811Z"
   },
   {
    "duration": 15,
    "start_time": "2024-08-10T01:17:54.822Z"
   },
   {
    "duration": 9,
    "start_time": "2024-08-10T01:17:54.840Z"
   },
   {
    "duration": 54,
    "start_time": "2024-08-10T01:17:54.853Z"
   },
   {
    "duration": 22,
    "start_time": "2024-08-10T01:17:54.910Z"
   },
   {
    "duration": 1226,
    "start_time": "2024-08-10T01:58:16.662Z"
   },
   {
    "duration": 3994,
    "start_time": "2024-08-10T01:58:17.893Z"
   },
   {
    "duration": 107,
    "start_time": "2024-08-10T01:58:21.890Z"
   },
   {
    "duration": 356,
    "start_time": "2024-08-10T01:58:22.009Z"
   },
   {
    "duration": 94,
    "start_time": "2024-08-10T01:58:22.367Z"
   },
   {
    "duration": 15,
    "start_time": "2024-08-10T01:58:22.464Z"
   },
   {
    "duration": 29,
    "start_time": "2024-08-10T01:58:22.481Z"
   },
   {
    "duration": 12,
    "start_time": "2024-08-10T01:58:22.513Z"
   },
   {
    "duration": 11,
    "start_time": "2024-08-10T01:58:22.528Z"
   },
   {
    "duration": 95,
    "start_time": "2024-08-10T01:58:22.545Z"
   },
   {
    "duration": 65,
    "start_time": "2024-08-10T01:58:22.643Z"
   },
   {
    "duration": 225,
    "start_time": "2024-08-10T01:58:22.711Z"
   },
   {
    "duration": 44,
    "start_time": "2024-08-10T01:58:22.939Z"
   },
   {
    "duration": 371,
    "start_time": "2024-08-10T01:58:22.986Z"
   },
   {
    "duration": 47,
    "start_time": "2024-08-10T01:58:23.359Z"
   },
   {
    "duration": 113,
    "start_time": "2024-08-10T01:58:23.409Z"
   },
   {
    "duration": 92,
    "start_time": "2024-08-10T01:58:23.525Z"
   },
   {
    "duration": 39,
    "start_time": "2024-08-10T01:58:23.620Z"
   },
   {
    "duration": 46,
    "start_time": "2024-08-10T01:58:23.662Z"
   },
   {
    "duration": 24,
    "start_time": "2024-08-10T01:58:23.711Z"
   },
   {
    "duration": 18,
    "start_time": "2024-08-10T01:58:23.738Z"
   },
   {
    "duration": 308,
    "start_time": "2024-08-10T01:58:23.758Z"
   },
   {
    "duration": 39,
    "start_time": "2024-08-10T01:58:24.068Z"
   },
   {
    "duration": 11,
    "start_time": "2024-08-10T01:58:24.110Z"
   },
   {
    "duration": 20,
    "start_time": "2024-08-10T01:58:24.125Z"
   },
   {
    "duration": 64,
    "start_time": "2024-08-10T01:58:24.148Z"
   },
   {
    "duration": 17,
    "start_time": "2024-08-10T01:58:24.215Z"
   },
   {
    "duration": 10,
    "start_time": "2024-08-10T01:58:24.238Z"
   },
   {
    "duration": 7,
    "start_time": "2024-08-10T01:58:24.253Z"
   },
   {
    "duration": 54,
    "start_time": "2024-08-10T01:58:24.263Z"
   },
   {
    "duration": 9,
    "start_time": "2024-08-10T01:58:24.320Z"
   },
   {
    "duration": 12,
    "start_time": "2024-08-10T01:58:24.333Z"
   },
   {
    "duration": 58,
    "start_time": "2024-08-10T01:58:24.348Z"
   },
   {
    "duration": 1284,
    "start_time": "2024-08-10T02:01:20.159Z"
   },
   {
    "duration": 3497,
    "start_time": "2024-08-10T02:01:21.447Z"
   },
   {
    "duration": 101,
    "start_time": "2024-08-10T02:01:24.946Z"
   },
   {
    "duration": 372,
    "start_time": "2024-08-10T02:01:25.051Z"
   },
   {
    "duration": 96,
    "start_time": "2024-08-10T02:01:25.426Z"
   },
   {
    "duration": 15,
    "start_time": "2024-08-10T02:01:25.525Z"
   },
   {
    "duration": 12,
    "start_time": "2024-08-10T02:01:25.543Z"
   },
   {
    "duration": 12,
    "start_time": "2024-08-10T02:01:25.558Z"
   },
   {
    "duration": 11,
    "start_time": "2024-08-10T02:01:25.606Z"
   },
   {
    "duration": 84,
    "start_time": "2024-08-10T02:01:25.623Z"
   },
   {
    "duration": 46,
    "start_time": "2024-08-10T02:01:25.709Z"
   },
   {
    "duration": 233,
    "start_time": "2024-08-10T02:01:25.757Z"
   },
   {
    "duration": 338,
    "start_time": "2024-08-10T02:01:25.992Z"
   },
   {
    "duration": 44,
    "start_time": "2024-08-10T02:01:26.333Z"
   },
   {
    "duration": 379,
    "start_time": "2024-08-10T02:01:26.380Z"
   },
   {
    "duration": 48,
    "start_time": "2024-08-10T02:01:26.762Z"
   },
   {
    "duration": 125,
    "start_time": "2024-08-10T02:01:26.813Z"
   },
   {
    "duration": 96,
    "start_time": "2024-08-10T02:01:26.942Z"
   },
   {
    "duration": 37,
    "start_time": "2024-08-10T02:01:27.041Z"
   },
   {
    "duration": 39,
    "start_time": "2024-08-10T02:01:27.082Z"
   },
   {
    "duration": 24,
    "start_time": "2024-08-10T02:01:27.123Z"
   },
   {
    "duration": 17,
    "start_time": "2024-08-10T02:01:27.149Z"
   },
   {
    "duration": 326,
    "start_time": "2024-08-10T02:01:27.168Z"
   },
   {
    "duration": 22,
    "start_time": "2024-08-10T02:01:27.497Z"
   },
   {
    "duration": 13,
    "start_time": "2024-08-10T02:01:27.522Z"
   },
   {
    "duration": 76,
    "start_time": "2024-08-10T02:01:27.539Z"
   },
   {
    "duration": 9,
    "start_time": "2024-08-10T02:01:27.618Z"
   },
   {
    "duration": 17,
    "start_time": "2024-08-10T02:01:27.635Z"
   },
   {
    "duration": 55,
    "start_time": "2024-08-10T02:01:27.655Z"
   },
   {
    "duration": 7,
    "start_time": "2024-08-10T02:01:27.713Z"
   },
   {
    "duration": 15,
    "start_time": "2024-08-10T02:01:27.724Z"
   },
   {
    "duration": 8,
    "start_time": "2024-08-10T02:01:27.741Z"
   },
   {
    "duration": 57,
    "start_time": "2024-08-10T02:01:27.753Z"
   },
   {
    "duration": 23,
    "start_time": "2024-08-10T02:01:27.812Z"
   },
   {
    "duration": 1266,
    "start_time": "2024-08-10T02:20:14.512Z"
   },
   {
    "duration": 3839,
    "start_time": "2024-08-10T02:20:15.782Z"
   },
   {
    "duration": 112,
    "start_time": "2024-08-10T02:20:19.624Z"
   },
   {
    "duration": 362,
    "start_time": "2024-08-10T02:20:19.740Z"
   },
   {
    "duration": 80,
    "start_time": "2024-08-10T02:20:20.107Z"
   },
   {
    "duration": 28,
    "start_time": "2024-08-10T02:20:20.190Z"
   },
   {
    "duration": 11,
    "start_time": "2024-08-10T02:20:20.221Z"
   },
   {
    "duration": 13,
    "start_time": "2024-08-10T02:20:20.235Z"
   },
   {
    "duration": 54,
    "start_time": "2024-08-10T02:20:20.251Z"
   },
   {
    "duration": 59,
    "start_time": "2024-08-10T02:20:20.313Z"
   },
   {
    "duration": 69,
    "start_time": "2024-08-10T02:20:20.375Z"
   },
   {
    "duration": 259,
    "start_time": "2024-08-10T02:20:20.447Z"
   },
   {
    "duration": 338,
    "start_time": "2024-08-10T02:20:20.709Z"
   },
   {
    "duration": 57,
    "start_time": "2024-08-10T02:20:21.049Z"
   },
   {
    "duration": 352,
    "start_time": "2024-08-10T02:20:21.109Z"
   },
   {
    "duration": 43,
    "start_time": "2024-08-10T02:20:21.464Z"
   },
   {
    "duration": 127,
    "start_time": "2024-08-10T02:20:21.510Z"
   },
   {
    "duration": 101,
    "start_time": "2024-08-10T02:20:21.639Z"
   },
   {
    "duration": 42,
    "start_time": "2024-08-10T02:20:21.743Z"
   },
   {
    "duration": 35,
    "start_time": "2024-08-10T02:20:21.788Z"
   },
   {
    "duration": 22,
    "start_time": "2024-08-10T02:20:21.826Z"
   },
   {
    "duration": 16,
    "start_time": "2024-08-10T02:20:21.851Z"
   },
   {
    "duration": 328,
    "start_time": "2024-08-10T02:20:21.870Z"
   },
   {
    "duration": 20,
    "start_time": "2024-08-10T02:20:22.202Z"
   },
   {
    "duration": 11,
    "start_time": "2024-08-10T02:20:22.224Z"
   },
   {
    "duration": 75,
    "start_time": "2024-08-10T02:20:22.237Z"
   },
   {
    "duration": 7,
    "start_time": "2024-08-10T02:20:22.316Z"
   },
   {
    "duration": 17,
    "start_time": "2024-08-10T02:20:22.332Z"
   },
   {
    "duration": 59,
    "start_time": "2024-08-10T02:20:22.352Z"
   },
   {
    "duration": 8,
    "start_time": "2024-08-10T02:20:22.413Z"
   },
   {
    "duration": 15,
    "start_time": "2024-08-10T02:20:22.424Z"
   },
   {
    "duration": 9,
    "start_time": "2024-08-10T02:20:22.441Z"
   },
   {
    "duration": 56,
    "start_time": "2024-08-10T02:20:22.454Z"
   },
   {
    "duration": 23,
    "start_time": "2024-08-10T02:20:22.513Z"
   },
   {
    "duration": 1317,
    "start_time": "2024-08-12T05:27:58.563Z"
   },
   {
    "duration": 3390,
    "start_time": "2024-08-12T05:27:59.884Z"
   },
   {
    "duration": 105,
    "start_time": "2024-08-12T05:28:03.276Z"
   },
   {
    "duration": 381,
    "start_time": "2024-08-12T05:28:03.384Z"
   },
   {
    "duration": 95,
    "start_time": "2024-08-12T05:28:03.769Z"
   },
   {
    "duration": 34,
    "start_time": "2024-08-12T05:28:03.867Z"
   },
   {
    "duration": 12,
    "start_time": "2024-08-12T05:28:03.904Z"
   },
   {
    "duration": 13,
    "start_time": "2024-08-12T05:28:03.920Z"
   },
   {
    "duration": 10,
    "start_time": "2024-08-12T05:28:03.938Z"
   },
   {
    "duration": 98,
    "start_time": "2024-08-12T05:28:03.952Z"
   },
   {
    "duration": 66,
    "start_time": "2024-08-12T05:28:04.054Z"
   },
   {
    "duration": 238,
    "start_time": "2024-08-12T05:28:04.124Z"
   },
   {
    "duration": 348,
    "start_time": "2024-08-12T05:28:04.365Z"
   },
   {
    "duration": 48,
    "start_time": "2024-08-12T05:28:04.719Z"
   },
   {
    "duration": 375,
    "start_time": "2024-08-12T05:28:04.771Z"
   },
   {
    "duration": 55,
    "start_time": "2024-08-12T05:28:05.149Z"
   },
   {
    "duration": 129,
    "start_time": "2024-08-12T05:28:05.207Z"
   },
   {
    "duration": 93,
    "start_time": "2024-08-12T05:28:05.339Z"
   },
   {
    "duration": 41,
    "start_time": "2024-08-12T05:28:05.436Z"
   },
   {
    "duration": 38,
    "start_time": "2024-08-12T05:28:05.480Z"
   },
   {
    "duration": 25,
    "start_time": "2024-08-12T05:28:05.521Z"
   },
   {
    "duration": 54,
    "start_time": "2024-08-12T05:28:05.549Z"
   },
   {
    "duration": 304,
    "start_time": "2024-08-12T05:28:05.607Z"
   },
   {
    "duration": 24,
    "start_time": "2024-08-12T05:28:05.915Z"
   },
   {
    "duration": 62,
    "start_time": "2024-08-12T05:28:05.943Z"
   },
   {
    "duration": 22,
    "start_time": "2024-08-12T05:28:06.009Z"
   },
   {
    "duration": 9,
    "start_time": "2024-08-12T05:28:06.035Z"
   },
   {
    "duration": 72,
    "start_time": "2024-08-12T05:28:06.048Z"
   },
   {
    "duration": 10,
    "start_time": "2024-08-12T05:28:06.123Z"
   },
   {
    "duration": 7,
    "start_time": "2024-08-12T05:28:06.137Z"
   },
   {
    "duration": 66,
    "start_time": "2024-08-12T05:28:06.148Z"
   },
   {
    "duration": 10,
    "start_time": "2024-08-12T05:28:06.218Z"
   },
   {
    "duration": 15,
    "start_time": "2024-08-12T05:28:06.231Z"
   },
   {
    "duration": 21,
    "start_time": "2024-08-12T05:28:06.249Z"
   },
   {
    "duration": 5468,
    "start_time": "2024-08-13T01:36:09.668Z"
   },
   {
    "duration": 4851,
    "start_time": "2024-08-13T01:36:15.140Z"
   },
   {
    "duration": 151,
    "start_time": "2024-08-13T01:36:19.995Z"
   },
   {
    "duration": 395,
    "start_time": "2024-08-13T01:36:20.152Z"
   },
   {
    "duration": 110,
    "start_time": "2024-08-13T01:36:20.551Z"
   },
   {
    "duration": 19,
    "start_time": "2024-08-13T01:36:20.665Z"
   },
   {
    "duration": 14,
    "start_time": "2024-08-13T01:36:20.704Z"
   },
   {
    "duration": 15,
    "start_time": "2024-08-13T01:36:20.722Z"
   },
   {
    "duration": 13,
    "start_time": "2024-08-13T01:36:20.740Z"
   },
   {
    "duration": 64,
    "start_time": "2024-08-13T01:36:20.806Z"
   },
   {
    "duration": 69,
    "start_time": "2024-08-13T01:36:20.874Z"
   },
   {
    "duration": 278,
    "start_time": "2024-08-13T01:36:20.947Z"
   },
   {
    "duration": 400,
    "start_time": "2024-08-13T01:36:21.229Z"
   },
   {
    "duration": 51,
    "start_time": "2024-08-13T01:36:21.632Z"
   },
   {
    "duration": 300,
    "start_time": "2024-08-13T01:36:21.686Z"
   },
   {
    "duration": 1322,
    "start_time": "2024-08-13T01:36:22.001Z"
   },
   {
    "duration": 0,
    "start_time": "2024-08-13T01:36:23.329Z"
   },
   {
    "duration": 0,
    "start_time": "2024-08-13T01:36:23.332Z"
   },
   {
    "duration": 0,
    "start_time": "2024-08-13T01:36:23.335Z"
   },
   {
    "duration": 0,
    "start_time": "2024-08-13T01:36:23.337Z"
   },
   {
    "duration": 0,
    "start_time": "2024-08-13T01:36:23.339Z"
   },
   {
    "duration": 0,
    "start_time": "2024-08-13T01:36:23.341Z"
   },
   {
    "duration": 0,
    "start_time": "2024-08-13T01:36:23.343Z"
   },
   {
    "duration": 0,
    "start_time": "2024-08-13T01:36:23.345Z"
   },
   {
    "duration": 0,
    "start_time": "2024-08-13T01:36:23.348Z"
   },
   {
    "duration": 0,
    "start_time": "2024-08-13T01:36:23.350Z"
   },
   {
    "duration": 0,
    "start_time": "2024-08-13T01:36:23.352Z"
   },
   {
    "duration": 0,
    "start_time": "2024-08-13T01:36:23.354Z"
   },
   {
    "duration": 0,
    "start_time": "2024-08-13T01:36:23.402Z"
   },
   {
    "duration": 0,
    "start_time": "2024-08-13T01:36:23.404Z"
   },
   {
    "duration": 0,
    "start_time": "2024-08-13T01:36:23.406Z"
   },
   {
    "duration": 0,
    "start_time": "2024-08-13T01:36:23.409Z"
   },
   {
    "duration": 0,
    "start_time": "2024-08-13T01:36:23.411Z"
   },
   {
    "duration": 0,
    "start_time": "2024-08-13T01:36:23.414Z"
   },
   {
    "duration": 1306,
    "start_time": "2024-08-13T01:40:58.329Z"
   },
   {
    "duration": 3476,
    "start_time": "2024-08-13T01:40:59.640Z"
   },
   {
    "duration": 116,
    "start_time": "2024-08-13T01:41:03.118Z"
   },
   {
    "duration": 377,
    "start_time": "2024-08-13T01:41:03.239Z"
   },
   {
    "duration": 99,
    "start_time": "2024-08-13T01:41:03.620Z"
   },
   {
    "duration": 16,
    "start_time": "2024-08-13T01:41:03.722Z"
   },
   {
    "duration": 12,
    "start_time": "2024-08-13T01:41:03.742Z"
   },
   {
    "duration": 46,
    "start_time": "2024-08-13T01:41:03.758Z"
   },
   {
    "duration": 12,
    "start_time": "2024-08-13T01:41:03.808Z"
   },
   {
    "duration": 95,
    "start_time": "2024-08-13T01:41:03.826Z"
   },
   {
    "duration": 46,
    "start_time": "2024-08-13T01:41:03.925Z"
   },
   {
    "duration": 261,
    "start_time": "2024-08-13T01:41:03.977Z"
   },
   {
    "duration": 376,
    "start_time": "2024-08-13T01:41:04.241Z"
   },
   {
    "duration": 46,
    "start_time": "2024-08-13T01:41:04.620Z"
   },
   {
    "duration": 1327,
    "start_time": "2024-08-13T01:41:04.669Z"
   },
   {
    "duration": 0,
    "start_time": "2024-08-13T01:41:06.007Z"
   },
   {
    "duration": 0,
    "start_time": "2024-08-13T01:41:06.011Z"
   },
   {
    "duration": 0,
    "start_time": "2024-08-13T01:41:06.013Z"
   },
   {
    "duration": 0,
    "start_time": "2024-08-13T01:41:06.015Z"
   },
   {
    "duration": 0,
    "start_time": "2024-08-13T01:41:06.018Z"
   },
   {
    "duration": 0,
    "start_time": "2024-08-13T01:41:06.021Z"
   },
   {
    "duration": 0,
    "start_time": "2024-08-13T01:41:06.023Z"
   },
   {
    "duration": 0,
    "start_time": "2024-08-13T01:41:06.025Z"
   },
   {
    "duration": 0,
    "start_time": "2024-08-13T01:41:06.027Z"
   },
   {
    "duration": 0,
    "start_time": "2024-08-13T01:41:06.029Z"
   },
   {
    "duration": 0,
    "start_time": "2024-08-13T01:41:06.031Z"
   },
   {
    "duration": 0,
    "start_time": "2024-08-13T01:41:06.033Z"
   },
   {
    "duration": 0,
    "start_time": "2024-08-13T01:41:06.035Z"
   },
   {
    "duration": 0,
    "start_time": "2024-08-13T01:41:06.038Z"
   },
   {
    "duration": 0,
    "start_time": "2024-08-13T01:41:06.040Z"
   },
   {
    "duration": 0,
    "start_time": "2024-08-13T01:41:06.043Z"
   },
   {
    "duration": 0,
    "start_time": "2024-08-13T01:41:06.046Z"
   },
   {
    "duration": 0,
    "start_time": "2024-08-13T01:41:06.108Z"
   },
   {
    "duration": 0,
    "start_time": "2024-08-13T01:41:06.111Z"
   },
   {
    "duration": 1380,
    "start_time": "2024-08-13T01:41:36.089Z"
   },
   {
    "duration": 3326,
    "start_time": "2024-08-13T01:41:37.473Z"
   },
   {
    "duration": 113,
    "start_time": "2024-08-13T01:41:40.802Z"
   },
   {
    "duration": 384,
    "start_time": "2024-08-13T01:41:40.918Z"
   },
   {
    "duration": 81,
    "start_time": "2024-08-13T01:41:41.307Z"
   },
   {
    "duration": 16,
    "start_time": "2024-08-13T01:41:41.403Z"
   },
   {
    "duration": 12,
    "start_time": "2024-08-13T01:41:41.421Z"
   },
   {
    "duration": 13,
    "start_time": "2024-08-13T01:41:41.435Z"
   },
   {
    "duration": 52,
    "start_time": "2024-08-13T01:41:41.451Z"
   },
   {
    "duration": 57,
    "start_time": "2024-08-13T01:41:41.506Z"
   },
   {
    "duration": 74,
    "start_time": "2024-08-13T01:41:41.566Z"
   },
   {
    "duration": 229,
    "start_time": "2024-08-13T01:41:41.642Z"
   },
   {
    "duration": 371,
    "start_time": "2024-08-13T01:41:41.874Z"
   },
   {
    "duration": 54,
    "start_time": "2024-08-13T01:41:42.252Z"
   },
   {
    "duration": 497,
    "start_time": "2024-08-13T01:41:42.310Z"
   },
   {
    "duration": 17,
    "start_time": "2024-08-13T01:41:42.810Z"
   },
   {
    "duration": 73,
    "start_time": "2024-08-13T01:41:42.830Z"
   },
   {
    "duration": 30,
    "start_time": "2024-08-13T01:41:42.905Z"
   },
   {
    "duration": 29,
    "start_time": "2024-08-13T01:41:42.938Z"
   },
   {
    "duration": 21,
    "start_time": "2024-08-13T01:41:43.001Z"
   },
   {
    "duration": 25,
    "start_time": "2024-08-13T01:41:43.025Z"
   },
   {
    "duration": 50,
    "start_time": "2024-08-13T01:41:43.053Z"
   },
   {
    "duration": 330,
    "start_time": "2024-08-13T01:41:43.106Z"
   },
   {
    "duration": 21,
    "start_time": "2024-08-13T01:41:43.440Z"
   },
   {
    "duration": 39,
    "start_time": "2024-08-13T01:41:43.464Z"
   },
   {
    "duration": 19,
    "start_time": "2024-08-13T01:41:43.506Z"
   },
   {
    "duration": 9,
    "start_time": "2024-08-13T01:41:43.529Z"
   },
   {
    "duration": 73,
    "start_time": "2024-08-13T01:41:43.541Z"
   },
   {
    "duration": 11,
    "start_time": "2024-08-13T01:41:43.617Z"
   },
   {
    "duration": 8,
    "start_time": "2024-08-13T01:41:43.631Z"
   },
   {
    "duration": 61,
    "start_time": "2024-08-13T01:41:43.642Z"
   },
   {
    "duration": 10,
    "start_time": "2024-08-13T01:41:43.707Z"
   },
   {
    "duration": 13,
    "start_time": "2024-08-13T01:41:43.720Z"
   },
   {
    "duration": 24,
    "start_time": "2024-08-13T01:41:43.736Z"
   },
   {
    "duration": 1460,
    "start_time": "2024-08-13T01:42:02.860Z"
   },
   {
    "duration": 3133,
    "start_time": "2024-08-13T01:42:04.324Z"
   },
   {
    "duration": 104,
    "start_time": "2024-08-13T01:42:07.460Z"
   },
   {
    "duration": 369,
    "start_time": "2024-08-13T01:42:07.568Z"
   },
   {
    "duration": 107,
    "start_time": "2024-08-13T01:42:07.941Z"
   },
   {
    "duration": 17,
    "start_time": "2024-08-13T01:42:08.051Z"
   },
   {
    "duration": 33,
    "start_time": "2024-08-13T01:42:08.071Z"
   },
   {
    "duration": 14,
    "start_time": "2024-08-13T01:42:08.108Z"
   },
   {
    "duration": 11,
    "start_time": "2024-08-13T01:42:08.125Z"
   },
   {
    "duration": 111,
    "start_time": "2024-08-13T01:42:08.140Z"
   },
   {
    "duration": 64,
    "start_time": "2024-08-13T01:42:08.255Z"
   },
   {
    "duration": 270,
    "start_time": "2024-08-13T01:42:08.322Z"
   },
   {
    "duration": 394,
    "start_time": "2024-08-13T01:42:08.595Z"
   },
   {
    "duration": 56,
    "start_time": "2024-08-13T01:42:08.995Z"
   },
   {
    "duration": 517,
    "start_time": "2024-08-13T01:42:09.054Z"
   },
   {
    "duration": 27,
    "start_time": "2024-08-13T01:42:09.575Z"
   },
   {
    "duration": 49,
    "start_time": "2024-08-13T01:42:09.607Z"
   },
   {
    "duration": 55,
    "start_time": "2024-08-13T01:42:09.659Z"
   },
   {
    "duration": 27,
    "start_time": "2024-08-13T01:42:09.718Z"
   },
   {
    "duration": 20,
    "start_time": "2024-08-13T01:42:09.748Z"
   },
   {
    "duration": 22,
    "start_time": "2024-08-13T01:42:09.803Z"
   },
   {
    "duration": 18,
    "start_time": "2024-08-13T01:42:09.828Z"
   },
   {
    "duration": 325,
    "start_time": "2024-08-13T01:42:09.849Z"
   },
   {
    "duration": 29,
    "start_time": "2024-08-13T01:42:10.178Z"
   },
   {
    "duration": 11,
    "start_time": "2024-08-13T01:42:10.210Z"
   },
   {
    "duration": 76,
    "start_time": "2024-08-13T01:42:10.226Z"
   },
   {
    "duration": 10,
    "start_time": "2024-08-13T01:42:10.305Z"
   },
   {
    "duration": 19,
    "start_time": "2024-08-13T01:42:10.318Z"
   },
   {
    "duration": 9,
    "start_time": "2024-08-13T01:42:10.340Z"
   },
   {
    "duration": 52,
    "start_time": "2024-08-13T01:42:10.353Z"
   },
   {
    "duration": 16,
    "start_time": "2024-08-13T01:42:10.408Z"
   },
   {
    "duration": 9,
    "start_time": "2024-08-13T01:42:10.427Z"
   },
   {
    "duration": 14,
    "start_time": "2024-08-13T01:42:10.440Z"
   },
   {
    "duration": 62,
    "start_time": "2024-08-13T01:42:10.457Z"
   },
   {
    "duration": 1320,
    "start_time": "2024-08-13T01:47:22.467Z"
   },
   {
    "duration": 6115,
    "start_time": "2024-08-13T01:47:23.801Z"
   },
   {
    "duration": 163,
    "start_time": "2024-08-13T01:47:29.923Z"
   },
   {
    "duration": 410,
    "start_time": "2024-08-13T01:47:30.090Z"
   },
   {
    "duration": 103,
    "start_time": "2024-08-13T01:47:30.506Z"
   },
   {
    "duration": 19,
    "start_time": "2024-08-13T01:47:30.612Z"
   },
   {
    "duration": 16,
    "start_time": "2024-08-13T01:47:30.635Z"
   },
   {
    "duration": 48,
    "start_time": "2024-08-13T01:47:30.656Z"
   },
   {
    "duration": 11,
    "start_time": "2024-08-13T01:47:30.708Z"
   },
   {
    "duration": 96,
    "start_time": "2024-08-13T01:47:30.723Z"
   },
   {
    "duration": 52,
    "start_time": "2024-08-13T01:47:30.822Z"
   },
   {
    "duration": 293,
    "start_time": "2024-08-13T01:47:30.879Z"
   },
   {
    "duration": 441,
    "start_time": "2024-08-13T01:47:31.174Z"
   },
   {
    "duration": 45,
    "start_time": "2024-08-13T01:47:31.625Z"
   },
   {
    "duration": 441,
    "start_time": "2024-08-13T01:47:31.673Z"
   },
   {
    "duration": 24,
    "start_time": "2024-08-13T01:47:32.118Z"
   },
   {
    "duration": 92,
    "start_time": "2024-08-13T01:47:32.146Z"
   },
   {
    "duration": 32,
    "start_time": "2024-08-13T01:47:32.242Z"
   },
   {
    "duration": 64,
    "start_time": "2024-08-13T01:47:32.277Z"
   },
   {
    "duration": 23,
    "start_time": "2024-08-13T01:47:32.345Z"
   },
   {
    "duration": 43,
    "start_time": "2024-08-13T01:47:32.371Z"
   },
   {
    "duration": 21,
    "start_time": "2024-08-13T01:47:32.417Z"
   },
   {
    "duration": 345,
    "start_time": "2024-08-13T01:47:32.442Z"
   },
   {
    "duration": 27,
    "start_time": "2024-08-13T01:47:32.791Z"
   },
   {
    "duration": 15,
    "start_time": "2024-08-13T01:47:32.823Z"
   },
   {
    "duration": 69,
    "start_time": "2024-08-13T01:47:32.843Z"
   },
   {
    "duration": 10,
    "start_time": "2024-08-13T01:47:32.915Z"
   },
   {
    "duration": 20,
    "start_time": "2024-08-13T01:47:32.928Z"
   },
   {
    "duration": 52,
    "start_time": "2024-08-13T01:47:32.951Z"
   },
   {
    "duration": 8,
    "start_time": "2024-08-13T01:47:33.006Z"
   },
   {
    "duration": 16,
    "start_time": "2024-08-13T01:47:33.017Z"
   },
   {
    "duration": 10,
    "start_time": "2024-08-13T01:47:33.037Z"
   },
   {
    "duration": 56,
    "start_time": "2024-08-13T01:47:33.051Z"
   },
   {
    "duration": 24,
    "start_time": "2024-08-13T01:47:33.110Z"
   },
   {
    "duration": 1342,
    "start_time": "2024-08-13T01:53:33.781Z"
   },
   {
    "duration": 3462,
    "start_time": "2024-08-13T01:53:35.128Z"
   },
   {
    "duration": 109,
    "start_time": "2024-08-13T01:53:38.593Z"
   },
   {
    "duration": 397,
    "start_time": "2024-08-13T01:53:38.704Z"
   },
   {
    "duration": 99,
    "start_time": "2024-08-13T01:53:39.107Z"
   },
   {
    "duration": 16,
    "start_time": "2024-08-13T01:53:39.210Z"
   },
   {
    "duration": 19,
    "start_time": "2024-08-13T01:53:39.229Z"
   },
   {
    "duration": 50,
    "start_time": "2024-08-13T01:53:39.251Z"
   },
   {
    "duration": 11,
    "start_time": "2024-08-13T01:53:39.304Z"
   },
   {
    "duration": 84,
    "start_time": "2024-08-13T01:53:39.319Z"
   },
   {
    "duration": 48,
    "start_time": "2024-08-13T01:53:39.407Z"
   },
   {
    "duration": 263,
    "start_time": "2024-08-13T01:53:39.458Z"
   },
   {
    "duration": 411,
    "start_time": "2024-08-13T01:53:39.725Z"
   },
   {
    "duration": 44,
    "start_time": "2024-08-13T01:53:40.143Z"
   },
   {
    "duration": 375,
    "start_time": "2024-08-13T01:53:40.201Z"
   },
   {
    "duration": 29,
    "start_time": "2024-08-13T01:53:40.580Z"
   },
   {
    "duration": 56,
    "start_time": "2024-08-13T01:53:40.612Z"
   },
   {
    "duration": 51,
    "start_time": "2024-08-13T01:53:40.671Z"
   },
   {
    "duration": 34,
    "start_time": "2024-08-13T01:53:40.725Z"
   },
   {
    "duration": 45,
    "start_time": "2024-08-13T01:53:40.763Z"
   },
   {
    "duration": 25,
    "start_time": "2024-08-13T01:53:40.811Z"
   },
   {
    "duration": 18,
    "start_time": "2024-08-13T01:53:40.840Z"
   },
   {
    "duration": 341,
    "start_time": "2024-08-13T01:53:40.861Z"
   },
   {
    "duration": 21,
    "start_time": "2024-08-13T01:53:41.205Z"
   },
   {
    "duration": 12,
    "start_time": "2024-08-13T01:53:41.229Z"
   },
   {
    "duration": 72,
    "start_time": "2024-08-13T01:53:41.245Z"
   },
   {
    "duration": 9,
    "start_time": "2024-08-13T01:53:41.320Z"
   },
   {
    "duration": 71,
    "start_time": "2024-08-13T01:53:41.332Z"
   },
   {
    "duration": 11,
    "start_time": "2024-08-13T01:53:41.407Z"
   },
   {
    "duration": 8,
    "start_time": "2024-08-13T01:53:41.420Z"
   },
   {
    "duration": 17,
    "start_time": "2024-08-13T01:53:41.431Z"
   },
   {
    "duration": 52,
    "start_time": "2024-08-13T01:53:41.451Z"
   },
   {
    "duration": 15,
    "start_time": "2024-08-13T01:53:41.506Z"
   },
   {
    "duration": 21,
    "start_time": "2024-08-13T01:53:41.524Z"
   },
   {
    "duration": 1355,
    "start_time": "2024-08-14T19:14:38.829Z"
   },
   {
    "duration": 3677,
    "start_time": "2024-08-14T19:14:40.188Z"
   },
   {
    "duration": 120,
    "start_time": "2024-08-14T19:14:43.870Z"
   },
   {
    "duration": 366,
    "start_time": "2024-08-14T19:14:43.994Z"
   },
   {
    "duration": 120,
    "start_time": "2024-08-14T19:14:44.365Z"
   },
   {
    "duration": 20,
    "start_time": "2024-08-14T19:14:44.487Z"
   },
   {
    "duration": 25,
    "start_time": "2024-08-14T19:14:44.510Z"
   },
   {
    "duration": 13,
    "start_time": "2024-08-14T19:14:44.539Z"
   },
   {
    "duration": 11,
    "start_time": "2024-08-14T19:14:44.556Z"
   },
   {
    "duration": 104,
    "start_time": "2024-08-14T19:14:44.570Z"
   },
   {
    "duration": 72,
    "start_time": "2024-08-14T19:14:44.678Z"
   },
   {
    "duration": 233,
    "start_time": "2024-08-14T19:14:44.753Z"
   },
   {
    "duration": 348,
    "start_time": "2024-08-14T19:14:44.989Z"
   },
   {
    "duration": 53,
    "start_time": "2024-08-14T19:14:45.344Z"
   },
   {
    "duration": 353,
    "start_time": "2024-08-14T19:14:45.399Z"
   },
   {
    "duration": 22,
    "start_time": "2024-08-14T19:14:45.755Z"
   },
   {
    "duration": 77,
    "start_time": "2024-08-14T19:14:45.779Z"
   },
   {
    "duration": 33,
    "start_time": "2024-08-14T19:14:45.860Z"
   },
   {
    "duration": 47,
    "start_time": "2024-08-14T19:14:45.896Z"
   },
   {
    "duration": 19,
    "start_time": "2024-08-14T19:14:45.948Z"
   },
   {
    "duration": 25,
    "start_time": "2024-08-14T19:14:45.972Z"
   },
   {
    "duration": 19,
    "start_time": "2024-08-14T19:14:46.027Z"
   },
   {
    "duration": 288,
    "start_time": "2024-08-14T19:14:46.050Z"
   },
   {
    "duration": 18,
    "start_time": "2024-08-14T19:14:46.341Z"
   },
   {
    "duration": 10,
    "start_time": "2024-08-14T19:14:46.362Z"
   },
   {
    "duration": 20,
    "start_time": "2024-08-14T19:14:46.428Z"
   },
   {
    "duration": 9,
    "start_time": "2024-08-14T19:14:46.451Z"
   },
   {
    "duration": 66,
    "start_time": "2024-08-14T19:14:46.463Z"
   },
   {
    "duration": 12,
    "start_time": "2024-08-14T19:14:46.532Z"
   },
   {
    "duration": 8,
    "start_time": "2024-08-14T19:14:46.547Z"
   },
   {
    "duration": 17,
    "start_time": "2024-08-14T19:14:46.559Z"
   },
   {
    "duration": 11,
    "start_time": "2024-08-14T19:14:46.579Z"
   },
   {
    "duration": 12,
    "start_time": "2024-08-14T19:14:46.628Z"
   },
   {
    "duration": 24,
    "start_time": "2024-08-14T19:14:46.643Z"
   },
   {
    "duration": 35,
    "start_time": "2024-08-14T19:14:54.375Z"
   }
  ],
  "kernelspec": {
   "display_name": "Python 3 (ipykernel)",
   "language": "python",
   "name": "python3"
  },
  "language_info": {
   "codemirror_mode": {
    "name": "ipython",
    "version": 3
   },
   "file_extension": ".py",
   "mimetype": "text/x-python",
   "name": "python",
   "nbconvert_exporter": "python",
   "pygments_lexer": "ipython3",
   "version": "3.11.7"
  },
  "toc": {
   "base_numbering": 1,
   "nav_menu": {},
   "number_sections": true,
   "sideBar": true,
   "skip_h1_title": true,
   "title_cell": "Table of Contents",
   "title_sidebar": "Contents",
   "toc_cell": false,
   "toc_position": {},
   "toc_section_display": true,
   "toc_window_display": false
  }
 },
 "nbformat": 4,
 "nbformat_minor": 2
}
