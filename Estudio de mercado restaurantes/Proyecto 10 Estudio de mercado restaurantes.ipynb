{
 "cells": [
  {
   "cell_type": "markdown",
   "metadata": {},
   "source": [
    "# Introduccion"
   ]
  },
  {
   "cell_type": "markdown",
   "metadata": {},
   "source": [
    "Se ha decidido abrir un pequeño café reagentado por robots en Los Angeles, por lo que se decidé hacer un estudio de las condiciones actuales de mercado y así tener un perspectiva más amplia para la toma de decisones"
   ]
  },
  {
   "cell_type": "markdown",
   "metadata": {},
   "source": [
    "Presentation: <https://github.com/JesusAntonioFelix/ANALISIS-RESTAURANTES-EN-LOS-ANGELES.git>"
   ]
  },
  {
   "cell_type": "markdown",
   "metadata": {},
   "source": [
    "# Procesamiento de datos"
   ]
  },
  {
   "cell_type": "markdown",
   "metadata": {},
   "source": [
    "Se importa las librerias y las bases de datos."
   ]
  },
  {
   "cell_type": "code",
   "execution_count": 1,
   "metadata": {},
   "outputs": [],
   "source": [
    "import pandas as pd\n",
    "import matplotlib.pyplot as plt\n",
    "import numpy as np\n",
    "import seaborn as sns\n"
   ]
  },
  {
   "cell_type": "code",
   "execution_count": 2,
   "metadata": {},
   "outputs": [],
   "source": [
    "#Importacion base de datos\n",
    "rest_data = pd.read_csv('/datasets/rest_data_us_upd.csv')"
   ]
  },
  {
   "cell_type": "code",
   "execution_count": 3,
   "metadata": {},
   "outputs": [
    {
     "name": "stdout",
     "output_type": "stream",
     "text": [
      "<class 'pandas.core.frame.DataFrame'>\n",
      "RangeIndex: 9651 entries, 0 to 9650\n",
      "Data columns (total 6 columns):\n",
      " #   Column       Non-Null Count  Dtype \n",
      "---  ------       --------------  ----- \n",
      " 0   id           9651 non-null   int64 \n",
      " 1   object_name  9651 non-null   object\n",
      " 2   address      9651 non-null   object\n",
      " 3   chain        9648 non-null   object\n",
      " 4   object_type  9651 non-null   object\n",
      " 5   number       9651 non-null   int64 \n",
      "dtypes: int64(2), object(4)\n",
      "memory usage: 452.5+ KB\n",
      "None\n"
     ]
    }
   ],
   "source": [
    "#Obtencion de información de la base de datos\n",
    "\n",
    "print(rest_data.info())"
   ]
  },
  {
   "cell_type": "code",
   "execution_count": 4,
   "metadata": {},
   "outputs": [
    {
     "data": {
      "text/html": [
       "<div>\n",
       "<style scoped>\n",
       "    .dataframe tbody tr th:only-of-type {\n",
       "        vertical-align: middle;\n",
       "    }\n",
       "\n",
       "    .dataframe tbody tr th {\n",
       "        vertical-align: top;\n",
       "    }\n",
       "\n",
       "    .dataframe thead th {\n",
       "        text-align: right;\n",
       "    }\n",
       "</style>\n",
       "<table border=\"1\" class=\"dataframe\">\n",
       "  <thead>\n",
       "    <tr style=\"text-align: right;\">\n",
       "      <th></th>\n",
       "      <th>id</th>\n",
       "      <th>object_name</th>\n",
       "      <th>address</th>\n",
       "      <th>chain</th>\n",
       "      <th>object_type</th>\n",
       "      <th>number</th>\n",
       "    </tr>\n",
       "  </thead>\n",
       "  <tbody>\n",
       "    <tr>\n",
       "      <th>0</th>\n",
       "      <td>11786</td>\n",
       "      <td>HABITAT COFFEE SHOP</td>\n",
       "      <td>3708 N EAGLE ROCK BLVD</td>\n",
       "      <td>False</td>\n",
       "      <td>Cafe</td>\n",
       "      <td>26</td>\n",
       "    </tr>\n",
       "    <tr>\n",
       "      <th>1</th>\n",
       "      <td>11787</td>\n",
       "      <td>REILLY'S</td>\n",
       "      <td>100 WORLD WAY 120</td>\n",
       "      <td>False</td>\n",
       "      <td>Restaurant</td>\n",
       "      <td>9</td>\n",
       "    </tr>\n",
       "    <tr>\n",
       "      <th>2</th>\n",
       "      <td>11788</td>\n",
       "      <td>STREET CHURROS</td>\n",
       "      <td>6801 HOLLYWOOD BLVD 253</td>\n",
       "      <td>False</td>\n",
       "      <td>Fast Food</td>\n",
       "      <td>20</td>\n",
       "    </tr>\n",
       "    <tr>\n",
       "      <th>3</th>\n",
       "      <td>11789</td>\n",
       "      <td>TRINITI ECHO PARK</td>\n",
       "      <td>1814 W SUNSET BLVD</td>\n",
       "      <td>False</td>\n",
       "      <td>Restaurant</td>\n",
       "      <td>22</td>\n",
       "    </tr>\n",
       "    <tr>\n",
       "      <th>4</th>\n",
       "      <td>11790</td>\n",
       "      <td>POLLEN</td>\n",
       "      <td>2100 ECHO PARK AVE</td>\n",
       "      <td>False</td>\n",
       "      <td>Restaurant</td>\n",
       "      <td>20</td>\n",
       "    </tr>\n",
       "    <tr>\n",
       "      <th>...</th>\n",
       "      <td>...</td>\n",
       "      <td>...</td>\n",
       "      <td>...</td>\n",
       "      <td>...</td>\n",
       "      <td>...</td>\n",
       "      <td>...</td>\n",
       "    </tr>\n",
       "    <tr>\n",
       "      <th>9646</th>\n",
       "      <td>21432</td>\n",
       "      <td>HALL OF JUSTICE</td>\n",
       "      <td>217 W TEMPLE AVE</td>\n",
       "      <td>False</td>\n",
       "      <td>Restaurant</td>\n",
       "      <td>122</td>\n",
       "    </tr>\n",
       "    <tr>\n",
       "      <th>9647</th>\n",
       "      <td>21433</td>\n",
       "      <td>FIN-MELROSE</td>\n",
       "      <td>5750 MELROSE AVE</td>\n",
       "      <td>False</td>\n",
       "      <td>Restaurant</td>\n",
       "      <td>93</td>\n",
       "    </tr>\n",
       "    <tr>\n",
       "      <th>9648</th>\n",
       "      <td>21434</td>\n",
       "      <td>JUICY WINGZ</td>\n",
       "      <td>6741 HOLLYWOOD BLVD</td>\n",
       "      <td>True</td>\n",
       "      <td>Fast Food</td>\n",
       "      <td>15</td>\n",
       "    </tr>\n",
       "    <tr>\n",
       "      <th>9649</th>\n",
       "      <td>21435</td>\n",
       "      <td>MEDIDATE COFFEE</td>\n",
       "      <td>548 S SPRING ST STE 100</td>\n",
       "      <td>False</td>\n",
       "      <td>Cafe</td>\n",
       "      <td>6</td>\n",
       "    </tr>\n",
       "    <tr>\n",
       "      <th>9650</th>\n",
       "      <td>21436</td>\n",
       "      <td>CAFE SPROUTS</td>\n",
       "      <td>1300 S SAN PEDRO ST STE 111</td>\n",
       "      <td>True</td>\n",
       "      <td>Restaurant</td>\n",
       "      <td>19</td>\n",
       "    </tr>\n",
       "  </tbody>\n",
       "</table>\n",
       "<p>9651 rows × 6 columns</p>\n",
       "</div>"
      ],
      "text/plain": [
       "         id          object_name                      address  chain  \\\n",
       "0     11786  HABITAT COFFEE SHOP       3708 N EAGLE ROCK BLVD  False   \n",
       "1     11787             REILLY'S            100 WORLD WAY 120  False   \n",
       "2     11788       STREET CHURROS      6801 HOLLYWOOD BLVD 253  False   \n",
       "3     11789    TRINITI ECHO PARK           1814 W SUNSET BLVD  False   \n",
       "4     11790               POLLEN           2100 ECHO PARK AVE  False   \n",
       "...     ...                  ...                          ...    ...   \n",
       "9646  21432      HALL OF JUSTICE             217 W TEMPLE AVE  False   \n",
       "9647  21433          FIN-MELROSE             5750 MELROSE AVE  False   \n",
       "9648  21434          JUICY WINGZ          6741 HOLLYWOOD BLVD   True   \n",
       "9649  21435      MEDIDATE COFFEE      548 S SPRING ST STE 100  False   \n",
       "9650  21436         CAFE SPROUTS  1300 S SAN PEDRO ST STE 111   True   \n",
       "\n",
       "     object_type  number  \n",
       "0           Cafe      26  \n",
       "1     Restaurant       9  \n",
       "2      Fast Food      20  \n",
       "3     Restaurant      22  \n",
       "4     Restaurant      20  \n",
       "...          ...     ...  \n",
       "9646  Restaurant     122  \n",
       "9647  Restaurant      93  \n",
       "9648   Fast Food      15  \n",
       "9649        Cafe       6  \n",
       "9650  Restaurant      19  \n",
       "\n",
       "[9651 rows x 6 columns]"
      ]
     },
     "metadata": {},
     "output_type": "display_data"
    }
   ],
   "source": [
    "#Información de las columnas\n",
    "\n",
    "display(rest_data)"
   ]
  },
  {
   "cell_type": "code",
   "execution_count": 5,
   "metadata": {},
   "outputs": [
    {
     "name": "stdout",
     "output_type": "stream",
     "text": [
      "0\n"
     ]
    }
   ],
   "source": [
    "duplicates = rest_data.duplicated()\n",
    "print(duplicates.sum())"
   ]
  },
  {
   "cell_type": "markdown",
   "metadata": {},
   "source": [
    "# Analisis de datos"
   ]
  },
  {
   "cell_type": "code",
   "execution_count": 6,
   "metadata": {},
   "outputs": [
    {
     "name": "stdout",
     "output_type": "stream",
     "text": [
      "object_type\n",
      "Bakery        0.029323\n",
      "Bar           0.030256\n",
      "Cafe          0.045073\n",
      "Fast Food     0.110455\n",
      "Pizza         0.033157\n",
      "Restaurant    0.751736\n",
      "dtype: float64\n"
     ]
    },
    {
     "data": {
      "image/png": "[encoded data removed]",
      "text/plain": [
       "<Figure size 640x480 with 1 Axes>"
      ]
     },
     "metadata": {},
     "output_type": "display_data"
    }
   ],
   "source": [
    "#Proporciones por tipo de establecimiento.\n",
    "proporciones = rest_data.groupby('object_type').size() / rest_data['object_type'].count()\n",
    "\n",
    "\n",
    "\n",
    "print(proporciones)\n",
    "\n",
    "plt.pie(proporciones, labels=proporciones.index, autopct='%1.1f%%')\n",
    "plt.title('Tipos de establecimientos')\n",
    "plt.show()"
   ]
  },
  {
   "cell_type": "markdown",
   "metadata": {},
   "source": [
    "Se puede ver que la mayoria de establecimientos en la ciudad son de tipo restaurantes, siendo un 75% mientras los siguientes son fast food con 11% y café con 4.5%"
   ]
  },
  {
   "cell_type": "code",
   "execution_count": 7,
   "metadata": {},
   "outputs": [
    {
     "name": "stdout",
     "output_type": "stream",
     "text": [
      "chain\n",
      "No cadena    0.618988\n",
      "Cadena       0.381012\n",
      "dtype: float64\n"
     ]
    },
    {
     "data": {
      "image/png": "[encoded data removed]",
      "text/plain": [
       "<Figure size 640x480 with 1 Axes>"
      ]
     },
     "metadata": {},
     "output_type": "display_data"
    }
   ],
   "source": [
    "#Proporciones de los establecimientos que pertenecen a una cadena y de los que no. \n",
    "\n",
    "proporciones_cadena = rest_data.groupby('chain').size() / rest_data['chain'].count()\n",
    "\n",
    "proporciones_cadena = proporciones_cadena.rename({False: 'No cadena', True : 'Cadena'})\n",
    "\n",
    "print(proporciones_cadena)\n",
    "\n",
    "plt.pie(proporciones_cadena, labels=proporciones_cadena.index, autopct='%1.1f%%')\n",
    "plt.title('Cadena vs No cadena')\n",
    "plt.show()"
   ]
  },
  {
   "cell_type": "markdown",
   "metadata": {},
   "source": [
    "Los datos arrojan que el 61.9% de los establecimientos no son cadena, mientras que el 38.1% si lo son"
   ]
  },
  {
   "cell_type": "code",
   "execution_count": 8,
   "metadata": {},
   "outputs": [
    {
     "name": "stdout",
     "output_type": "stream",
     "text": [
      "object_type\n",
      "Bakery         283\n",
      "Bar             77\n",
      "Cafe           266\n",
      "Fast Food      605\n",
      "Pizza          153\n",
      "Restaurant    2292\n",
      "dtype: int64\n",
      "\n",
      "object_type\n",
      "Bar            215\n",
      "Cafe           169\n",
      "Fast Food      461\n",
      "Pizza          166\n",
      "Restaurant    4961\n",
      "dtype: int64\n",
      "object_type\n",
      "Bakery             NaN\n",
      "Bar           0.263699\n",
      "Cafe          0.611494\n",
      "Fast Food     0.567542\n",
      "Pizza         0.479624\n",
      "Restaurant    0.316007\n",
      "dtype: float64\n"
     ]
    },
    {
     "data": {
      "image/png": "[encoded data removed]",
      "text/plain": [
       "<Figure size 640x480 with 1 Axes>"
      ]
     },
     "metadata": {},
     "output_type": "display_data"
    }
   ],
   "source": [
    "# Tipo de establecimiento en cadenas\n",
    "\n",
    "\n",
    "# datos en cadenas y no cadenas\n",
    "cadenas = rest_data[rest_data['chain'] == True]\n",
    "no_cadenas = rest_data[rest_data['chain'] == False]\n",
    "\n",
    "cadenas_tipo = cadenas.groupby('object_type').size()\n",
    "no_cadenas_tipo = no_cadenas.groupby('object_type').size()\n",
    "\n",
    "\n",
    "print(cadenas_tipo)\n",
    "\n",
    "print()\n",
    "\n",
    "print(no_cadenas_tipo)\n",
    "\n",
    "#Total entre cadenas y no cadenas por tipo de establecimiento\n",
    "total_tipo = cadenas_tipo + no_cadenas_tipo\n",
    "#Propocion de cadenas\n",
    "proporcion_cadenas = cadenas_tipo / total_tipo\n",
    "\n",
    "print(proporcion_cadenas)\n",
    "\n",
    "data = pd.DataFrame({'Cadenas': cadenas_tipo, 'No Cadenas': no_cadenas_tipo}).fillna(0)\n",
    "\n",
    "# Calcula la proporción\n",
    "proporcion = data.div(data.sum(axis=1), axis=0)\n",
    "\n",
    "# Gráfico de barras apiladas\n",
    "proporcion.plot(kind='bar', stacked=True, color=['#1f77b4', '#ff7f0e'])\n",
    "\n",
    "\n",
    "plt.xlabel('Tipo de establecimiento')\n",
    "plt.ylabel('Proporción')\n",
    "plt.title('Proporción de Cadenas y No Cadenas por Tipo de Objeto')\n",
    "plt.legend(title='Tipo de Restaurante')\n",
    "plt.show()\n"
   ]
  },
  {
   "cell_type": "markdown",
   "metadata": {},
   "source": [
    "Se puede decir que poco mas de la mitd de cafes son cadenas pues estos son un 61% mientras que comida rapida son 56% cadenas,   los demas tipos no superan ni siquiera el 50%, por lo que se puede decir que la mayoria de pizzerias, restaurantes y bares no son cadenas."
   ]
  },
  {
   "cell_type": "code",
   "execution_count": 9,
   "metadata": {},
   "outputs": [
    {
     "name": "stdout",
     "output_type": "stream",
     "text": [
      "              count       mean        std  min   25%   50%    75%    max\n",
      "object_type                                                             \n",
      "Bakery        283.0  21.773852  25.691123  1.0   9.0  18.0  24.00  218.0\n",
      "Bar            77.0  40.259740  45.340351  1.0  12.0  21.0  44.00  194.0\n",
      "Cafe          266.0  25.917293  20.334391  1.0  12.0  22.0  36.75  143.0\n",
      "Fast Food     605.0  38.089256  40.623436  1.0  12.0  24.0  43.00  227.0\n",
      "Pizza         153.0  25.529412  33.538481  1.0   9.0  16.0  27.00  192.0\n",
      "Restaurant   2292.0  44.856021  47.086965  1.0  15.0  28.0  47.00  229.0\n"
     ]
    },
    {
     "data": {
      "image/png": "[encoded data removed]",
      "text/plain": [
       "<Figure size 640x480 with 1 Axes>"
      ]
     },
     "metadata": {},
     "output_type": "display_data"
    }
   ],
   "source": [
    "# ¿Qué caracteriza a las cadenas: muchos establecimientos con un pequeño número de asientos o unos pocos establecimientos con un montón de asientos?\n",
    "\n",
    "cadenas = rest_data[rest_data['chain'] == True]\n",
    "\n",
    "\n",
    "cadenas = rest_data[rest_data['chain'] == True]\n",
    "\n",
    "\n",
    "\n",
    "sns.boxplot(x='object_type', y='number', data = cadenas)\n",
    "\n",
    "\n",
    "descriptive_stats_by_object_type = cadenas.groupby('object_type')['number'].describe()\n",
    "print(descriptive_stats_by_object_type)\n"
   ]
  },
  {
   "cell_type": "markdown",
   "metadata": {},
   "source": [
    "Las cadenas suelen tener un promedio de asientos entre 21 y 44 siendo los restaurantes que suelen tener los datos más atipicos pues llegan a haber bastantes restaurantes de hasta 200 asientos, podriamos decir que es el tipo de establecimiento que más varia(eso se puede notar incluso en la desviación estandard de 47 que es la más alta). Del lado contrario los cafes son los que menos varian(desviación estandard de 20), las pizerrias y las panaderias suelen tener muy poca variacion tambien, sin embargo hay más casos especiales(datos atipicos)"
   ]
  },
  {
   "cell_type": "code",
   "execution_count": 10,
   "metadata": {},
   "outputs": [
    {
     "name": "stdout",
     "output_type": "stream",
     "text": [
      "              count       mean        std  min   25%   50%   75%    max\n",
      "object_type                                                            \n",
      "Bakery        283.0  21.773852  25.691123  1.0   9.0  18.0  24.0  218.0\n",
      "Bar           292.0  44.767123  46.793403  1.0  13.0  28.5  48.0  227.0\n",
      "Cafe          435.0  25.000000  21.321870  1.0  11.0  21.0  34.0  143.0\n",
      "Fast Food    1066.0  31.837711  35.092111  1.0  11.0  21.0  37.0  227.0\n",
      "Pizza         320.0  28.459375  35.415291  1.0   9.0  18.5  29.0  216.0\n",
      "Restaurant   7255.0  48.042316  50.505788  1.0  15.0  29.0  49.0  229.0\n"
     ]
    },
    {
     "data": {
      "image/png": "[encoded data removed]",
      "text/plain": [
       "<Figure size 640x480 with 1 Axes>"
      ]
     },
     "metadata": {},
     "output_type": "display_data"
    }
   ],
   "source": [
    "#Promedio de número de asientos para cada tipo de restaurante. De promedio, ¿qué tipo de restaurante tiene el mayor número de asientos?\n",
    "\n",
    "promedio_asientos = sns.boxplot(x='object_type', y='number', data = rest_data)\n",
    "\n",
    "statistics_number = rest_data.groupby('object_type')['number'].describe()\n",
    "\n",
    "print(statistics_number)"
   ]
  },
  {
   "cell_type": "markdown",
   "metadata": {},
   "source": [
    "En estas grafica se toma en cuenta cadenas y no cadenas, podemos ver que sigue habiendo similitud contra la anterior grafica, se ve que restaurante sigue siendo el que más varia(desviación estandard más alta), también se puede ver que los cafes son ls que menos varian(menor desviacion estandard)."
   ]
  },
  {
   "cell_type": "code",
   "execution_count": 11,
   "metadata": {},
   "outputs": [
    {
     "data": {
      "text/html": [
       "<div>\n",
       "<style scoped>\n",
       "    .dataframe tbody tr th:only-of-type {\n",
       "        vertical-align: middle;\n",
       "    }\n",
       "\n",
       "    .dataframe tbody tr th {\n",
       "        vertical-align: top;\n",
       "    }\n",
       "\n",
       "    .dataframe thead th {\n",
       "        text-align: right;\n",
       "    }\n",
       "</style>\n",
       "<table border=\"1\" class=\"dataframe\">\n",
       "  <thead>\n",
       "    <tr style=\"text-align: right;\">\n",
       "      <th></th>\n",
       "      <th>id</th>\n",
       "      <th>object_name</th>\n",
       "      <th>address</th>\n",
       "      <th>chain</th>\n",
       "      <th>object_type</th>\n",
       "      <th>number</th>\n",
       "      <th>street_name</th>\n",
       "    </tr>\n",
       "  </thead>\n",
       "  <tbody>\n",
       "    <tr>\n",
       "      <th>0</th>\n",
       "      <td>11786</td>\n",
       "      <td>HABITAT COFFEE SHOP</td>\n",
       "      <td>3708 N EAGLE ROCK BLVD</td>\n",
       "      <td>False</td>\n",
       "      <td>Cafe</td>\n",
       "      <td>26</td>\n",
       "      <td>N EAGLE ROCK BLVD</td>\n",
       "    </tr>\n",
       "    <tr>\n",
       "      <th>1</th>\n",
       "      <td>11787</td>\n",
       "      <td>REILLY'S</td>\n",
       "      <td>100 WORLD WAY 120</td>\n",
       "      <td>False</td>\n",
       "      <td>Restaurant</td>\n",
       "      <td>9</td>\n",
       "      <td>WORLD WAY 120</td>\n",
       "    </tr>\n",
       "    <tr>\n",
       "      <th>2</th>\n",
       "      <td>11788</td>\n",
       "      <td>STREET CHURROS</td>\n",
       "      <td>6801 HOLLYWOOD BLVD 253</td>\n",
       "      <td>False</td>\n",
       "      <td>Fast Food</td>\n",
       "      <td>20</td>\n",
       "      <td>HOLLYWOOD BLVD 253</td>\n",
       "    </tr>\n",
       "    <tr>\n",
       "      <th>3</th>\n",
       "      <td>11789</td>\n",
       "      <td>TRINITI ECHO PARK</td>\n",
       "      <td>1814 W SUNSET BLVD</td>\n",
       "      <td>False</td>\n",
       "      <td>Restaurant</td>\n",
       "      <td>22</td>\n",
       "      <td>W SUNSET BLVD</td>\n",
       "    </tr>\n",
       "    <tr>\n",
       "      <th>4</th>\n",
       "      <td>11790</td>\n",
       "      <td>POLLEN</td>\n",
       "      <td>2100 ECHO PARK AVE</td>\n",
       "      <td>False</td>\n",
       "      <td>Restaurant</td>\n",
       "      <td>20</td>\n",
       "      <td>ECHO PARK AVE</td>\n",
       "    </tr>\n",
       "    <tr>\n",
       "      <th>...</th>\n",
       "      <td>...</td>\n",
       "      <td>...</td>\n",
       "      <td>...</td>\n",
       "      <td>...</td>\n",
       "      <td>...</td>\n",
       "      <td>...</td>\n",
       "      <td>...</td>\n",
       "    </tr>\n",
       "    <tr>\n",
       "      <th>9646</th>\n",
       "      <td>21432</td>\n",
       "      <td>HALL OF JUSTICE</td>\n",
       "      <td>217 W TEMPLE AVE</td>\n",
       "      <td>False</td>\n",
       "      <td>Restaurant</td>\n",
       "      <td>122</td>\n",
       "      <td>W TEMPLE AVE</td>\n",
       "    </tr>\n",
       "    <tr>\n",
       "      <th>9647</th>\n",
       "      <td>21433</td>\n",
       "      <td>FIN-MELROSE</td>\n",
       "      <td>5750 MELROSE AVE</td>\n",
       "      <td>False</td>\n",
       "      <td>Restaurant</td>\n",
       "      <td>93</td>\n",
       "      <td>MELROSE AVE</td>\n",
       "    </tr>\n",
       "    <tr>\n",
       "      <th>9648</th>\n",
       "      <td>21434</td>\n",
       "      <td>JUICY WINGZ</td>\n",
       "      <td>6741 HOLLYWOOD BLVD</td>\n",
       "      <td>True</td>\n",
       "      <td>Fast Food</td>\n",
       "      <td>15</td>\n",
       "      <td>HOLLYWOOD BLVD</td>\n",
       "    </tr>\n",
       "    <tr>\n",
       "      <th>9649</th>\n",
       "      <td>21435</td>\n",
       "      <td>MEDIDATE COFFEE</td>\n",
       "      <td>548 S SPRING ST STE 100</td>\n",
       "      <td>False</td>\n",
       "      <td>Cafe</td>\n",
       "      <td>6</td>\n",
       "      <td>S SPRING ST STE 100</td>\n",
       "    </tr>\n",
       "    <tr>\n",
       "      <th>9650</th>\n",
       "      <td>21436</td>\n",
       "      <td>CAFE SPROUTS</td>\n",
       "      <td>1300 S SAN PEDRO ST STE 111</td>\n",
       "      <td>True</td>\n",
       "      <td>Restaurant</td>\n",
       "      <td>19</td>\n",
       "      <td>S SAN PEDRO ST STE 111</td>\n",
       "    </tr>\n",
       "  </tbody>\n",
       "</table>\n",
       "<p>9651 rows × 7 columns</p>\n",
       "</div>"
      ],
      "text/plain": [
       "         id          object_name                      address  chain  \\\n",
       "0     11786  HABITAT COFFEE SHOP       3708 N EAGLE ROCK BLVD  False   \n",
       "1     11787             REILLY'S            100 WORLD WAY 120  False   \n",
       "2     11788       STREET CHURROS      6801 HOLLYWOOD BLVD 253  False   \n",
       "3     11789    TRINITI ECHO PARK           1814 W SUNSET BLVD  False   \n",
       "4     11790               POLLEN           2100 ECHO PARK AVE  False   \n",
       "...     ...                  ...                          ...    ...   \n",
       "9646  21432      HALL OF JUSTICE             217 W TEMPLE AVE  False   \n",
       "9647  21433          FIN-MELROSE             5750 MELROSE AVE  False   \n",
       "9648  21434          JUICY WINGZ          6741 HOLLYWOOD BLVD   True   \n",
       "9649  21435      MEDIDATE COFFEE      548 S SPRING ST STE 100  False   \n",
       "9650  21436         CAFE SPROUTS  1300 S SAN PEDRO ST STE 111   True   \n",
       "\n",
       "     object_type  number             street_name  \n",
       "0           Cafe      26       N EAGLE ROCK BLVD  \n",
       "1     Restaurant       9           WORLD WAY 120  \n",
       "2      Fast Food      20      HOLLYWOOD BLVD 253  \n",
       "3     Restaurant      22           W SUNSET BLVD  \n",
       "4     Restaurant      20           ECHO PARK AVE  \n",
       "...          ...     ...                     ...  \n",
       "9646  Restaurant     122            W TEMPLE AVE  \n",
       "9647  Restaurant      93             MELROSE AVE  \n",
       "9648   Fast Food      15          HOLLYWOOD BLVD  \n",
       "9649        Cafe       6     S SPRING ST STE 100  \n",
       "9650  Restaurant      19  S SAN PEDRO ST STE 111  \n",
       "\n",
       "[9651 rows x 7 columns]"
      ]
     },
     "metadata": {},
     "output_type": "display_data"
    }
   ],
   "source": [
    "# Se colocan los datos de los nombres de las calles de la columna address en una columna separada.\n",
    "\n",
    "\n",
    "# Separar los nombres de las calles\n",
    "rest_data['street_name'] = rest_data['address'].apply(lambda x: ' '.join(x.split()[1:]))\n",
    "\n",
    "# Mostrar el DataFrame actualizado\n",
    "display(rest_data)"
   ]
  },
  {
   "cell_type": "code",
   "execution_count": 12,
   "metadata": {
    "scrolled": true
   },
   "outputs": [
    {
     "name": "stdout",
     "output_type": "stream",
     "text": [
      "street_name\n",
      "W SUNSET BLVD        296\n",
      "W PICO BLVD          288\n",
      "HOLLYWOOD BLVD       167\n",
      "WILSHIRE BLVD        161\n",
      "S VERMONT AVE        148\n",
      "SANTA MONICA BLVD    146\n",
      "W 3RD ST             145\n",
      "BEVERLY BLVD         135\n",
      "S FIGUEROA ST        134\n",
      "MELROSE AVE          128\n",
      "Name: object_type, dtype: int64\n"
     ]
    },
    {
     "data": {
      "image/png": "[encoded data removed]",
      "text/plain": [
       "<Figure size 1200x800 with 1 Axes>"
      ]
     },
     "metadata": {},
     "output_type": "display_data"
    }
   ],
   "source": [
    "#Diez mejores calles por número de restaurantes.\n",
    "\n",
    "\n",
    "calles_restaurantes = rest_data.groupby('street_name')['object_type'].count()\n",
    "\n",
    "top_10 = calles_restaurantes.sort_values(ascending=False).head(10)\n",
    "\n",
    "print(top_10)\n",
    "\n",
    "plt.figure(figsize=(12, 8))\n",
    "plt.bar(top_10.index, top_10.values)\n",
    "plt.title('Top 10 calles con más restaurantes')\n",
    "plt.xlabel('Restaurantes')\n",
    "plt.ylabel('Cantidad restaurantes')\n",
    "plt.xticks(rotation=45)\n",
    "plt.show()\n",
    "\n"
   ]
  },
  {
   "cell_type": "markdown",
   "metadata": {},
   "source": [
    "Las calles con más establecimientos son W sunset con 296 establecimientos, W pico con 288 establecimientos y Hollywood con 167 establecimientos.\n",
    "\n"
   ]
  },
  {
   "cell_type": "code",
   "execution_count": 13,
   "metadata": {},
   "outputs": [
    {
     "name": "stdout",
     "output_type": "stream",
     "text": [
      "Calles con un restaurante: 2445\n"
     ]
    }
   ],
   "source": [
    "#Numero de calles que solo tienen un restaurante.\n",
    "\n",
    "\n",
    "calles_restaurantes = rest_data.groupby('street_name')['object_type'].count()\n",
    "\n",
    "calles_un_restaurante = calles_restaurantes[calles_restaurantes==1]\n",
    "\n",
    "\n",
    "print('Calles con un restaurante:', calles_un_restaurante.count())\n",
    "                                            "
   ]
  },
  {
   "cell_type": "code",
   "execution_count": 14,
   "metadata": {},
   "outputs": [
    {
     "name": "stdout",
     "output_type": "stream",
     "text": [
      "                   count       mean        std  min    25%   50%    75%    max\n",
      "street_name                                                                   \n",
      "BEVERLY BLVD       135.0  44.770370  43.946362  1.0  17.00  29.0  48.00  218.0\n",
      "HOLLYWOOD BLVD     167.0  53.730539  53.512912  1.0  17.00  36.0  66.00  229.0\n",
      "MELROSE AVE        128.0  52.429688  47.245828  1.0  16.75  38.5  90.00  222.0\n",
      "S FIGUEROA ST      134.0  50.761194  51.254661  3.0  17.00  28.0  70.00  226.0\n",
      "S VERMONT AVE      148.0  45.878378  50.974571  1.0  16.25  27.0  47.00  227.0\n",
      "SANTA MONICA BLVD  146.0  32.390411  32.665995  1.0  12.00  24.0  40.75  185.0\n",
      "W 3RD ST           145.0  43.931034  41.219038  1.0  16.00  31.0  47.00  161.0\n",
      "W PICO BLVD        288.0  40.878472  41.772352  1.0  13.00  27.0  45.00  205.0\n",
      "W SUNSET BLVD      296.0  50.918919  50.484502  1.0  17.00  35.0  66.25  229.0\n",
      "WILSHIRE BLVD      161.0  62.130435  57.475879  3.0  22.00  40.0  93.00  229.0\n"
     ]
    },
    {
     "data": {
      "image/png": "[encoded data removed]",
      "text/plain": [
       "<Figure size 1200x800 with 1 Axes>"
      ]
     },
     "metadata": {},
     "output_type": "display_data"
    }
   ],
   "source": [
    "#Distribución del número de asiento de calles con más establecimientos y sus tendencias\n",
    "calles_restaurantes = rest_data.groupby('street_name')['object_type'].count()\n",
    "top_10_streets = calles_restaurantes.sort_values(ascending=False).head(10).index\n",
    "\n",
    "# Filtro de las 10 calles\n",
    "top_10_data = rest_data[rest_data['street_name'].isin(top_10_streets)]\n",
    "\n",
    "\n",
    "statistics_number = top_10_data.groupby('street_name')['number'].describe()\n",
    "print(statistics_number)\n",
    "\n",
    "plt.figure(figsize=(12, 8))\n",
    "sns.boxplot(x='street_name', y='number', data=top_10_data)\n",
    "plt.title('Distribución de asientos en calles con mas restaurantes')\n",
    "plt.xlabel('Nombre de la calle')\n",
    "plt.ylabel('Numero de asientos')\n",
    "plt.xticks(rotation=45)\n",
    "plt.show()\n",
    "\n",
    "\n"
   ]
  },
  {
   "cell_type": "markdown",
   "metadata": {},
   "source": [
    "Se puede ver querr las calles más populares suelen rondar por una media de asientos entre 32 y 61, a la vez la cantidad de asientos varia bastantes por casos especiales(datos atipicos) pues puede haber establecimientos que lleguen a ser de 200 asientos o más. Podría decirse que de primera instancia la distribución de asientos son similares en las calles más populares"
   ]
  },
  {
   "cell_type": "markdown",
   "metadata": {},
   "source": [
    "# Conclusión"
   ]
  },
  {
   "cell_type": "markdown",
   "metadata": {},
   "source": [
    "La  mayoria de establecimientos son de tipo restaurante pues estos conforman un 75%, mientras los que le siguen son de tipo comida rápida y café. A la vez dentro de estos se puede decir que el 38.1% de los establecimientos  son cadenas mientras  que el 61.9%  no lo son, ahora dentro de los que son cadena se sabe que la mayoría son restaurantes con 62.4%, le sigue la comida rápida con 16.5%, las panaderías con 7.7% y en cuarto lugar los cafes con 7.2%.\n",
    "\n",
    "En cuestión de que tan grande es o no un establecimiento tomando en cuenta el número de asientos dentro de esas cadenas se ve que la media de asientos es entre 21 y 44, siendo los restaurantes los cuales tiene casos más variados entre establecimientos chicos y grandes de hasta 229 asientos. Respecto a los cafes se ve que no son muy variados sus datos pues muchos pue en promedio son 20 asientos.(Recordemos que esto es en las cadenas)\n",
    "\n",
    "Ahora si hablamos de los establecimientos independientemente si son cadena o no se comportan de manera bastante similar a lo anterior dicho sobre las cadenas, restaurantes con la media de asientos más alta y más variada y cafes con una media de 25 asientos sin tanta variación como los demás tipos de establecimientos.\n",
    "\n",
    "Las calles con más establecimientos son w sunset con 296, w pico con 288 y Hollywood con 167, ahora bien de las calles top 10 con mayor establecimientos se puede ver que en promedio las calles tienen entre 44 y 61 asientos, siendo la mayoría de ellos muy variados pues puede llegar establecimientos de más de 161 asientos.\n",
    "\n",
    "\n",
    "\n",
    "En resumen podemos decir que\n",
    "-La mayoria de establecimientos son no cadenas   \n",
    "\n",
    "-Restaurantes son los que acaparan mas mercado\n",
    "\n",
    "-Las cafeterias solo acaparan el 4.5% del mercado\n",
    "\n",
    "-Los cantidad de asientos en promedio es entre 20 y 50, sin embargo este es muy variado\n",
    "\n",
    "-Las cantidad de asientos en las calles mas populares suele ser en promedio entre 44 a 51 asientos.\n",
    "\n",
    "Ahora bien, una estrategia es establecer el negocio en la calle con mas establecimientos que es W sunset pues es donde esta la zona popular de restaurantes, que nuestro establecimiento sea de por lo menos 44 asientos si nos queremos establecer aqui pues es el promedio minimo razonable visto en esta calle."
   ]
  }
 ],
 "metadata": {
  "ExecuteTimeLog": [
   {
    "duration": 4930,
    "start_time": "2024-06-19T00:59:16.464Z"
   },
   {
    "duration": 1163,
    "start_time": "2024-06-19T01:00:42.464Z"
   },
   {
    "duration": 40,
    "start_time": "2024-06-19T01:01:54.522Z"
   },
   {
    "duration": 30,
    "start_time": "2024-06-19T01:02:39.298Z"
   },
   {
    "duration": 31,
    "start_time": "2024-06-19T01:02:50.023Z"
   },
   {
    "duration": 18,
    "start_time": "2024-06-19T01:02:55.322Z"
   },
   {
    "duration": 26,
    "start_time": "2024-06-19T01:03:42.204Z"
   },
   {
    "duration": 24,
    "start_time": "2024-06-19T01:04:44.828Z"
   },
   {
    "duration": 14,
    "start_time": "2024-06-19T01:05:02.177Z"
   },
   {
    "duration": 11,
    "start_time": "2024-06-19T01:05:12.001Z"
   },
   {
    "duration": 9,
    "start_time": "2024-06-19T01:06:58.188Z"
   },
   {
    "duration": 22,
    "start_time": "2024-06-19T01:07:08.942Z"
   },
   {
    "duration": 21,
    "start_time": "2024-06-19T01:07:22.137Z"
   },
   {
    "duration": 22,
    "start_time": "2024-06-19T01:10:44.377Z"
   },
   {
    "duration": 28,
    "start_time": "2024-06-19T01:10:53.881Z"
   },
   {
    "duration": 5,
    "start_time": "2024-06-19T01:11:14.401Z"
   },
   {
    "duration": 10,
    "start_time": "2024-06-19T01:11:48.878Z"
   },
   {
    "duration": 29,
    "start_time": "2024-06-19T01:12:11.573Z"
   },
   {
    "duration": 8,
    "start_time": "2024-06-19T01:12:34.460Z"
   },
   {
    "duration": 17,
    "start_time": "2024-06-19T01:13:30.738Z"
   },
   {
    "duration": 7,
    "start_time": "2024-06-19T01:23:57.586Z"
   },
   {
    "duration": 31,
    "start_time": "2024-06-19T01:24:45.736Z"
   },
   {
    "duration": 33,
    "start_time": "2024-06-19T01:25:01.177Z"
   },
   {
    "duration": 5,
    "start_time": "2024-06-19T01:26:20.285Z"
   },
   {
    "duration": 180,
    "start_time": "2024-06-19T01:26:24.947Z"
   },
   {
    "duration": 26,
    "start_time": "2024-06-19T01:36:06.049Z"
   },
   {
    "duration": 31,
    "start_time": "2024-06-19T01:36:32.467Z"
   },
   {
    "duration": 26,
    "start_time": "2024-06-19T01:36:56.312Z"
   },
   {
    "duration": 25,
    "start_time": "2024-06-19T01:38:01.885Z"
   },
   {
    "duration": 28,
    "start_time": "2024-06-19T01:38:20.807Z"
   },
   {
    "duration": 27,
    "start_time": "2024-06-19T01:38:31.011Z"
   },
   {
    "duration": 39,
    "start_time": "2024-06-19T01:39:05.191Z"
   },
   {
    "duration": 28,
    "start_time": "2024-06-19T01:39:41.810Z"
   },
   {
    "duration": 112,
    "start_time": "2024-06-19T01:39:52.702Z"
   },
   {
    "duration": 111,
    "start_time": "2024-06-19T01:40:27.274Z"
   },
   {
    "duration": 8,
    "start_time": "2024-06-19T01:42:14.001Z"
   },
   {
    "duration": 115,
    "start_time": "2024-06-19T01:42:24.306Z"
   },
   {
    "duration": 8,
    "start_time": "2024-06-19T01:57:47.217Z"
   },
   {
    "duration": 6,
    "start_time": "2024-06-19T02:07:20.534Z"
   },
   {
    "duration": 15,
    "start_time": "2024-06-19T02:08:03.115Z"
   },
   {
    "duration": 6,
    "start_time": "2024-06-19T02:08:14.938Z"
   },
   {
    "duration": 5,
    "start_time": "2024-06-19T02:08:20.638Z"
   },
   {
    "duration": 6,
    "start_time": "2024-06-19T02:09:19.136Z"
   },
   {
    "duration": 9,
    "start_time": "2024-06-19T02:09:42.132Z"
   },
   {
    "duration": 6,
    "start_time": "2024-06-19T02:10:15.108Z"
   },
   {
    "duration": 15,
    "start_time": "2024-06-19T02:10:54.814Z"
   },
   {
    "duration": 24,
    "start_time": "2024-06-19T02:11:16.138Z"
   },
   {
    "duration": 200,
    "start_time": "2024-06-19T02:12:36.918Z"
   },
   {
    "duration": 38,
    "start_time": "2024-06-19T02:13:17.935Z"
   },
   {
    "duration": 196,
    "start_time": "2024-06-19T02:13:39.344Z"
   },
   {
    "duration": 17,
    "start_time": "2024-06-19T02:14:01.888Z"
   },
   {
    "duration": 5,
    "start_time": "2024-06-19T02:14:37.894Z"
   },
   {
    "duration": 6,
    "start_time": "2024-06-19T02:14:41.340Z"
   },
   {
    "duration": 23,
    "start_time": "2024-06-19T02:14:49.624Z"
   },
   {
    "duration": 29,
    "start_time": "2024-06-19T02:16:08.293Z"
   },
   {
    "duration": 42,
    "start_time": "2024-06-19T02:18:43.856Z"
   },
   {
    "duration": 23,
    "start_time": "2024-06-19T02:18:52.083Z"
   },
   {
    "duration": 6,
    "start_time": "2024-06-19T02:20:54.636Z"
   },
   {
    "duration": 6,
    "start_time": "2024-06-19T02:21:09.610Z"
   },
   {
    "duration": 21,
    "start_time": "2024-06-19T02:21:20.326Z"
   },
   {
    "duration": 22,
    "start_time": "2024-06-19T02:22:02.492Z"
   },
   {
    "duration": 24,
    "start_time": "2024-06-19T02:22:07.434Z"
   },
   {
    "duration": 15,
    "start_time": "2024-06-19T02:24:40.165Z"
   },
   {
    "duration": 31,
    "start_time": "2024-06-19T02:25:04.320Z"
   },
   {
    "duration": 11,
    "start_time": "2024-06-19T02:25:26.371Z"
   },
   {
    "duration": 12,
    "start_time": "2024-06-19T02:25:42.321Z"
   },
   {
    "duration": 11,
    "start_time": "2024-06-19T02:30:37.340Z"
   },
   {
    "duration": 156,
    "start_time": "2024-06-19T02:31:53.455Z"
   },
   {
    "duration": 10,
    "start_time": "2024-06-19T02:44:46.393Z"
   },
   {
    "duration": 10,
    "start_time": "2024-06-19T02:45:08.267Z"
   },
   {
    "duration": 12,
    "start_time": "2024-06-19T02:45:34.408Z"
   },
   {
    "duration": 11,
    "start_time": "2024-06-19T02:46:06.869Z"
   },
   {
    "duration": 310,
    "start_time": "2024-06-20T01:04:01.977Z"
   },
   {
    "duration": 4893,
    "start_time": "2024-06-20T01:04:22.359Z"
   },
   {
    "duration": 36,
    "start_time": "2024-06-20T01:04:27.256Z"
   },
   {
    "duration": 18,
    "start_time": "2024-06-20T01:04:27.295Z"
   },
   {
    "duration": 23,
    "start_time": "2024-06-20T01:04:27.316Z"
   },
   {
    "duration": 13,
    "start_time": "2024-06-20T01:04:27.343Z"
   },
   {
    "duration": 217,
    "start_time": "2024-06-20T01:04:27.368Z"
   },
   {
    "duration": 146,
    "start_time": "2024-06-20T01:04:27.588Z"
   },
   {
    "duration": 189,
    "start_time": "2024-06-20T01:04:27.738Z"
   },
   {
    "duration": 209,
    "start_time": "2024-06-20T01:04:27.931Z"
   },
   {
    "duration": 321,
    "start_time": "2024-06-20T01:05:11.503Z"
   },
   {
    "duration": 281,
    "start_time": "2024-06-20T01:05:39.110Z"
   },
   {
    "duration": 237,
    "start_time": "2024-06-20T01:05:50.797Z"
   },
   {
    "duration": 249,
    "start_time": "2024-06-20T01:08:34.368Z"
   },
   {
    "duration": 725,
    "start_time": "2024-06-20T01:09:03.986Z"
   },
   {
    "duration": 256,
    "start_time": "2024-06-20T01:11:07.290Z"
   },
   {
    "duration": 267,
    "start_time": "2024-06-20T01:12:23.034Z"
   },
   {
    "duration": 374,
    "start_time": "2024-06-20T01:18:54.774Z"
   },
   {
    "duration": 276,
    "start_time": "2024-06-20T01:19:16.138Z"
   },
   {
    "duration": 27,
    "start_time": "2024-06-20T01:32:28.561Z"
   },
   {
    "duration": 24,
    "start_time": "2024-06-20T01:32:56.009Z"
   },
   {
    "duration": 32,
    "start_time": "2024-06-20T01:33:09.388Z"
   },
   {
    "duration": 29,
    "start_time": "2024-06-20T01:33:18.696Z"
   },
   {
    "duration": 26,
    "start_time": "2024-06-20T01:41:49.355Z"
   },
   {
    "duration": 13,
    "start_time": "2024-06-20T01:41:55.427Z"
   },
   {
    "duration": 9,
    "start_time": "2024-06-20T01:45:33.829Z"
   },
   {
    "duration": 33,
    "start_time": "2024-06-20T01:46:47.341Z"
   },
   {
    "duration": 45,
    "start_time": "2024-06-20T01:48:07.356Z"
   },
   {
    "duration": 37,
    "start_time": "2024-06-20T01:48:15.375Z"
   },
   {
    "duration": 254,
    "start_time": "2024-06-20T01:48:47.294Z"
   },
   {
    "duration": 226,
    "start_time": "2024-06-20T01:49:08.778Z"
   },
   {
    "duration": 33,
    "start_time": "2024-06-20T01:49:30.902Z"
   },
   {
    "duration": 38,
    "start_time": "2024-06-20T01:49:36.700Z"
   },
   {
    "duration": 33,
    "start_time": "2024-06-20T01:49:46.912Z"
   },
   {
    "duration": 287,
    "start_time": "2024-06-20T01:50:36.216Z"
   },
   {
    "duration": 323,
    "start_time": "2024-06-20T01:51:05.948Z"
   },
   {
    "duration": 7,
    "start_time": "2024-06-20T01:58:14.024Z"
   },
   {
    "duration": 12,
    "start_time": "2024-06-20T01:58:38.511Z"
   },
   {
    "duration": 10,
    "start_time": "2024-06-20T01:59:25.291Z"
   },
   {
    "duration": 10,
    "start_time": "2024-06-20T01:59:46.760Z"
   },
   {
    "duration": 10,
    "start_time": "2024-06-20T01:59:53.032Z"
   },
   {
    "duration": 10,
    "start_time": "2024-06-20T02:00:24.540Z"
   },
   {
    "duration": 10,
    "start_time": "2024-06-20T02:00:29.395Z"
   },
   {
    "duration": 719,
    "start_time": "2024-06-20T02:01:51.837Z"
   },
   {
    "duration": 88,
    "start_time": "2024-06-20T02:03:22.772Z"
   },
   {
    "duration": 378,
    "start_time": "2024-06-20T02:08:20.920Z"
   },
   {
    "duration": 90,
    "start_time": "2024-06-20T02:09:21.528Z"
   },
   {
    "duration": 270,
    "start_time": "2024-06-20T02:11:30.626Z"
   },
   {
    "duration": 147,
    "start_time": "2024-06-20T02:16:55.887Z"
   },
   {
    "duration": 300548,
    "start_time": "2024-06-20T02:17:25.765Z"
   },
   {
    "duration": 27,
    "start_time": "2024-06-20T02:24:03.499Z"
   },
   {
    "duration": 35,
    "start_time": "2024-06-20T02:29:23.373Z"
   },
   {
    "duration": 114,
    "start_time": "2024-06-20T02:29:28.116Z"
   },
   {
    "duration": 95,
    "start_time": "2024-06-20T02:30:29.160Z"
   },
   {
    "duration": 179,
    "start_time": "2024-06-20T02:31:09.834Z"
   },
   {
    "duration": 305,
    "start_time": "2024-06-20T02:31:32.655Z"
   },
   {
    "duration": 102,
    "start_time": "2024-06-20T02:32:06.157Z"
   },
   {
    "duration": 103,
    "start_time": "2024-06-20T02:34:38.475Z"
   },
   {
    "duration": 7,
    "start_time": "2024-06-20T02:37:17.585Z"
   },
   {
    "duration": 10,
    "start_time": "2024-06-20T02:38:33.489Z"
   },
   {
    "duration": 11,
    "start_time": "2024-06-20T02:39:32.025Z"
   },
   {
    "duration": 12,
    "start_time": "2024-06-20T02:40:10.649Z"
   },
   {
    "duration": 38,
    "start_time": "2024-06-20T02:42:24.525Z"
   },
   {
    "duration": 139,
    "start_time": "2024-06-20T02:43:12.708Z"
   },
   {
    "duration": 598,
    "start_time": "2024-06-20T02:43:50.746Z"
   },
   {
    "duration": 412,
    "start_time": "2024-06-20T02:44:45.210Z"
   },
   {
    "duration": 2849,
    "start_time": "2024-06-20T02:45:49.724Z"
   },
   {
    "duration": 459,
    "start_time": "2024-06-20T02:46:13.523Z"
   },
   {
    "duration": 4945,
    "start_time": "2024-06-21T02:13:57.019Z"
   },
   {
    "duration": 37,
    "start_time": "2024-06-21T02:14:01.967Z"
   },
   {
    "duration": 25,
    "start_time": "2024-06-21T02:14:02.007Z"
   },
   {
    "duration": 26,
    "start_time": "2024-06-21T02:14:02.036Z"
   },
   {
    "duration": 12,
    "start_time": "2024-06-21T02:14:02.067Z"
   },
   {
    "duration": 235,
    "start_time": "2024-06-21T02:14:02.082Z"
   },
   {
    "duration": 121,
    "start_time": "2024-06-21T02:14:02.334Z"
   },
   {
    "duration": 193,
    "start_time": "2024-06-21T02:14:02.458Z"
   },
   {
    "duration": 319,
    "start_time": "2024-06-21T02:14:02.654Z"
   },
   {
    "duration": 292,
    "start_time": "2024-06-21T02:14:02.976Z"
   },
   {
    "duration": 30,
    "start_time": "2024-06-21T02:14:03.271Z"
   },
   {
    "duration": 395,
    "start_time": "2024-06-21T02:14:03.304Z"
   },
   {
    "duration": 9,
    "start_time": "2024-06-21T02:14:03.702Z"
   },
   {
    "duration": 484,
    "start_time": "2024-06-21T02:14:03.731Z"
   },
   {
    "duration": 5036,
    "start_time": "2024-06-22T03:56:00.100Z"
   },
   {
    "duration": 28,
    "start_time": "2024-06-22T03:56:05.140Z"
   },
   {
    "duration": 36,
    "start_time": "2024-06-22T03:56:05.171Z"
   },
   {
    "duration": 20,
    "start_time": "2024-06-22T03:56:05.211Z"
   },
   {
    "duration": 13,
    "start_time": "2024-06-22T03:56:05.234Z"
   },
   {
    "duration": 223,
    "start_time": "2024-06-22T03:56:05.250Z"
   },
   {
    "duration": 150,
    "start_time": "2024-06-22T03:56:05.476Z"
   },
   {
    "duration": 187,
    "start_time": "2024-06-22T03:56:05.630Z"
   },
   {
    "duration": 305,
    "start_time": "2024-06-22T03:56:05.820Z"
   },
   {
    "duration": 285,
    "start_time": "2024-06-22T03:56:06.130Z"
   },
   {
    "duration": 29,
    "start_time": "2024-06-22T03:56:06.418Z"
   },
   {
    "duration": 330,
    "start_time": "2024-06-22T03:56:06.450Z"
   },
   {
    "duration": 25,
    "start_time": "2024-06-22T03:56:06.783Z"
   },
   {
    "duration": 580,
    "start_time": "2024-06-22T03:56:06.811Z"
   },
   {
    "duration": 1219,
    "start_time": "2024-06-22T04:07:55.644Z"
   },
   {
    "duration": 24,
    "start_time": "2024-06-22T04:07:56.867Z"
   },
   {
    "duration": 26,
    "start_time": "2024-06-22T04:07:56.893Z"
   },
   {
    "duration": 22,
    "start_time": "2024-06-22T04:07:56.922Z"
   },
   {
    "duration": 17,
    "start_time": "2024-06-22T04:07:56.950Z"
   },
   {
    "duration": 237,
    "start_time": "2024-06-22T04:07:56.970Z"
   },
   {
    "duration": 130,
    "start_time": "2024-06-22T04:07:57.213Z"
   },
   {
    "duration": 235,
    "start_time": "2024-06-22T04:07:57.346Z"
   },
   {
    "duration": 280,
    "start_time": "2024-06-22T04:07:57.583Z"
   },
   {
    "duration": 299,
    "start_time": "2024-06-22T04:07:57.866Z"
   },
   {
    "duration": 45,
    "start_time": "2024-06-22T04:07:58.167Z"
   },
   {
    "duration": 329,
    "start_time": "2024-06-22T04:07:58.215Z"
   },
   {
    "duration": 10,
    "start_time": "2024-06-22T04:07:58.547Z"
   },
   {
    "duration": 500,
    "start_time": "2024-06-22T04:07:58.563Z"
   },
   {
    "duration": 311,
    "start_time": "2024-06-23T02:48:08.080Z"
   },
   {
    "duration": 5014,
    "start_time": "2024-06-23T02:48:13.811Z"
   },
   {
    "duration": 39,
    "start_time": "2024-06-23T02:48:18.829Z"
   },
   {
    "duration": 18,
    "start_time": "2024-06-23T02:48:18.871Z"
   },
   {
    "duration": 34,
    "start_time": "2024-06-23T02:48:18.894Z"
   },
   {
    "duration": 12,
    "start_time": "2024-06-23T02:48:18.931Z"
   },
   {
    "duration": 214,
    "start_time": "2024-06-23T02:48:18.947Z"
   },
   {
    "duration": 129,
    "start_time": "2024-06-23T02:48:19.164Z"
   },
   {
    "duration": 170,
    "start_time": "2024-06-23T02:48:19.296Z"
   },
   {
    "duration": 306,
    "start_time": "2024-06-23T02:48:19.470Z"
   },
   {
    "duration": 303,
    "start_time": "2024-06-23T02:48:19.780Z"
   },
   {
    "duration": 42,
    "start_time": "2024-06-23T02:48:20.085Z"
   },
   {
    "duration": 323,
    "start_time": "2024-06-23T02:48:20.130Z"
   },
   {
    "duration": 9,
    "start_time": "2024-06-23T02:48:20.457Z"
   },
   {
    "duration": 575,
    "start_time": "2024-06-23T02:48:20.468Z"
   },
   {
    "duration": 1262,
    "start_time": "2024-06-23T03:29:08.179Z"
   },
   {
    "duration": 24,
    "start_time": "2024-06-23T03:29:09.444Z"
   },
   {
    "duration": 18,
    "start_time": "2024-06-23T03:29:09.471Z"
   },
   {
    "duration": 43,
    "start_time": "2024-06-23T03:29:09.494Z"
   },
   {
    "duration": 13,
    "start_time": "2024-06-23T03:29:09.540Z"
   },
   {
    "duration": 243,
    "start_time": "2024-06-23T03:29:09.556Z"
   },
   {
    "duration": 126,
    "start_time": "2024-06-23T03:29:09.802Z"
   },
   {
    "duration": 206,
    "start_time": "2024-06-23T03:29:09.931Z"
   },
   {
    "duration": 344,
    "start_time": "2024-06-23T03:29:10.140Z"
   },
   {
    "duration": 322,
    "start_time": "2024-06-23T03:29:10.490Z"
   },
   {
    "duration": 41,
    "start_time": "2024-06-23T03:29:10.816Z"
   },
   {
    "duration": 342,
    "start_time": "2024-06-23T03:29:10.860Z"
   },
   {
    "duration": 22,
    "start_time": "2024-06-23T03:29:11.205Z"
   },
   {
    "duration": 492,
    "start_time": "2024-06-23T03:29:11.231Z"
   },
   {
    "duration": 318,
    "start_time": "2024-06-25T02:37:55.606Z"
   },
   {
    "duration": 5032,
    "start_time": "2024-06-25T02:38:03.484Z"
   },
   {
    "duration": 37,
    "start_time": "2024-06-25T02:38:08.520Z"
   },
   {
    "duration": 18,
    "start_time": "2024-06-25T02:38:08.560Z"
   },
   {
    "duration": 20,
    "start_time": "2024-06-25T02:38:08.582Z"
   },
   {
    "duration": 12,
    "start_time": "2024-06-25T02:38:08.624Z"
   },
   {
    "duration": 221,
    "start_time": "2024-06-25T02:38:08.639Z"
   },
   {
    "duration": 132,
    "start_time": "2024-06-25T02:38:08.862Z"
   },
   {
    "duration": 182,
    "start_time": "2024-06-25T02:38:08.996Z"
   },
   {
    "duration": 361,
    "start_time": "2024-06-25T02:38:09.181Z"
   },
   {
    "duration": 313,
    "start_time": "2024-06-25T02:38:09.547Z"
   },
   {
    "duration": 33,
    "start_time": "2024-06-25T02:38:09.863Z"
   },
   {
    "duration": 6,
    "start_time": "2024-06-25T02:38:34.877Z"
   },
   {
    "duration": 30,
    "start_time": "2024-06-25T02:38:50.404Z"
   },
   {
    "duration": 4865,
    "start_time": "2024-06-26T00:58:38.149Z"
   },
   {
    "duration": 39,
    "start_time": "2024-06-26T00:58:43.018Z"
   },
   {
    "duration": 18,
    "start_time": "2024-06-26T00:58:43.060Z"
   },
   {
    "duration": 20,
    "start_time": "2024-06-26T00:58:43.081Z"
   },
   {
    "duration": 12,
    "start_time": "2024-06-26T00:58:43.122Z"
   },
   {
    "duration": 219,
    "start_time": "2024-06-26T00:58:43.137Z"
   },
   {
    "duration": 132,
    "start_time": "2024-06-26T00:58:43.359Z"
   },
   {
    "duration": 184,
    "start_time": "2024-06-26T00:58:43.494Z"
   },
   {
    "duration": 290,
    "start_time": "2024-06-26T00:58:43.682Z"
   },
   {
    "duration": 308,
    "start_time": "2024-06-26T00:58:43.975Z"
   },
   {
    "duration": 49,
    "start_time": "2024-06-26T00:58:44.290Z"
   },
   {
    "duration": 313,
    "start_time": "2024-06-26T00:58:44.343Z"
   },
   {
    "duration": 11,
    "start_time": "2024-06-26T00:58:44.659Z"
   },
   {
    "duration": 581,
    "start_time": "2024-06-26T00:58:44.674Z"
   },
   {
    "duration": 161,
    "start_time": "2024-06-26T00:59:53.448Z"
   },
   {
    "duration": 1316,
    "start_time": "2024-06-26T01:00:03.863Z"
   },
   {
    "duration": 23,
    "start_time": "2024-06-26T01:00:05.183Z"
   },
   {
    "duration": 29,
    "start_time": "2024-06-26T01:00:05.208Z"
   },
   {
    "duration": 20,
    "start_time": "2024-06-26T01:00:05.242Z"
   },
   {
    "duration": 12,
    "start_time": "2024-06-26T01:00:05.265Z"
   },
   {
    "duration": 221,
    "start_time": "2024-06-26T01:00:05.283Z"
   },
   {
    "duration": 130,
    "start_time": "2024-06-26T01:00:05.507Z"
   },
   {
    "duration": 190,
    "start_time": "2024-06-26T01:00:05.640Z"
   },
   {
    "duration": 348,
    "start_time": "2024-06-26T01:00:05.833Z"
   },
   {
    "duration": 287,
    "start_time": "2024-06-26T01:00:06.188Z"
   },
   {
    "duration": 46,
    "start_time": "2024-06-26T01:00:06.479Z"
   },
   {
    "duration": 321,
    "start_time": "2024-06-26T01:00:06.528Z"
   },
   {
    "duration": 10,
    "start_time": "2024-06-26T01:00:06.852Z"
   },
   {
    "duration": 507,
    "start_time": "2024-06-26T01:00:06.864Z"
   },
   {
    "duration": 412,
    "start_time": "2024-06-26T01:03:09.029Z"
   },
   {
    "duration": 1220,
    "start_time": "2024-06-26T01:03:15.686Z"
   },
   {
    "duration": 27,
    "start_time": "2024-06-26T01:03:16.910Z"
   },
   {
    "duration": 16,
    "start_time": "2024-06-26T01:03:16.940Z"
   },
   {
    "duration": 20,
    "start_time": "2024-06-26T01:03:16.961Z"
   },
   {
    "duration": 47,
    "start_time": "2024-06-26T01:03:16.984Z"
   },
   {
    "duration": 203,
    "start_time": "2024-06-26T01:03:17.034Z"
   },
   {
    "duration": 142,
    "start_time": "2024-06-26T01:03:17.241Z"
   },
   {
    "duration": 482,
    "start_time": "2024-06-26T01:03:17.386Z"
   },
   {
    "duration": 0,
    "start_time": "2024-06-26T01:03:17.871Z"
   },
   {
    "duration": 0,
    "start_time": "2024-06-26T01:03:17.873Z"
   },
   {
    "duration": 0,
    "start_time": "2024-06-26T01:03:17.876Z"
   },
   {
    "duration": 0,
    "start_time": "2024-06-26T01:03:17.878Z"
   },
   {
    "duration": 0,
    "start_time": "2024-06-26T01:03:17.881Z"
   },
   {
    "duration": 0,
    "start_time": "2024-06-26T01:03:17.883Z"
   },
   {
    "duration": 1258,
    "start_time": "2024-06-26T01:03:56.014Z"
   },
   {
    "duration": 23,
    "start_time": "2024-06-26T01:03:57.275Z"
   },
   {
    "duration": 31,
    "start_time": "2024-06-26T01:03:57.300Z"
   },
   {
    "duration": 24,
    "start_time": "2024-06-26T01:03:57.334Z"
   },
   {
    "duration": 16,
    "start_time": "2024-06-26T01:03:57.363Z"
   },
   {
    "duration": 220,
    "start_time": "2024-06-26T01:03:57.384Z"
   },
   {
    "duration": 136,
    "start_time": "2024-06-26T01:03:57.607Z"
   },
   {
    "duration": 242,
    "start_time": "2024-06-26T01:03:57.746Z"
   },
   {
    "duration": 285,
    "start_time": "2024-06-26T01:03:57.991Z"
   },
   {
    "duration": 287,
    "start_time": "2024-06-26T01:03:58.279Z"
   },
   {
    "duration": 29,
    "start_time": "2024-06-26T01:03:58.569Z"
   },
   {
    "duration": 338,
    "start_time": "2024-06-26T01:03:58.600Z"
   },
   {
    "duration": 9,
    "start_time": "2024-06-26T01:03:58.941Z"
   },
   {
    "duration": 488,
    "start_time": "2024-06-26T01:03:58.955Z"
   },
   {
    "duration": 422,
    "start_time": "2024-06-26T01:11:10.916Z"
   },
   {
    "duration": 161,
    "start_time": "2024-06-26T01:11:54.416Z"
   },
   {
    "duration": 239,
    "start_time": "2024-06-26T01:12:17.815Z"
   },
   {
    "duration": 155,
    "start_time": "2024-06-26T01:13:02.094Z"
   },
   {
    "duration": 168,
    "start_time": "2024-06-26T01:14:36.622Z"
   },
   {
    "duration": 159,
    "start_time": "2024-06-26T01:14:47.409Z"
   },
   {
    "duration": 38,
    "start_time": "2024-06-26T01:17:58.524Z"
   },
   {
    "duration": 1246,
    "start_time": "2024-06-26T01:19:00.368Z"
   },
   {
    "duration": 25,
    "start_time": "2024-06-26T01:19:01.618Z"
   },
   {
    "duration": 18,
    "start_time": "2024-06-26T01:19:01.645Z"
   },
   {
    "duration": 22,
    "start_time": "2024-06-26T01:19:01.666Z"
   },
   {
    "duration": 40,
    "start_time": "2024-06-26T01:19:01.693Z"
   },
   {
    "duration": 233,
    "start_time": "2024-06-26T01:19:01.736Z"
   },
   {
    "duration": 126,
    "start_time": "2024-06-26T01:19:01.972Z"
   },
   {
    "duration": 277,
    "start_time": "2024-06-26T01:19:02.100Z"
   },
   {
    "duration": 281,
    "start_time": "2024-06-26T01:19:02.381Z"
   },
   {
    "duration": 290,
    "start_time": "2024-06-26T01:19:02.665Z"
   },
   {
    "duration": 30,
    "start_time": "2024-06-26T01:19:02.959Z"
   },
   {
    "duration": 329,
    "start_time": "2024-06-26T01:19:02.994Z"
   },
   {
    "duration": 9,
    "start_time": "2024-06-26T01:19:03.326Z"
   },
   {
    "duration": 515,
    "start_time": "2024-06-26T01:19:03.340Z"
   },
   {
    "duration": 1275,
    "start_time": "2024-06-26T01:24:21.088Z"
   },
   {
    "duration": 24,
    "start_time": "2024-06-26T01:24:22.366Z"
   },
   {
    "duration": 31,
    "start_time": "2024-06-26T01:24:22.393Z"
   },
   {
    "duration": 21,
    "start_time": "2024-06-26T01:24:22.428Z"
   },
   {
    "duration": 12,
    "start_time": "2024-06-26T01:24:22.452Z"
   },
   {
    "duration": 227,
    "start_time": "2024-06-26T01:24:22.467Z"
   },
   {
    "duration": 132,
    "start_time": "2024-06-26T01:24:22.697Z"
   },
   {
    "duration": 214,
    "start_time": "2024-06-26T01:24:22.832Z"
   },
   {
    "duration": 345,
    "start_time": "2024-06-26T01:24:23.049Z"
   },
   {
    "duration": 294,
    "start_time": "2024-06-26T01:24:23.398Z"
   },
   {
    "duration": 45,
    "start_time": "2024-06-26T01:24:23.695Z"
   },
   {
    "duration": 350,
    "start_time": "2024-06-26T01:24:23.743Z"
   },
   {
    "duration": 10,
    "start_time": "2024-06-26T01:24:24.096Z"
   },
   {
    "duration": 480,
    "start_time": "2024-06-26T01:24:24.123Z"
   },
   {
    "duration": 1354,
    "start_time": "2024-06-26T01:25:18.717Z"
   },
   {
    "duration": 27,
    "start_time": "2024-06-26T01:25:20.076Z"
   },
   {
    "duration": 36,
    "start_time": "2024-06-26T01:25:20.106Z"
   },
   {
    "duration": 22,
    "start_time": "2024-06-26T01:25:20.145Z"
   },
   {
    "duration": 15,
    "start_time": "2024-06-26T01:25:20.172Z"
   },
   {
    "duration": 242,
    "start_time": "2024-06-26T01:25:20.224Z"
   },
   {
    "duration": 135,
    "start_time": "2024-06-26T01:25:20.469Z"
   },
   {
    "duration": 324,
    "start_time": "2024-06-26T01:25:20.608Z"
   },
   {
    "duration": 388,
    "start_time": "2024-06-26T01:25:20.935Z"
   },
   {
    "duration": 323,
    "start_time": "2024-06-26T01:25:21.326Z"
   },
   {
    "duration": 34,
    "start_time": "2024-06-26T01:25:21.653Z"
   },
   {
    "duration": 343,
    "start_time": "2024-06-26T01:25:21.691Z"
   },
   {
    "duration": 10,
    "start_time": "2024-06-26T01:25:22.038Z"
   },
   {
    "duration": 519,
    "start_time": "2024-06-26T01:25:22.052Z"
   },
   {
    "duration": 1290,
    "start_time": "2024-06-26T01:26:09.206Z"
   },
   {
    "duration": 36,
    "start_time": "2024-06-26T01:26:10.501Z"
   },
   {
    "duration": 17,
    "start_time": "2024-06-26T01:26:10.541Z"
   },
   {
    "duration": 21,
    "start_time": "2024-06-26T01:26:10.561Z"
   },
   {
    "duration": 46,
    "start_time": "2024-06-26T01:26:10.586Z"
   },
   {
    "duration": 210,
    "start_time": "2024-06-26T01:26:10.635Z"
   },
   {
    "duration": 133,
    "start_time": "2024-06-26T01:26:10.848Z"
   },
   {
    "duration": 290,
    "start_time": "2024-06-26T01:26:10.985Z"
   },
   {
    "duration": 292,
    "start_time": "2024-06-26T01:26:11.279Z"
   },
   {
    "duration": 300,
    "start_time": "2024-06-26T01:26:11.574Z"
   },
   {
    "duration": 46,
    "start_time": "2024-06-26T01:26:11.878Z"
   },
   {
    "duration": 329,
    "start_time": "2024-06-26T01:26:11.927Z"
   },
   {
    "duration": 9,
    "start_time": "2024-06-26T01:26:12.260Z"
   },
   {
    "duration": 509,
    "start_time": "2024-06-26T01:26:12.274Z"
   },
   {
    "duration": 1222,
    "start_time": "2024-06-26T01:29:03.064Z"
   },
   {
    "duration": 23,
    "start_time": "2024-06-26T01:29:04.291Z"
   },
   {
    "duration": 16,
    "start_time": "2024-06-26T01:29:04.324Z"
   },
   {
    "duration": 21,
    "start_time": "2024-06-26T01:29:04.343Z"
   },
   {
    "duration": 12,
    "start_time": "2024-06-26T01:29:04.369Z"
   },
   {
    "duration": 239,
    "start_time": "2024-06-26T01:29:04.384Z"
   },
   {
    "duration": 136,
    "start_time": "2024-06-26T01:29:04.627Z"
   },
   {
    "duration": 274,
    "start_time": "2024-06-26T01:29:04.765Z"
   },
   {
    "duration": 285,
    "start_time": "2024-06-26T01:29:05.042Z"
   },
   {
    "duration": 292,
    "start_time": "2024-06-26T01:29:05.330Z"
   },
   {
    "duration": 30,
    "start_time": "2024-06-26T01:29:05.625Z"
   },
   {
    "duration": 393,
    "start_time": "2024-06-26T01:29:05.658Z"
   },
   {
    "duration": 10,
    "start_time": "2024-06-26T01:29:06.055Z"
   },
   {
    "duration": 496,
    "start_time": "2024-06-26T01:29:06.071Z"
   },
   {
    "duration": 1284,
    "start_time": "2024-06-26T01:29:39.997Z"
   },
   {
    "duration": 25,
    "start_time": "2024-06-26T01:29:41.284Z"
   },
   {
    "duration": 25,
    "start_time": "2024-06-26T01:29:41.312Z"
   },
   {
    "duration": 21,
    "start_time": "2024-06-26T01:29:41.340Z"
   },
   {
    "duration": 12,
    "start_time": "2024-06-26T01:29:41.365Z"
   },
   {
    "duration": 225,
    "start_time": "2024-06-26T01:29:41.380Z"
   },
   {
    "duration": 155,
    "start_time": "2024-06-26T01:29:41.608Z"
   },
   {
    "duration": 273,
    "start_time": "2024-06-26T01:29:41.765Z"
   },
   {
    "duration": 289,
    "start_time": "2024-06-26T01:29:42.041Z"
   },
   {
    "duration": 294,
    "start_time": "2024-06-26T01:29:42.332Z"
   },
   {
    "duration": 28,
    "start_time": "2024-06-26T01:29:42.629Z"
   },
   {
    "duration": 395,
    "start_time": "2024-06-26T01:29:42.660Z"
   },
   {
    "duration": 11,
    "start_time": "2024-06-26T01:29:43.058Z"
   },
   {
    "duration": 476,
    "start_time": "2024-06-26T01:29:43.075Z"
   },
   {
    "duration": 5122,
    "start_time": "2024-06-28T01:26:35.083Z"
   },
   {
    "duration": 30,
    "start_time": "2024-06-28T01:26:40.209Z"
   },
   {
    "duration": 20,
    "start_time": "2024-06-28T01:26:40.242Z"
   },
   {
    "duration": 40,
    "start_time": "2024-06-28T01:26:40.268Z"
   },
   {
    "duration": 13,
    "start_time": "2024-06-28T01:26:40.312Z"
   },
   {
    "duration": 242,
    "start_time": "2024-06-28T01:26:40.327Z"
   },
   {
    "duration": 130,
    "start_time": "2024-06-28T01:26:40.572Z"
   },
   {
    "duration": 226,
    "start_time": "2024-06-28T01:26:40.705Z"
   },
   {
    "duration": 293,
    "start_time": "2024-06-28T01:26:40.934Z"
   },
   {
    "duration": 298,
    "start_time": "2024-06-28T01:26:41.233Z"
   },
   {
    "duration": 56,
    "start_time": "2024-06-28T01:26:41.536Z"
   },
   {
    "duration": 7,
    "start_time": "2024-06-28T01:28:31.236Z"
   },
   {
    "duration": 6,
    "start_time": "2024-06-28T01:28:58.110Z"
   },
   {
    "duration": 5,
    "start_time": "2024-06-28T01:29:15.503Z"
   },
   {
    "duration": 325,
    "start_time": "2024-06-28T01:48:41.680Z"
   },
   {
    "duration": 4919,
    "start_time": "2024-06-28T01:48:46.770Z"
   },
   {
    "duration": 38,
    "start_time": "2024-06-28T01:48:51.692Z"
   },
   {
    "duration": 19,
    "start_time": "2024-06-28T01:48:51.734Z"
   },
   {
    "duration": 21,
    "start_time": "2024-06-28T01:48:51.757Z"
   },
   {
    "duration": 12,
    "start_time": "2024-06-28T01:48:51.780Z"
   },
   {
    "duration": 252,
    "start_time": "2024-06-28T01:48:51.795Z"
   },
   {
    "duration": 129,
    "start_time": "2024-06-28T01:48:52.051Z"
   },
   {
    "duration": 225,
    "start_time": "2024-06-28T01:48:52.183Z"
   },
   {
    "duration": 285,
    "start_time": "2024-06-28T01:48:52.411Z"
   },
   {
    "duration": 281,
    "start_time": "2024-06-28T01:48:52.701Z"
   },
   {
    "duration": 49,
    "start_time": "2024-06-28T01:48:52.985Z"
   },
   {
    "duration": 398,
    "start_time": "2024-06-28T01:48:53.036Z"
   },
   {
    "duration": 12,
    "start_time": "2024-06-28T01:48:53.437Z"
   },
   {
    "duration": 501,
    "start_time": "2024-06-28T01:48:53.452Z"
   },
   {
    "duration": 1290,
    "start_time": "2024-06-28T01:58:44.919Z"
   },
   {
    "duration": 32,
    "start_time": "2024-06-28T01:58:46.213Z"
   },
   {
    "duration": 17,
    "start_time": "2024-06-28T01:58:46.248Z"
   },
   {
    "duration": 20,
    "start_time": "2024-06-28T01:58:46.268Z"
   },
   {
    "duration": 41,
    "start_time": "2024-06-28T01:58:46.293Z"
   },
   {
    "duration": 204,
    "start_time": "2024-06-28T01:58:46.337Z"
   },
   {
    "duration": 138,
    "start_time": "2024-06-28T01:58:46.544Z"
   },
   {
    "duration": 340,
    "start_time": "2024-06-28T01:58:46.685Z"
   },
   {
    "duration": 309,
    "start_time": "2024-06-28T01:58:47.033Z"
   },
   {
    "duration": 307,
    "start_time": "2024-06-28T01:58:47.346Z"
   },
   {
    "duration": 30,
    "start_time": "2024-06-28T01:58:47.655Z"
   },
   {
    "duration": 354,
    "start_time": "2024-06-28T01:58:47.687Z"
   },
   {
    "duration": 11,
    "start_time": "2024-06-28T01:58:48.045Z"
   },
   {
    "duration": 492,
    "start_time": "2024-06-28T01:58:48.061Z"
   },
   {
    "duration": 1217,
    "start_time": "2024-06-28T01:59:32.788Z"
   },
   {
    "duration": 34,
    "start_time": "2024-06-28T01:59:34.009Z"
   },
   {
    "duration": 17,
    "start_time": "2024-06-28T01:59:34.045Z"
   },
   {
    "duration": 21,
    "start_time": "2024-06-28T01:59:34.065Z"
   },
   {
    "duration": 45,
    "start_time": "2024-06-28T01:59:34.090Z"
   },
   {
    "duration": 207,
    "start_time": "2024-06-28T01:59:34.138Z"
   },
   {
    "duration": 130,
    "start_time": "2024-06-28T01:59:34.349Z"
   },
   {
    "duration": 347,
    "start_time": "2024-06-28T01:59:34.483Z"
   },
   {
    "duration": 278,
    "start_time": "2024-06-28T01:59:34.833Z"
   },
   {
    "duration": 284,
    "start_time": "2024-06-28T01:59:35.113Z"
   },
   {
    "duration": 47,
    "start_time": "2024-06-28T01:59:35.400Z"
   },
   {
    "duration": 376,
    "start_time": "2024-06-28T01:59:35.450Z"
   },
   {
    "duration": 11,
    "start_time": "2024-06-28T01:59:35.829Z"
   },
   {
    "duration": 490,
    "start_time": "2024-06-28T01:59:35.846Z"
   },
   {
    "duration": 1208,
    "start_time": "2024-06-28T02:00:08.975Z"
   },
   {
    "duration": 27,
    "start_time": "2024-06-28T02:00:10.186Z"
   },
   {
    "duration": 16,
    "start_time": "2024-06-28T02:00:10.232Z"
   },
   {
    "duration": 21,
    "start_time": "2024-06-28T02:00:10.253Z"
   },
   {
    "duration": 13,
    "start_time": "2024-06-28T02:00:10.276Z"
   },
   {
    "duration": 225,
    "start_time": "2024-06-28T02:00:10.292Z"
   },
   {
    "duration": 127,
    "start_time": "2024-06-28T02:00:10.520Z"
   },
   {
    "duration": 490,
    "start_time": "2024-06-28T02:00:10.650Z"
   },
   {
    "duration": 0,
    "start_time": "2024-06-28T02:00:11.143Z"
   },
   {
    "duration": 0,
    "start_time": "2024-06-28T02:00:11.146Z"
   },
   {
    "duration": 0,
    "start_time": "2024-06-28T02:00:11.148Z"
   },
   {
    "duration": 0,
    "start_time": "2024-06-28T02:00:11.150Z"
   },
   {
    "duration": 0,
    "start_time": "2024-06-28T02:00:11.153Z"
   },
   {
    "duration": 0,
    "start_time": "2024-06-28T02:00:11.156Z"
   },
   {
    "duration": 1261,
    "start_time": "2024-06-28T02:00:41.075Z"
   },
   {
    "duration": 25,
    "start_time": "2024-06-28T02:00:42.340Z"
   },
   {
    "duration": 17,
    "start_time": "2024-06-28T02:00:42.368Z"
   },
   {
    "duration": 49,
    "start_time": "2024-06-28T02:00:42.389Z"
   },
   {
    "duration": 13,
    "start_time": "2024-06-28T02:00:42.442Z"
   },
   {
    "duration": 222,
    "start_time": "2024-06-28T02:00:42.458Z"
   },
   {
    "duration": 123,
    "start_time": "2024-06-28T02:00:42.683Z"
   },
   {
    "duration": 354,
    "start_time": "2024-06-28T02:00:42.810Z"
   },
   {
    "duration": 280,
    "start_time": "2024-06-28T02:00:43.167Z"
   },
   {
    "duration": 285,
    "start_time": "2024-06-28T02:00:43.451Z"
   },
   {
    "duration": 30,
    "start_time": "2024-06-28T02:00:43.739Z"
   },
   {
    "duration": 370,
    "start_time": "2024-06-28T02:00:43.772Z"
   },
   {
    "duration": 14,
    "start_time": "2024-06-28T02:00:44.144Z"
   },
   {
    "duration": 503,
    "start_time": "2024-06-28T02:00:44.164Z"
   },
   {
    "duration": 1257,
    "start_time": "2024-06-28T02:01:16.072Z"
   },
   {
    "duration": 23,
    "start_time": "2024-06-28T02:01:17.333Z"
   },
   {
    "duration": 17,
    "start_time": "2024-06-28T02:01:17.359Z"
   },
   {
    "duration": 54,
    "start_time": "2024-06-28T02:01:17.380Z"
   },
   {
    "duration": 13,
    "start_time": "2024-06-28T02:01:17.439Z"
   },
   {
    "duration": 213,
    "start_time": "2024-06-28T02:01:17.455Z"
   },
   {
    "duration": 130,
    "start_time": "2024-06-28T02:01:17.671Z"
   },
   {
    "duration": 349,
    "start_time": "2024-06-28T02:01:17.803Z"
   },
   {
    "duration": 305,
    "start_time": "2024-06-28T02:01:18.155Z"
   },
   {
    "duration": 290,
    "start_time": "2024-06-28T02:01:18.463Z"
   },
   {
    "duration": 30,
    "start_time": "2024-06-28T02:01:18.756Z"
   },
   {
    "duration": 363,
    "start_time": "2024-06-28T02:01:18.790Z"
   },
   {
    "duration": 13,
    "start_time": "2024-06-28T02:01:19.157Z"
   },
   {
    "duration": 489,
    "start_time": "2024-06-28T02:01:19.175Z"
   },
   {
    "duration": 1229,
    "start_time": "2024-06-28T02:12:05.164Z"
   },
   {
    "duration": 26,
    "start_time": "2024-06-28T02:12:06.397Z"
   },
   {
    "duration": 18,
    "start_time": "2024-06-28T02:12:06.433Z"
   },
   {
    "duration": 20,
    "start_time": "2024-06-28T02:12:06.456Z"
   },
   {
    "duration": 12,
    "start_time": "2024-06-28T02:12:06.480Z"
   },
   {
    "duration": 225,
    "start_time": "2024-06-28T02:12:06.495Z"
   },
   {
    "duration": 130,
    "start_time": "2024-06-28T02:12:06.723Z"
   },
   {
    "duration": 368,
    "start_time": "2024-06-28T02:12:06.856Z"
   },
   {
    "duration": 305,
    "start_time": "2024-06-28T02:12:07.227Z"
   },
   {
    "duration": 282,
    "start_time": "2024-06-28T02:12:07.535Z"
   },
   {
    "duration": 33,
    "start_time": "2024-06-28T02:12:07.820Z"
   },
   {
    "duration": 373,
    "start_time": "2024-06-28T02:12:07.856Z"
   },
   {
    "duration": 10,
    "start_time": "2024-06-28T02:12:08.233Z"
   },
   {
    "duration": 514,
    "start_time": "2024-06-28T02:12:08.249Z"
   },
   {
    "duration": 1235,
    "start_time": "2024-06-28T02:12:32.169Z"
   },
   {
    "duration": 37,
    "start_time": "2024-06-28T02:12:33.407Z"
   },
   {
    "duration": 18,
    "start_time": "2024-06-28T02:12:33.446Z"
   },
   {
    "duration": 27,
    "start_time": "2024-06-28T02:12:33.468Z"
   },
   {
    "duration": 45,
    "start_time": "2024-06-28T02:12:33.498Z"
   },
   {
    "duration": 202,
    "start_time": "2024-06-28T02:12:33.550Z"
   },
   {
    "duration": 141,
    "start_time": "2024-06-28T02:12:33.755Z"
   },
   {
    "duration": 290,
    "start_time": "2024-06-28T02:12:33.899Z"
   },
   {
    "duration": 343,
    "start_time": "2024-06-28T02:12:34.192Z"
   },
   {
    "duration": 287,
    "start_time": "2024-06-28T02:12:34.540Z"
   },
   {
    "duration": 35,
    "start_time": "2024-06-28T02:12:34.836Z"
   },
   {
    "duration": 375,
    "start_time": "2024-06-28T02:12:34.874Z"
   },
   {
    "duration": 13,
    "start_time": "2024-06-28T02:12:35.253Z"
   },
   {
    "duration": 479,
    "start_time": "2024-06-28T02:12:35.269Z"
   }
  ],
  "kernelspec": {
   "display_name": "Python 3 (ipykernel)",
   "language": "python",
   "name": "python3"
  },
  "language_info": {
   "codemirror_mode": {
    "name": "ipython",
    "version": 3
   },
   "file_extension": ".py",
   "mimetype": "text/x-python",
   "name": "python",
   "nbconvert_exporter": "python",
   "pygments_lexer": "ipython3",
   "version": "3.9.19"
  },
  "toc": {
   "base_numbering": 1,
   "nav_menu": {},
   "number_sections": true,
   "sideBar": true,
   "skip_h1_title": true,
   "title_cell": "Table of Contents",
   "title_sidebar": "Contents",
   "toc_cell": false,
   "toc_position": {},
   "toc_section_display": true,
   "toc_window_display": false
  }
 },
 "nbformat": 4,
 "nbformat_minor": 2
}
