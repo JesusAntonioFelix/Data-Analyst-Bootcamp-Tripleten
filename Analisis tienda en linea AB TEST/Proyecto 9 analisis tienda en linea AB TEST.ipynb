{
 "cells": [
  {
   "cell_type": "markdown",
   "metadata": {},
   "source": [
    "# Introduccion\n",
    "\n",
    "Este proyecto es acerca de una gran tienda en linea en la cual se han recopilado hipotesis que pueden ayudar a aumentar los ingresos, por lo que se hara un teste A/B y posteriormente se analizaran los resultados."
   ]
  },
  {
   "cell_type": "markdown",
   "metadata": {},
   "source": [
    "# Preprocesamiento de datos"
   ]
  },
  {
   "cell_type": "code",
   "execution_count": 1,
   "metadata": {},
   "outputs": [],
   "source": [
    "#importacion de librerias\n",
    "\n",
    "import pandas as pd\n",
    "import matplotlib.pyplot as plt\n",
    "import seaborn as sns\n",
    "from scipy import stats\n",
    "from statsmodels.stats.proportion import proportions_ztest\n",
    "\n",
    "\n"
   ]
  },
  {
   "cell_type": "code",
   "execution_count": 2,
   "metadata": {},
   "outputs": [],
   "source": [
    "#Importacion de base de datos\n",
    "\n",
    "hipotesis = pd.read_csv('/datasets/hypotheses_us.csv')\n",
    "\n",
    "orders = pd.read_csv('/datasets/orders_us.csv')\n",
    "\n",
    "visits = pd.read_csv('/datasets/visits_us.csv')\n"
   ]
  },
  {
   "cell_type": "code",
   "execution_count": 3,
   "metadata": {},
   "outputs": [
    {
     "name": "stdout",
     "output_type": "stream",
     "text": [
      "<class 'pandas.core.frame.DataFrame'>\n",
      "RangeIndex: 9 entries, 0 to 8\n",
      "Data columns (total 1 columns):\n",
      " #   Column                                     Non-Null Count  Dtype \n",
      "---  ------                                     --------------  ----- \n",
      " 0   Hypothesis;Reach;Impact;Confidence;Effort  9 non-null      object\n",
      "dtypes: object(1)\n",
      "memory usage: 200.0+ bytes\n",
      "<class 'pandas.core.frame.DataFrame'>\n",
      "RangeIndex: 1197 entries, 0 to 1196\n",
      "Data columns (total 5 columns):\n",
      " #   Column         Non-Null Count  Dtype  \n",
      "---  ------         --------------  -----  \n",
      " 0   transactionId  1197 non-null   int64  \n",
      " 1   visitorId      1197 non-null   int64  \n",
      " 2   date           1197 non-null   object \n",
      " 3   revenue        1197 non-null   float64\n",
      " 4   group          1197 non-null   object \n",
      "dtypes: float64(1), int64(2), object(2)\n",
      "memory usage: 46.9+ KB\n",
      "<class 'pandas.core.frame.DataFrame'>\n",
      "RangeIndex: 62 entries, 0 to 61\n",
      "Data columns (total 3 columns):\n",
      " #   Column  Non-Null Count  Dtype \n",
      "---  ------  --------------  ----- \n",
      " 0   date    62 non-null     object\n",
      " 1   group   62 non-null     object\n",
      " 2   visits  62 non-null     int64 \n",
      "dtypes: int64(1), object(2)\n",
      "memory usage: 1.6+ KB\n"
     ]
    }
   ],
   "source": [
    "hipotesis.info()\n",
    "\n",
    "orders.info()\n",
    "\n",
    "visits.info()"
   ]
  },
  {
   "cell_type": "markdown",
   "metadata": {},
   "source": [
    "Se obtienen los tipos de datos de los tres datasets lo cuales de hipotesis con su respectivas metricas, de ordenes con el revenue y usuarios que se han tendio y el de visitas con sus respectivas fechas"
   ]
  },
  {
   "cell_type": "code",
   "execution_count": 4,
   "metadata": {},
   "outputs": [
    {
     "data": {
      "text/html": [
       "<div>\n",
       "<style scoped>\n",
       "    .dataframe tbody tr th:only-of-type {\n",
       "        vertical-align: middle;\n",
       "    }\n",
       "\n",
       "    .dataframe tbody tr th {\n",
       "        vertical-align: top;\n",
       "    }\n",
       "\n",
       "    .dataframe thead th {\n",
       "        text-align: right;\n",
       "    }\n",
       "</style>\n",
       "<table border=\"1\" class=\"dataframe\">\n",
       "  <thead>\n",
       "    <tr style=\"text-align: right;\">\n",
       "      <th></th>\n",
       "      <th>Hypothesis;Reach;Impact;Confidence;Effort</th>\n",
       "    </tr>\n",
       "  </thead>\n",
       "  <tbody>\n",
       "    <tr>\n",
       "      <th>0</th>\n",
       "      <td>Add two new channels for attracting traffic. T...</td>\n",
       "    </tr>\n",
       "    <tr>\n",
       "      <th>1</th>\n",
       "      <td>Launch your own delivery service. This will sh...</td>\n",
       "    </tr>\n",
       "    <tr>\n",
       "      <th>2</th>\n",
       "      <td>Add product recommendation blocks to the store...</td>\n",
       "    </tr>\n",
       "    <tr>\n",
       "      <th>3</th>\n",
       "      <td>Change the category structure. This will incre...</td>\n",
       "    </tr>\n",
       "    <tr>\n",
       "      <th>4</th>\n",
       "      <td>Change the background color on the main page. ...</td>\n",
       "    </tr>\n",
       "    <tr>\n",
       "      <th>5</th>\n",
       "      <td>Add a customer review page. This will increase...</td>\n",
       "    </tr>\n",
       "    <tr>\n",
       "      <th>6</th>\n",
       "      <td>Show banners with current offers and sales on ...</td>\n",
       "    </tr>\n",
       "    <tr>\n",
       "      <th>7</th>\n",
       "      <td>Add a subscription form to all the main pages....</td>\n",
       "    </tr>\n",
       "    <tr>\n",
       "      <th>8</th>\n",
       "      <td>Launch a promotion that gives users discounts ...</td>\n",
       "    </tr>\n",
       "  </tbody>\n",
       "</table>\n",
       "</div>"
      ],
      "text/plain": [
       "           Hypothesis;Reach;Impact;Confidence;Effort\n",
       "0  Add two new channels for attracting traffic. T...\n",
       "1  Launch your own delivery service. This will sh...\n",
       "2  Add product recommendation blocks to the store...\n",
       "3  Change the category structure. This will incre...\n",
       "4  Change the background color on the main page. ...\n",
       "5  Add a customer review page. This will increase...\n",
       "6  Show banners with current offers and sales on ...\n",
       "7  Add a subscription form to all the main pages....\n",
       "8  Launch a promotion that gives users discounts ..."
      ]
     },
     "metadata": {},
     "output_type": "display_data"
    },
    {
     "data": {
      "text/html": [
       "<div>\n",
       "<style scoped>\n",
       "    .dataframe tbody tr th:only-of-type {\n",
       "        vertical-align: middle;\n",
       "    }\n",
       "\n",
       "    .dataframe tbody tr th {\n",
       "        vertical-align: top;\n",
       "    }\n",
       "\n",
       "    .dataframe thead th {\n",
       "        text-align: right;\n",
       "    }\n",
       "</style>\n",
       "<table border=\"1\" class=\"dataframe\">\n",
       "  <thead>\n",
       "    <tr style=\"text-align: right;\">\n",
       "      <th></th>\n",
       "      <th>transactionId</th>\n",
       "      <th>visitorId</th>\n",
       "      <th>date</th>\n",
       "      <th>revenue</th>\n",
       "      <th>group</th>\n",
       "    </tr>\n",
       "  </thead>\n",
       "  <tbody>\n",
       "    <tr>\n",
       "      <th>0</th>\n",
       "      <td>3667963787</td>\n",
       "      <td>3312258926</td>\n",
       "      <td>2019-08-15</td>\n",
       "      <td>30.4</td>\n",
       "      <td>B</td>\n",
       "    </tr>\n",
       "    <tr>\n",
       "      <th>1</th>\n",
       "      <td>2804400009</td>\n",
       "      <td>3642806036</td>\n",
       "      <td>2019-08-15</td>\n",
       "      <td>15.2</td>\n",
       "      <td>B</td>\n",
       "    </tr>\n",
       "    <tr>\n",
       "      <th>2</th>\n",
       "      <td>2961555356</td>\n",
       "      <td>4069496402</td>\n",
       "      <td>2019-08-15</td>\n",
       "      <td>10.2</td>\n",
       "      <td>A</td>\n",
       "    </tr>\n",
       "    <tr>\n",
       "      <th>3</th>\n",
       "      <td>3797467345</td>\n",
       "      <td>1196621759</td>\n",
       "      <td>2019-08-15</td>\n",
       "      <td>155.1</td>\n",
       "      <td>B</td>\n",
       "    </tr>\n",
       "    <tr>\n",
       "      <th>4</th>\n",
       "      <td>2282983706</td>\n",
       "      <td>2322279887</td>\n",
       "      <td>2019-08-15</td>\n",
       "      <td>40.5</td>\n",
       "      <td>B</td>\n",
       "    </tr>\n",
       "    <tr>\n",
       "      <th>...</th>\n",
       "      <td>...</td>\n",
       "      <td>...</td>\n",
       "      <td>...</td>\n",
       "      <td>...</td>\n",
       "      <td>...</td>\n",
       "    </tr>\n",
       "    <tr>\n",
       "      <th>1192</th>\n",
       "      <td>2662137336</td>\n",
       "      <td>3733762160</td>\n",
       "      <td>2019-08-14</td>\n",
       "      <td>100.8</td>\n",
       "      <td>B</td>\n",
       "    </tr>\n",
       "    <tr>\n",
       "      <th>1193</th>\n",
       "      <td>2203539145</td>\n",
       "      <td>370388673</td>\n",
       "      <td>2019-08-14</td>\n",
       "      <td>50.1</td>\n",
       "      <td>A</td>\n",
       "    </tr>\n",
       "    <tr>\n",
       "      <th>1194</th>\n",
       "      <td>1807773912</td>\n",
       "      <td>573423106</td>\n",
       "      <td>2019-08-14</td>\n",
       "      <td>165.3</td>\n",
       "      <td>A</td>\n",
       "    </tr>\n",
       "    <tr>\n",
       "      <th>1195</th>\n",
       "      <td>1947021204</td>\n",
       "      <td>1614305549</td>\n",
       "      <td>2019-08-14</td>\n",
       "      <td>5.5</td>\n",
       "      <td>A</td>\n",
       "    </tr>\n",
       "    <tr>\n",
       "      <th>1196</th>\n",
       "      <td>3936777065</td>\n",
       "      <td>2108080724</td>\n",
       "      <td>2019-08-15</td>\n",
       "      <td>3120.1</td>\n",
       "      <td>B</td>\n",
       "    </tr>\n",
       "  </tbody>\n",
       "</table>\n",
       "<p>1197 rows × 5 columns</p>\n",
       "</div>"
      ],
      "text/plain": [
       "      transactionId   visitorId        date  revenue group\n",
       "0        3667963787  3312258926  2019-08-15     30.4     B\n",
       "1        2804400009  3642806036  2019-08-15     15.2     B\n",
       "2        2961555356  4069496402  2019-08-15     10.2     A\n",
       "3        3797467345  1196621759  2019-08-15    155.1     B\n",
       "4        2282983706  2322279887  2019-08-15     40.5     B\n",
       "...             ...         ...         ...      ...   ...\n",
       "1192     2662137336  3733762160  2019-08-14    100.8     B\n",
       "1193     2203539145   370388673  2019-08-14     50.1     A\n",
       "1194     1807773912   573423106  2019-08-14    165.3     A\n",
       "1195     1947021204  1614305549  2019-08-14      5.5     A\n",
       "1196     3936777065  2108080724  2019-08-15   3120.1     B\n",
       "\n",
       "[1197 rows x 5 columns]"
      ]
     },
     "metadata": {},
     "output_type": "display_data"
    },
    {
     "data": {
      "text/html": [
       "<div>\n",
       "<style scoped>\n",
       "    .dataframe tbody tr th:only-of-type {\n",
       "        vertical-align: middle;\n",
       "    }\n",
       "\n",
       "    .dataframe tbody tr th {\n",
       "        vertical-align: top;\n",
       "    }\n",
       "\n",
       "    .dataframe thead th {\n",
       "        text-align: right;\n",
       "    }\n",
       "</style>\n",
       "<table border=\"1\" class=\"dataframe\">\n",
       "  <thead>\n",
       "    <tr style=\"text-align: right;\">\n",
       "      <th></th>\n",
       "      <th>date</th>\n",
       "      <th>group</th>\n",
       "      <th>visits</th>\n",
       "    </tr>\n",
       "  </thead>\n",
       "  <tbody>\n",
       "    <tr>\n",
       "      <th>0</th>\n",
       "      <td>2019-08-01</td>\n",
       "      <td>A</td>\n",
       "      <td>719</td>\n",
       "    </tr>\n",
       "    <tr>\n",
       "      <th>1</th>\n",
       "      <td>2019-08-02</td>\n",
       "      <td>A</td>\n",
       "      <td>619</td>\n",
       "    </tr>\n",
       "    <tr>\n",
       "      <th>2</th>\n",
       "      <td>2019-08-03</td>\n",
       "      <td>A</td>\n",
       "      <td>507</td>\n",
       "    </tr>\n",
       "    <tr>\n",
       "      <th>3</th>\n",
       "      <td>2019-08-04</td>\n",
       "      <td>A</td>\n",
       "      <td>717</td>\n",
       "    </tr>\n",
       "    <tr>\n",
       "      <th>4</th>\n",
       "      <td>2019-08-05</td>\n",
       "      <td>A</td>\n",
       "      <td>756</td>\n",
       "    </tr>\n",
       "    <tr>\n",
       "      <th>...</th>\n",
       "      <td>...</td>\n",
       "      <td>...</td>\n",
       "      <td>...</td>\n",
       "    </tr>\n",
       "    <tr>\n",
       "      <th>57</th>\n",
       "      <td>2019-08-27</td>\n",
       "      <td>B</td>\n",
       "      <td>720</td>\n",
       "    </tr>\n",
       "    <tr>\n",
       "      <th>58</th>\n",
       "      <td>2019-08-28</td>\n",
       "      <td>B</td>\n",
       "      <td>654</td>\n",
       "    </tr>\n",
       "    <tr>\n",
       "      <th>59</th>\n",
       "      <td>2019-08-29</td>\n",
       "      <td>B</td>\n",
       "      <td>531</td>\n",
       "    </tr>\n",
       "    <tr>\n",
       "      <th>60</th>\n",
       "      <td>2019-08-30</td>\n",
       "      <td>B</td>\n",
       "      <td>490</td>\n",
       "    </tr>\n",
       "    <tr>\n",
       "      <th>61</th>\n",
       "      <td>2019-08-31</td>\n",
       "      <td>B</td>\n",
       "      <td>718</td>\n",
       "    </tr>\n",
       "  </tbody>\n",
       "</table>\n",
       "<p>62 rows × 3 columns</p>\n",
       "</div>"
      ],
      "text/plain": [
       "          date group  visits\n",
       "0   2019-08-01     A     719\n",
       "1   2019-08-02     A     619\n",
       "2   2019-08-03     A     507\n",
       "3   2019-08-04     A     717\n",
       "4   2019-08-05     A     756\n",
       "..         ...   ...     ...\n",
       "57  2019-08-27     B     720\n",
       "58  2019-08-28     B     654\n",
       "59  2019-08-29     B     531\n",
       "60  2019-08-30     B     490\n",
       "61  2019-08-31     B     718\n",
       "\n",
       "[62 rows x 3 columns]"
      ]
     },
     "metadata": {},
     "output_type": "display_data"
    }
   ],
   "source": [
    "display(hipotesis)\n",
    "display(orders)\n",
    "display(visits)"
   ]
  },
  {
   "cell_type": "code",
   "execution_count": 5,
   "metadata": {},
   "outputs": [
    {
     "name": "stdout",
     "output_type": "stream",
     "text": [
      "<class 'pandas.core.frame.DataFrame'>\n",
      "RangeIndex: 1197 entries, 0 to 1196\n",
      "Data columns (total 5 columns):\n",
      " #   Column         Non-Null Count  Dtype         \n",
      "---  ------         --------------  -----         \n",
      " 0   transactionId  1197 non-null   int64         \n",
      " 1   visitorId      1197 non-null   int64         \n",
      " 2   date           1197 non-null   datetime64[ns]\n",
      " 3   revenue        1197 non-null   float64       \n",
      " 4   group          1197 non-null   object        \n",
      "dtypes: datetime64[ns](1), float64(1), int64(2), object(1)\n",
      "memory usage: 46.9+ KB\n",
      "<class 'pandas.core.frame.DataFrame'>\n",
      "RangeIndex: 62 entries, 0 to 61\n",
      "Data columns (total 3 columns):\n",
      " #   Column  Non-Null Count  Dtype         \n",
      "---  ------  --------------  -----         \n",
      " 0   date    62 non-null     datetime64[ns]\n",
      " 1   group   62 non-null     object        \n",
      " 2   visits  62 non-null     int64         \n",
      "dtypes: datetime64[ns](1), int64(1), object(1)\n",
      "memory usage: 1.6+ KB\n"
     ]
    }
   ],
   "source": [
    "#Se transforma a tipo fecha columnas d\n",
    "orders['date'] = pd.to_datetime(orders['date'])\n",
    "visits['date'] = pd.to_datetime(visits['date'])\n",
    "\n",
    "orders.info()\n",
    "visits.info()"
   ]
  },
  {
   "cell_type": "code",
   "execution_count": 6,
   "metadata": {},
   "outputs": [
    {
     "name": "stdout",
     "output_type": "stream",
     "text": [
      "                                          Hypothesis  Reach  Impact  \\\n",
      "0  Add two new channels for attracting traffic. T...      3      10   \n",
      "1  Launch your own delivery service. This will sh...      2       5   \n",
      "2  Add product recommendation blocks to the store...      8       3   \n",
      "3  Change the category structure. This will incre...      8       3   \n",
      "4  Change the background color on the main page. ...      3       1   \n",
      "\n",
      "   Confidence  Effort  \n",
      "0           8       6  \n",
      "1           4      10  \n",
      "2           7       3  \n",
      "3           3       8  \n",
      "4           1       1  \n"
     ]
    }
   ],
   "source": [
    "hipotesis = pd.read_csv('/datasets/hypotheses_us.csv', ';')\n",
    "\n",
    "\n",
    "                        \n",
    "print(hipotesis.head())"
   ]
  },
  {
   "cell_type": "markdown",
   "metadata": {},
   "source": [
    "Al obtener la informacion general de cada dataset se puede ver que la primera son las hipotesis con sus respectivas metricas de essfuerzo, confiabilidad y alcance las cualees serviran para hacer un analisis mas profundo de que tan factibles son para impactar ene el negocio. \n",
    "\n",
    "Se obtiene el dataset de ordenes la cuales son un registro por fecha, transaccion, usuario y grupo, esta informacion es la que puede funcionar para nuestros analisis siguientes. De igual forma se el datasets orders en donde tenemos las visitas por grupo y fecha tambien ayudara mas a fondo en los tests"
   ]
  },
  {
   "cell_type": "markdown",
   "metadata": {},
   "source": [
    "## Priorizar hipotesis"
   ]
  },
  {
   "cell_type": "code",
   "execution_count": 7,
   "metadata": {},
   "outputs": [
    {
     "data": {
      "text/html": [
       "<div>\n",
       "<style scoped>\n",
       "    .dataframe tbody tr th:only-of-type {\n",
       "        vertical-align: middle;\n",
       "    }\n",
       "\n",
       "    .dataframe tbody tr th {\n",
       "        vertical-align: top;\n",
       "    }\n",
       "\n",
       "    .dataframe thead th {\n",
       "        text-align: right;\n",
       "    }\n",
       "</style>\n",
       "<table border=\"1\" class=\"dataframe\">\n",
       "  <thead>\n",
       "    <tr style=\"text-align: right;\">\n",
       "      <th></th>\n",
       "      <th>Hypothesis</th>\n",
       "      <th>Ice</th>\n",
       "    </tr>\n",
       "  </thead>\n",
       "  <tbody>\n",
       "    <tr>\n",
       "      <th>8</th>\n",
       "      <td>Launch a promotion that gives users discounts ...</td>\n",
       "      <td>16.200000</td>\n",
       "    </tr>\n",
       "    <tr>\n",
       "      <th>0</th>\n",
       "      <td>Add two new channels for attracting traffic. T...</td>\n",
       "      <td>13.333333</td>\n",
       "    </tr>\n",
       "    <tr>\n",
       "      <th>7</th>\n",
       "      <td>Add a subscription form to all the main pages....</td>\n",
       "      <td>11.200000</td>\n",
       "    </tr>\n",
       "    <tr>\n",
       "      <th>6</th>\n",
       "      <td>Show banners with current offers and sales on ...</td>\n",
       "      <td>8.000000</td>\n",
       "    </tr>\n",
       "    <tr>\n",
       "      <th>2</th>\n",
       "      <td>Add product recommendation blocks to the store...</td>\n",
       "      <td>7.000000</td>\n",
       "    </tr>\n",
       "    <tr>\n",
       "      <th>1</th>\n",
       "      <td>Launch your own delivery service. This will sh...</td>\n",
       "      <td>2.000000</td>\n",
       "    </tr>\n",
       "    <tr>\n",
       "      <th>5</th>\n",
       "      <td>Add a customer review page. This will increase...</td>\n",
       "      <td>1.333333</td>\n",
       "    </tr>\n",
       "    <tr>\n",
       "      <th>3</th>\n",
       "      <td>Change the category structure. This will incre...</td>\n",
       "      <td>1.125000</td>\n",
       "    </tr>\n",
       "    <tr>\n",
       "      <th>4</th>\n",
       "      <td>Change the background color on the main page. ...</td>\n",
       "      <td>1.000000</td>\n",
       "    </tr>\n",
       "  </tbody>\n",
       "</table>\n",
       "</div>"
      ],
      "text/plain": [
       "                                          Hypothesis        Ice\n",
       "8  Launch a promotion that gives users discounts ...  16.200000\n",
       "0  Add two new channels for attracting traffic. T...  13.333333\n",
       "7  Add a subscription form to all the main pages....  11.200000\n",
       "6  Show banners with current offers and sales on ...   8.000000\n",
       "2  Add product recommendation blocks to the store...   7.000000\n",
       "1  Launch your own delivery service. This will sh...   2.000000\n",
       "5  Add a customer review page. This will increase...   1.333333\n",
       "3  Change the category structure. This will incre...   1.125000\n",
       "4  Change the background color on the main page. ...   1.000000"
      ]
     },
     "metadata": {},
     "output_type": "display_data"
    }
   ],
   "source": [
    "#Calculamos el ice\n",
    "hipotesis['Ice'] = (hipotesis['Impact'] * hipotesis['Confidence']) / hipotesis['Effort']\n",
    "\n",
    "hipotesis_ice = hipotesis.sort_values(by='Ice', ascending=False)\n",
    "\n",
    "display(hipotesis_ice[['Hypothesis', 'Ice']])"
   ]
  },
  {
   "cell_type": "code",
   "execution_count": 8,
   "metadata": {},
   "outputs": [
    {
     "data": {
      "text/html": [
       "<div>\n",
       "<style scoped>\n",
       "    .dataframe tbody tr th:only-of-type {\n",
       "        vertical-align: middle;\n",
       "    }\n",
       "\n",
       "    .dataframe tbody tr th {\n",
       "        vertical-align: top;\n",
       "    }\n",
       "\n",
       "    .dataframe thead th {\n",
       "        text-align: right;\n",
       "    }\n",
       "</style>\n",
       "<table border=\"1\" class=\"dataframe\">\n",
       "  <thead>\n",
       "    <tr style=\"text-align: right;\">\n",
       "      <th></th>\n",
       "      <th>Hypothesis</th>\n",
       "      <th>Rice</th>\n",
       "    </tr>\n",
       "  </thead>\n",
       "  <tbody>\n",
       "    <tr>\n",
       "      <th>7</th>\n",
       "      <td>Add a subscription form to all the main pages....</td>\n",
       "      <td>112.0</td>\n",
       "    </tr>\n",
       "    <tr>\n",
       "      <th>2</th>\n",
       "      <td>Add product recommendation blocks to the store...</td>\n",
       "      <td>56.0</td>\n",
       "    </tr>\n",
       "    <tr>\n",
       "      <th>0</th>\n",
       "      <td>Add two new channels for attracting traffic. T...</td>\n",
       "      <td>40.0</td>\n",
       "    </tr>\n",
       "    <tr>\n",
       "      <th>6</th>\n",
       "      <td>Show banners with current offers and sales on ...</td>\n",
       "      <td>40.0</td>\n",
       "    </tr>\n",
       "    <tr>\n",
       "      <th>8</th>\n",
       "      <td>Launch a promotion that gives users discounts ...</td>\n",
       "      <td>16.2</td>\n",
       "    </tr>\n",
       "    <tr>\n",
       "      <th>3</th>\n",
       "      <td>Change the category structure. This will incre...</td>\n",
       "      <td>9.0</td>\n",
       "    </tr>\n",
       "    <tr>\n",
       "      <th>1</th>\n",
       "      <td>Launch your own delivery service. This will sh...</td>\n",
       "      <td>4.0</td>\n",
       "    </tr>\n",
       "    <tr>\n",
       "      <th>5</th>\n",
       "      <td>Add a customer review page. This will increase...</td>\n",
       "      <td>4.0</td>\n",
       "    </tr>\n",
       "    <tr>\n",
       "      <th>4</th>\n",
       "      <td>Change the background color on the main page. ...</td>\n",
       "      <td>3.0</td>\n",
       "    </tr>\n",
       "  </tbody>\n",
       "</table>\n",
       "</div>"
      ],
      "text/plain": [
       "                                          Hypothesis   Rice\n",
       "7  Add a subscription form to all the main pages....  112.0\n",
       "2  Add product recommendation blocks to the store...   56.0\n",
       "0  Add two new channels for attracting traffic. T...   40.0\n",
       "6  Show banners with current offers and sales on ...   40.0\n",
       "8  Launch a promotion that gives users discounts ...   16.2\n",
       "3  Change the category structure. This will incre...    9.0\n",
       "1  Launch your own delivery service. This will sh...    4.0\n",
       "5  Add a customer review page. This will increase...    4.0\n",
       "4  Change the background color on the main page. ...    3.0"
      ]
     },
     "metadata": {},
     "output_type": "display_data"
    }
   ],
   "source": [
    "#Calculamos RICE\n",
    "\n",
    "\n",
    "\n",
    "hipotesis['Rice'] = (hipotesis['Reach'] * hipotesis['Impact'] * hipotesis['Confidence']) / hipotesis['Effort']\n",
    "\n",
    "hipotesis_rice = hipotesis.sort_values(by='Rice', ascending=False)\n",
    "\n",
    "display(hipotesis_rice[['Hypothesis', 'Rice']])"
   ]
  },
  {
   "cell_type": "markdown",
   "metadata": {},
   "source": [
    "Se puede ver un cambio de priorizacion cuando entre ICE y Rice, esto es debido a que en RICE tomamos en cuenta el parametro de alcance. \n",
    "\n",
    "Podemos ver que en ICE el top tres de prioridades son\n",
    "-Lanzar una promocion de descuento en los cumpleanos.\n",
    "-Anadir dos canales nuevos para atraer trafico\n",
    "-Agregar una forma de suscripcion para las principales paginas. \n",
    "\n",
    "Mientras tanto en RICE el top tres son \n",
    "-Agregar una forma de suscripcion para las principales paginas. \n",
    "-Agregar bloques de recomendaciones de productos a la pagina de la tienda\n",
    "-Anadir dos canales nuevos para atraer trafico y mostrar anuncios con ofertas actuales\n",
    "\n",
    "\n",
    "Podriamos decir que las principales en ambas  son\n",
    "-Anadir dos canales nuevos para atraer trafico\n",
    "-Agregar una forma de suscripcion para las principales paginas. \n",
    "\n"
   ]
  },
  {
   "cell_type": "markdown",
   "metadata": {},
   "source": [
    "# Parte 2. Análisis de test A/B"
   ]
  },
  {
   "cell_type": "code",
   "execution_count": 9,
   "metadata": {},
   "outputs": [],
   "source": [
    "#Se realiza filtrado de visitantes unicos por grupo\n",
    "visitantes_unicos_a = orders[orders['group'] == 'A']['visitorId'].unique()\n",
    "visitantes_ubicos_b = orders[orders['group'] == 'B']['visitorId'].unique()\n",
    "\n",
    "visitas_a = set(visitantes_unicos_a)\n",
    "visitas_b = set(visitantes_ubicos_b)\n",
    "\n",
    "visitantes_ambos_grupos = visitas_a.intersection(visitas_b)\n",
    "\n",
    "orders = orders[~orders['visitorId'].isin(visitantes_ambos_grupos)]\n",
    "\n"
   ]
  },
  {
   "cell_type": "code",
   "execution_count": 10,
   "metadata": {},
   "outputs": [
    {
     "data": {
      "image/png": "[encoded data removed]",
      "text/plain": [
       "<Figure size 1500x1200 with 1 Axes>"
      ]
     },
     "metadata": {},
     "output_type": "display_data"
    }
   ],
   "source": [
    "#Representación gráfica del ingreso acumulado por grupo.\n",
    "\n",
    "ingresos_acumulado_a = orders[orders['group'] == 'A'].groupby('date').agg({'revenue': 'sum'}).cumsum()\n",
    "ingresos_acumulado_b = orders[orders['group'] == 'B'].groupby('date').agg({'revenue': 'sum'}).cumsum()\n",
    "\n",
    "plt.figure(figsize=(15, 12))\n",
    "plt.plot(ingresos_acumulado_a, label='Grupo A')\n",
    "plt.plot(ingresos_acumulado_b, label='Grupo B')\n",
    "plt.title('Ingreso acumulado por Grupo')\n",
    "plt.xlabel('Date')\n",
    "plt.ylabel('Ingreso acumulado')\n",
    "plt.legend()\n",
    "plt.show()"
   ]
  },
  {
   "cell_type": "markdown",
   "metadata": {},
   "source": [
    "Se puede que ver que hay un comportamiento similar entre las ganancias de grupo A y B, sin embargo a partir de agosto 17 es donde A supera a B significativamente en las ganancias"
   ]
  },
  {
   "cell_type": "code",
   "execution_count": 11,
   "metadata": {},
   "outputs": [
    {
     "data": {
      "image/png": "[encoded data removed]",
      "text/plain": [
       "<Figure size 1600x800 with 1 Axes>"
      ]
     },
     "metadata": {},
     "output_type": "display_data"
    }
   ],
   "source": [
    "# Representación grafica tamaño pedido promedio por grupo\n",
    "\n",
    "ordenes_acumuladas_a = orders[orders['group'] == 'A'].pivot_table(\n",
    "    index='date',\n",
    "    values=['transactionId', 'revenue'],\n",
    "    aggfunc={'transactionId': 'count', 'revenue': 'sum'}\n",
    ").cumsum().reset_index()\n",
    "\n",
    "ordenes_acumuladas_b = orders[orders['group'] == 'B'].pivot_table(\n",
    "    index='date',\n",
    "    values=['transactionId', 'revenue'],\n",
    "    aggfunc={'transactionId': 'count', 'revenue': 'sum'}\n",
    ").cumsum().reset_index()\n",
    "\n",
    "\n",
    "ordenes_acumuladas_a['tamano_promedio_orden'] = ordenes_acumuladas_a['revenue'] / ordenes_acumuladas_a['transactionId']\n",
    "ordenes_acumuladas_b['tamano_promedio_orden'] = ordenes_acumuladas_b['revenue'] / ordenes_acumuladas_b['transactionId']\n",
    "\n",
    "\n",
    "\n",
    "\n",
    "\n",
    "plt.figure(figsize=(16, 8))\n",
    "plt.plot(ordenes_acumuladas_a['date'], ordenes_acumuladas_a['tamano_promedio_orden'], label='Grupo A')\n",
    "plt.plot(ordenes_acumuladas_b['date'], ordenes_acumuladas_b['tamano_promedio_orden'], label='Grupo B')\n",
    "plt.title('Tamaño de pedido promedio')\n",
    "plt.xlabel('Fecha')\n",
    "plt.ylabel('Tamaño de pedido promedio')\n",
    "plt.legend()\n",
    "plt.show()"
   ]
  },
  {
   "cell_type": "markdown",
   "metadata": {},
   "source": [
    "Se puede ver que grupo a y b tienen un comportamiento similar hasta agosto 17, a partir de aqui se puede ver que el revenue por orden aumente significativamente en agosto para grupo b de 110 a 160 mientras que A se estanca en 110"
   ]
  },
  {
   "cell_type": "code",
   "execution_count": 12,
   "metadata": {
    "scrolled": true
   },
   "outputs": [
    {
     "data": {
      "image/png": "[encoded data removed]",
      "text/plain": [
       "<Figure size 1200x600 with 1 Axes>"
      ]
     },
     "metadata": {},
     "output_type": "display_data"
    }
   ],
   "source": [
    "\n",
    "###  Representación gráfica de la diferencia relativa en el tamaño de pedido promedio acumulado para el grupo B en comparación con el grupo A.\n",
    "merged_cumulative_orders = pd.merge(ordenes_acumuladas_a, ordenes_acumuladas_b, on='date', suffixes=['_A', '_B'])\n",
    "merged_cumulative_orders['diferencia relativa de promedio'] = (\n",
    "    (merged_cumulative_orders['tamano_promedio_orden_B'] - merged_cumulative_orders['tamano_promedio_orden_A']) /\n",
    "    merged_cumulative_orders['tamano_promedio_orden_A']\n",
    ")\n",
    "\n",
    "\n",
    "plt.figure(figsize=(12, 6))\n",
    "plt.plot(merged_cumulative_orders['date'], merged_cumulative_orders['diferencia relativa de promedio'])\n",
    "plt.title('Diferencia relativa del tamano de orden promedio entre A Y B')\n",
    "plt.xlabel('Fecha')\n",
    "plt.ylabel('Diferencia relativa')\n",
    "plt.axhline(y=0, linestyle='--')\n",
    "plt.show()\n"
   ]
  },
  {
   "cell_type": "markdown",
   "metadata": {},
   "source": [
    "   Se puede ver una diferencia diferencia relativa en los primeros dias del mes a excepcion del 08 de agosto que es donde\n",
    "   no supera el 10%, esto tiene relacion con la grafica anterior del tamano promedio de pedido pues justo enesta fecha es \n",
    "   donde hay un cruce entre ambos grupos. Despues de ahi vuelve haber una diferencia entre ambos hasta del 50%"
   ]
  },
  {
   "cell_type": "code",
   "execution_count": 13,
   "metadata": {},
   "outputs": [
    {
     "data": {
      "image/png": "[encoded data removed]",
      "text/plain": [
       "<Figure size 1000x500 with 1 Axes>"
      ]
     },
     "metadata": {},
     "output_type": "display_data"
    }
   ],
   "source": [
    "# Calculo de  la tasa de conversión de cada grupo como la relación entre los pedidos y el número de visitas de cada día.\n",
    "ordenes_dia_a = orders[orders['group'] == 'A'].groupby('date')['transactionId'].count().reset_index()\n",
    "\n",
    "ordenes_dia_b = orders[orders['group'] == 'B'].groupby('date')['transactionId'].count().reset_index()\n",
    "\n",
    "ordenes_dia_a.columns = ['date', 'orders_a']\n",
    "ordenes_dia_b.columns = ['date', 'orders_b']\n",
    "\n",
    "\n",
    "\n",
    "vistas_a = visits[visits['group'] == 'A']\n",
    "vistas_b = visits[visits['group'] == 'B']\n",
    "\n",
    "merge_a = pd.merge(ordenes_dia_a, vistas_a, on='date')\n",
    "merge_b = pd.merge(ordenes_dia_b, vistas_a, on='date')\n",
    "\n",
    "merge_a['conversion_a'] = merge_a['orders_a']/merge_a['visits']\n",
    "merge_b['conversion_b'] = merge_b['orders_b']/merge_b['visits']\n",
    "\n",
    "plt.figure(figsize=(10, 5))\n",
    "plt.plot(merge_a['date'], merge_a['conversion_a'], label='Grupo A')\n",
    "plt.plot(merge_b['date'], merge_b['conversion_b'], label='Grupo B')\n",
    "plt.title('Tasa de conversión diaria por Grupo')\n",
    "plt.xlabel('Fecha')\n",
    "plt.ylabel('Tasa de conversión')\n",
    "plt.legend()\n",
    "plt.show()"
   ]
  },
  {
   "cell_type": "markdown",
   "metadata": {},
   "source": [
    "Se puede ver en la grafica que la tasa de conversion se comporta de una manera muy similar en ambos grupos, es decir que el porcentaje de éxito de orden por cada visita es muy similar cada día para ambos grupos"
   ]
  },
  {
   "cell_type": "code",
   "execution_count": 14,
   "metadata": {},
   "outputs": [
    {
     "data": {
      "image/png": "[encoded data removed]",
      "text/plain": [
       "<Figure size 640x480 with 1 Axes>"
      ]
     },
     "metadata": {},
     "output_type": "display_data"
    }
   ],
   "source": [
    "#Grafico dispersion entre de pedidos\n",
    "pedidos_usuario = orders.groupby('visitorId')['transactionId'].count().reset_index()\n",
    "\n",
    "pedidos_usuario.columns = ['visitorId', 'numero_ordenes']\n",
    "\n",
    "plt.scatter(range(len(pedidos_usuario['visitorId'])), pedidos_usuario['numero_ordenes'])\n",
    "plt.title('Pedidos por usuario')\n",
    "plt.xlabel('Usuario')\n",
    "plt.ylabel('Cantidad de pedidos')\n",
    "plt.show()\n"
   ]
  },
  {
   "cell_type": "code",
   "execution_count": 15,
   "metadata": {},
   "outputs": [
    {
     "name": "stdout",
     "output_type": "stream",
     "text": [
      "0.95    1.0\n",
      "0.99    2.0\n",
      "Name: numero_ordenes, dtype: float64\n"
     ]
    }
   ],
   "source": [
    "#Calculo de percentiles 95 y 99 para el número de pedidos por usario\n",
    "percentiles = pedidos_usuario['numero_ordenes'].quantile([.95, .99])\n",
    "\n",
    "print(percentiles)\n",
    "\n"
   ]
  },
  {
   "cell_type": "markdown",
   "metadata": {},
   "source": [
    "El grafico de dispersión nos dice que  la cantidad de pedidos que suele hacer cada usario es 1, esto mismo se puede confirmar cuando vemos cuantas ordenes representa cada percentil, vemos que a partir del percetnil 95 solo se sigue haciendo una ordene y a partir del percentil 99 se hacen 2 ordenes. Esto quiere decir que el 95% de los usuarios hace 1 orden"
   ]
  },
  {
   "cell_type": "code",
   "execution_count": 16,
   "metadata": {},
   "outputs": [
    {
     "data": {
      "image/png": "[encoded data removed]",
      "text/plain": [
       "<Figure size 640x480 with 1 Axes>"
      ]
     },
     "metadata": {},
     "output_type": "display_data"
    }
   ],
   "source": [
    "#Gráfico de dispersión de los precios de los pedidos.\n",
    "\n",
    "\n",
    "\n",
    "plt.scatter(range(len(orders)), orders['revenue'])\n",
    "plt.title('Precio por pedidos')\n",
    "plt.xlabel('Pedido')\n",
    "plt.ylabel('Precio')\n",
    "plt.show()\n"
   ]
  },
  {
   "cell_type": "markdown",
   "metadata": {},
   "source": [
    "Aqui vemos que el precio de los pedidos no suele superar ni siquiera los 1250, habiendo solo dos outliers"
   ]
  },
  {
   "cell_type": "code",
   "execution_count": 17,
   "metadata": {},
   "outputs": [
    {
     "name": "stdout",
     "output_type": "stream",
     "text": [
      "0.02497865072587532\n",
      "0.02897018397124128\n",
      "Estadístico Z: -2.3899344431697442\n",
      "Valor P: 0.01685138043470311\n"
     ]
    }
   ],
   "source": [
    "#Significancia estadistica de conversion entre los grupos\n",
    "\n",
    "visitas_a = visits[visits['group'] == 'A']['visits'].sum()\n",
    "visitas_b = visits[visits['group'] == 'B']['visits'].sum()\n",
    "\n",
    "\n",
    "\n",
    "ordenes_a = orders[orders['group'] == 'A']['transactionId'].count()\n",
    "ordenes_b = orders[orders['group'] == 'B']['transactionId'].count()\n",
    "\n",
    "\n",
    "\n",
    "conversion_a = ordenes_a / visitas_a\n",
    "conversion_b = ordenes_b / visitas_b\n",
    "\n",
    "\n",
    "print(conversion_a)\n",
    "print(conversion_b)\n",
    "\n",
    "\n",
    "visitas = [visitas_a, visitas_b]\n",
    "ordenes = [ordenes_a, ordenes_b]\n",
    "\n",
    "\n",
    "z_stat, p_val = proportions_ztest(ordenes, visitas)\n",
    "\n",
    "print(\"Estadístico Z:\", z_stat)\n",
    "print(\"Valor P:\", p_val)\n"
   ]
  },
  {
   "cell_type": "markdown",
   "metadata": {},
   "source": [
    "Se hace un ztests para saber si hay diferencia significativa entre las proporciones de grupo a y b siendo la hipotesis nula HO:\n",
    "conversion_a = conversion_b y h1:conversion_a=/=conversion_b.\n",
    "\n",
    "Se oobtiene un p-value menor a .05 por lo que hay suficiente evidencia estadistica para rechazar H0, por lo que que se concluye\n",
    "que las tasa de conversion_a es diferente a la tasa de conversion_b"
   ]
  },
  {
   "cell_type": "code",
   "execution_count": 18,
   "metadata": {},
   "outputs": [
    {
     "name": "stdout",
     "output_type": "stream",
     "text": [
      "Tamano de orden promedio a: 113.70085470085469\n",
      "Tamano de orden promedio b: 145.34890510948907\n",
      "valor p 0.4043438730780975\n"
     ]
    }
   ],
   "source": [
    "#Significancoia estadistica de tamano de orden promedio entre los grupos\n",
    "tamano_orden_a = orders[orders['group'] == 'A']['revenue'].mean()\n",
    "tamano_orden_b = orders[orders['group'] == 'B']['revenue'].mean()\n",
    "\n",
    "print('Tamano de orden promedio a:', tamano_orden_a )\n",
    "print('Tamano de orden promedio b:', tamano_orden_b )\n",
    "\n",
    "\n",
    "\n",
    "t_test, p_value = stats.ttest_ind(orders[orders['group'] == 'A']['revenue'], \n",
    "                                  orders[orders['group'] == 'B']['revenue'], equal_var=False)\n",
    "\n",
    "print('valor p', p_value )"
   ]
  },
  {
   "cell_type": "markdown",
   "metadata": {},
   "source": [
    "Se hace ttest para comprobar la hipotesis nula H0: tamano_orden_a=tamano_orden_a. P value mayor a alpha de .05 por lo no hay suficiente evidencia estadistica para rechazar H0, es asi que Tamano de orden promedio a es igual a Tamano de orden promedio b"
   ]
  },
  {
   "cell_type": "markdown",
   "metadata": {},
   "source": [
    "# Conclusiones"
   ]
  },
  {
   "cell_type": "markdown",
   "metadata": {},
   "source": [
    "Primeramente, se tiene que las ganancia total o acumulada en el mes por grupo tienden a ser similares, sin embargo, a mitad del mes grupo b se ve superado por grupo a, también podemos ver que justamente también a mitad del mes la ganancia promedio por medido es mayor en grupo b, a su vez podemos decir que hay diferencia del tamaño de la orden hasta por lo menos del 20% la mayoría del mes.\n",
    "Si hablamos de la conversión de ordenes/visitas entre los grupos podremos decir que hay una diferencia significativa entre grupo a y b, siendo el b el cual tiene una mejor conversión. \n",
    "Por otro lado, podemos decir que la diferencia de tamaño promedio por orden o ganancia por orden entre los grupos no es significativamente diferente.\n",
    "\n",
    "En resumen\n",
    "\n",
    "-Es más probable que tengamos mejor probabilidad de éxito(ordenes) por cada visita de grupo b en comparación a grupo A\n",
    "\n",
    "-No hay diferencia significativa entre las ganancias promedio por cada pedido entre grupo a y grupo b\n",
    "\n",
    "Dado eso podríamos decidir parar la prueba y considerar el grupo b como líder ya que si bien no hay diferencia significativa entre las ganancias por pedido,  el hecho de tener una mejor tasa de conversión para b(una mejor probabilidad de tener ordenes) puede compensar el primer punto y obtener ganancias significativas invirtiendo los esfuerzos en grupo b.\n"
   ]
  }
 ],
 "metadata": {
  "ExecuteTimeLog": [
   {
    "duration": 755,
    "start_time": "2024-06-09T19:00:29.552Z"
   },
   {
    "duration": 4404,
    "start_time": "2024-06-09T19:01:37.552Z"
   },
   {
    "duration": 20,
    "start_time": "2024-06-09T19:05:30.577Z"
   },
   {
    "duration": 22,
    "start_time": "2024-06-09T19:05:51.689Z"
   },
   {
    "duration": 27,
    "start_time": "2024-06-09T19:05:59.965Z"
   },
   {
    "duration": 85,
    "start_time": "2024-06-09T19:19:06.117Z"
   },
   {
    "duration": 35,
    "start_time": "2024-06-09T19:20:08.402Z"
   },
   {
    "duration": 5,
    "start_time": "2024-06-09T19:27:14.994Z"
   },
   {
    "duration": 12,
    "start_time": "2024-06-09T22:44:25.499Z"
   },
   {
    "duration": 5024,
    "start_time": "2024-06-09T22:44:30.924Z"
   },
   {
    "duration": 23,
    "start_time": "2024-06-09T22:44:35.952Z"
   },
   {
    "duration": 41,
    "start_time": "2024-06-09T22:44:35.977Z"
   },
   {
    "duration": 37,
    "start_time": "2024-06-09T22:44:36.021Z"
   },
   {
    "duration": 5,
    "start_time": "2024-06-09T22:44:36.062Z"
   },
   {
    "duration": 11,
    "start_time": "2024-06-09T22:44:51.629Z"
   },
   {
    "duration": 8,
    "start_time": "2024-06-09T22:53:23.812Z"
   },
   {
    "duration": 1323,
    "start_time": "2024-06-09T22:53:52.852Z"
   },
   {
    "duration": 24,
    "start_time": "2024-06-09T22:53:54.179Z"
   },
   {
    "duration": 36,
    "start_time": "2024-06-09T22:53:54.206Z"
   },
   {
    "duration": 35,
    "start_time": "2024-06-09T22:53:54.245Z"
   },
   {
    "duration": 30,
    "start_time": "2024-06-09T22:53:54.312Z"
   },
   {
    "duration": 10,
    "start_time": "2024-06-09T22:53:54.345Z"
   },
   {
    "duration": 11,
    "start_time": "2024-06-09T22:55:22.677Z"
   },
   {
    "duration": 323,
    "start_time": "2024-06-10T00:19:32.574Z"
   },
   {
    "duration": 4856,
    "start_time": "2024-06-10T00:19:37.669Z"
   },
   {
    "duration": 27,
    "start_time": "2024-06-10T00:19:42.528Z"
   },
   {
    "duration": 35,
    "start_time": "2024-06-10T00:19:42.557Z"
   },
   {
    "duration": 49,
    "start_time": "2024-06-10T00:19:42.594Z"
   },
   {
    "duration": 30,
    "start_time": "2024-06-10T00:19:42.647Z"
   },
   {
    "duration": 40,
    "start_time": "2024-06-10T00:19:42.680Z"
   },
   {
    "duration": 11,
    "start_time": "2024-06-10T00:19:42.723Z"
   },
   {
    "duration": 10,
    "start_time": "2024-06-10T00:22:04.400Z"
   },
   {
    "duration": 412,
    "start_time": "2024-06-10T00:48:43.322Z"
   },
   {
    "duration": 11,
    "start_time": "2024-06-10T00:48:55.493Z"
   },
   {
    "duration": 1255,
    "start_time": "2024-06-10T00:49:21.146Z"
   },
   {
    "duration": 19,
    "start_time": "2024-06-10T00:49:22.412Z"
   },
   {
    "duration": 33,
    "start_time": "2024-06-10T00:49:22.434Z"
   },
   {
    "duration": 55,
    "start_time": "2024-06-10T00:49:22.471Z"
   },
   {
    "duration": 27,
    "start_time": "2024-06-10T00:49:22.528Z"
   },
   {
    "duration": 12,
    "start_time": "2024-06-10T00:49:22.560Z"
   },
   {
    "duration": 49,
    "start_time": "2024-06-10T00:49:22.575Z"
   },
   {
    "duration": 12,
    "start_time": "2024-06-10T00:49:22.626Z"
   },
   {
    "duration": 1253,
    "start_time": "2024-06-10T00:51:45.656Z"
   },
   {
    "duration": 19,
    "start_time": "2024-06-10T00:51:46.913Z"
   },
   {
    "duration": 31,
    "start_time": "2024-06-10T00:51:46.935Z"
   },
   {
    "duration": 58,
    "start_time": "2024-06-10T00:51:46.969Z"
   },
   {
    "duration": 26,
    "start_time": "2024-06-10T00:51:47.031Z"
   },
   {
    "duration": 11,
    "start_time": "2024-06-10T00:51:47.060Z"
   },
   {
    "duration": 1366,
    "start_time": "2024-06-10T00:51:47.074Z"
   },
   {
    "duration": 0,
    "start_time": "2024-06-10T00:51:48.443Z"
   },
   {
    "duration": 83,
    "start_time": "2024-06-10T00:52:50.082Z"
   },
   {
    "duration": 1255,
    "start_time": "2024-06-10T00:52:56.148Z"
   },
   {
    "duration": 19,
    "start_time": "2024-06-10T00:52:57.408Z"
   },
   {
    "duration": 31,
    "start_time": "2024-06-10T00:52:57.431Z"
   },
   {
    "duration": 63,
    "start_time": "2024-06-10T00:52:57.467Z"
   },
   {
    "duration": 28,
    "start_time": "2024-06-10T00:52:57.534Z"
   },
   {
    "duration": 11,
    "start_time": "2024-06-10T00:52:57.565Z"
   },
   {
    "duration": 1349,
    "start_time": "2024-06-10T00:52:57.578Z"
   },
   {
    "duration": 0,
    "start_time": "2024-06-10T00:52:58.930Z"
   },
   {
    "duration": 10,
    "start_time": "2024-06-10T00:53:52.361Z"
   },
   {
    "duration": 15,
    "start_time": "2024-06-10T00:54:10.184Z"
   },
   {
    "duration": 16,
    "start_time": "2024-06-10T00:54:31.223Z"
   },
   {
    "duration": 334,
    "start_time": "2024-06-11T01:13:58.806Z"
   },
   {
    "duration": 5097,
    "start_time": "2024-06-11T01:14:04.628Z"
   },
   {
    "duration": 23,
    "start_time": "2024-06-11T01:14:09.729Z"
   },
   {
    "duration": 32,
    "start_time": "2024-06-11T01:14:09.755Z"
   },
   {
    "duration": 48,
    "start_time": "2024-06-11T01:14:09.790Z"
   },
   {
    "duration": 26,
    "start_time": "2024-06-11T01:14:09.842Z"
   },
   {
    "duration": 39,
    "start_time": "2024-06-11T01:14:09.871Z"
   },
   {
    "duration": 17,
    "start_time": "2024-06-11T01:14:09.912Z"
   },
   {
    "duration": 16,
    "start_time": "2024-06-11T01:14:09.931Z"
   },
   {
    "duration": 379,
    "start_time": "2024-06-11T01:14:09.949Z"
   },
   {
    "duration": 437,
    "start_time": "2024-06-11T01:33:19.475Z"
   },
   {
    "duration": 432,
    "start_time": "2024-06-11T01:33:56.543Z"
   },
   {
    "duration": 588,
    "start_time": "2024-06-11T01:54:52.878Z"
   },
   {
    "duration": 34,
    "start_time": "2024-06-11T01:55:16.980Z"
   },
   {
    "duration": 34,
    "start_time": "2024-06-11T01:55:51.073Z"
   },
   {
    "duration": 1296,
    "start_time": "2024-06-11T01:55:59.499Z"
   },
   {
    "duration": 21,
    "start_time": "2024-06-11T01:56:00.799Z"
   },
   {
    "duration": 30,
    "start_time": "2024-06-11T01:56:00.823Z"
   },
   {
    "duration": 60,
    "start_time": "2024-06-11T01:56:00.857Z"
   },
   {
    "duration": 27,
    "start_time": "2024-06-11T01:56:00.920Z"
   },
   {
    "duration": 12,
    "start_time": "2024-06-11T01:56:00.950Z"
   },
   {
    "duration": 48,
    "start_time": "2024-06-11T01:56:00.966Z"
   },
   {
    "duration": 16,
    "start_time": "2024-06-11T01:56:01.016Z"
   },
   {
    "duration": 375,
    "start_time": "2024-06-11T01:56:01.035Z"
   },
   {
    "duration": 394,
    "start_time": "2024-06-11T01:56:01.415Z"
   },
   {
    "duration": 505,
    "start_time": "2024-06-11T01:56:01.812Z"
   },
   {
    "duration": 1248,
    "start_time": "2024-06-11T01:56:26.028Z"
   },
   {
    "duration": 19,
    "start_time": "2024-06-11T01:56:27.279Z"
   },
   {
    "duration": 30,
    "start_time": "2024-06-11T01:56:27.306Z"
   },
   {
    "duration": 65,
    "start_time": "2024-06-11T01:56:27.341Z"
   },
   {
    "duration": 26,
    "start_time": "2024-06-11T01:56:27.409Z"
   },
   {
    "duration": 11,
    "start_time": "2024-06-11T01:56:27.438Z"
   },
   {
    "duration": 16,
    "start_time": "2024-06-11T01:56:27.452Z"
   },
   {
    "duration": 17,
    "start_time": "2024-06-11T01:56:27.508Z"
   },
   {
    "duration": 357,
    "start_time": "2024-06-11T01:56:27.528Z"
   },
   {
    "duration": 373,
    "start_time": "2024-06-11T01:56:27.890Z"
   },
   {
    "duration": 1367,
    "start_time": "2024-06-11T01:56:28.266Z"
   },
   {
    "duration": 92,
    "start_time": "2024-06-11T02:07:06.204Z"
   },
   {
    "duration": 422,
    "start_time": "2024-06-11T02:11:48.522Z"
   },
   {
    "duration": 105,
    "start_time": "2024-06-11T02:46:55.263Z"
   },
   {
    "duration": 107,
    "start_time": "2024-06-11T02:47:13.144Z"
   },
   {
    "duration": 51,
    "start_time": "2024-06-11T02:47:45.382Z"
   },
   {
    "duration": 56,
    "start_time": "2024-06-11T02:48:02.309Z"
   },
   {
    "duration": 305,
    "start_time": "2024-06-11T02:48:20.558Z"
   },
   {
    "duration": 306,
    "start_time": "2024-06-11T02:50:34.720Z"
   },
   {
    "duration": 11,
    "start_time": "2024-06-11T03:03:08.173Z"
   },
   {
    "duration": 28,
    "start_time": "2024-06-11T03:04:33.853Z"
   },
   {
    "duration": 34,
    "start_time": "2024-06-11T03:06:50.705Z"
   },
   {
    "duration": 35,
    "start_time": "2024-06-11T03:07:49.164Z"
   },
   {
    "duration": 29,
    "start_time": "2024-06-11T03:07:55.096Z"
   },
   {
    "duration": 184,
    "start_time": "2024-06-11T03:07:59.892Z"
   },
   {
    "duration": 6,
    "start_time": "2024-06-11T03:10:03.358Z"
   },
   {
    "duration": 182,
    "start_time": "2024-06-11T03:10:30.120Z"
   },
   {
    "duration": 444,
    "start_time": "2024-06-12T01:50:24.109Z"
   },
   {
    "duration": 4931,
    "start_time": "2024-06-12T01:50:29.393Z"
   },
   {
    "duration": 26,
    "start_time": "2024-06-12T01:50:34.328Z"
   },
   {
    "duration": 32,
    "start_time": "2024-06-12T01:50:34.358Z"
   },
   {
    "duration": 35,
    "start_time": "2024-06-12T01:50:34.394Z"
   },
   {
    "duration": 58,
    "start_time": "2024-06-12T01:50:34.432Z"
   },
   {
    "duration": 10,
    "start_time": "2024-06-12T01:50:34.493Z"
   },
   {
    "duration": 16,
    "start_time": "2024-06-12T01:50:34.506Z"
   },
   {
    "duration": 48,
    "start_time": "2024-06-12T01:50:34.524Z"
   },
   {
    "duration": 412,
    "start_time": "2024-06-12T01:50:34.575Z"
   },
   {
    "duration": 358,
    "start_time": "2024-06-12T01:50:34.993Z"
   },
   {
    "duration": 446,
    "start_time": "2024-06-12T01:50:35.354Z"
   },
   {
    "duration": 349,
    "start_time": "2024-06-12T01:50:35.803Z"
   },
   {
    "duration": 191,
    "start_time": "2024-06-12T01:50:36.155Z"
   },
   {
    "duration": 20,
    "start_time": "2024-06-12T01:50:36.349Z"
   },
   {
    "duration": 402,
    "start_time": "2024-06-12T01:55:01.743Z"
   },
   {
    "duration": 228,
    "start_time": "2024-06-12T01:57:07.981Z"
   },
   {
    "duration": 936,
    "start_time": "2024-06-12T02:36:57.408Z"
   },
   {
    "duration": 91,
    "start_time": "2024-06-12T02:37:14.319Z"
   },
   {
    "duration": 96,
    "start_time": "2024-06-12T02:37:40.514Z"
   },
   {
    "duration": 16,
    "start_time": "2024-06-12T02:37:59.472Z"
   },
   {
    "duration": 537,
    "start_time": "2024-06-12T02:41:05.508Z"
   },
   {
    "duration": 128,
    "start_time": "2024-06-12T02:41:19.317Z"
   },
   {
    "duration": 732,
    "start_time": "2024-06-12T02:46:06.429Z"
   },
   {
    "duration": 170,
    "start_time": "2024-06-12T02:46:21.202Z"
   },
   {
    "duration": 42,
    "start_time": "2024-06-12T02:48:45.608Z"
   },
   {
    "duration": 40,
    "start_time": "2024-06-12T02:49:07.141Z"
   },
   {
    "duration": 175,
    "start_time": "2024-06-12T02:49:43.126Z"
   },
   {
    "duration": 17,
    "start_time": "2024-06-12T02:50:47.869Z"
   },
   {
    "duration": 12,
    "start_time": "2024-06-12T02:53:42.364Z"
   },
   {
    "duration": 12,
    "start_time": "2024-06-12T02:53:54.082Z"
   },
   {
    "duration": 169,
    "start_time": "2024-06-12T02:55:01.746Z"
   },
   {
    "duration": 14,
    "start_time": "2024-06-12T03:00:15.542Z"
   },
   {
    "duration": 1242,
    "start_time": "2024-06-12T03:00:50.994Z"
   },
   {
    "duration": 32,
    "start_time": "2024-06-12T03:00:52.241Z"
   },
   {
    "duration": 44,
    "start_time": "2024-06-12T03:00:52.278Z"
   },
   {
    "duration": 65,
    "start_time": "2024-06-12T03:00:52.326Z"
   },
   {
    "duration": 28,
    "start_time": "2024-06-12T03:00:52.396Z"
   },
   {
    "duration": 41,
    "start_time": "2024-06-12T03:00:52.427Z"
   },
   {
    "duration": 18,
    "start_time": "2024-06-12T03:00:52.472Z"
   },
   {
    "duration": 18,
    "start_time": "2024-06-12T03:00:52.493Z"
   },
   {
    "duration": 391,
    "start_time": "2024-06-12T03:00:52.514Z"
   },
   {
    "duration": 372,
    "start_time": "2024-06-12T03:00:52.907Z"
   },
   {
    "duration": 504,
    "start_time": "2024-06-12T03:00:53.282Z"
   },
   {
    "duration": 352,
    "start_time": "2024-06-12T03:00:53.789Z"
   },
   {
    "duration": 196,
    "start_time": "2024-06-12T03:00:54.144Z"
   },
   {
    "duration": 21,
    "start_time": "2024-06-12T03:00:54.346Z"
   },
   {
    "duration": 227,
    "start_time": "2024-06-12T03:00:54.370Z"
   },
   {
    "duration": 15,
    "start_time": "2024-06-12T03:00:54.600Z"
   },
   {
    "duration": 1271,
    "start_time": "2024-06-12T03:03:38.026Z"
   },
   {
    "duration": 16,
    "start_time": "2024-06-12T03:03:39.301Z"
   },
   {
    "duration": 52,
    "start_time": "2024-06-12T03:03:39.320Z"
   },
   {
    "duration": 34,
    "start_time": "2024-06-12T03:03:39.376Z"
   },
   {
    "duration": 56,
    "start_time": "2024-06-12T03:03:39.413Z"
   },
   {
    "duration": 12,
    "start_time": "2024-06-12T03:03:39.472Z"
   },
   {
    "duration": 19,
    "start_time": "2024-06-12T03:03:39.487Z"
   },
   {
    "duration": 16,
    "start_time": "2024-06-12T03:03:39.510Z"
   },
   {
    "duration": 53,
    "start_time": "2024-06-12T03:03:39.529Z"
   },
   {
    "duration": 383,
    "start_time": "2024-06-12T03:03:39.587Z"
   },
   {
    "duration": 367,
    "start_time": "2024-06-12T03:03:39.974Z"
   },
   {
    "duration": 533,
    "start_time": "2024-06-12T03:03:40.345Z"
   },
   {
    "duration": 366,
    "start_time": "2024-06-12T03:03:40.882Z"
   },
   {
    "duration": 216,
    "start_time": "2024-06-12T03:03:41.252Z"
   },
   {
    "duration": 8,
    "start_time": "2024-06-12T03:03:41.471Z"
   },
   {
    "duration": 254,
    "start_time": "2024-06-12T03:03:41.482Z"
   },
   {
    "duration": 32,
    "start_time": "2024-06-12T03:03:41.740Z"
   },
   {
    "duration": 1353,
    "start_time": "2024-06-12T03:04:21.764Z"
   },
   {
    "duration": 18,
    "start_time": "2024-06-12T03:04:23.121Z"
   },
   {
    "duration": 43,
    "start_time": "2024-06-12T03:04:23.142Z"
   },
   {
    "duration": 35,
    "start_time": "2024-06-12T03:04:23.188Z"
   },
   {
    "duration": 57,
    "start_time": "2024-06-12T03:04:23.228Z"
   },
   {
    "duration": 11,
    "start_time": "2024-06-12T03:04:23.288Z"
   },
   {
    "duration": 17,
    "start_time": "2024-06-12T03:04:23.301Z"
   },
   {
    "duration": 48,
    "start_time": "2024-06-12T03:04:23.321Z"
   },
   {
    "duration": 17,
    "start_time": "2024-06-12T03:04:23.372Z"
   },
   {
    "duration": 399,
    "start_time": "2024-06-12T03:04:23.392Z"
   },
   {
    "duration": 354,
    "start_time": "2024-06-12T03:04:23.793Z"
   },
   {
    "duration": 522,
    "start_time": "2024-06-12T03:04:24.151Z"
   },
   {
    "duration": 364,
    "start_time": "2024-06-12T03:04:24.676Z"
   },
   {
    "duration": 224,
    "start_time": "2024-06-12T03:04:25.046Z"
   },
   {
    "duration": 8,
    "start_time": "2024-06-12T03:04:25.274Z"
   },
   {
    "duration": 234,
    "start_time": "2024-06-12T03:04:25.285Z"
   },
   {
    "duration": 15,
    "start_time": "2024-06-12T03:04:25.521Z"
   },
   {
    "duration": 1397,
    "start_time": "2024-06-12T03:06:28.983Z"
   },
   {
    "duration": 33,
    "start_time": "2024-06-12T03:06:30.389Z"
   },
   {
    "duration": 35,
    "start_time": "2024-06-12T03:06:30.425Z"
   },
   {
    "duration": 55,
    "start_time": "2024-06-12T03:06:30.464Z"
   },
   {
    "duration": 49,
    "start_time": "2024-06-12T03:06:30.524Z"
   },
   {
    "duration": 19,
    "start_time": "2024-06-12T03:06:30.581Z"
   },
   {
    "duration": 17,
    "start_time": "2024-06-12T03:06:30.605Z"
   },
   {
    "duration": 45,
    "start_time": "2024-06-12T03:06:30.626Z"
   },
   {
    "duration": 410,
    "start_time": "2024-06-12T03:06:30.674Z"
   },
   {
    "duration": 411,
    "start_time": "2024-06-12T03:06:31.088Z"
   },
   {
    "duration": 530,
    "start_time": "2024-06-12T03:06:31.505Z"
   },
   {
    "duration": 393,
    "start_time": "2024-06-12T03:06:32.039Z"
   },
   {
    "duration": 219,
    "start_time": "2024-06-12T03:06:32.436Z"
   },
   {
    "duration": 10,
    "start_time": "2024-06-12T03:06:32.674Z"
   },
   {
    "duration": 298,
    "start_time": "2024-06-12T03:06:32.691Z"
   },
   {
    "duration": 21,
    "start_time": "2024-06-12T03:06:32.992Z"
   },
   {
    "duration": 5052,
    "start_time": "2024-06-13T01:38:50.283Z"
   },
   {
    "duration": 37,
    "start_time": "2024-06-13T01:38:55.339Z"
   },
   {
    "duration": 30,
    "start_time": "2024-06-13T01:38:55.379Z"
   },
   {
    "duration": 38,
    "start_time": "2024-06-13T01:38:55.413Z"
   },
   {
    "duration": 54,
    "start_time": "2024-06-13T01:38:55.456Z"
   },
   {
    "duration": 13,
    "start_time": "2024-06-13T01:38:55.512Z"
   },
   {
    "duration": 16,
    "start_time": "2024-06-13T01:38:55.528Z"
   },
   {
    "duration": 15,
    "start_time": "2024-06-13T01:38:55.548Z"
   },
   {
    "duration": 374,
    "start_time": "2024-06-13T01:38:55.568Z"
   },
   {
    "duration": 350,
    "start_time": "2024-06-13T01:38:55.944Z"
   },
   {
    "duration": 442,
    "start_time": "2024-06-13T01:38:56.297Z"
   },
   {
    "duration": 341,
    "start_time": "2024-06-13T01:38:56.742Z"
   },
   {
    "duration": 194,
    "start_time": "2024-06-13T01:38:57.085Z"
   },
   {
    "duration": 20,
    "start_time": "2024-06-13T01:38:57.286Z"
   },
   {
    "duration": 248,
    "start_time": "2024-06-13T01:38:57.309Z"
   },
   {
    "duration": 19,
    "start_time": "2024-06-13T01:38:57.561Z"
   },
   {
    "duration": 24,
    "start_time": "2024-06-13T01:38:57.585Z"
   },
   {
    "duration": 9,
    "start_time": "2024-06-13T01:40:19.327Z"
   },
   {
    "duration": 8,
    "start_time": "2024-06-13T01:40:38.762Z"
   },
   {
    "duration": 9,
    "start_time": "2024-06-13T01:41:44.819Z"
   },
   {
    "duration": 9,
    "start_time": "2024-06-13T01:43:06.030Z"
   },
   {
    "duration": 15,
    "start_time": "2024-06-13T01:43:14.796Z"
   },
   {
    "duration": 1928,
    "start_time": "2024-06-13T02:21:06.108Z"
   },
   {
    "duration": 27,
    "start_time": "2024-06-13T02:21:08.041Z"
   },
   {
    "duration": 52,
    "start_time": "2024-06-13T02:21:08.072Z"
   },
   {
    "duration": 39,
    "start_time": "2024-06-13T02:21:08.132Z"
   },
   {
    "duration": 55,
    "start_time": "2024-06-13T02:21:08.176Z"
   },
   {
    "duration": 12,
    "start_time": "2024-06-13T02:21:08.235Z"
   },
   {
    "duration": 16,
    "start_time": "2024-06-13T02:21:08.250Z"
   },
   {
    "duration": 40,
    "start_time": "2024-06-13T02:21:08.269Z"
   },
   {
    "duration": 416,
    "start_time": "2024-06-13T02:21:08.313Z"
   },
   {
    "duration": 412,
    "start_time": "2024-06-13T02:21:08.732Z"
   },
   {
    "duration": 562,
    "start_time": "2024-06-13T02:21:09.147Z"
   },
   {
    "duration": 392,
    "start_time": "2024-06-13T02:21:09.714Z"
   },
   {
    "duration": 231,
    "start_time": "2024-06-13T02:21:10.109Z"
   },
   {
    "duration": 7,
    "start_time": "2024-06-13T02:21:10.346Z"
   },
   {
    "duration": 302,
    "start_time": "2024-06-13T02:21:10.356Z"
   },
   {
    "duration": 17,
    "start_time": "2024-06-13T02:21:10.660Z"
   },
   {
    "duration": 35,
    "start_time": "2024-06-13T02:21:10.680Z"
   },
   {
    "duration": 17,
    "start_time": "2024-06-13T02:21:10.718Z"
   },
   {
    "duration": 4,
    "start_time": "2024-06-13T02:21:10.738Z"
   },
   {
    "duration": 4,
    "start_time": "2024-06-13T02:21:10.746Z"
   },
   {
    "duration": 1337,
    "start_time": "2024-06-13T02:24:22.491Z"
   },
   {
    "duration": 18,
    "start_time": "2024-06-13T02:24:23.832Z"
   },
   {
    "duration": 31,
    "start_time": "2024-06-13T02:24:23.853Z"
   },
   {
    "duration": 51,
    "start_time": "2024-06-13T02:24:23.906Z"
   },
   {
    "duration": 45,
    "start_time": "2024-06-13T02:24:23.965Z"
   },
   {
    "duration": 11,
    "start_time": "2024-06-13T02:24:24.014Z"
   },
   {
    "duration": 17,
    "start_time": "2024-06-13T02:24:24.028Z"
   },
   {
    "duration": 18,
    "start_time": "2024-06-13T02:24:24.048Z"
   },
   {
    "duration": 364,
    "start_time": "2024-06-13T02:24:24.105Z"
   },
   {
    "duration": 404,
    "start_time": "2024-06-13T02:24:24.472Z"
   },
   {
    "duration": 490,
    "start_time": "2024-06-13T02:24:24.881Z"
   },
   {
    "duration": 357,
    "start_time": "2024-06-13T02:24:25.375Z"
   },
   {
    "duration": 241,
    "start_time": "2024-06-13T02:24:25.736Z"
   },
   {
    "duration": 15,
    "start_time": "2024-06-13T02:24:25.985Z"
   },
   {
    "duration": 232,
    "start_time": "2024-06-13T02:24:26.006Z"
   },
   {
    "duration": 13,
    "start_time": "2024-06-13T02:24:26.242Z"
   },
   {
    "duration": 14,
    "start_time": "2024-06-13T02:24:26.258Z"
   },
   {
    "duration": 15,
    "start_time": "2024-06-13T02:24:26.306Z"
   },
   {
    "duration": 3,
    "start_time": "2024-06-13T02:24:26.325Z"
   },
   {
    "duration": 4,
    "start_time": "2024-06-13T02:24:26.331Z"
   },
   {
    "duration": 1272,
    "start_time": "2024-06-13T02:25:33.334Z"
   },
   {
    "duration": 18,
    "start_time": "2024-06-13T02:25:34.610Z"
   },
   {
    "duration": 33,
    "start_time": "2024-06-13T02:25:34.630Z"
   },
   {
    "duration": 67,
    "start_time": "2024-06-13T02:25:34.666Z"
   },
   {
    "duration": 28,
    "start_time": "2024-06-13T02:25:34.737Z"
   },
   {
    "duration": 40,
    "start_time": "2024-06-13T02:25:34.768Z"
   },
   {
    "duration": 18,
    "start_time": "2024-06-13T02:25:34.812Z"
   },
   {
    "duration": 17,
    "start_time": "2024-06-13T02:25:34.832Z"
   },
   {
    "duration": 332,
    "start_time": "2024-06-13T02:25:34.852Z"
   },
   {
    "duration": 395,
    "start_time": "2024-06-13T02:25:35.190Z"
   },
   {
    "duration": 485,
    "start_time": "2024-06-13T02:25:35.588Z"
   },
   {
    "duration": 363,
    "start_time": "2024-06-13T02:25:36.076Z"
   },
   {
    "duration": 208,
    "start_time": "2024-06-13T02:25:36.442Z"
   },
   {
    "duration": 8,
    "start_time": "2024-06-13T02:25:36.654Z"
   },
   {
    "duration": 251,
    "start_time": "2024-06-13T02:25:36.665Z"
   },
   {
    "duration": 21,
    "start_time": "2024-06-13T02:25:36.918Z"
   },
   {
    "duration": 16,
    "start_time": "2024-06-13T02:25:36.945Z"
   },
   {
    "duration": 18,
    "start_time": "2024-06-13T02:25:36.964Z"
   },
   {
    "duration": 4,
    "start_time": "2024-06-13T02:25:37.008Z"
   },
   {
    "duration": 4,
    "start_time": "2024-06-13T02:25:37.015Z"
   },
   {
    "duration": 1233,
    "start_time": "2024-06-13T02:26:26.128Z"
   },
   {
    "duration": 19,
    "start_time": "2024-06-13T02:26:27.365Z"
   },
   {
    "duration": 45,
    "start_time": "2024-06-13T02:26:27.387Z"
   },
   {
    "duration": 40,
    "start_time": "2024-06-13T02:26:27.437Z"
   },
   {
    "duration": 54,
    "start_time": "2024-06-13T02:26:27.480Z"
   },
   {
    "duration": 12,
    "start_time": "2024-06-13T02:26:27.537Z"
   },
   {
    "duration": 23,
    "start_time": "2024-06-13T02:26:27.552Z"
   },
   {
    "duration": 41,
    "start_time": "2024-06-13T02:26:27.578Z"
   },
   {
    "duration": 525,
    "start_time": "2024-06-13T02:26:27.622Z"
   },
   {
    "duration": 374,
    "start_time": "2024-06-13T02:26:28.152Z"
   },
   {
    "duration": 506,
    "start_time": "2024-06-13T02:26:28.530Z"
   },
   {
    "duration": 331,
    "start_time": "2024-06-13T02:26:29.039Z"
   },
   {
    "duration": 213,
    "start_time": "2024-06-13T02:26:29.373Z"
   },
   {
    "duration": 17,
    "start_time": "2024-06-13T02:26:29.589Z"
   },
   {
    "duration": 244,
    "start_time": "2024-06-13T02:26:29.610Z"
   },
   {
    "duration": 15,
    "start_time": "2024-06-13T02:26:29.859Z"
   },
   {
    "duration": 33,
    "start_time": "2024-06-13T02:26:29.878Z"
   },
   {
    "duration": 14,
    "start_time": "2024-06-13T02:26:29.915Z"
   },
   {
    "duration": 5,
    "start_time": "2024-06-13T02:26:29.932Z"
   },
   {
    "duration": 4,
    "start_time": "2024-06-13T02:26:29.940Z"
   },
   {
    "duration": 1324,
    "start_time": "2024-06-13T02:35:58.330Z"
   },
   {
    "duration": 17,
    "start_time": "2024-06-13T02:35:59.658Z"
   },
   {
    "duration": 43,
    "start_time": "2024-06-13T02:35:59.681Z"
   },
   {
    "duration": 37,
    "start_time": "2024-06-13T02:35:59.727Z"
   },
   {
    "duration": 54,
    "start_time": "2024-06-13T02:35:59.769Z"
   },
   {
    "duration": 11,
    "start_time": "2024-06-13T02:35:59.826Z"
   },
   {
    "duration": 19,
    "start_time": "2024-06-13T02:35:59.840Z"
   },
   {
    "duration": 49,
    "start_time": "2024-06-13T02:35:59.861Z"
   },
   {
    "duration": 509,
    "start_time": "2024-06-13T02:35:59.914Z"
   },
   {
    "duration": 353,
    "start_time": "2024-06-13T02:36:00.426Z"
   },
   {
    "duration": 503,
    "start_time": "2024-06-13T02:36:00.783Z"
   },
   {
    "duration": 325,
    "start_time": "2024-06-13T02:36:01.289Z"
   },
   {
    "duration": 211,
    "start_time": "2024-06-13T02:36:01.617Z"
   },
   {
    "duration": 11,
    "start_time": "2024-06-13T02:36:01.834Z"
   },
   {
    "duration": 249,
    "start_time": "2024-06-13T02:36:01.849Z"
   },
   {
    "duration": 21,
    "start_time": "2024-06-13T02:36:02.100Z"
   },
   {
    "duration": 15,
    "start_time": "2024-06-13T02:36:02.125Z"
   },
   {
    "duration": 15,
    "start_time": "2024-06-13T02:36:02.143Z"
   },
   {
    "duration": 47,
    "start_time": "2024-06-13T02:36:02.161Z"
   },
   {
    "duration": 5,
    "start_time": "2024-06-13T02:36:02.212Z"
   },
   {
    "duration": 1270,
    "start_time": "2024-06-13T02:51:48.236Z"
   },
   {
    "duration": 18,
    "start_time": "2024-06-13T02:51:49.509Z"
   },
   {
    "duration": 31,
    "start_time": "2024-06-13T02:51:49.529Z"
   },
   {
    "duration": 63,
    "start_time": "2024-06-13T02:51:49.564Z"
   },
   {
    "duration": 27,
    "start_time": "2024-06-13T02:51:49.630Z"
   },
   {
    "duration": 11,
    "start_time": "2024-06-13T02:51:49.660Z"
   },
   {
    "duration": 44,
    "start_time": "2024-06-13T02:51:49.674Z"
   },
   {
    "duration": 16,
    "start_time": "2024-06-13T02:51:49.721Z"
   },
   {
    "duration": 500,
    "start_time": "2024-06-13T02:51:49.739Z"
   },
   {
    "duration": 420,
    "start_time": "2024-06-13T02:51:50.244Z"
   },
   {
    "duration": 470,
    "start_time": "2024-06-13T02:51:50.667Z"
   },
   {
    "duration": 332,
    "start_time": "2024-06-13T02:51:51.140Z"
   },
   {
    "duration": 204,
    "start_time": "2024-06-13T02:51:51.475Z"
   },
   {
    "duration": 8,
    "start_time": "2024-06-13T02:51:51.683Z"
   },
   {
    "duration": 220,
    "start_time": "2024-06-13T02:51:51.708Z"
   },
   {
    "duration": 13,
    "start_time": "2024-06-13T02:51:51.932Z"
   },
   {
    "duration": 13,
    "start_time": "2024-06-13T02:51:51.948Z"
   },
   {
    "duration": 47,
    "start_time": "2024-06-13T02:51:51.963Z"
   },
   {
    "duration": 4,
    "start_time": "2024-06-13T02:51:52.013Z"
   },
   {
    "duration": 4,
    "start_time": "2024-06-13T02:51:52.020Z"
   },
   {
    "duration": 1274,
    "start_time": "2024-06-13T02:52:51.882Z"
   },
   {
    "duration": 17,
    "start_time": "2024-06-13T02:52:53.160Z"
   },
   {
    "duration": 43,
    "start_time": "2024-06-13T02:52:53.179Z"
   },
   {
    "duration": 34,
    "start_time": "2024-06-13T02:52:53.226Z"
   },
   {
    "duration": 55,
    "start_time": "2024-06-13T02:52:53.265Z"
   },
   {
    "duration": 10,
    "start_time": "2024-06-13T02:52:53.323Z"
   },
   {
    "duration": 16,
    "start_time": "2024-06-13T02:52:53.336Z"
   },
   {
    "duration": 17,
    "start_time": "2024-06-13T02:52:53.354Z"
   },
   {
    "duration": 488,
    "start_time": "2024-06-13T02:52:53.408Z"
   },
   {
    "duration": 401,
    "start_time": "2024-06-13T02:52:53.900Z"
   },
   {
    "duration": 539,
    "start_time": "2024-06-13T02:52:54.307Z"
   },
   {
    "duration": 357,
    "start_time": "2024-06-13T02:52:54.850Z"
   },
   {
    "duration": 204,
    "start_time": "2024-06-13T02:52:55.210Z"
   },
   {
    "duration": 8,
    "start_time": "2024-06-13T02:52:55.421Z"
   },
   {
    "duration": 236,
    "start_time": "2024-06-13T02:52:55.433Z"
   },
   {
    "duration": 15,
    "start_time": "2024-06-13T02:52:55.672Z"
   },
   {
    "duration": 25,
    "start_time": "2024-06-13T02:52:55.690Z"
   },
   {
    "duration": 13,
    "start_time": "2024-06-13T02:52:55.718Z"
   },
   {
    "duration": 4,
    "start_time": "2024-06-13T02:52:55.735Z"
   },
   {
    "duration": 4,
    "start_time": "2024-06-13T02:52:55.742Z"
   },
   {
    "duration": 4928,
    "start_time": "2024-06-14T01:44:31.569Z"
   },
   {
    "duration": 56,
    "start_time": "2024-06-14T01:44:36.501Z"
   },
   {
    "duration": 34,
    "start_time": "2024-06-14T01:44:36.560Z"
   },
   {
    "duration": 55,
    "start_time": "2024-06-14T01:44:36.600Z"
   },
   {
    "duration": 28,
    "start_time": "2024-06-14T01:44:36.659Z"
   },
   {
    "duration": 10,
    "start_time": "2024-06-14T01:44:36.691Z"
   },
   {
    "duration": 41,
    "start_time": "2024-06-14T01:44:36.704Z"
   },
   {
    "duration": 20,
    "start_time": "2024-06-14T01:44:36.748Z"
   },
   {
    "duration": 518,
    "start_time": "2024-06-14T01:44:36.771Z"
   },
   {
    "duration": 415,
    "start_time": "2024-06-14T01:44:37.294Z"
   },
   {
    "duration": 449,
    "start_time": "2024-06-14T01:44:37.712Z"
   },
   {
    "duration": 320,
    "start_time": "2024-06-14T01:44:38.166Z"
   },
   {
    "duration": 236,
    "start_time": "2024-06-14T01:44:38.490Z"
   },
   {
    "duration": 15,
    "start_time": "2024-06-14T01:44:38.733Z"
   },
   {
    "duration": 248,
    "start_time": "2024-06-14T01:44:38.750Z"
   },
   {
    "duration": 38,
    "start_time": "2024-06-14T01:44:39.001Z"
   },
   {
    "duration": 16,
    "start_time": "2024-06-14T01:44:39.048Z"
   },
   {
    "duration": 5,
    "start_time": "2024-06-14T01:44:39.066Z"
   },
   {
    "duration": 4,
    "start_time": "2024-06-14T01:44:39.073Z"
   },
   {
    "duration": 4,
    "start_time": "2024-06-14T01:44:39.081Z"
   },
   {
    "duration": 1252,
    "start_time": "2024-06-14T03:02:42.107Z"
   },
   {
    "duration": 24,
    "start_time": "2024-06-14T03:02:43.361Z"
   },
   {
    "duration": 44,
    "start_time": "2024-06-14T03:02:43.391Z"
   },
   {
    "duration": 50,
    "start_time": "2024-06-14T03:02:43.440Z"
   },
   {
    "duration": 56,
    "start_time": "2024-06-14T03:02:43.493Z"
   },
   {
    "duration": 16,
    "start_time": "2024-06-14T03:02:43.552Z"
   },
   {
    "duration": 16,
    "start_time": "2024-06-14T03:02:43.571Z"
   },
   {
    "duration": 42,
    "start_time": "2024-06-14T03:02:43.591Z"
   },
   {
    "duration": 489,
    "start_time": "2024-06-14T03:02:43.641Z"
   },
   {
    "duration": 428,
    "start_time": "2024-06-14T03:02:44.135Z"
   },
   {
    "duration": 488,
    "start_time": "2024-06-14T03:02:44.566Z"
   },
   {
    "duration": 321,
    "start_time": "2024-06-14T03:02:45.064Z"
   },
   {
    "duration": 209,
    "start_time": "2024-06-14T03:02:45.388Z"
   },
   {
    "duration": 8,
    "start_time": "2024-06-14T03:02:45.600Z"
   },
   {
    "duration": 255,
    "start_time": "2024-06-14T03:02:45.612Z"
   },
   {
    "duration": 16,
    "start_time": "2024-06-14T03:02:45.870Z"
   },
   {
    "duration": 14,
    "start_time": "2024-06-14T03:02:45.889Z"
   },
   {
    "duration": 1316,
    "start_time": "2024-06-14T03:08:47.994Z"
   },
   {
    "duration": 27,
    "start_time": "2024-06-14T03:08:49.315Z"
   },
   {
    "duration": 31,
    "start_time": "2024-06-14T03:08:49.345Z"
   },
   {
    "duration": 64,
    "start_time": "2024-06-14T03:08:49.380Z"
   },
   {
    "duration": 27,
    "start_time": "2024-06-14T03:08:49.449Z"
   },
   {
    "duration": 11,
    "start_time": "2024-06-14T03:08:49.479Z"
   },
   {
    "duration": 48,
    "start_time": "2024-06-14T03:08:49.493Z"
   },
   {
    "duration": 17,
    "start_time": "2024-06-14T03:08:49.544Z"
   },
   {
    "duration": 514,
    "start_time": "2024-06-14T03:08:49.563Z"
   },
   {
    "duration": 407,
    "start_time": "2024-06-14T03:08:50.081Z"
   },
   {
    "duration": 473,
    "start_time": "2024-06-14T03:08:50.491Z"
   },
   {
    "duration": 321,
    "start_time": "2024-06-14T03:08:50.967Z"
   },
   {
    "duration": 227,
    "start_time": "2024-06-14T03:08:51.291Z"
   },
   {
    "duration": 9,
    "start_time": "2024-06-14T03:08:51.532Z"
   },
   {
    "duration": 235,
    "start_time": "2024-06-14T03:08:51.545Z"
   },
   {
    "duration": 13,
    "start_time": "2024-06-14T03:08:51.784Z"
   },
   {
    "duration": 39,
    "start_time": "2024-06-14T03:08:51.800Z"
   },
   {
    "duration": 12,
    "start_time": "2024-06-15T04:18:39.963Z"
   },
   {
    "duration": 317,
    "start_time": "2024-06-15T05:00:54.051Z"
   },
   {
    "duration": 4911,
    "start_time": "2024-06-15T05:01:16.478Z"
   },
   {
    "duration": 39,
    "start_time": "2024-06-15T05:01:21.393Z"
   },
   {
    "duration": 32,
    "start_time": "2024-06-15T05:01:21.435Z"
   },
   {
    "duration": 43,
    "start_time": "2024-06-15T05:01:21.471Z"
   },
   {
    "duration": 26,
    "start_time": "2024-06-15T05:01:21.519Z"
   },
   {
    "duration": 11,
    "start_time": "2024-06-15T05:01:21.548Z"
   },
   {
    "duration": 49,
    "start_time": "2024-06-15T05:01:21.561Z"
   },
   {
    "duration": 17,
    "start_time": "2024-06-15T05:01:21.613Z"
   },
   {
    "duration": 4,
    "start_time": "2024-06-15T05:01:21.633Z"
   },
   {
    "duration": 10,
    "start_time": "2024-06-15T05:01:21.641Z"
   },
   {
    "duration": 547,
    "start_time": "2024-06-15T05:01:21.655Z"
   },
   {
    "duration": 406,
    "start_time": "2024-06-15T05:01:22.205Z"
   },
   {
    "duration": 406,
    "start_time": "2024-06-15T05:01:22.615Z"
   },
   {
    "duration": 334,
    "start_time": "2024-06-15T05:01:23.028Z"
   },
   {
    "duration": 223,
    "start_time": "2024-06-15T05:01:23.364Z"
   },
   {
    "duration": 17,
    "start_time": "2024-06-15T05:01:23.590Z"
   },
   {
    "duration": 227,
    "start_time": "2024-06-15T05:01:23.610Z"
   },
   {
    "duration": 14,
    "start_time": "2024-06-15T05:01:23.840Z"
   },
   {
    "duration": 14,
    "start_time": "2024-06-15T05:01:23.857Z"
   },
   {
    "duration": 12,
    "start_time": "2024-06-15T05:08:29.265Z"
   },
   {
    "duration": 1302,
    "start_time": "2024-06-15T05:08:37.662Z"
   },
   {
    "duration": 27,
    "start_time": "2024-06-15T05:08:38.967Z"
   },
   {
    "duration": 44,
    "start_time": "2024-06-15T05:08:38.997Z"
   },
   {
    "duration": 54,
    "start_time": "2024-06-15T05:08:39.048Z"
   },
   {
    "duration": 25,
    "start_time": "2024-06-15T05:08:39.105Z"
   },
   {
    "duration": 15,
    "start_time": "2024-06-15T05:08:39.133Z"
   },
   {
    "duration": 16,
    "start_time": "2024-06-15T05:08:39.151Z"
   },
   {
    "duration": 41,
    "start_time": "2024-06-15T05:08:39.170Z"
   },
   {
    "duration": 10,
    "start_time": "2024-06-15T05:08:39.213Z"
   },
   {
    "duration": 548,
    "start_time": "2024-06-15T05:08:39.229Z"
   },
   {
    "duration": 427,
    "start_time": "2024-06-15T05:08:39.780Z"
   },
   {
    "duration": 495,
    "start_time": "2024-06-15T05:08:40.209Z"
   },
   {
    "duration": 336,
    "start_time": "2024-06-15T05:08:40.714Z"
   },
   {
    "duration": 233,
    "start_time": "2024-06-15T05:08:41.053Z"
   },
   {
    "duration": 24,
    "start_time": "2024-06-15T05:08:41.289Z"
   },
   {
    "duration": 221,
    "start_time": "2024-06-15T05:08:41.318Z"
   },
   {
    "duration": 14,
    "start_time": "2024-06-15T05:08:41.543Z"
   },
   {
    "duration": 14,
    "start_time": "2024-06-15T05:08:41.561Z"
   },
   {
    "duration": 10,
    "start_time": "2024-06-15T05:12:01.388Z"
   },
   {
    "duration": 1296,
    "start_time": "2024-06-15T05:12:17.583Z"
   },
   {
    "duration": 30,
    "start_time": "2024-06-15T05:12:18.882Z"
   },
   {
    "duration": 31,
    "start_time": "2024-06-15T05:12:18.916Z"
   },
   {
    "duration": 55,
    "start_time": "2024-06-15T05:12:18.951Z"
   },
   {
    "duration": 27,
    "start_time": "2024-06-15T05:12:19.009Z"
   },
   {
    "duration": 13,
    "start_time": "2024-06-15T05:12:19.039Z"
   },
   {
    "duration": 53,
    "start_time": "2024-06-15T05:12:19.058Z"
   },
   {
    "duration": 17,
    "start_time": "2024-06-15T05:12:19.116Z"
   },
   {
    "duration": 14,
    "start_time": "2024-06-15T05:12:19.137Z"
   },
   {
    "duration": 514,
    "start_time": "2024-06-15T05:12:19.157Z"
   },
   {
    "duration": 396,
    "start_time": "2024-06-15T05:12:19.674Z"
   },
   {
    "duration": 482,
    "start_time": "2024-06-15T05:12:20.073Z"
   },
   {
    "duration": 327,
    "start_time": "2024-06-15T05:12:20.559Z"
   },
   {
    "duration": 233,
    "start_time": "2024-06-15T05:12:20.890Z"
   },
   {
    "duration": 9,
    "start_time": "2024-06-15T05:12:21.129Z"
   },
   {
    "duration": 230,
    "start_time": "2024-06-15T05:12:21.141Z"
   },
   {
    "duration": 30,
    "start_time": "2024-06-15T05:12:21.375Z"
   },
   {
    "duration": 13,
    "start_time": "2024-06-15T05:12:21.409Z"
   },
   {
    "duration": 1327,
    "start_time": "2024-06-15T05:25:04.319Z"
   },
   {
    "duration": 20,
    "start_time": "2024-06-15T05:25:05.650Z"
   },
   {
    "duration": 53,
    "start_time": "2024-06-15T05:25:05.673Z"
   },
   {
    "duration": 40,
    "start_time": "2024-06-15T05:25:05.731Z"
   },
   {
    "duration": 49,
    "start_time": "2024-06-15T05:25:05.777Z"
   },
   {
    "duration": 11,
    "start_time": "2024-06-15T05:25:05.830Z"
   },
   {
    "duration": 17,
    "start_time": "2024-06-15T05:25:05.844Z"
   },
   {
    "duration": 55,
    "start_time": "2024-06-15T05:25:05.864Z"
   },
   {
    "duration": 581,
    "start_time": "2024-06-15T05:25:05.922Z"
   },
   {
    "duration": 0,
    "start_time": "2024-06-15T05:25:06.508Z"
   },
   {
    "duration": 0,
    "start_time": "2024-06-15T05:25:06.511Z"
   },
   {
    "duration": 1,
    "start_time": "2024-06-15T05:25:06.513Z"
   },
   {
    "duration": 0,
    "start_time": "2024-06-15T05:25:06.516Z"
   },
   {
    "duration": 0,
    "start_time": "2024-06-15T05:25:06.518Z"
   },
   {
    "duration": 0,
    "start_time": "2024-06-15T05:25:06.520Z"
   },
   {
    "duration": 0,
    "start_time": "2024-06-15T05:25:06.522Z"
   },
   {
    "duration": 0,
    "start_time": "2024-06-15T05:25:06.523Z"
   },
   {
    "duration": 0,
    "start_time": "2024-06-15T05:25:06.525Z"
   },
   {
    "duration": 1354,
    "start_time": "2024-06-15T05:25:27.533Z"
   },
   {
    "duration": 27,
    "start_time": "2024-06-15T05:25:28.892Z"
   },
   {
    "duration": 37,
    "start_time": "2024-06-15T05:25:28.922Z"
   },
   {
    "duration": 61,
    "start_time": "2024-06-15T05:25:28.963Z"
   },
   {
    "duration": 31,
    "start_time": "2024-06-15T05:25:29.027Z"
   },
   {
    "duration": 41,
    "start_time": "2024-06-15T05:25:29.061Z"
   },
   {
    "duration": 18,
    "start_time": "2024-06-15T05:25:29.104Z"
   },
   {
    "duration": 16,
    "start_time": "2024-06-15T05:25:29.126Z"
   },
   {
    "duration": 532,
    "start_time": "2024-06-15T05:25:29.146Z"
   },
   {
    "duration": 0,
    "start_time": "2024-06-15T05:25:29.681Z"
   },
   {
    "duration": 0,
    "start_time": "2024-06-15T05:25:29.685Z"
   },
   {
    "duration": 0,
    "start_time": "2024-06-15T05:25:29.687Z"
   },
   {
    "duration": 0,
    "start_time": "2024-06-15T05:25:29.689Z"
   },
   {
    "duration": 0,
    "start_time": "2024-06-15T05:25:29.690Z"
   },
   {
    "duration": 0,
    "start_time": "2024-06-15T05:25:29.692Z"
   },
   {
    "duration": 0,
    "start_time": "2024-06-15T05:25:29.704Z"
   },
   {
    "duration": 0,
    "start_time": "2024-06-15T05:25:29.707Z"
   },
   {
    "duration": 0,
    "start_time": "2024-06-15T05:25:29.709Z"
   },
   {
    "duration": 5,
    "start_time": "2024-06-15T05:26:40.107Z"
   },
   {
    "duration": 18,
    "start_time": "2024-06-15T05:26:40.116Z"
   },
   {
    "duration": 73,
    "start_time": "2024-06-15T05:26:40.136Z"
   },
   {
    "duration": 37,
    "start_time": "2024-06-15T05:26:40.212Z"
   },
   {
    "duration": 61,
    "start_time": "2024-06-15T05:26:40.252Z"
   },
   {
    "duration": 12,
    "start_time": "2024-06-15T05:26:40.318Z"
   },
   {
    "duration": 15,
    "start_time": "2024-06-15T05:26:40.333Z"
   },
   {
    "duration": 50,
    "start_time": "2024-06-15T05:26:40.351Z"
   },
   {
    "duration": 16,
    "start_time": "2024-06-15T05:26:40.405Z"
   },
   {
    "duration": 489,
    "start_time": "2024-06-15T05:26:40.426Z"
   },
   {
    "duration": 440,
    "start_time": "2024-06-15T05:26:40.918Z"
   },
   {
    "duration": 558,
    "start_time": "2024-06-15T05:26:41.361Z"
   },
   {
    "duration": 347,
    "start_time": "2024-06-15T05:26:41.922Z"
   },
   {
    "duration": 256,
    "start_time": "2024-06-15T05:26:42.273Z"
   },
   {
    "duration": 11,
    "start_time": "2024-06-15T05:26:42.532Z"
   },
   {
    "duration": 257,
    "start_time": "2024-06-15T05:26:42.547Z"
   },
   {
    "duration": 16,
    "start_time": "2024-06-15T05:26:42.807Z"
   },
   {
    "duration": 14,
    "start_time": "2024-06-15T05:26:42.827Z"
   },
   {
    "duration": 1364,
    "start_time": "2024-06-15T05:27:45.502Z"
   },
   {
    "duration": 20,
    "start_time": "2024-06-15T05:27:46.870Z"
   },
   {
    "duration": 31,
    "start_time": "2024-06-15T05:27:46.903Z"
   },
   {
    "duration": 64,
    "start_time": "2024-06-15T05:27:46.938Z"
   },
   {
    "duration": 33,
    "start_time": "2024-06-15T05:27:47.008Z"
   },
   {
    "duration": 12,
    "start_time": "2024-06-15T05:27:47.044Z"
   },
   {
    "duration": 46,
    "start_time": "2024-06-15T05:27:47.059Z"
   },
   {
    "duration": 17,
    "start_time": "2024-06-15T05:27:47.109Z"
   },
   {
    "duration": 14,
    "start_time": "2024-06-15T05:27:47.129Z"
   },
   {
    "duration": 570,
    "start_time": "2024-06-15T05:27:47.148Z"
   },
   {
    "duration": 436,
    "start_time": "2024-06-15T05:27:47.722Z"
   },
   {
    "duration": 493,
    "start_time": "2024-06-15T05:27:48.162Z"
   },
   {
    "duration": 330,
    "start_time": "2024-06-15T05:27:48.658Z"
   },
   {
    "duration": 236,
    "start_time": "2024-06-15T05:27:49.003Z"
   },
   {
    "duration": 9,
    "start_time": "2024-06-15T05:27:49.242Z"
   },
   {
    "duration": 262,
    "start_time": "2024-06-15T05:27:49.254Z"
   },
   {
    "duration": 16,
    "start_time": "2024-06-15T05:27:49.523Z"
   },
   {
    "duration": 16,
    "start_time": "2024-06-15T05:27:49.548Z"
   },
   {
    "duration": 1406,
    "start_time": "2024-06-15T05:28:11.823Z"
   },
   {
    "duration": 28,
    "start_time": "2024-06-15T05:28:13.234Z"
   },
   {
    "duration": 52,
    "start_time": "2024-06-15T05:28:13.269Z"
   },
   {
    "duration": 54,
    "start_time": "2024-06-15T05:28:13.324Z"
   },
   {
    "duration": 33,
    "start_time": "2024-06-15T05:28:13.403Z"
   },
   {
    "duration": 15,
    "start_time": "2024-06-15T05:28:13.439Z"
   },
   {
    "duration": 45,
    "start_time": "2024-06-15T05:28:13.460Z"
   },
   {
    "duration": 26,
    "start_time": "2024-06-15T05:28:13.510Z"
   },
   {
    "duration": 16,
    "start_time": "2024-06-15T05:28:13.539Z"
   },
   {
    "duration": 700,
    "start_time": "2024-06-15T05:28:13.560Z"
   },
   {
    "duration": 501,
    "start_time": "2024-06-15T05:28:14.266Z"
   },
   {
    "duration": 499,
    "start_time": "2024-06-15T05:28:14.770Z"
   },
   {
    "duration": 410,
    "start_time": "2024-06-15T05:28:15.272Z"
   },
   {
    "duration": 263,
    "start_time": "2024-06-15T05:28:15.689Z"
   },
   {
    "duration": 12,
    "start_time": "2024-06-15T05:28:15.956Z"
   },
   {
    "duration": 305,
    "start_time": "2024-06-15T05:28:15.974Z"
   },
   {
    "duration": 37,
    "start_time": "2024-06-15T05:28:16.283Z"
   },
   {
    "duration": 23,
    "start_time": "2024-06-15T05:28:16.326Z"
   },
   {
    "duration": 12,
    "start_time": "2024-06-15T05:29:15.453Z"
   },
   {
    "duration": 7,
    "start_time": "2024-06-15T05:29:59.706Z"
   },
   {
    "duration": 7,
    "start_time": "2024-06-15T05:30:06.768Z"
   },
   {
    "duration": 14,
    "start_time": "2024-06-15T05:31:39.261Z"
   },
   {
    "duration": 1307,
    "start_time": "2024-06-15T05:31:59.947Z"
   },
   {
    "duration": 20,
    "start_time": "2024-06-15T05:32:01.257Z"
   },
   {
    "duration": 44,
    "start_time": "2024-06-15T05:32:01.280Z"
   },
   {
    "duration": 40,
    "start_time": "2024-06-15T05:32:01.328Z"
   },
   {
    "duration": 60,
    "start_time": "2024-06-15T05:32:01.372Z"
   },
   {
    "duration": 12,
    "start_time": "2024-06-15T05:32:01.435Z"
   },
   {
    "duration": 53,
    "start_time": "2024-06-15T05:32:01.451Z"
   },
   {
    "duration": 17,
    "start_time": "2024-06-15T05:32:01.507Z"
   },
   {
    "duration": 6,
    "start_time": "2024-06-15T05:32:01.527Z"
   },
   {
    "duration": 0,
    "start_time": "2024-06-15T05:32:01.538Z"
   },
   {
    "duration": 0,
    "start_time": "2024-06-15T05:32:01.540Z"
   },
   {
    "duration": 0,
    "start_time": "2024-06-15T05:32:01.542Z"
   },
   {
    "duration": 0,
    "start_time": "2024-06-15T05:32:01.543Z"
   },
   {
    "duration": 0,
    "start_time": "2024-06-15T05:32:01.545Z"
   },
   {
    "duration": 0,
    "start_time": "2024-06-15T05:32:01.547Z"
   },
   {
    "duration": 0,
    "start_time": "2024-06-15T05:32:01.549Z"
   },
   {
    "duration": 0,
    "start_time": "2024-06-15T05:32:01.551Z"
   },
   {
    "duration": 0,
    "start_time": "2024-06-15T05:32:01.553Z"
   },
   {
    "duration": 0,
    "start_time": "2024-06-15T05:32:01.602Z"
   },
   {
    "duration": 8,
    "start_time": "2024-06-15T05:33:18.444Z"
   },
   {
    "duration": 7,
    "start_time": "2024-06-15T05:34:43.280Z"
   },
   {
    "duration": 7,
    "start_time": "2024-06-15T05:35:35.787Z"
   },
   {
    "duration": 2029,
    "start_time": "2024-06-15T05:36:15.404Z"
   },
   {
    "duration": 49,
    "start_time": "2024-06-15T05:36:17.437Z"
   },
   {
    "duration": 53,
    "start_time": "2024-06-15T05:36:17.491Z"
   },
   {
    "duration": 57,
    "start_time": "2024-06-15T05:36:17.556Z"
   },
   {
    "duration": 42,
    "start_time": "2024-06-15T05:36:17.617Z"
   },
   {
    "duration": 40,
    "start_time": "2024-06-15T05:36:17.663Z"
   },
   {
    "duration": 28,
    "start_time": "2024-06-15T05:36:17.706Z"
   },
   {
    "duration": 46,
    "start_time": "2024-06-15T05:36:17.738Z"
   },
   {
    "duration": 16,
    "start_time": "2024-06-15T05:36:17.790Z"
   },
   {
    "duration": 696,
    "start_time": "2024-06-15T05:36:17.818Z"
   },
   {
    "duration": 612,
    "start_time": "2024-06-15T05:36:18.526Z"
   },
   {
    "duration": 615,
    "start_time": "2024-06-15T05:36:19.150Z"
   },
   {
    "duration": 504,
    "start_time": "2024-06-15T05:36:19.768Z"
   },
   {
    "duration": 298,
    "start_time": "2024-06-15T05:36:20.277Z"
   },
   {
    "duration": 9,
    "start_time": "2024-06-15T05:36:20.579Z"
   },
   {
    "duration": 314,
    "start_time": "2024-06-15T05:36:20.592Z"
   },
   {
    "duration": 22,
    "start_time": "2024-06-15T05:36:20.910Z"
   },
   {
    "duration": 24,
    "start_time": "2024-06-15T05:36:20.937Z"
   }
  ],
  "kernelspec": {
   "display_name": "Python 3 (ipykernel)",
   "language": "python",
   "name": "python3"
  },
  "language_info": {
   "codemirror_mode": {
    "name": "ipython",
    "version": 3
   },
   "file_extension": ".py",
   "mimetype": "text/x-python",
   "name": "python",
   "nbconvert_exporter": "python",
   "pygments_lexer": "ipython3",
   "version": "3.9.19"
  },
  "toc": {
   "base_numbering": 1,
   "nav_menu": {},
   "number_sections": true,
   "sideBar": true,
   "skip_h1_title": true,
   "title_cell": "Table of Contents",
   "title_sidebar": "Contents",
   "toc_cell": false,
   "toc_position": {
    "height": "calc(100% - 180px)",
    "left": "10px",
    "top": "150px",
    "width": "214.297px"
   },
   "toc_section_display": true,
   "toc_window_display": true
  }
 },
 "nbformat": 4,
 "nbformat_minor": 2
}
