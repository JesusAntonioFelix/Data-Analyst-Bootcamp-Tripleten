{
 "cells": [
  {
   "cell_type": "markdown",
   "metadata": {},
   "source": [
    "# Descripcion del proyecto"
   ]
  },
  {
   "cell_type": "markdown",
   "metadata": {},
   "source": [
    "El coronavirus tomó al mundo entero por sorpresa, cambiando la rutina y hábitos diarios de las personas. Los habitantes de las ciudades ya no pasaban su tiempo libre fuera yendo a cafés y centros comerciales sino que comenzaron a desarrollar nuevas actividades en sus casas, entre ellas la lectura. Eso atrajo la atención de las startups que se apresuraron a desarrollar nuevas aplicaciones para los amantes de los libros. Es así que se trabajara con esta base de datos de uno de los servicios que compiten en el mercado para generar una propuesta de valor para un nuevo producto\n"
   ]
  },
  {
   "cell_type": "markdown",
   "metadata": {},
   "source": [
    "# Descripcion de los datos"
   ]
  },
  {
   "cell_type": "markdown",
   "metadata": {},
   "source": [
    "# books:\n",
    "\n",
    "Contiene datos sobre libros:\n",
    "- book_id — identificación del libro\n",
    "- author_id — identificación del autor o autora\n",
    "- title — título\n",
    "- num_pages — número de páginas\n",
    "- publication_date — fecha de la publicación\n",
    "- publisher_id — identificación de la editorial\n",
    "\n",
    "# **authors:**\n",
    "Contiene datos sobre autores:\n",
    "- author_id — identificación del autor o autora\n",
    "- author — el autor o la autora\n",
    "\n",
    "# **publishers:**\n",
    "Contiene datos sobre editoriales:\n",
    "- publisher_id — identificación de la editorial\n",
    "- publisher — la editorial\n",
    "\n",
    "\n",
    "# **ratings:**\n",
    "Contiene datos sobre las calificaciones de usuarios:\n",
    "- rating_id — identificación de la calificación\n",
    "- book_id — identificación del libro\n",
    "- username — el nombre del usuario que revisó el libro\n",
    "- rating — calificación\n",
    "\n",
    "\n",
    "# **reviews:**\n",
    "Contiene datos sobre las reseñas de los y las clientes:\n",
    "\n",
    "- review_id — identificación de la reseña\n",
    "- book_id — identificación del libro\n",
    "- username — el nombre del usuario que revisó el libro\n",
    "- text — el texto de la reseña\n",
    "\n"
   ]
  },
  {
   "cell_type": "markdown",
   "metadata": {},
   "source": [
    "# Importación librerias y conexion base de datos"
   ]
  },
  {
   "cell_type": "code",
   "execution_count": 1,
   "metadata": {},
   "outputs": [
    {
     "ename": "ModuleNotFoundError",
     "evalue": "No module named 'psycopg2'",
     "output_type": "error",
     "traceback": [
      "\u001b[1;31m---------------------------------------------------------------------------\u001b[0m",
      "\u001b[1;31mModuleNotFoundError\u001b[0m                       Traceback (most recent call last)",
      "Cell \u001b[1;32mIn[1], line 14\u001b[0m\n\u001b[0;32m      4\u001b[0m db_config \u001b[38;5;241m=\u001b[39m {\u001b[38;5;124m'\u001b[39m\u001b[38;5;124muser\u001b[39m\u001b[38;5;124m'\u001b[39m: \u001b[38;5;124m'\u001b[39m\u001b[38;5;124mpracticum_student\u001b[39m\u001b[38;5;124m'\u001b[39m, \u001b[38;5;66;03m# nombre de usuario\u001b[39;00m\n\u001b[0;32m      5\u001b[0m \u001b[38;5;124m'\u001b[39m\u001b[38;5;124mpwd\u001b[39m\u001b[38;5;124m'\u001b[39m: \u001b[38;5;124m'\u001b[39m\u001b[38;5;124ms65BlTKV3faNIGhmvJVzOqhs\u001b[39m\u001b[38;5;124m'\u001b[39m, \u001b[38;5;66;03m# contraseña\u001b[39;00m\n\u001b[0;32m      6\u001b[0m \u001b[38;5;124m'\u001b[39m\u001b[38;5;124mhost\u001b[39m\u001b[38;5;124m'\u001b[39m: \u001b[38;5;124m'\u001b[39m\u001b[38;5;124mrc1b-wcoijxj3yxfsf3fs.mdb.yandexcloud.net\u001b[39m\u001b[38;5;124m'\u001b[39m,\n\u001b[0;32m      7\u001b[0m \u001b[38;5;124m'\u001b[39m\u001b[38;5;124mport\u001b[39m\u001b[38;5;124m'\u001b[39m: \u001b[38;5;241m6432\u001b[39m, \u001b[38;5;66;03m# puerto de conexión\u001b[39;00m\n\u001b[0;32m      8\u001b[0m \u001b[38;5;124m'\u001b[39m\u001b[38;5;124mdb\u001b[39m\u001b[38;5;124m'\u001b[39m: \u001b[38;5;124m'\u001b[39m\u001b[38;5;124mdata-analyst-final-project-db\u001b[39m\u001b[38;5;124m'\u001b[39m} \u001b[38;5;66;03m# nombre de la base de datos\u001b[39;00m\n\u001b[0;32m      9\u001b[0m connection_string \u001b[38;5;241m=\u001b[39m \u001b[38;5;124m'\u001b[39m\u001b[38;5;124mpostgresql://\u001b[39m\u001b[38;5;132;01m{}\u001b[39;00m\u001b[38;5;124m:\u001b[39m\u001b[38;5;132;01m{}\u001b[39;00m\u001b[38;5;124m@\u001b[39m\u001b[38;5;132;01m{}\u001b[39;00m\u001b[38;5;124m:\u001b[39m\u001b[38;5;132;01m{}\u001b[39;00m\u001b[38;5;124m/\u001b[39m\u001b[38;5;132;01m{}\u001b[39;00m\u001b[38;5;124m'\u001b[39m\u001b[38;5;241m.\u001b[39mformat(db_config[\u001b[38;5;124m'\u001b[39m\u001b[38;5;124muser\u001b[39m\u001b[38;5;124m'\u001b[39m],\n\u001b[0;32m     10\u001b[0m db_config[\u001b[38;5;124m'\u001b[39m\u001b[38;5;124mpwd\u001b[39m\u001b[38;5;124m'\u001b[39m],\n\u001b[0;32m     11\u001b[0m db_config[\u001b[38;5;124m'\u001b[39m\u001b[38;5;124mhost\u001b[39m\u001b[38;5;124m'\u001b[39m],\n\u001b[0;32m     12\u001b[0m db_config[\u001b[38;5;124m'\u001b[39m\u001b[38;5;124mport\u001b[39m\u001b[38;5;124m'\u001b[39m],\n\u001b[0;32m     13\u001b[0m db_config[\u001b[38;5;124m'\u001b[39m\u001b[38;5;124mdb\u001b[39m\u001b[38;5;124m'\u001b[39m])\n\u001b[1;32m---> 14\u001b[0m engine \u001b[38;5;241m=\u001b[39m create_engine(connection_string, connect_args\u001b[38;5;241m=\u001b[39m{\u001b[38;5;124m'\u001b[39m\u001b[38;5;124msslmode\u001b[39m\u001b[38;5;124m'\u001b[39m:\u001b[38;5;124m'\u001b[39m\u001b[38;5;124mrequire\u001b[39m\u001b[38;5;124m'\u001b[39m})\n",
      "File \u001b[1;32m<string>:2\u001b[0m, in \u001b[0;36mcreate_engine\u001b[1;34m(url, **kwargs)\u001b[0m\n",
      "File \u001b[1;32mc:\\Users\\janto\\anaconda3\\Lib\\site-packages\\sqlalchemy\\util\\deprecations.py:281\u001b[0m, in \u001b[0;36mdeprecated_params.<locals>.decorate.<locals>.warned\u001b[1;34m(fn, *args, **kwargs)\u001b[0m\n\u001b[0;32m    274\u001b[0m     \u001b[38;5;28;01mif\u001b[39;00m m \u001b[38;5;129;01min\u001b[39;00m kwargs:\n\u001b[0;32m    275\u001b[0m         _warn_with_version(\n\u001b[0;32m    276\u001b[0m             messages[m],\n\u001b[0;32m    277\u001b[0m             versions[m],\n\u001b[0;32m    278\u001b[0m             version_warnings[m],\n\u001b[0;32m    279\u001b[0m             stacklevel\u001b[38;5;241m=\u001b[39m\u001b[38;5;241m3\u001b[39m,\n\u001b[0;32m    280\u001b[0m         )\n\u001b[1;32m--> 281\u001b[0m \u001b[38;5;28;01mreturn\u001b[39;00m fn(\u001b[38;5;241m*\u001b[39margs, \u001b[38;5;241m*\u001b[39m\u001b[38;5;241m*\u001b[39mkwargs)\n",
      "File \u001b[1;32mc:\\Users\\janto\\anaconda3\\Lib\\site-packages\\sqlalchemy\\engine\\create.py:601\u001b[0m, in \u001b[0;36mcreate_engine\u001b[1;34m(url, **kwargs)\u001b[0m\n\u001b[0;32m    599\u001b[0m         \u001b[38;5;28;01mif\u001b[39;00m k \u001b[38;5;129;01min\u001b[39;00m kwargs:\n\u001b[0;32m    600\u001b[0m             dbapi_args[k] \u001b[38;5;241m=\u001b[39m pop_kwarg(k)\n\u001b[1;32m--> 601\u001b[0m     dbapi \u001b[38;5;241m=\u001b[39m dbapi_meth(\u001b[38;5;241m*\u001b[39m\u001b[38;5;241m*\u001b[39mdbapi_args)\n\u001b[0;32m    603\u001b[0m dialect_args[\u001b[38;5;124m\"\u001b[39m\u001b[38;5;124mdbapi\u001b[39m\u001b[38;5;124m\"\u001b[39m] \u001b[38;5;241m=\u001b[39m dbapi\n\u001b[0;32m    605\u001b[0m dialect_args\u001b[38;5;241m.\u001b[39msetdefault(\u001b[38;5;124m\"\u001b[39m\u001b[38;5;124mcompiler_linting\u001b[39m\u001b[38;5;124m\"\u001b[39m, compiler\u001b[38;5;241m.\u001b[39mNO_LINTING)\n",
      "File \u001b[1;32mc:\\Users\\janto\\anaconda3\\Lib\\site-packages\\sqlalchemy\\dialects\\postgresql\\psycopg2.py:690\u001b[0m, in \u001b[0;36mPGDialect_psycopg2.import_dbapi\u001b[1;34m(cls)\u001b[0m\n\u001b[0;32m    688\u001b[0m \u001b[38;5;129m@classmethod\u001b[39m\n\u001b[0;32m    689\u001b[0m \u001b[38;5;28;01mdef\u001b[39;00m \u001b[38;5;21mimport_dbapi\u001b[39m(\u001b[38;5;28mcls\u001b[39m):\n\u001b[1;32m--> 690\u001b[0m     \u001b[38;5;28;01mimport\u001b[39;00m \u001b[38;5;21;01mpsycopg2\u001b[39;00m\n\u001b[0;32m    692\u001b[0m     \u001b[38;5;28;01mreturn\u001b[39;00m psycopg2\n",
      "\u001b[1;31mModuleNotFoundError\u001b[0m: No module named 'psycopg2'"
     ]
    }
   ],
   "source": [
    "#importar librerías\n",
    "import pandas as pd\n",
    "from sqlalchemy import create_engine\n",
    "db_config = {'user': 'practicum_student', # nombre de usuario\n",
    "'pwd': 's65BlTKV3faNIGhmvJVzOqhs', # contraseña\n",
    "'host': 'rc1b-wcoijxj3yxfsf3fs.mdb.yandexcloud.net',\n",
    "'port': 6432, # puerto de conexión\n",
    "'db': 'data-analyst-final-project-db'} # nombre de la base de datos\n",
    "connection_string = 'postgresql://{}:{}@{}:{}/{}'.format(db_config['user'],\n",
    "db_config['pwd'],\n",
    "db_config['host'],\n",
    "db_config['port'],\n",
    "db_config['db'])\n",
    "engine = create_engine(connection_string, connect_args={'sslmode':'require'})"
   ]
  },
  {
   "cell_type": "markdown",
   "metadata": {},
   "source": [
    "# Estudio de tablas"
   ]
  },
  {
   "cell_type": "markdown",
   "metadata": {},
   "source": [
    "# books"
   ]
  },
  {
   "cell_type": "code",
   "execution_count": null,
   "metadata": {},
   "outputs": [
    {
     "data": {
      "text/html": [
       "<div>\n",
       "<style scoped>\n",
       "    .dataframe tbody tr th:only-of-type {\n",
       "        vertical-align: middle;\n",
       "    }\n",
       "\n",
       "    .dataframe tbody tr th {\n",
       "        vertical-align: top;\n",
       "    }\n",
       "\n",
       "    .dataframe thead th {\n",
       "        text-align: right;\n",
       "    }\n",
       "</style>\n",
       "<table border=\"1\" class=\"dataframe\">\n",
       "  <thead>\n",
       "    <tr style=\"text-align: right;\">\n",
       "      <th></th>\n",
       "      <th>book_id</th>\n",
       "      <th>author_id</th>\n",
       "      <th>title</th>\n",
       "      <th>num_pages</th>\n",
       "      <th>publication_date</th>\n",
       "      <th>publisher_id</th>\n",
       "    </tr>\n",
       "  </thead>\n",
       "  <tbody>\n",
       "    <tr>\n",
       "      <th>0</th>\n",
       "      <td>1</td>\n",
       "      <td>546</td>\n",
       "      <td>'Salem's Lot</td>\n",
       "      <td>594</td>\n",
       "      <td>2005-11-01</td>\n",
       "      <td>93</td>\n",
       "    </tr>\n",
       "    <tr>\n",
       "      <th>1</th>\n",
       "      <td>2</td>\n",
       "      <td>465</td>\n",
       "      <td>1 000 Places to See Before You Die</td>\n",
       "      <td>992</td>\n",
       "      <td>2003-05-22</td>\n",
       "      <td>336</td>\n",
       "    </tr>\n",
       "    <tr>\n",
       "      <th>2</th>\n",
       "      <td>3</td>\n",
       "      <td>407</td>\n",
       "      <td>13 Little Blue Envelopes (Little Blue Envelope...</td>\n",
       "      <td>322</td>\n",
       "      <td>2010-12-21</td>\n",
       "      <td>135</td>\n",
       "    </tr>\n",
       "    <tr>\n",
       "      <th>3</th>\n",
       "      <td>4</td>\n",
       "      <td>82</td>\n",
       "      <td>1491: New Revelations of the Americas Before C...</td>\n",
       "      <td>541</td>\n",
       "      <td>2006-10-10</td>\n",
       "      <td>309</td>\n",
       "    </tr>\n",
       "    <tr>\n",
       "      <th>4</th>\n",
       "      <td>5</td>\n",
       "      <td>125</td>\n",
       "      <td>1776</td>\n",
       "      <td>386</td>\n",
       "      <td>2006-07-04</td>\n",
       "      <td>268</td>\n",
       "    </tr>\n",
       "  </tbody>\n",
       "</table>\n",
       "</div>"
      ],
      "text/plain": [
       "   book_id  author_id                                              title  \\\n",
       "0        1        546                                       'Salem's Lot   \n",
       "1        2        465                 1 000 Places to See Before You Die   \n",
       "2        3        407  13 Little Blue Envelopes (Little Blue Envelope...   \n",
       "3        4         82  1491: New Revelations of the Americas Before C...   \n",
       "4        5        125                                               1776   \n",
       "\n",
       "   num_pages publication_date  publisher_id  \n",
       "0        594       2005-11-01            93  \n",
       "1        992       2003-05-22           336  \n",
       "2        322       2010-12-21           135  \n",
       "3        541       2006-10-10           309  \n",
       "4        386       2006-07-04           268  "
      ]
     },
     "metadata": {},
     "output_type": "display_data"
    }
   ],
   "source": [
    "\n",
    "query= ''' select *\n",
    "           from books limit 5'''\n",
    "\n",
    "books= pd.io.sql.read_sql(query, con = engine)\n",
    "display(books)"
   ]
  },
  {
   "cell_type": "markdown",
   "metadata": {},
   "source": [
    "# authors"
   ]
  },
  {
   "cell_type": "code",
   "execution_count": null,
   "metadata": {},
   "outputs": [
    {
     "data": {
      "text/html": [
       "<div>\n",
       "<style scoped>\n",
       "    .dataframe tbody tr th:only-of-type {\n",
       "        vertical-align: middle;\n",
       "    }\n",
       "\n",
       "    .dataframe tbody tr th {\n",
       "        vertical-align: top;\n",
       "    }\n",
       "\n",
       "    .dataframe thead th {\n",
       "        text-align: right;\n",
       "    }\n",
       "</style>\n",
       "<table border=\"1\" class=\"dataframe\">\n",
       "  <thead>\n",
       "    <tr style=\"text-align: right;\">\n",
       "      <th></th>\n",
       "      <th>author_id</th>\n",
       "      <th>author</th>\n",
       "    </tr>\n",
       "  </thead>\n",
       "  <tbody>\n",
       "    <tr>\n",
       "      <th>0</th>\n",
       "      <td>1</td>\n",
       "      <td>A.S. Byatt</td>\n",
       "    </tr>\n",
       "    <tr>\n",
       "      <th>1</th>\n",
       "      <td>2</td>\n",
       "      <td>Aesop/Laura Harris/Laura Gibbs</td>\n",
       "    </tr>\n",
       "    <tr>\n",
       "      <th>2</th>\n",
       "      <td>3</td>\n",
       "      <td>Agatha Christie</td>\n",
       "    </tr>\n",
       "    <tr>\n",
       "      <th>3</th>\n",
       "      <td>4</td>\n",
       "      <td>Alan Brennert</td>\n",
       "    </tr>\n",
       "    <tr>\n",
       "      <th>4</th>\n",
       "      <td>5</td>\n",
       "      <td>Alan Moore/David   Lloyd</td>\n",
       "    </tr>\n",
       "  </tbody>\n",
       "</table>\n",
       "</div>"
      ],
      "text/plain": [
       "   author_id                          author\n",
       "0          1                      A.S. Byatt\n",
       "1          2  Aesop/Laura Harris/Laura Gibbs\n",
       "2          3                 Agatha Christie\n",
       "3          4                   Alan Brennert\n",
       "4          5        Alan Moore/David   Lloyd"
      ]
     },
     "metadata": {},
     "output_type": "display_data"
    }
   ],
   "source": [
    "query= ''' select *\n",
    "           from authors limit 5'''\n",
    "\n",
    "\n",
    "authors = pd.io.sql.read_sql(query, con = engine)\n",
    "display(authors)"
   ]
  },
  {
   "cell_type": "markdown",
   "metadata": {},
   "source": [
    "# publishers"
   ]
  },
  {
   "cell_type": "code",
   "execution_count": null,
   "metadata": {},
   "outputs": [
    {
     "data": {
      "text/html": [
       "<div>\n",
       "<style scoped>\n",
       "    .dataframe tbody tr th:only-of-type {\n",
       "        vertical-align: middle;\n",
       "    }\n",
       "\n",
       "    .dataframe tbody tr th {\n",
       "        vertical-align: top;\n",
       "    }\n",
       "\n",
       "    .dataframe thead th {\n",
       "        text-align: right;\n",
       "    }\n",
       "</style>\n",
       "<table border=\"1\" class=\"dataframe\">\n",
       "  <thead>\n",
       "    <tr style=\"text-align: right;\">\n",
       "      <th></th>\n",
       "      <th>publisher_id</th>\n",
       "      <th>publisher</th>\n",
       "    </tr>\n",
       "  </thead>\n",
       "  <tbody>\n",
       "    <tr>\n",
       "      <th>0</th>\n",
       "      <td>1</td>\n",
       "      <td>Ace</td>\n",
       "    </tr>\n",
       "    <tr>\n",
       "      <th>1</th>\n",
       "      <td>2</td>\n",
       "      <td>Ace Book</td>\n",
       "    </tr>\n",
       "    <tr>\n",
       "      <th>2</th>\n",
       "      <td>3</td>\n",
       "      <td>Ace Books</td>\n",
       "    </tr>\n",
       "    <tr>\n",
       "      <th>3</th>\n",
       "      <td>4</td>\n",
       "      <td>Ace Hardcover</td>\n",
       "    </tr>\n",
       "    <tr>\n",
       "      <th>4</th>\n",
       "      <td>5</td>\n",
       "      <td>Addison Wesley Publishing Company</td>\n",
       "    </tr>\n",
       "  </tbody>\n",
       "</table>\n",
       "</div>"
      ],
      "text/plain": [
       "   publisher_id                          publisher\n",
       "0             1                                Ace\n",
       "1             2                           Ace Book\n",
       "2             3                          Ace Books\n",
       "3             4                      Ace Hardcover\n",
       "4             5  Addison Wesley Publishing Company"
      ]
     },
     "metadata": {},
     "output_type": "display_data"
    }
   ],
   "source": [
    "query= ''' select *\n",
    "           from publishers limit 5'''\n",
    "\n",
    "\n",
    "publishers = pd.io.sql.read_sql(query, con = engine)\n",
    "display(publishers)"
   ]
  },
  {
   "cell_type": "markdown",
   "metadata": {},
   "source": [
    "# ratings"
   ]
  },
  {
   "cell_type": "code",
   "execution_count": null,
   "metadata": {},
   "outputs": [
    {
     "data": {
      "text/html": [
       "<div>\n",
       "<style scoped>\n",
       "    .dataframe tbody tr th:only-of-type {\n",
       "        vertical-align: middle;\n",
       "    }\n",
       "\n",
       "    .dataframe tbody tr th {\n",
       "        vertical-align: top;\n",
       "    }\n",
       "\n",
       "    .dataframe thead th {\n",
       "        text-align: right;\n",
       "    }\n",
       "</style>\n",
       "<table border=\"1\" class=\"dataframe\">\n",
       "  <thead>\n",
       "    <tr style=\"text-align: right;\">\n",
       "      <th></th>\n",
       "      <th>rating_id</th>\n",
       "      <th>book_id</th>\n",
       "      <th>username</th>\n",
       "      <th>rating</th>\n",
       "    </tr>\n",
       "  </thead>\n",
       "  <tbody>\n",
       "    <tr>\n",
       "      <th>0</th>\n",
       "      <td>1</td>\n",
       "      <td>1</td>\n",
       "      <td>ryanfranco</td>\n",
       "      <td>4</td>\n",
       "    </tr>\n",
       "    <tr>\n",
       "      <th>1</th>\n",
       "      <td>2</td>\n",
       "      <td>1</td>\n",
       "      <td>grantpatricia</td>\n",
       "      <td>2</td>\n",
       "    </tr>\n",
       "    <tr>\n",
       "      <th>2</th>\n",
       "      <td>3</td>\n",
       "      <td>1</td>\n",
       "      <td>brandtandrea</td>\n",
       "      <td>5</td>\n",
       "    </tr>\n",
       "    <tr>\n",
       "      <th>3</th>\n",
       "      <td>4</td>\n",
       "      <td>2</td>\n",
       "      <td>lorichen</td>\n",
       "      <td>3</td>\n",
       "    </tr>\n",
       "    <tr>\n",
       "      <th>4</th>\n",
       "      <td>5</td>\n",
       "      <td>2</td>\n",
       "      <td>mariokeller</td>\n",
       "      <td>2</td>\n",
       "    </tr>\n",
       "  </tbody>\n",
       "</table>\n",
       "</div>"
      ],
      "text/plain": [
       "   rating_id  book_id       username  rating\n",
       "0          1        1     ryanfranco       4\n",
       "1          2        1  grantpatricia       2\n",
       "2          3        1   brandtandrea       5\n",
       "3          4        2       lorichen       3\n",
       "4          5        2    mariokeller       2"
      ]
     },
     "metadata": {},
     "output_type": "display_data"
    }
   ],
   "source": [
    "query= ''' select *\n",
    "           from ratings limit 5'''\n",
    "\n",
    "\n",
    "ratings = pd.io.sql.read_sql(query, con = engine)\n",
    "display(ratings)"
   ]
  },
  {
   "cell_type": "markdown",
   "metadata": {},
   "source": [
    "# reviews"
   ]
  },
  {
   "cell_type": "code",
   "execution_count": null,
   "metadata": {
    "scrolled": true
   },
   "outputs": [
    {
     "data": {
      "text/html": [
       "<div>\n",
       "<style scoped>\n",
       "    .dataframe tbody tr th:only-of-type {\n",
       "        vertical-align: middle;\n",
       "    }\n",
       "\n",
       "    .dataframe tbody tr th {\n",
       "        vertical-align: top;\n",
       "    }\n",
       "\n",
       "    .dataframe thead th {\n",
       "        text-align: right;\n",
       "    }\n",
       "</style>\n",
       "<table border=\"1\" class=\"dataframe\">\n",
       "  <thead>\n",
       "    <tr style=\"text-align: right;\">\n",
       "      <th></th>\n",
       "      <th>review_id</th>\n",
       "      <th>book_id</th>\n",
       "      <th>username</th>\n",
       "      <th>text</th>\n",
       "    </tr>\n",
       "  </thead>\n",
       "  <tbody>\n",
       "    <tr>\n",
       "      <th>0</th>\n",
       "      <td>1</td>\n",
       "      <td>1</td>\n",
       "      <td>brandtandrea</td>\n",
       "      <td>Mention society tell send professor analysis. ...</td>\n",
       "    </tr>\n",
       "    <tr>\n",
       "      <th>1</th>\n",
       "      <td>2</td>\n",
       "      <td>1</td>\n",
       "      <td>ryanfranco</td>\n",
       "      <td>Foot glass pretty audience hit themselves. Amo...</td>\n",
       "    </tr>\n",
       "    <tr>\n",
       "      <th>2</th>\n",
       "      <td>3</td>\n",
       "      <td>2</td>\n",
       "      <td>lorichen</td>\n",
       "      <td>Listen treat keep worry. Miss husband tax but ...</td>\n",
       "    </tr>\n",
       "    <tr>\n",
       "      <th>3</th>\n",
       "      <td>4</td>\n",
       "      <td>3</td>\n",
       "      <td>johnsonamanda</td>\n",
       "      <td>Finally month interesting blue could nature cu...</td>\n",
       "    </tr>\n",
       "    <tr>\n",
       "      <th>4</th>\n",
       "      <td>5</td>\n",
       "      <td>3</td>\n",
       "      <td>scotttamara</td>\n",
       "      <td>Nation purpose heavy give wait song will. List...</td>\n",
       "    </tr>\n",
       "  </tbody>\n",
       "</table>\n",
       "</div>"
      ],
      "text/plain": [
       "   review_id  book_id       username  \\\n",
       "0          1        1   brandtandrea   \n",
       "1          2        1     ryanfranco   \n",
       "2          3        2       lorichen   \n",
       "3          4        3  johnsonamanda   \n",
       "4          5        3    scotttamara   \n",
       "\n",
       "                                                text  \n",
       "0  Mention society tell send professor analysis. ...  \n",
       "1  Foot glass pretty audience hit themselves. Amo...  \n",
       "2  Listen treat keep worry. Miss husband tax but ...  \n",
       "3  Finally month interesting blue could nature cu...  \n",
       "4  Nation purpose heavy give wait song will. List...  "
      ]
     },
     "metadata": {},
     "output_type": "display_data"
    }
   ],
   "source": [
    "query= ''' select *\n",
    "           from reviews limit 5'''\n",
    "\n",
    "\n",
    "reviews = pd.io.sql.read_sql(query, con = engine)\n",
    "display(reviews)"
   ]
  },
  {
   "cell_type": "markdown",
   "metadata": {},
   "source": [
    "# Número de libros publicados después del 1 de enero de 2000."
   ]
  },
  {
   "cell_type": "code",
   "execution_count": null,
   "metadata": {},
   "outputs": [
    {
     "data": {
      "text/html": [
       "<div>\n",
       "<style scoped>\n",
       "    .dataframe tbody tr th:only-of-type {\n",
       "        vertical-align: middle;\n",
       "    }\n",
       "\n",
       "    .dataframe tbody tr th {\n",
       "        vertical-align: top;\n",
       "    }\n",
       "\n",
       "    .dataframe thead th {\n",
       "        text-align: right;\n",
       "    }\n",
       "</style>\n",
       "<table border=\"1\" class=\"dataframe\">\n",
       "  <thead>\n",
       "    <tr style=\"text-align: right;\">\n",
       "      <th></th>\n",
       "      <th>cantidad_de_libros</th>\n",
       "    </tr>\n",
       "  </thead>\n",
       "  <tbody>\n",
       "    <tr>\n",
       "      <th>0</th>\n",
       "      <td>819</td>\n",
       "    </tr>\n",
       "  </tbody>\n",
       "</table>\n",
       "</div>"
      ],
      "text/plain": [
       "   cantidad_de_libros\n",
       "0                 819"
      ]
     },
     "metadata": {},
     "output_type": "display_data"
    }
   ],
   "source": [
    "query= '''select count(book_id) as cantidad_de_libros\n",
    "          from books\n",
    "          where publication_date > '2000-01-1'\n",
    "'''\n",
    "\n",
    "\n",
    "libros_2000 = pd.io.sql.read_sql(query, con = engine)\n",
    "display(libros_2000)"
   ]
  },
  {
   "cell_type": "markdown",
   "metadata": {},
   "source": [
    "La cantidad de libros publicados a partir del 1 de enero del 2000 es de 819"
   ]
  },
  {
   "cell_type": "markdown",
   "metadata": {},
   "source": [
    "#  Número de reseñas de usuarios y la calificación promedio para cada libro."
   ]
  },
  {
   "cell_type": "code",
   "execution_count": null,
   "metadata": {
    "scrolled": true
   },
   "outputs": [
    {
     "data": {
      "text/html": [
       "<div>\n",
       "<style scoped>\n",
       "    .dataframe tbody tr th:only-of-type {\n",
       "        vertical-align: middle;\n",
       "    }\n",
       "\n",
       "    .dataframe tbody tr th {\n",
       "        vertical-align: top;\n",
       "    }\n",
       "\n",
       "    .dataframe thead th {\n",
       "        text-align: right;\n",
       "    }\n",
       "</style>\n",
       "<table border=\"1\" class=\"dataframe\">\n",
       "  <thead>\n",
       "    <tr style=\"text-align: right;\">\n",
       "      <th></th>\n",
       "      <th>book_id</th>\n",
       "      <th>author</th>\n",
       "      <th>title</th>\n",
       "      <th>review</th>\n",
       "      <th>avg_rating</th>\n",
       "    </tr>\n",
       "  </thead>\n",
       "  <tbody>\n",
       "    <tr>\n",
       "      <th>0</th>\n",
       "      <td>1</td>\n",
       "      <td>Stephen King/Jerry N. Uelsmann</td>\n",
       "      <td>'Salem's Lot</td>\n",
       "      <td>2</td>\n",
       "      <td>3.666667</td>\n",
       "    </tr>\n",
       "    <tr>\n",
       "      <th>1</th>\n",
       "      <td>2</td>\n",
       "      <td>Patricia Schultz</td>\n",
       "      <td>1 000 Places to See Before You Die</td>\n",
       "      <td>1</td>\n",
       "      <td>2.500000</td>\n",
       "    </tr>\n",
       "    <tr>\n",
       "      <th>2</th>\n",
       "      <td>3</td>\n",
       "      <td>Maureen Johnson</td>\n",
       "      <td>13 Little Blue Envelopes (Little Blue Envelope...</td>\n",
       "      <td>3</td>\n",
       "      <td>4.666667</td>\n",
       "    </tr>\n",
       "    <tr>\n",
       "      <th>3</th>\n",
       "      <td>4</td>\n",
       "      <td>Charles C. Mann</td>\n",
       "      <td>1491: New Revelations of the Americas Before C...</td>\n",
       "      <td>2</td>\n",
       "      <td>4.500000</td>\n",
       "    </tr>\n",
       "    <tr>\n",
       "      <th>4</th>\n",
       "      <td>5</td>\n",
       "      <td>David McCullough</td>\n",
       "      <td>1776</td>\n",
       "      <td>4</td>\n",
       "      <td>4.000000</td>\n",
       "    </tr>\n",
       "  </tbody>\n",
       "</table>\n",
       "</div>"
      ],
      "text/plain": [
       "   book_id                          author  \\\n",
       "0        1  Stephen King/Jerry N. Uelsmann   \n",
       "1        2                Patricia Schultz   \n",
       "2        3                 Maureen Johnson   \n",
       "3        4                 Charles C. Mann   \n",
       "4        5                David McCullough   \n",
       "\n",
       "                                               title  review  avg_rating  \n",
       "0                                       'Salem's Lot       2    3.666667  \n",
       "1                 1 000 Places to See Before You Die       1    2.500000  \n",
       "2  13 Little Blue Envelopes (Little Blue Envelope...       3    4.666667  \n",
       "3  1491: New Revelations of the Americas Before C...       2    4.500000  \n",
       "4                                               1776       4    4.000000  "
      ]
     },
     "execution_count": 8,
     "metadata": {},
     "output_type": "execute_result"
    }
   ],
   "source": [
    "query= ''' select books.book_id,\n",
    "                  authors.author,\n",
    "                  books.title,\n",
    "                  count(distinct reviews.review_id) as review,\n",
    "                  avg(ratings.rating) as avg_rating \n",
    "           from books\n",
    "                left join authors on books.author_id = authors.author_id\n",
    "                left join reviews on reviews.book_id = books.book_id\n",
    "                left join ratings on ratings.book_id = books.book_id\n",
    "          group by books.book_id, authors.author_id'''\n",
    "\n",
    "\n",
    "reviews = pd.io.sql.read_sql(query, con = engine)\n",
    "reviews.head()"
   ]
  },
  {
   "cell_type": "markdown",
   "metadata": {},
   "source": [
    "# Editorial que ha publicado el mayor número de libros con más de 50 páginas."
   ]
  },
  {
   "cell_type": "code",
   "execution_count": null,
   "metadata": {},
   "outputs": [
    {
     "data": {
      "text/html": [
       "<div>\n",
       "<style scoped>\n",
       "    .dataframe tbody tr th:only-of-type {\n",
       "        vertical-align: middle;\n",
       "    }\n",
       "\n",
       "    .dataframe tbody tr th {\n",
       "        vertical-align: top;\n",
       "    }\n",
       "\n",
       "    .dataframe thead th {\n",
       "        text-align: right;\n",
       "    }\n",
       "</style>\n",
       "<table border=\"1\" class=\"dataframe\">\n",
       "  <thead>\n",
       "    <tr style=\"text-align: right;\">\n",
       "      <th></th>\n",
       "      <th>publisher_id</th>\n",
       "      <th>publisher</th>\n",
       "      <th>number_books</th>\n",
       "    </tr>\n",
       "  </thead>\n",
       "  <tbody>\n",
       "    <tr>\n",
       "      <th>0</th>\n",
       "      <td>212</td>\n",
       "      <td>Penguin Books</td>\n",
       "      <td>42</td>\n",
       "    </tr>\n",
       "  </tbody>\n",
       "</table>\n",
       "</div>"
      ],
      "text/plain": [
       "   publisher_id      publisher  number_books\n",
       "0           212  Penguin Books            42"
      ]
     },
     "metadata": {},
     "output_type": "display_data"
    }
   ],
   "source": [
    "query= ''' \n",
    "               select publishers.publisher_id,\n",
    "                      publishers.publisher,\n",
    "                      count(books.title) as number_books\n",
    "                from publishers\n",
    "                  left join books on books.publisher_id = publishers.publisher_id\n",
    "                where num_pages > 50\n",
    "                group by publishers.publisher_id\n",
    "                order by number_books desc\n",
    "                limit 1\n",
    "'''\n",
    "\n",
    "\n",
    "editorial = pd.io.sql.read_sql(query, con = engine)\n",
    "display(editorial)\n"
   ]
  },
  {
   "cell_type": "markdown",
   "metadata": {},
   "source": [
    "La editorial Penguin books fue la que mas publico libros mayor a 50 paginas siendo 42 libros"
   ]
  },
  {
   "cell_type": "markdown",
   "metadata": {},
   "source": [
    "# Autor que tiene la más alta calificación promedio : solo los libros con al menos 50 calificaciones."
   ]
  },
  {
   "cell_type": "code",
   "execution_count": null,
   "metadata": {},
   "outputs": [
    {
     "data": {
      "text/html": [
       "<div>\n",
       "<style scoped>\n",
       "    .dataframe tbody tr th:only-of-type {\n",
       "        vertical-align: middle;\n",
       "    }\n",
       "\n",
       "    .dataframe tbody tr th {\n",
       "        vertical-align: top;\n",
       "    }\n",
       "\n",
       "    .dataframe thead th {\n",
       "        text-align: right;\n",
       "    }\n",
       "</style>\n",
       "<table border=\"1\" class=\"dataframe\">\n",
       "  <thead>\n",
       "    <tr style=\"text-align: right;\">\n",
       "      <th></th>\n",
       "      <th>author_id</th>\n",
       "      <th>author</th>\n",
       "      <th>avg_rating</th>\n",
       "    </tr>\n",
       "  </thead>\n",
       "  <tbody>\n",
       "    <tr>\n",
       "      <th>0</th>\n",
       "      <td>236</td>\n",
       "      <td>J.K. Rowling/Mary GrandPré</td>\n",
       "      <td>4.287097</td>\n",
       "    </tr>\n",
       "  </tbody>\n",
       "</table>\n",
       "</div>"
      ],
      "text/plain": [
       "   author_id                      author  avg_rating\n",
       "0        236  J.K. Rowling/Mary GrandPré    4.287097"
      ]
     },
     "metadata": {},
     "output_type": "display_data"
    }
   ],
   "source": [
    "query= '''select l.author_id,\n",
    "                 l.author,\n",
    "                 avg(ratings.rating) as avg_rating                \n",
    "          from(select books.author_id,\n",
    "                      authors.author,\n",
    "                      ratings.book_id,\n",
    "                      count(ratings.rating) as number_of_ratings\n",
    "               from ratings\n",
    "                  left join books on books.book_id = ratings.book_id\n",
    "                  inner join authors on books.author_id = authors.author_id\n",
    "               group by ratings.book_id,\n",
    "                        books.author_id,\n",
    "                        authors.author\n",
    "               having count(ratings.rating) >= 50) as l\n",
    "             left join ratings on l.book_id = ratings.book_id\n",
    "         group by  l.author_id,\n",
    "                   l.author\n",
    "         order by avg_rating desc\n",
    "         limit 1\n",
    "'''\n",
    "\n",
    "rating = pd.io.sql.read_sql(query, con = engine)\n",
    "display(rating)"
   ]
  },
  {
   "cell_type": "markdown",
   "metadata": {},
   "source": [
    "Los autores con mayor calificación promedio fue J.K. Rowling/Mary GrandPré con 4.29"
   ]
  },
  {
   "cell_type": "markdown",
   "metadata": {},
   "source": [
    "#  Número promedio de reseñas de texto entre los usuarios que calificaron más de 50 libros."
   ]
  },
  {
   "cell_type": "code",
   "execution_count": null,
   "metadata": {},
   "outputs": [
    {
     "data": {
      "text/html": [
       "<div>\n",
       "<style scoped>\n",
       "    .dataframe tbody tr th:only-of-type {\n",
       "        vertical-align: middle;\n",
       "    }\n",
       "\n",
       "    .dataframe tbody tr th {\n",
       "        vertical-align: top;\n",
       "    }\n",
       "\n",
       "    .dataframe thead th {\n",
       "        text-align: right;\n",
       "    }\n",
       "</style>\n",
       "<table border=\"1\" class=\"dataframe\">\n",
       "  <thead>\n",
       "    <tr style=\"text-align: right;\">\n",
       "      <th></th>\n",
       "      <th>avg_text_review</th>\n",
       "    </tr>\n",
       "  </thead>\n",
       "  <tbody>\n",
       "    <tr>\n",
       "      <th>0</th>\n",
       "      <td>24.333333</td>\n",
       "    </tr>\n",
       "  </tbody>\n",
       "</table>\n",
       "</div>"
      ],
      "text/plain": [
       "   avg_text_review\n",
       "0        24.333333"
      ]
     },
     "metadata": {},
     "output_type": "display_data"
    }
   ],
   "source": [
    "query= ''' select avg(text) as avg_text_review   \n",
    "           from (select a.username,                         \n",
    "                        count(reviews.text) as text\n",
    "                 from (select username,                      \n",
    "                              count(book_id) as graded_books\n",
    "                       from ratings\n",
    "                       group by username\n",
    "                       having count(book_id) > 50) as a\n",
    "                    left join reviews on reviews.username= a.username\n",
    "                group by a.username) as user_reviews\n",
    "'''\n",
    "\n",
    "\n",
    "reseñas = pd.io.sql.read_sql(query, con = engine)\n",
    "display(reseñas)"
   ]
  },
  {
   "cell_type": "markdown",
   "metadata": {},
   "source": [
    "El promedio de reseñas de los usuarios que califican mas de 50 libros es de 24 reseñas"
   ]
  }
 ],
 "metadata": {
  "ExecuteTimeLog": [
   {
    "duration": 4,
    "start_time": "2024-08-15T01:23:07.009Z"
   },
   {
    "duration": 14,
    "start_time": "2024-08-15T01:25:34.254Z"
   },
   {
    "duration": 626,
    "start_time": "2024-08-15T01:25:40.501Z"
   },
   {
    "duration": 2636,
    "start_time": "2024-08-15T01:27:16.932Z"
   },
   {
    "duration": 1964,
    "start_time": "2024-08-15T01:28:21.006Z"
   },
   {
    "duration": 950,
    "start_time": "2024-08-15T01:28:27.460Z"
   },
   {
    "duration": 753,
    "start_time": "2024-08-15T01:28:46.315Z"
   },
   {
    "duration": 948,
    "start_time": "2024-08-15T01:28:53.477Z"
   },
   {
    "duration": 745,
    "start_time": "2024-08-15T01:30:21.377Z"
   },
   {
    "duration": 745,
    "start_time": "2024-08-15T01:30:31.245Z"
   },
   {
    "duration": 1014,
    "start_time": "2024-08-15T01:30:35.982Z"
   },
   {
    "duration": 756,
    "start_time": "2024-08-15T01:30:45.179Z"
   },
   {
    "duration": 751,
    "start_time": "2024-08-15T01:32:38.782Z"
   },
   {
    "duration": 957,
    "start_time": "2024-08-15T01:33:34.219Z"
   },
   {
    "duration": 874,
    "start_time": "2024-08-15T01:34:26.183Z"
   },
   {
    "duration": 875,
    "start_time": "2024-08-15T01:35:00.016Z"
   },
   {
    "duration": 1006,
    "start_time": "2024-08-15T01:35:20.475Z"
   },
   {
    "duration": 752,
    "start_time": "2024-08-15T01:36:22.667Z"
   },
   {
    "duration": 749,
    "start_time": "2024-08-15T01:36:25.004Z"
   },
   {
    "duration": 749,
    "start_time": "2024-08-15T01:37:22.652Z"
   },
   {
    "duration": 750,
    "start_time": "2024-08-15T01:41:27.736Z"
   },
   {
    "duration": 586,
    "start_time": "2024-08-15T01:41:37.217Z"
   },
   {
    "duration": 2694,
    "start_time": "2024-08-15T01:41:37.808Z"
   },
   {
    "duration": 769,
    "start_time": "2024-08-15T01:41:40.505Z"
   },
   {
    "duration": 771,
    "start_time": "2024-08-15T01:41:41.277Z"
   },
   {
    "duration": 770,
    "start_time": "2024-08-15T01:41:42.053Z"
   },
   {
    "duration": 769,
    "start_time": "2024-08-15T01:42:18.066Z"
   },
   {
    "duration": 773,
    "start_time": "2024-08-15T01:42:56.612Z"
   },
   {
    "duration": 547,
    "start_time": "2024-08-15T01:43:03.658Z"
   },
   {
    "duration": 2863,
    "start_time": "2024-08-15T01:43:04.210Z"
   },
   {
    "duration": 821,
    "start_time": "2024-08-15T01:43:07.076Z"
   },
   {
    "duration": 819,
    "start_time": "2024-08-15T01:43:07.900Z"
   },
   {
    "duration": 819,
    "start_time": "2024-08-15T01:43:08.722Z"
   },
   {
    "duration": 821,
    "start_time": "2024-08-15T01:43:09.544Z"
   },
   {
    "duration": 817,
    "start_time": "2024-08-15T01:46:20.308Z"
   },
   {
    "duration": 1154,
    "start_time": "2024-08-15T01:48:26.566Z"
   },
   {
    "duration": 1113,
    "start_time": "2024-08-15T01:52:58.934Z"
   },
   {
    "duration": 1111,
    "start_time": "2024-08-15T01:53:13.279Z"
   },
   {
    "duration": 1124,
    "start_time": "2024-08-15T01:53:37.744Z"
   },
   {
    "duration": 1110,
    "start_time": "2024-08-15T01:57:33.410Z"
   },
   {
    "duration": 820,
    "start_time": "2024-08-15T02:01:19.229Z"
   },
   {
    "duration": 819,
    "start_time": "2024-08-15T02:01:23.176Z"
   },
   {
    "duration": 825,
    "start_time": "2024-08-15T02:03:01.427Z"
   },
   {
    "duration": 820,
    "start_time": "2024-08-15T02:05:16.679Z"
   },
   {
    "duration": 818,
    "start_time": "2024-08-15T02:29:50.835Z"
   },
   {
    "duration": 1111,
    "start_time": "2024-08-15T02:31:49.136Z"
   },
   {
    "duration": 1251,
    "start_time": "2024-08-15T02:33:05.511Z"
   },
   {
    "duration": 1246,
    "start_time": "2024-08-15T02:33:17.865Z"
   },
   {
    "duration": 1246,
    "start_time": "2024-08-15T02:35:22.035Z"
   },
   {
    "duration": 819,
    "start_time": "2024-08-15T02:36:56.440Z"
   },
   {
    "duration": 2012,
    "start_time": "2024-08-15T02:37:34.888Z"
   },
   {
    "duration": 1016,
    "start_time": "2024-08-15T02:37:46.120Z"
   },
   {
    "duration": 821,
    "start_time": "2024-08-15T02:38:00.419Z"
   },
   {
    "duration": 1080,
    "start_time": "2024-08-15T02:38:17.179Z"
   },
   {
    "duration": 819,
    "start_time": "2024-08-15T02:38:37.530Z"
   },
   {
    "duration": 1252,
    "start_time": "2024-08-15T02:41:04.002Z"
   },
   {
    "duration": 825,
    "start_time": "2024-08-15T02:42:31.886Z"
   },
   {
    "duration": 826,
    "start_time": "2024-08-15T02:43:37.933Z"
   },
   {
    "duration": 820,
    "start_time": "2024-08-15T02:43:56.263Z"
   },
   {
    "duration": 819,
    "start_time": "2024-08-15T02:44:28.681Z"
   },
   {
    "duration": 821,
    "start_time": "2024-08-15T02:44:53.840Z"
   },
   {
    "duration": 821,
    "start_time": "2024-08-15T02:45:09.855Z"
   },
   {
    "duration": 820,
    "start_time": "2024-08-15T02:45:28.714Z"
   },
   {
    "duration": 1017,
    "start_time": "2024-08-15T02:46:21.462Z"
   },
   {
    "duration": 820,
    "start_time": "2024-08-15T02:46:31.305Z"
   },
   {
    "duration": 1011,
    "start_time": "2024-08-15T02:46:57.179Z"
   },
   {
    "duration": 1030,
    "start_time": "2024-08-15T02:47:04.188Z"
   },
   {
    "duration": 821,
    "start_time": "2024-08-15T02:47:17.296Z"
   },
   {
    "duration": 819,
    "start_time": "2024-08-15T02:48:18.881Z"
   },
   {
    "duration": 819,
    "start_time": "2024-08-15T02:49:26.404Z"
   },
   {
    "duration": 826,
    "start_time": "2024-08-15T02:49:36.006Z"
   },
   {
    "duration": 1024,
    "start_time": "2024-08-15T02:50:18.873Z"
   },
   {
    "duration": 1015,
    "start_time": "2024-08-15T02:50:34.704Z"
   },
   {
    "duration": 820,
    "start_time": "2024-08-15T02:50:41.794Z"
   },
   {
    "duration": 818,
    "start_time": "2024-08-15T02:51:35.006Z"
   },
   {
    "duration": 817,
    "start_time": "2024-08-15T02:51:55.421Z"
   },
   {
    "duration": 817,
    "start_time": "2024-08-15T02:52:32.750Z"
   },
   {
    "duration": 823,
    "start_time": "2024-08-15T02:53:43.419Z"
   },
   {
    "duration": 599,
    "start_time": "2024-08-15T02:53:56.693Z"
   },
   {
    "duration": 2787,
    "start_time": "2024-08-15T02:53:57.296Z"
   },
   {
    "duration": 796,
    "start_time": "2024-08-15T02:54:00.087Z"
   },
   {
    "duration": 796,
    "start_time": "2024-08-15T02:54:00.887Z"
   },
   {
    "duration": 797,
    "start_time": "2024-08-15T02:54:01.686Z"
   },
   {
    "duration": 797,
    "start_time": "2024-08-15T02:54:02.486Z"
   },
   {
    "duration": 794,
    "start_time": "2024-08-15T02:54:03.287Z"
   },
   {
    "duration": 1213,
    "start_time": "2024-08-15T02:54:04.084Z"
   },
   {
    "duration": 798,
    "start_time": "2024-08-15T02:54:05.300Z"
   },
   {
    "duration": 801,
    "start_time": "2024-08-15T02:54:06.103Z"
   },
   {
    "duration": 797,
    "start_time": "2024-08-15T02:54:06.907Z"
   },
   {
    "duration": 562,
    "start_time": "2024-08-15T03:03:02.150Z"
   },
   {
    "duration": 2672,
    "start_time": "2024-08-15T03:03:02.716Z"
   },
   {
    "duration": 756,
    "start_time": "2024-08-15T03:03:05.391Z"
   },
   {
    "duration": 757,
    "start_time": "2024-08-15T03:03:06.151Z"
   },
   {
    "duration": 757,
    "start_time": "2024-08-15T03:03:06.911Z"
   },
   {
    "duration": 758,
    "start_time": "2024-08-15T03:03:07.672Z"
   },
   {
    "duration": 757,
    "start_time": "2024-08-15T03:03:08.434Z"
   },
   {
    "duration": 1154,
    "start_time": "2024-08-15T03:03:09.194Z"
   },
   {
    "duration": 759,
    "start_time": "2024-08-15T03:03:10.350Z"
   },
   {
    "duration": 762,
    "start_time": "2024-08-15T03:03:11.114Z"
   },
   {
    "duration": 758,
    "start_time": "2024-08-15T03:03:11.880Z"
   }
  ],
  "kernelspec": {
   "display_name": "Python 3 (ipykernel)",
   "language": "python",
   "name": "python3"
  },
  "language_info": {
   "codemirror_mode": {
    "name": "ipython",
    "version": 3
   },
   "file_extension": ".py",
   "mimetype": "text/x-python",
   "name": "python",
   "nbconvert_exporter": "python",
   "pygments_lexer": "ipython3",
   "version": "3.11.7"
  },
  "toc": {
   "base_numbering": 1,
   "nav_menu": {},
   "number_sections": true,
   "sideBar": true,
   "skip_h1_title": true,
   "title_cell": "Table of Contents",
   "title_sidebar": "Contents",
   "toc_cell": false,
   "toc_position": {},
   "toc_section_display": true,
   "toc_window_display": false
  }
 },
 "nbformat": 4,
 "nbformat_minor": 2
}
